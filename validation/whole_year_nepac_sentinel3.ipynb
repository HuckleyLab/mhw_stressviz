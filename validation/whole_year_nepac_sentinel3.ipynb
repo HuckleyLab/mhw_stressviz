{
 "cells": [
  {
   "cell_type": "code",
   "execution_count": 2,
   "metadata": {},
   "outputs": [],
   "source": [
    "import sys\n",
    "import os\n",
    "from glob import glob\n",
    "sys.path.append(\"../../marineHeatWaves/\")\n",
    "sys.path.append(\"../analysis/physiology/\")\n",
    "\n",
    "import sys\n",
    "import time\n",
    "oldstderr = sys.stderr\n",
    "sys.stderr = open('log.txt', 'w')\n",
    "\n",
    "import numpy as np\n",
    "\n",
    "import sentinelsat\n",
    "import satpy\n",
    "from pyresample import create_area_def, AreaDefinition\n",
    "from satpy.writers import compute_writer_results\n",
    "import requests\n",
    "from requests import auth, get\n",
    "\n",
    "import xarray as xr\n",
    "\n",
    "import warnings\n",
    "warnings.filterwarnings(\"ignore\")\n",
    "\n",
    "import rasterio as rio\n",
    "from rasterio import mask\n",
    "\n",
    "import pandas as pd\n",
    "import tqdm\n",
    "from multiprocessing import Pool\n",
    "\n",
    "from cartopy import crs as ccrs\n",
    "import seaborn as sns\n",
    "import matplotlib.pyplot as plt\n",
    "\n",
    "\n",
    "import tqdm\n",
    "\n",
    "# coda_auth = auth.HTTPBasicAuth('tonycan', os.environ['ss_pass'])\n",
    "\n",
    "\n",
    "from shapely import geometry, wkt\n",
    "from shapely.ops import transform\n",
    "import pyproj\n",
    "\n",
    "from dask.distributed import Client\n",
    "from dask.diagnostics import ProgressBar\n",
    "from dask import delayed\n",
    "from multiprocessing.pool import ThreadPool as Pool\n",
    "from multiprocessing import cpu_count\n",
    "\n",
    "from functools import partial\n",
    "from itertools import zip_longest, cycle, chain\n",
    "\n",
    "import gcsfs"
   ]
  },
  {
   "cell_type": "code",
   "execution_count": null,
   "metadata": {},
   "outputs": [],
   "source": [
    "client = Client()"
   ]
  },
  {
   "cell_type": "code",
   "execution_count": 146,
   "metadata": {},
   "outputs": [],
   "source": [
    "os.environ['ss_pass'];"
   ]
  },
  {
   "cell_type": "code",
   "execution_count": 3,
   "metadata": {},
   "outputs": [],
   "source": [
    "mp_pool = Pool(cpu_count() - 1)"
   ]
  },
  {
   "cell_type": "markdown",
   "metadata": {},
   "source": [
    "# Whole Record, One Isolate Sentinel 3 Validation\n",
    "\n",
    "I think I'm going to take the entire Sentinel 3 Record over a single spot and look at the relationship between chlorophyll + performance throughout that period, perhaps punctuated by s3?\n",
    "\n",
    "The general question here is whether chlorophyll-a patterns can be explained by performance, where MHWs are a particular subset of \""
   ]
  },
  {
   "cell_type": "code",
   "execution_count": 7,
   "metadata": {},
   "outputs": [],
   "source": [
    "plankton = pd.read_csv(\"../data/Phytoplankton_temperature_growth_rate_dataset_2016_01_29/traits_derived_2016_01_29.csv\", engine='python')\n",
    "\n",
    "plankton = plankton[\n",
    "    (plankton.habitat == 'marine') & \n",
    "    (plankton.curvequal == 'good')\n",
    "]\n"
   ]
  },
  {
   "cell_type": "markdown",
   "metadata": {},
   "source": [
    "We'll only use the NE-Pacific isolate (#240)"
   ]
  },
  {
   "cell_type": "code",
   "execution_count": 8,
   "metadata": {},
   "outputs": [],
   "source": [
    "chosen_isolate = plankton[plankton['isolate.code'] == 240]"
   ]
  },
  {
   "cell_type": "markdown",
   "metadata": {},
   "source": [
    "## Acquire Entire Sentinel-3 Record for this Region"
   ]
  },
  {
   "cell_type": "code",
   "execution_count": 147,
   "metadata": {},
   "outputs": [],
   "source": [
    "s3_api_historical = sentinelsat.SentinelAPI(\n",
    "    'tonycan', \n",
    "    os.environ['ss_pass'], \n",
    "    api_url = 'https://codarep.eumetsat.int/'\n",
    ")\n",
    "s3_api_recent = sentinelsat.SentinelAPI(\n",
    "    'tonycan', \n",
    "    os.environ['ss_pass'], \n",
    "    api_url = 'https://coda.eumetsat.int/'\n",
    ")\n"
   ]
  },
  {
   "cell_type": "code",
   "execution_count": 148,
   "metadata": {},
   "outputs": [],
   "source": [
    "isolate_mhw_wkt = wkt.dumps(\n",
    "    geometry.Polygon.from_bounds(\n",
    "        *geometry.Point([\n",
    "            chosen_isolate['isolation.longitude'],\n",
    "            chosen_isolate['isolation.latitude']\n",
    "        ]).buffer(2).bounds\n",
    "    )\n",
    ")"
   ]
  },
  {
   "cell_type": "code",
   "execution_count": 149,
   "metadata": {},
   "outputs": [],
   "source": [
    "queryParams = dict(\n",
    "    area = isolate_mhw_wkt, \n",
    "    producttype='OL_2_WRR___',\n",
    "    date = ('20160101', '20191231')\n",
    ")\n",
    "\n",
    "qr_historical = s3_api_historical.query(**queryParams)\n",
    "qr_recent = s3_api_recent.query(**queryParams)"
   ]
  },
  {
   "cell_type": "code",
   "execution_count": 150,
   "metadata": {},
   "outputs": [],
   "source": [
    "s3_result_combined = pd.concat([\n",
    "    s3_api_historical.to_geodataframe(qr_historical),\n",
    "    s3_api_recent.to_geodataframe(qr_recent)\n",
    "])"
   ]
  },
  {
   "cell_type": "code",
   "execution_count": 151,
   "metadata": {},
   "outputs": [
    {
     "data": {
      "image/png": "[encoded data removed]",
      "text/plain": [
       "<Figure size 432x288 with 1 Axes>"
      ]
     },
     "metadata": {
      "needs_background": "light"
     },
     "output_type": "display_data"
    }
   ],
   "source": [
    "ax = plt.axes()\n",
    "[ax.axvline(x.beginposition) for _, x in s3_result_combined.iterrows()];\n"
   ]
  },
  {
   "cell_type": "markdown",
   "metadata": {},
   "source": [
    "Clearly there's a data gap in 2018, I can't really explain this. ~~Let's just do the historical data from `codarep`.~~ I think I'll actually do both, because it's ince to have two non-mhw years to compare to?"
   ]
  },
  {
   "cell_type": "code",
   "execution_count": null,
   "metadata": {},
   "outputs": [],
   "source": [
    "s3_result_historical = s3_api_historical.to_geodataframe(qr_historical)"
   ]
  },
  {
   "cell_type": "code",
   "execution_count": 18,
   "metadata": {},
   "outputs": [],
   "source": [
    "def download_image(image, path, auth):\n",
    "    _, image = image\n",
    "    r = get(image.link, auth=auth)\n",
    "    exitpath = os.path.join(path, f'{image.title}.zip')\n",
    "    with open(exitpath, 'wb') as f:\n",
    "        f.write(r.content)\n",
    "    return(exitpath)"
   ]
  },
  {
   "cell_type": "code",
   "execution_count": 19,
   "metadata": {},
   "outputs": [
    {
     "ename": "NameError",
     "evalue": "name 'coda_auth' is not defined",
     "output_type": "error",
     "traceback": [
      "\u001b[0;31m---------------------------------------------------------------------------\u001b[0m",
      "\u001b[0;31mNameError\u001b[0m                                 Traceback (most recent call last)",
      "\u001b[0;32m<ipython-input-19-7d4dde015a02>\u001b[0m in \u001b[0;36m<module>\u001b[0;34m\u001b[0m\n\u001b[1;32m      1\u001b[0m \u001b[0mdownload_location\u001b[0m \u001b[0;34m=\u001b[0m \u001b[0;34m'/tmp/nepacs3/historical/'\u001b[0m\u001b[0;34m\u001b[0m\u001b[0;34m\u001b[0m\u001b[0m\n\u001b[1;32m      2\u001b[0m \u001b[0mos\u001b[0m\u001b[0;34m.\u001b[0m\u001b[0mmakedirs\u001b[0m\u001b[0;34m(\u001b[0m\u001b[0mdownload_location\u001b[0m\u001b[0;34m,\u001b[0m \u001b[0mexist_ok\u001b[0m\u001b[0;34m=\u001b[0m\u001b[0;32mTrue\u001b[0m\u001b[0;34m)\u001b[0m\u001b[0;34m\u001b[0m\u001b[0;34m\u001b[0m\u001b[0m\n\u001b[0;32m----> 3\u001b[0;31m \u001b[0mdownload_func\u001b[0m \u001b[0;34m=\u001b[0m \u001b[0mpartial\u001b[0m\u001b[0;34m(\u001b[0m\u001b[0mdownload_image\u001b[0m\u001b[0;34m,\u001b[0m \u001b[0mpath\u001b[0m\u001b[0;34m=\u001b[0m\u001b[0mdownload_location\u001b[0m\u001b[0;34m,\u001b[0m \u001b[0mauth\u001b[0m\u001b[0;34m=\u001b[0m\u001b[0mcoda_auth\u001b[0m\u001b[0;34m)\u001b[0m\u001b[0;34m\u001b[0m\u001b[0;34m\u001b[0m\u001b[0m\n\u001b[0m",
      "\u001b[0;31mNameError\u001b[0m: name 'coda_auth' is not defined"
     ]
    }
   ],
   "source": [
    "download_location = '/tmp/nepacs3/historical/'\n",
    "os.makedirs(download_location, exist_ok=True)\n",
    "download_func = partial(download_image, path=download_location, auth=coda_auth)"
   ]
  },
  {
   "cell_type": "code",
   "execution_count": 6,
   "metadata": {},
   "outputs": [
    {
     "ename": "NameError",
     "evalue": "name 'download_func' is not defined",
     "output_type": "error",
     "traceback": [
      "\u001b[0;31m---------------------------------------------------------------------------\u001b[0m",
      "\u001b[0;31mNameError\u001b[0m                                 Traceback (most recent call last)",
      "\u001b[0;32m<ipython-input-6-f6f027c39fc9>\u001b[0m in \u001b[0;36m<module>\u001b[0;34m\u001b[0m\n\u001b[0;32m----> 1\u001b[0;31m \u001b[0mmp_pool\u001b[0m\u001b[0;34m.\u001b[0m\u001b[0mmap\u001b[0m\u001b[0;34m(\u001b[0m\u001b[0mdownload_func\u001b[0m\u001b[0;34m,\u001b[0m \u001b[0ms3_result_historical\u001b[0m\u001b[0;34m.\u001b[0m\u001b[0miterrows\u001b[0m\u001b[0;34m(\u001b[0m\u001b[0;34m)\u001b[0m\u001b[0;34m)\u001b[0m\u001b[0;34m\u001b[0m\u001b[0;34m\u001b[0m\u001b[0m\n\u001b[0m",
      "\u001b[0;31mNameError\u001b[0m: name 'download_func' is not defined"
     ]
    }
   ],
   "source": [
    "mp_pool.map(download_func, s3_result_historical.iterrows())"
   ]
  },
  {
   "cell_type": "code",
   "execution_count": 152,
   "metadata": {},
   "outputs": [],
   "source": [
    "s3_result_recent = s3_api_recent.to_geodataframe(qr_recent)"
   ]
  },
  {
   "cell_type": "code",
   "execution_count": 157,
   "metadata": {},
   "outputs": [],
   "source": [
    "download_location = '/tmp/nepacs3/recent/'\n",
    "os.makedirs(download_location, exist_ok=True)\n",
    "download_func = partial(download_image, path=download_location, auth=coda_auth)"
   ]
  },
  {
   "cell_type": "code",
   "execution_count": null,
   "metadata": {},
   "outputs": [],
   "source": [
    "mp_pool.map(download_func, s3_result_recent.iterrows())"
   ]
  },
  {
   "cell_type": "markdown",
   "metadata": {},
   "source": [
    "**Unzip all of the data**:"
   ]
  },
  {
   "cell_type": "code",
   "execution_count": null,
   "metadata": {},
   "outputs": [],
   "source": [
    "%%bash -s \"$download_location\"\n",
    "ls ${1}*.zip | parallel -t unzip -d ${1}{} > /dev/null"
   ]
  },
  {
   "cell_type": "markdown",
   "metadata": {},
   "source": [
    "## Process `chl_oc4me` and `chl_nn` data\n",
    "\n",
    "**Note**: I initially tried to run the following code in parallel in this notebook, but ran into issues with dask/satpy locality and pickling rasterio objects. Spent the better part of a day working that out, and couldn't figure it out. The final solution was to break the `reproject_and_save` function out into its own module (`reproject_s3.py`) and ran that using `gnu parallel` as follows: \n",
    "\n",
    "    find . -name \"*.SEN3\" -type d | parallel --no-notice -k  \"python /home/ec2-user/mhw_stressviz/validation/reproject_s3.py {}\"\n",
    "    \n",
    "I will keep the old stuff here for posterity + reference. "
   ]
  },
  {
   "cell_type": "code",
   "execution_count": null,
   "metadata": {},
   "outputs": [],
   "source": [
    "# def reproject_and_save(img_directory, projection=ccrs.Mercator()):\n",
    "#     chl_data = ['chl_oc4me', 'chl_nn']\n",
    "\n",
    "#     _sc = satpy.Scene(glob(img_directory+\"/*\") , reader='olci_l2', )\n",
    "\n",
    "#     _sc.load(chl_data)\n",
    "\n",
    "#     outpath = os.path.join(img_directory, f\"{_sc.attrs['start_time']:%Y%m%d}.cf\")\n",
    "\n",
    "#     _sc_resampled = _sc.resample(\n",
    "#             _sc[chl_data[0]].attrs['area'].compute_optimal_bb_area(projection.proj4_params)\n",
    "#     )\n",
    "    \n",
    "# return(_sc_resampled.save_datasets(writer='cf', filename=outpath, compute=False))\n",
    "\n",
    "    \n",
    "# #     delayed = []\n",
    "# #     for d in chl_data:\n",
    "# #         _sc_resampled = _sc.resample(\n",
    "# #             _sc[d].attrs['area'].compute_optimal_bb_area(projection.proj4_params)\n",
    "# #         )\n",
    "# #         outpath = os.path.join(img_directory, f\"{d}-{_sc.attrs['start_time']:%Y%m%d}.cf\")\n",
    "        \n",
    "# #         delayed.append(_sc_resampled.save_dataset(d, writer='cf', filename=outpath, compute=False))\n",
    "\n"
   ]
  },
  {
   "cell_type": "code",
   "execution_count": 10,
   "metadata": {},
   "outputs": [],
   "source": [
    "def reproject_save_v2(path):\n",
    "    dss_dask = []\n",
    "    dss = ['chl_oc4me', 'chl_nn']\n",
    "    try:\n",
    "        _sc = satpy.Scene(glob(path+\"/*\") , reader='olci_l2')\n",
    "        _sc.load(dss)\n",
    "    except Exception as e:\n",
    "        return\n",
    "        \n",
    "    rs_sc = _sc.resample(_sc['chl_nn'].area.compute_optimal_bb_area(ccrs.Mercator().proj4_params))\n",
    "    for i in dss:\n",
    "        outpath = os.path.join(path, f\"{i}-{_sc.attrs['start_time']:%Y%m%d}.tif\")\n",
    "        dss_dask.append(rs_sc.save_dataset(i, outpath, writer='geotiff', compute=False))\n",
    "    return(dss_dask)\n",
    "        \n",
    "        \n"
   ]
  },
  {
   "cell_type": "markdown",
   "metadata": {},
   "source": [
    "## Clip all outputs + aggregate Chl-$\\alpha$\n",
    "\n",
    "Here we'll try to take all ~845 days of data and clip to a buffered region around the isolate location. We'll aggregate the `chl_oc4me`, `chl_nn`, `tsm_nn`, and `iop_nn` data together. "
   ]
  },
  {
   "cell_type": "code",
   "execution_count": 9,
   "metadata": {},
   "outputs": [],
   "source": [
    "data_types = ['chl_oc4me', 'chl_nn', 'tsm_nn', 'iop_nn']"
   ]
  },
  {
   "cell_type": "code",
   "execution_count": 10,
   "metadata": {},
   "outputs": [],
   "source": [
    "BUFFER_M = 20000 #20km"
   ]
  },
  {
   "cell_type": "code",
   "execution_count": 11,
   "metadata": {},
   "outputs": [],
   "source": [
    "project_merc = partial(\n",
    "    pyproj.transform,\n",
    "    pyproj.Proj(init='epsg:4326'), # source coordinate system\n",
    "    pyproj.Proj(init='epsg:3857')) # mercator, to compute area buffer\n",
    "\n",
    "project_wgs = partial(\n",
    "    pyproj.transform,\n",
    "    pyproj.Proj(init='epsg:3857'), # source coordinate system\n",
    "    pyproj.Proj(init='epsg:4326')) # mercator, to compute area buffer\n",
    "\n",
    "isolate_point_wgs = geometry.Point(\n",
    "    chosen_isolate['isolation.longitude'],\n",
    "    chosen_isolate['isolation.latitude']\n",
    ")\n",
    "isolate_point_meters = transform(project_merc, isolate_point_wgs)\n",
    "merc_buffer = isolate_point_meters.buffer(BUFFER_M)"
   ]
  },
  {
   "cell_type": "code",
   "execution_count": 12,
   "metadata": {},
   "outputs": [],
   "source": [
    "def clip(ds, buffer):\n",
    "    try: \n",
    "        return(rio.mask.mask(ds, [buffer], crop=True))\n",
    "    except ValueError as we:\n",
    "        return(we)\n",
    "    \n"
   ]
  },
  {
   "cell_type": "code",
   "execution_count": 13,
   "metadata": {},
   "outputs": [],
   "source": [
    "def get_date_from_file(file):\n",
    "    return(pd.to_datetime(os.path.splitext(file)[0].split('-')[1]))"
   ]
  },
  {
   "cell_type": "code",
   "execution_count": 14,
   "metadata": {},
   "outputs": [],
   "source": [
    "def process_datatype(dt_name, path, buffer):\n",
    "    processed_files = glob(os.path.join(path, f\"*/{dt_name}*.tif\"))\n",
    "    dates = list(map(get_date_from_file, processed_files))\n",
    "    datasets = []\n",
    "    for file in processed_files:\n",
    "        try:\n",
    "            datasets.append(rio.open(file))\n",
    "        except Exception as e:\n",
    "            datasets.append(None)\n",
    "    _clip = partial(clip, buffer=buffer)\n",
    "    \n",
    "    masked_dss = mp_pool.map(_clip, datasets)\n",
    "    \n",
    "    ma_clipped = []\n",
    "    for data in masked_dss:\n",
    "        if isinstance(data, Exception): \n",
    "            ma_clipped.append(data)\n",
    "            continue\n",
    "\n",
    "        _ma = np.ma.MaskedArray(\n",
    "            data = data[0][0], \n",
    "            mask = (data[0][1] == 0)\n",
    "        )\n",
    "        ma_clipped.append(_ma)\n",
    "            \n",
    "    chl = []\n",
    "    for ma in ma_clipped:\n",
    "        if isinstance(ma, Exception): \n",
    "            chl.append(np.nan)\n",
    "            continue\n",
    "        chl.append(np.mean(ma))\n",
    "    \n",
    "    assert(len(dates) == len(chl))\n",
    "    \n",
    "    chl_df = pd.DataFrame({\n",
    "        'date': dates,\n",
    "        dt_name: chl\n",
    "    })\n",
    "    \n",
    "    chl_df.loc[\n",
    "        chl_df[dt_name].apply(lambda x: isinstance(x, np.ma.core.MaskedConstant)),\n",
    "        dt_name\n",
    "    ] = np.nan\n",
    "\n",
    "    return(chl_df)"
   ]
  },
  {
   "cell_type": "code",
   "execution_count": 138,
   "metadata": {},
   "outputs": [],
   "source": [
    "dt_all = []\n",
    "for dt in data_types:\n",
    "    dt_all.append(process_datatype(dt, download_location, merc_buffer))"
   ]
  },
  {
   "cell_type": "code",
   "execution_count": 139,
   "metadata": {},
   "outputs": [],
   "source": [
    "dt_all = [dt.set_index('date') for dt in dt_all]"
   ]
  },
  {
   "cell_type": "code",
   "execution_count": 140,
   "metadata": {},
   "outputs": [],
   "source": [
    "all_data = pd.concat(dt_all, axis=1).sort_index().reset_index()"
   ]
  },
  {
   "cell_type": "code",
   "execution_count": 141,
   "metadata": {},
   "outputs": [
    {
     "data": {
      "text/plain": [
       "(array([736055., 736146., 736238., 736330., 736420., 736511., 736603.,\n",
       "        736695.]),\n",
       " <a list of 8 Text xticklabel objects>)"
      ]
     },
     "execution_count": 141,
     "metadata": {},
     "output_type": "execute_result"
    },
    {
     "data": {
      "image/png": "[encoded data removed]",
      "text/plain": [
       "<Figure size 432x288 with 1 Axes>"
      ]
     },
     "metadata": {
      "needs_background": "light"
     },
     "output_type": "display_data"
    }
   ],
   "source": [
    "plt.scatter(all_data.date, all_data.tsm_nn)\n",
    "plt.xticks(rotation=30, ha='right')"
   ]
  },
  {
   "cell_type": "code",
   "execution_count": 143,
   "metadata": {},
   "outputs": [],
   "source": [
    "dst = f\"sentinel3-{all_data.date.min():%Y%m%d}-{all_data.date.max():%Y%m%d}.csv\"\n",
    "\n",
    "all_data.to_csv(\n",
    "    dst,\n",
    "    index=False\n",
    ")"
   ]
  },
  {
   "cell_type": "markdown",
   "metadata": {},
   "source": [
    "## Pair with Isolate Performance\n",
    "\n",
    "*In another notebook...*"
   ]
  },
  {
   "cell_type": "markdown",
   "metadata": {},
   "source": [
    "---"
   ]
  },
  {
   "cell_type": "code",
   "execution_count": 23,
   "metadata": {},
   "outputs": [],
   "source": [
    "dt_name = 'chl_oc4me'\n",
    "testfiles =  glob(os.path.join(download_location, f\"*/{dt_name}*.tif\"))\n",
    "f = rio.open(testfiles[20])"
   ]
  },
  {
   "cell_type": "code",
   "execution_count": 24,
   "metadata": {},
   "outputs": [
    {
     "data": {
      "text/plain": [
       "2"
      ]
     },
     "execution_count": 24,
     "metadata": {},
     "output_type": "execute_result"
    }
   ],
   "source": [
    "f.count"
   ]
  },
  {
   "cell_type": "code",
   "execution_count": null,
   "metadata": {},
   "outputs": [],
   "source": []
  }
 ],
 "metadata": {
  "kernelspec": {
   "display_name": "Python 3",
   "language": "python",
   "name": "python3"
  },
  "language_info": {
   "codemirror_mode": {
    "name": "ipython",
    "version": 3
   },
   "file_extension": ".py",
   "mimetype": "text/x-python",
   "name": "python",
   "nbconvert_exporter": "python",
   "pygments_lexer": "ipython3",
   "version": "3.7.6"
  }
 },
 "nbformat": 4,
 "nbformat_minor": 4
}
