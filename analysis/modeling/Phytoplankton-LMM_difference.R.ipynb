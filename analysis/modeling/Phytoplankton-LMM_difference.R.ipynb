{
 "cells": [
  {
   "cell_type": "code",
   "execution_count": 1,
   "metadata": {},
   "outputs": [
    {
     "name": "stderr",
     "output_type": "stream",
     "text": [
      "Loading required package: lme4\n",
      "Loading required package: Matrix\n",
      "\n",
      "Attaching package: ‘lmerTest’\n",
      "\n",
      "The following object is masked from ‘package:lme4’:\n",
      "\n",
      "    lmer\n",
      "\n",
      "The following object is masked from ‘package:stats’:\n",
      "\n",
      "    step\n",
      "\n",
      "\n",
      "Attaching package: ‘dplyr’\n",
      "\n",
      "The following objects are masked from ‘package:stats’:\n",
      "\n",
      "    filter, lag\n",
      "\n",
      "The following objects are masked from ‘package:base’:\n",
      "\n",
      "    intersect, setdiff, setequal, union\n",
      "\n",
      "\n",
      "Attaching package: ‘tidyr’\n",
      "\n",
      "The following objects are masked from ‘package:Matrix’:\n",
      "\n",
      "    expand, pack, unpack\n",
      "\n",
      "Learn more about sjPlot with 'browseVignettes(\"sjPlot\")'.\n",
      "Loading required package: carData\n",
      "Registered S3 methods overwritten by 'car':\n",
      "  method                          from\n",
      "  influence.merMod                lme4\n",
      "  cooks.distance.influence.merMod lme4\n",
      "  dfbeta.influence.merMod         lme4\n",
      "  dfbetas.influence.merMod        lme4\n",
      "\n",
      "Attaching package: ‘car’\n",
      "\n",
      "The following object is masked from ‘package:dplyr’:\n",
      "\n",
      "    recode\n",
      "\n",
      "\n",
      "Attaching package: ‘gridExtra’\n",
      "\n",
      "The following object is masked from ‘package:dplyr’:\n",
      "\n",
      "    combine\n",
      "\n"
     ]
    }
   ],
   "source": [
    "suppressWarnings({\n",
    "    library(lmerTest)\n",
    "    library(lme4)\n",
    "    library(ggplot2)\n",
    "    library(dplyr)\n",
    "    library(tidyr)\n",
    "    library(sjPlot)\n",
    "    library(IRdisplay)\n",
    "    library(car)\n",
    "    library(ggeffects)\n",
    "    library(gridExtra)\n",
    "    library(repr)\n",
    "    \n",
    "})\n",
    "options(repr.plot.width=4, repr.plot.height=3)"
   ]
  },
  {
   "cell_type": "markdown",
   "metadata": {},
   "source": [
    "# Investigating MHWs + Phytoplankton Performance Response via LMMs\n",
    "\n",
    "Tony Cannistra, May 2020\n",
    "\n",
    "**Purpose**: To experiment with linear mixed effects models to examine whether a significant relationship exists between latitude, yearly mean sea surface temperature, and performance ratio during marine heatwave events. \n",
    "\n",
    "**Method**: Build a linear mixed model of performance ratio with the following effects: \n",
    "\n",
    "*Fixed*: \n",
    "* Second-degree polynomial of Latitude *(perhaps also abs(lat))*\n",
    "* mean_sst_event_year_local\n",
    "* season\n",
    "* *interaction terms*\n",
    "\n",
    "\n",
    "*Random*:\n",
    "* phytoplankton isolate\n",
    "\n",
    "\n",
    "Perhaps season should be a fixed effect, especially since it likely does have control over the direction + shape of the curve. \n",
    "\n",
    "## Data\n",
    "\n",
    "We compute individual isolate performance for all local heatwaves in [this notebook](../Individual_Isolate_performance.ipynb), and use these data below. "
   ]
  },
  {
   "cell_type": "code",
   "execution_count": 2,
   "metadata": {},
   "outputs": [
    {
     "data": {
      "text/html": [
       "<table>\n",
       "<thead><tr><th scope=col>X</th><th scope=col>lat</th><th scope=col>lon</th><th scope=col>isolate</th><th scope=col>mhw</th><th scope=col>detriment_sum</th><th scope=col>relative_detriment_mean</th><th scope=col>detriment_mean</th><th scope=col>performance_diff_mean</th><th scope=col>performance_diff_unscaled_mean</th><th scope=col>...</th><th scope=col>intensity_mean</th><th scope=col>duration</th><th scope=col>start_doy</th><th scope=col>peak_doy</th><th scope=col>current_year_sst_mean</th><th scope=col>start_date</th><th scope=col>peak_date</th><th scope=col>perf_det_ratio</th><th scope=col>latbin</th><th scope=col>doy_bins</th></tr></thead>\n",
       "<tbody>\n",
       "\t<tr><td>0                </td><td>-74.875          </td><td>164.625          </td><td>1                </td><td> 4               </td><td> 3.433027        </td><td>1.303966         </td><td>0.4291283        </td><td>0.23719293       </td><td>0.078058928      </td><td>...              </td><td>1.2978105        </td><td> 9               </td><td>  1              </td><td>  1              </td><td>-1.202301        </td><td>1986-12-31       </td><td>5.364576e+17     </td><td>0.8461350        </td><td>(-75.026, -59.75]</td><td>(0.639, 91.25]   </td></tr>\n",
       "\t<tr><td>1                </td><td>-74.875          </td><td>164.625          </td><td>1                </td><td> 5               </td><td> 6.265167        </td><td>1.269172         </td><td>0.4176778        </td><td>0.28725032       </td><td>0.094532547      </td><td>...              </td><td>1.5283193        </td><td>16               </td><td> 21              </td><td> 32              </td><td>-1.103370        </td><td>1987-01-21       </td><td>5.391360e+17     </td><td>0.8156109        </td><td>(-75.026, -59.75]</td><td>(0.639, 91.25]   </td></tr>\n",
       "\t<tr><td>2                </td><td>-74.875          </td><td>164.625          </td><td>1                </td><td>11               </td><td> 9.585366        </td><td>1.713322         </td><td>0.5638451        </td><td>0.03568606       </td><td>0.011744091      </td><td>...              </td><td>0.1877301        </td><td>18               </td><td>232              </td><td>244              </td><td>-1.168743        </td><td>1988-08-19       </td><td>5.889888e+17     </td><td>0.9795979        </td><td>(-75.026, -59.75]</td><td>(181.5, 271.75]  </td></tr>\n",
       "\t<tr><td>3                </td><td>-74.875          </td><td>164.625          </td><td>1                </td><td>14               </td><td>10.139295        </td><td>1.711648         </td><td>0.5632942        </td><td>0.03325621       </td><td>0.010944441      </td><td>...              </td><td>0.1741022        </td><td>19               </td><td>196              </td><td>201              </td><td>-1.181397        </td><td>1989-07-15       </td><td>6.168960e+17     </td><td>0.9809409        </td><td>(-75.026, -59.75]</td><td>(181.5, 271.75]  </td></tr>\n",
       "\t<tr><td>4                </td><td>-74.875          </td><td>164.625          </td><td>1                </td><td>37               </td><td> 6.210158        </td><td>1.715494         </td><td>0.5645598        </td><td>0.02973751       </td><td>0.009786456      </td><td>...              </td><td>0.1560303        </td><td>12               </td><td>215              </td><td>220              </td><td>-1.219370        </td><td>1995-08-03       </td><td>8.078400e+17     </td><td>0.9829606        </td><td>(-75.026, -59.75]</td><td>(181.5, 271.75]  </td></tr>\n",
       "\t<tr><td>5                </td><td>-74.875          </td><td>164.625          </td><td>1                </td><td>69               </td><td> 5.665564        </td><td>1.721560         </td><td>0.5665564        </td><td>0.02600654       </td><td>0.008558612      </td><td>...              </td><td>0.1353238        </td><td>11               </td><td>133              </td><td>138              </td><td>-1.088333        </td><td>2004-05-12       </td><td>1.084752e+18     </td><td>0.9851187        </td><td>(-75.026, -59.75]</td><td>(91.25, 181.5]   </td></tr>\n",
       "</tbody>\n",
       "</table>\n"
      ],
      "text/latex": [
       "\\begin{tabular}{r|llllllllllllllllllllll}\n",
       " X & lat & lon & isolate & mhw & detriment\\_sum & relative\\_detriment\\_mean & detriment\\_mean & performance\\_diff\\_mean & performance\\_diff\\_unscaled\\_mean & ... & intensity\\_mean & duration & start\\_doy & peak\\_doy & current\\_year\\_sst\\_mean & start\\_date & peak\\_date & perf\\_det\\_ratio & latbin & doy\\_bins\\\\\n",
       "\\hline\n",
       "\t 0                   & -74.875             & 164.625             & 1                   &  4                  &  3.433027           & 1.303966            & 0.4291283           & 0.23719293          & 0.078058928         & ...                 & 1.2978105           &  9                  &   1                 &   1                 & -1.202301           & 1986-12-31          & 5.364576e+17        & 0.8461350           & (-75.026, -59.75{]} & (0.639, 91.25{]}   \\\\\n",
       "\t 1                   & -74.875             & 164.625             & 1                   &  5                  &  6.265167           & 1.269172            & 0.4176778           & 0.28725032          & 0.094532547         & ...                 & 1.5283193           & 16                  &  21                 &  32                 & -1.103370           & 1987-01-21          & 5.391360e+17        & 0.8156109           & (-75.026, -59.75{]} & (0.639, 91.25{]}   \\\\\n",
       "\t 2                   & -74.875             & 164.625             & 1                   & 11                  &  9.585366           & 1.713322            & 0.5638451           & 0.03568606          & 0.011744091         & ...                 & 0.1877301           & 18                  & 232                 & 244                 & -1.168743           & 1988-08-19          & 5.889888e+17        & 0.9795979           & (-75.026, -59.75{]} & (181.5, 271.75{]}  \\\\\n",
       "\t 3                   & -74.875             & 164.625             & 1                   & 14                  & 10.139295           & 1.711648            & 0.5632942           & 0.03325621          & 0.010944441         & ...                 & 0.1741022           & 19                  & 196                 & 201                 & -1.181397           & 1989-07-15          & 6.168960e+17        & 0.9809409           & (-75.026, -59.75{]} & (181.5, 271.75{]}  \\\\\n",
       "\t 4                   & -74.875             & 164.625             & 1                   & 37                  &  6.210158           & 1.715494            & 0.5645598           & 0.02973751          & 0.009786456         & ...                 & 0.1560303           & 12                  & 215                 & 220                 & -1.219370           & 1995-08-03          & 8.078400e+17        & 0.9829606           & (-75.026, -59.75{]} & (181.5, 271.75{]}  \\\\\n",
       "\t 5                   & -74.875             & 164.625             & 1                   & 69                  &  5.665564           & 1.721560            & 0.5665564           & 0.02600654          & 0.008558612         & ...                 & 0.1353238           & 11                  & 133                 & 138                 & -1.088333           & 2004-05-12          & 1.084752e+18        & 0.9851187           & (-75.026, -59.75{]} & (91.25, 181.5{]}   \\\\\n",
       "\\end{tabular}\n"
      ],
      "text/markdown": [
       "\n",
       "| X | lat | lon | isolate | mhw | detriment_sum | relative_detriment_mean | detriment_mean | performance_diff_mean | performance_diff_unscaled_mean | ... | intensity_mean | duration | start_doy | peak_doy | current_year_sst_mean | start_date | peak_date | perf_det_ratio | latbin | doy_bins |\n",
       "|---|---|---|---|---|---|---|---|---|---|---|---|---|---|---|---|---|---|---|---|---|\n",
       "| 0                 | -74.875           | 164.625           | 1                 |  4                |  3.433027         | 1.303966          | 0.4291283         | 0.23719293        | 0.078058928       | ...               | 1.2978105         |  9                |   1               |   1               | -1.202301         | 1986-12-31        | 5.364576e+17      | 0.8461350         | (-75.026, -59.75] | (0.639, 91.25]    |\n",
       "| 1                 | -74.875           | 164.625           | 1                 |  5                |  6.265167         | 1.269172          | 0.4176778         | 0.28725032        | 0.094532547       | ...               | 1.5283193         | 16                |  21               |  32               | -1.103370         | 1987-01-21        | 5.391360e+17      | 0.8156109         | (-75.026, -59.75] | (0.639, 91.25]    |\n",
       "| 2                 | -74.875           | 164.625           | 1                 | 11                |  9.585366         | 1.713322          | 0.5638451         | 0.03568606        | 0.011744091       | ...               | 0.1877301         | 18                | 232               | 244               | -1.168743         | 1988-08-19        | 5.889888e+17      | 0.9795979         | (-75.026, -59.75] | (181.5, 271.75]   |\n",
       "| 3                 | -74.875           | 164.625           | 1                 | 14                | 10.139295         | 1.711648          | 0.5632942         | 0.03325621        | 0.010944441       | ...               | 0.1741022         | 19                | 196               | 201               | -1.181397         | 1989-07-15        | 6.168960e+17      | 0.9809409         | (-75.026, -59.75] | (181.5, 271.75]   |\n",
       "| 4                 | -74.875           | 164.625           | 1                 | 37                |  6.210158         | 1.715494          | 0.5645598         | 0.02973751        | 0.009786456       | ...               | 0.1560303         | 12                | 215               | 220               | -1.219370         | 1995-08-03        | 8.078400e+17      | 0.9829606         | (-75.026, -59.75] | (181.5, 271.75]   |\n",
       "| 5                 | -74.875           | 164.625           | 1                 | 69                |  5.665564         | 1.721560          | 0.5665564         | 0.02600654        | 0.008558612       | ...               | 0.1353238         | 11                | 133               | 138               | -1.088333         | 2004-05-12        | 1.084752e+18      | 0.9851187         | (-75.026, -59.75] | (91.25, 181.5]    |\n",
       "\n"
      ],
      "text/plain": [
       "  X lat     lon     isolate mhw detriment_sum relative_detriment_mean\n",
       "1 0 -74.875 164.625 1        4   3.433027     1.303966               \n",
       "2 1 -74.875 164.625 1        5   6.265167     1.269172               \n",
       "3 2 -74.875 164.625 1       11   9.585366     1.713322               \n",
       "4 3 -74.875 164.625 1       14  10.139295     1.711648               \n",
       "5 4 -74.875 164.625 1       37   6.210158     1.715494               \n",
       "6 5 -74.875 164.625 1       69   5.665564     1.721560               \n",
       "  detriment_mean performance_diff_mean performance_diff_unscaled_mean ...\n",
       "1 0.4291283      0.23719293            0.078058928                    ...\n",
       "2 0.4176778      0.28725032            0.094532547                    ...\n",
       "3 0.5638451      0.03568606            0.011744091                    ...\n",
       "4 0.5632942      0.03325621            0.010944441                    ...\n",
       "5 0.5645598      0.02973751            0.009786456                    ...\n",
       "6 0.5665564      0.02600654            0.008558612                    ...\n",
       "  intensity_mean duration start_doy peak_doy current_year_sst_mean start_date\n",
       "1 1.2978105       9         1         1      -1.202301             1986-12-31\n",
       "2 1.5283193      16        21        32      -1.103370             1987-01-21\n",
       "3 0.1877301      18       232       244      -1.168743             1988-08-19\n",
       "4 0.1741022      19       196       201      -1.181397             1989-07-15\n",
       "5 0.1560303      12       215       220      -1.219370             1995-08-03\n",
       "6 0.1353238      11       133       138      -1.088333             2004-05-12\n",
       "  peak_date    perf_det_ratio latbin            doy_bins       \n",
       "1 5.364576e+17 0.8461350      (-75.026, -59.75] (0.639, 91.25] \n",
       "2 5.391360e+17 0.8156109      (-75.026, -59.75] (0.639, 91.25] \n",
       "3 5.889888e+17 0.9795979      (-75.026, -59.75] (181.5, 271.75]\n",
       "4 6.168960e+17 0.9809409      (-75.026, -59.75] (181.5, 271.75]\n",
       "5 8.078400e+17 0.9829606      (-75.026, -59.75] (181.5, 271.75]\n",
       "6 1.084752e+18 0.9851187      (-75.026, -59.75] (91.25, 181.5] "
      ]
     },
     "metadata": {},
     "output_type": "display_data"
    }
   ],
   "source": [
    "mhwPerformance <- read.csv(\"../tmax_only_isolate_performance_withnegative.csv\")\n",
    "mhwPerformance = mhwPerformance %>% mutate(isolate = factor(isolate))\n",
    "head(mhwPerformance)"
   ]
  },
  {
   "cell_type": "markdown",
   "metadata": {},
   "source": [
    "We need to adjust for the effect of hemisphere to \"align\" seasons and convert to \"season\" factor variables from \"peak_doy\" column:"
   ]
  },
  {
   "cell_type": "code",
   "execution_count": 3,
   "metadata": {},
   "outputs": [],
   "source": [
    "mhwPerformance[between(mhwPerformance$lat, -90, 0), 'peak_doy'] = (mhwPerformance[between(mhwPerformance$lat, -90, 0), 'peak_doy'] - 180) %% 365"
   ]
  },
  {
   "cell_type": "code",
   "execution_count": 4,
   "metadata": {},
   "outputs": [],
   "source": [
    "mhwPerformance = mhwPerformance %>%  \n",
    "                    mutate(season = \n",
    "                           case_when(\n",
    "                                (between(peak_doy, 0, 77) | between(peak_doy, 355, 366)) ~ \"winter\", # January 1 - March XX or December XX - December 31\n",
    "                                between(peak_doy, 78, 170) ~ \"spring\", # March XX - June XX\n",
    "                                between(peak_doy, 171, 295) ~ \"summer\", # June XX - September XX\n",
    "                                between(peak_doy, 296, 354) ~ \"fall\" # September XX - December XX\n",
    "                        )\n",
    "                    )"
   ]
  },
  {
   "cell_type": "code",
   "execution_count": 5,
   "metadata": {},
   "outputs": [
    {
     "data": {
      "text/html": [
       "<table>\n",
       "<thead><tr><th scope=col>peak_doy</th><th scope=col>season</th></tr></thead>\n",
       "<tbody>\n",
       "\t<tr><td>186   </td><td>summer</td></tr>\n",
       "\t<tr><td>217   </td><td>summer</td></tr>\n",
       "\t<tr><td> 64   </td><td>winter</td></tr>\n",
       "\t<tr><td> 21   </td><td>winter</td></tr>\n",
       "\t<tr><td> 40   </td><td>winter</td></tr>\n",
       "\t<tr><td>323   </td><td>fall  </td></tr>\n",
       "</tbody>\n",
       "</table>\n"
      ],
      "text/latex": [
       "\\begin{tabular}{r|ll}\n",
       " peak\\_doy & season\\\\\n",
       "\\hline\n",
       "\t 186    & summer\\\\\n",
       "\t 217    & summer\\\\\n",
       "\t  64    & winter\\\\\n",
       "\t  21    & winter\\\\\n",
       "\t  40    & winter\\\\\n",
       "\t 323    & fall  \\\\\n",
       "\\end{tabular}\n"
      ],
      "text/markdown": [
       "\n",
       "| peak_doy | season |\n",
       "|---|---|\n",
       "| 186    | summer |\n",
       "| 217    | summer |\n",
       "|  64    | winter |\n",
       "|  21    | winter |\n",
       "|  40    | winter |\n",
       "| 323    | fall   |\n",
       "\n"
      ],
      "text/plain": [
       "  peak_doy season\n",
       "1 186      summer\n",
       "2 217      summer\n",
       "3  64      winter\n",
       "4  21      winter\n",
       "5  40      winter\n",
       "6 323      fall  "
      ]
     },
     "metadata": {},
     "output_type": "display_data"
    }
   ],
   "source": [
    "head(mhwPerformance %>% select(peak_doy, season))"
   ]
  },
  {
   "cell_type": "markdown",
   "metadata": {},
   "source": [
    "We'll clean up by dropping NAs and `Inf`s "
   ]
  },
  {
   "cell_type": "markdown",
   "metadata": {},
   "source": [
    "We'll also **scale the input variables** for later, but the initial models will use the raw values: "
   ]
  },
  {
   "cell_type": "code",
   "execution_count": 6,
   "metadata": {},
   "outputs": [],
   "source": [
    "mhwPerformance = mhwPerformance %>%\n",
    "    mutate(\n",
    "        lat_scaled = scale(lat),\n",
    "        sst_scaled = scale(current_year_sst_mean), \n",
    "        abslat_scaled = scale(abs(lat)),\n",
    "        abslat = abs(lat)\n",
    "    )"
   ]
  },
  {
   "cell_type": "markdown",
   "metadata": {},
   "source": [
    "## Models\n",
    "\n",
    "Let's define the standard model formulations here:"
   ]
  },
  {
   "cell_type": "code",
   "execution_count": 43,
   "metadata": {},
   "outputs": [],
   "source": [
    "formula <- performance_diff_mean ~ (poly(lat_scaled, 2) + sst_scaled + season)^2\n",
    "formula_unscaled <- performance_diff_mean ~ (poly(lat, 2) + current_year_sst_mean + season)^2\n",
    "\n",
    "formula_abslat <- performance_diff_mean ~ (abslat_scaled + sst_scaled + season)^2\n",
    "formula_abslat_unscaled <- performance_diff_mean ~ (abslat + current_year_sst_mean + season)^2"
   ]
  },
  {
   "cell_type": "markdown",
   "metadata": {},
   "source": [
    "And the random effects formulations: "
   ]
  },
  {
   "cell_type": "code",
   "execution_count": 44,
   "metadata": {},
   "outputs": [],
   "source": [
    "formula_re <- performance_diff_mean ~ (poly(lat_scaled, 2) + sst_scaled + season)^2 + (1|isolate)\n",
    "formula_unscaled_re <- performance_diff_mean ~ (poly(lat, 2) + current_year_sst_mean + season)^2 + (1|isolate)\n",
    "\n",
    "formula_abslat_re <- performance_diff_mean ~ (abslat_scaled + sst_scaled + season)^2 + (1|isolate)\n",
    "formula_abslat_unscaled_re <- performance_diff_mean ~ (abslat + current_year_sst_mean + season)^2 + (1|isolate)"
   ]
  },
  {
   "cell_type": "markdown",
   "metadata": {},
   "source": [
    "We'll start with a simple linear model with all terms."
   ]
  },
  {
   "cell_type": "code",
   "execution_count": 45,
   "metadata": {},
   "outputs": [
    {
     "data": {
      "text/plain": [
       "\n",
       "Call:\n",
       "lm(formula = formula, data = mhwPerformance)\n",
       "\n",
       "Residuals:\n",
       "     Min       1Q   Median       3Q      Max \n",
       "-1.00063 -0.06463  0.00245  0.07225  1.09131 \n",
       "\n",
       "Coefficients:\n",
       "                                   Estimate Std. Error t value Pr(>|t|)    \n",
       "(Intercept)                        0.072944   0.004506  16.190  < 2e-16 ***\n",
       "poly(lat_scaled, 2)1               1.952431   0.475186   4.109 4.01e-05 ***\n",
       "poly(lat_scaled, 2)2               0.448298   1.155152   0.388  0.69796    \n",
       "sst_scaled                        -0.040738   0.012121  -3.361  0.00078 ***\n",
       "seasonspring                       0.023129   0.005084   4.549 5.46e-06 ***\n",
       "seasonsummer                      -0.103913   0.004768 -21.796  < 2e-16 ***\n",
       "seasonwinter                       0.049981   0.005247   9.526  < 2e-16 ***\n",
       "poly(lat_scaled, 2)1:sst_scaled    0.062740   0.165290   0.380  0.70427    \n",
       "poly(lat_scaled, 2)2:sst_scaled    1.491282   0.182756   8.160 3.79e-16 ***\n",
       "poly(lat_scaled, 2)1:seasonspring  0.016075   0.531682   0.030  0.97588    \n",
       "poly(lat_scaled, 2)2:seasonspring -2.449731   1.377869  -1.778  0.07545 .  \n",
       "poly(lat_scaled, 2)1:seasonsummer -3.939393   0.493558  -7.982 1.62e-15 ***\n",
       "poly(lat_scaled, 2)2:seasonsummer -3.520523   1.278415  -2.754  0.00590 ** \n",
       "poly(lat_scaled, 2)1:seasonwinter  0.414407   0.537828   0.771  0.44101    \n",
       "poly(lat_scaled, 2)2:seasonwinter  0.484929   1.386795   0.350  0.72659    \n",
       "sst_scaled:seasonspring           -0.020072   0.014803  -1.356  0.17515    \n",
       "sst_scaled:seasonsummer           -0.065112   0.013723  -4.745 2.12e-06 ***\n",
       "sst_scaled:seasonwinter            0.031934   0.015059   2.121  0.03398 *  \n",
       "---\n",
       "Signif. codes:  0 ‘***’ 0.001 ‘**’ 0.01 ‘*’ 0.05 ‘.’ 0.1 ‘ ’ 1\n",
       "\n",
       "Residual standard error: 0.1464 on 9152 degrees of freedom\n",
       "Multiple R-squared:  0.253,\tAdjusted R-squared:  0.2517 \n",
       "F-statistic: 182.4 on 17 and 9152 DF,  p-value: < 2.2e-16\n"
      ]
     },
     "metadata": {},
     "output_type": "display_data"
    }
   ],
   "source": [
    "simple_lm = lm(formula, data=mhwPerformance)\n",
    "summary(simple_lm)"
   ]
  },
  {
   "cell_type": "code",
   "execution_count": 46,
   "metadata": {},
   "outputs": [],
   "source": [
    "baseline_hline = geom_hline(yintercept=0, linetype='dashed', color='blue', size=0.6, alpha=0.6)"
   ]
  },
  {
   "cell_type": "markdown",
   "metadata": {},
   "source": [
    "## Simple Model with Random Effects\n",
    "\n",
    "Only `isolate` as random effect for now: "
   ]
  },
  {
   "cell_type": "code",
   "execution_count": 32,
   "metadata": {},
   "outputs": [
    {
     "name": "stderr",
     "output_type": "stream",
     "text": [
      "\n",
      "Correlation matrix not shown by default, as p = 18 > 12.\n",
      "Use print(obj, correlation=TRUE)  or\n",
      "    vcov(obj)        if you need it\n",
      "\n"
     ]
    },
    {
     "data": {
      "text/plain": [
       "Linear mixed model fit by REML. t-tests use Satterthwaite's method [\n",
       "lmerModLmerTest]\n",
       "Formula: formula_re\n",
       "   Data: mhwPerformance\n",
       "\n",
       "REML criterion at convergence: -13262.2\n",
       "\n",
       "Scaled residuals: \n",
       "     Min       1Q   Median       3Q      Max \n",
       "-16.2182  -0.3373  -0.0221   0.3875   7.0353 \n",
       "\n",
       "Random effects:\n",
       " Groups   Name        Variance Std.Dev.\n",
       " isolate  (Intercept) 0.01048  0.1024  \n",
       " Residual             0.01295  0.1138  \n",
       "Number of obs: 9170, groups:  isolate, 130\n",
       "\n",
       "Fixed effects:\n",
       "                                    Estimate Std. Error         df t value\n",
       "(Intercept)                        6.515e-02  1.410e-02  1.305e+02   4.619\n",
       "poly(lat_scaled, 2)1              -1.137e-01  1.582e+00  1.267e+02  -0.072\n",
       "poly(lat_scaled, 2)2               1.411e+01  2.471e+00  3.412e+02   5.708\n",
       "sst_scaled                         1.183e-01  2.016e-02  1.071e+03   5.868\n",
       "seasonspring                       2.200e-02  3.971e-03  9.014e+03   5.540\n",
       "seasonsummer                      -8.458e-02  3.733e-03  9.015e+03 -22.657\n",
       "seasonwinter                       3.979e-02  4.094e-03  9.011e+03   9.720\n",
       "poly(lat_scaled, 2)1:sst_scaled    1.098e+00  9.718e-01  1.239e+02   1.129\n",
       "poly(lat_scaled, 2)2:sst_scaled    2.679e+00  1.022e+00  1.319e+02   2.623\n",
       "poly(lat_scaled, 2)1:seasonspring  5.904e-01  4.156e-01  9.009e+03   1.421\n",
       "poly(lat_scaled, 2)2:seasonspring -1.406e+00  1.076e+00  9.010e+03  -1.307\n",
       "poly(lat_scaled, 2)1:seasonsummer -3.430e+00  3.872e-01  9.015e+03  -8.858\n",
       "poly(lat_scaled, 2)2:seasonsummer -2.719e+00  1.003e+00  9.014e+03  -2.712\n",
       "poly(lat_scaled, 2)1:seasonwinter  4.325e-01  4.198e-01  9.011e+03   1.030\n",
       "poly(lat_scaled, 2)2:seasonwinter  5.746e-01  1.082e+00  9.009e+03   0.531\n",
       "sst_scaled:seasonspring           -1.396e-02  1.156e-02  9.010e+03  -1.208\n",
       "sst_scaled:seasonsummer           -4.763e-02  1.075e-02  9.013e+03  -4.429\n",
       "sst_scaled:seasonwinter            2.569e-02  1.175e-02  9.010e+03   2.186\n",
       "                                  Pr(>|t|)    \n",
       "(Intercept)                       9.12e-06 ***\n",
       "poly(lat_scaled, 2)1               0.94281    \n",
       "poly(lat_scaled, 2)2              2.49e-08 ***\n",
       "sst_scaled                        5.86e-09 ***\n",
       "seasonspring                      3.11e-08 ***\n",
       "seasonsummer                       < 2e-16 ***\n",
       "seasonwinter                       < 2e-16 ***\n",
       "poly(lat_scaled, 2)1:sst_scaled    0.26090    \n",
       "poly(lat_scaled, 2)2:sst_scaled    0.00975 ** \n",
       "poly(lat_scaled, 2)1:seasonspring  0.15549    \n",
       "poly(lat_scaled, 2)2:seasonspring  0.19133    \n",
       "poly(lat_scaled, 2)1:seasonsummer  < 2e-16 ***\n",
       "poly(lat_scaled, 2)2:seasonsummer  0.00670 ** \n",
       "poly(lat_scaled, 2)1:seasonwinter  0.30283    \n",
       "poly(lat_scaled, 2)2:seasonwinter  0.59545    \n",
       "sst_scaled:seasonspring            0.22715    \n",
       "sst_scaled:seasonsummer           9.56e-06 ***\n",
       "sst_scaled:seasonwinter            0.02883 *  \n",
       "---\n",
       "Signif. codes:  0 ‘***’ 0.001 ‘**’ 0.01 ‘*’ 0.05 ‘.’ 0.1 ‘ ’ 1"
      ]
     },
     "metadata": {},
     "output_type": "display_data"
    }
   ],
   "source": [
    "simple_re = lmer(\n",
    "    formula_re,\n",
    "    data=mhwPerformance\n",
    ")\n",
    "summary(simple_re)"
   ]
  },
  {
   "cell_type": "code",
   "execution_count": 33,
   "metadata": {},
   "outputs": [
    {
     "name": "stderr",
     "output_type": "stream",
     "text": [
      "Model contains splines or polynomial terms. Consider using `terms=\"lat_scaled [all]\"` to get smooth plots. See also package-vignette 'Marginal Effects at Specific Values'.\n"
     ]
    },
    {
     "name": "stdout",
     "output_type": "stream",
     "text": [
      "Error: Confidence intervals could not be computed.\n",
      "* Reason: \"`season` does not have enough factor levels. Try to remove `[]`.\"\n",
      "* Source: .safe_se_from_vcov(model, prediction_data, value_adjustment, terms, model_class, type, vcov.fun, vcov.type, vcov.args, condition, interval)\n"
     ]
    },
    {
     "name": "stderr",
     "output_type": "stream",
     "text": [
      "Model contains splines or polynomial terms. Consider using `terms=\"sst_scaled [all]\"` to get smooth plots. See also package-vignette 'Marginal Effects at Specific Values'.\n"
     ]
    },
    {
     "name": "stdout",
     "output_type": "stream",
     "text": [
      "Error: Confidence intervals could not be computed.\n",
      "* Reason: \"`season` does not have enough factor levels. Try to remove `[]`.\"\n",
      "* Source: .safe_se_from_vcov(model, prediction_data, value_adjustment, terms, model_class, type, vcov.fun, vcov.type, vcov.args, condition, interval)\n"
     ]
    },
    {
     "name": "stderr",
     "output_type": "stream",
     "text": [
      "Model contains splines or polynomial terms. Consider using `terms=\"season [all]\"` to get smooth plots. See also package-vignette 'Marginal Effects at Specific Values'.\n"
     ]
    },
    {
     "data": {
      "text/plain": [
       "NULL"
      ]
     },
     "metadata": {},
     "output_type": "display_data"
    },
    {
     "data": {
      "image/png": "[encoded data removed]",
      "text/plain": [
       "plot without title"
      ]
     },
     "metadata": {},
     "output_type": "display_data"
    },
    {
     "data": {
      "image/png": "[encoded data removed]",
      "text/plain": [
       "plot without title"
      ]
     },
     "metadata": {},
     "output_type": "display_data"
    }
   ],
   "source": [
    "simple_re_plots = plot_model(simple_re, type='pred')\n",
    "simple_re_plots$lat + baseline_hline\n",
    "simple_re_plots$current_year_sst_mean + baseline_hline\n",
    "simple_re_plots$season + baseline_hline"
   ]
  },
  {
   "cell_type": "code",
   "execution_count": 34,
   "metadata": {},
   "outputs": [
    {
     "name": "stderr",
     "output_type": "stream",
     "text": [
      "Scale for 'y' is already present. Adding another scale for 'y', which will\n",
      "replace the existing scale.\n",
      "Warning message:\n",
      "“Removed 9 rows containing missing values (geom_point).”"
     ]
    },
    {
     "data": {
      "image/png": "[encoded data removed]",
      "text/plain": [
       "plot without title"
      ]
     },
     "metadata": {},
     "output_type": "display_data"
    }
   ],
   "source": [
    "plot_model(simple_re, type='re') +\n",
    "    xlab(\"Isolate ID\") + \n",
    "    ylab('random effect')+\n",
    "    ylim(-0.2, 0.2)"
   ]
  },
  {
   "cell_type": "markdown",
   "metadata": {},
   "source": [
    "## More Intense Heatwaves =? Stronger Signal?\n",
    "\n",
    "There's probably a lot of noise from shorter events here. \n",
    "\n",
    "Lets take a look at the distribution of heatwaves by intensity: "
   ]
  },
  {
   "cell_type": "code",
   "execution_count": 35,
   "metadata": {},
   "outputs": [
    {
     "data": {
      "text/html": [
       "1.49603433663944"
      ],
      "text/latex": [
       "1.49603433663944"
      ],
      "text/markdown": [
       "1.49603433663944"
      ],
      "text/plain": [
       "[1] 1.496034"
      ]
     },
     "metadata": {},
     "output_type": "display_data"
    }
   ],
   "source": [
    "median(mhwPerformance$intensity_mean)"
   ]
  },
  {
   "cell_type": "code",
   "execution_count": 36,
   "metadata": {},
   "outputs": [
    {
     "name": "stderr",
     "output_type": "stream",
     "text": [
      "`stat_bin()` using `bins = 30`. Pick better value with `binwidth`.\n"
     ]
    },
    {
     "data": {
      "image/png": "[encoded data removed]",
      "text/plain": [
       "plot without title"
      ]
     },
     "metadata": {},
     "output_type": "display_data"
    }
   ],
   "source": [
    "ggplot(mhwPerformance, aes(x=intensity_mean)) +\n",
    "    geom_histogram() + \n",
    "    geom_vline(xintercept=median(mhwPerformance$intensity_mean)) "
   ]
  },
  {
   "cell_type": "markdown",
   "metadata": {},
   "source": [
    "We can use ~1.5 C as our threshold (median?)"
   ]
  },
  {
   "cell_type": "code",
   "execution_count": 37,
   "metadata": {},
   "outputs": [],
   "source": [
    "intensity_threshold = 1.5"
   ]
  },
  {
   "cell_type": "code",
   "execution_count": 38,
   "metadata": {},
   "outputs": [],
   "source": [
    "intenseMhwPerformance = mhwPerformance %>% filter(intensity_mean > intensity_threshold)"
   ]
  },
  {
   "cell_type": "code",
   "execution_count": 39,
   "metadata": {},
   "outputs": [
    {
     "data": {
      "text/html": [
       "<table>\n",
       "<thead><tr><th scope=col>X</th><th scope=col>lat</th><th scope=col>lon</th><th scope=col>isolate</th><th scope=col>mhw</th><th scope=col>detriment_sum</th><th scope=col>relative_detriment_mean</th><th scope=col>detriment_mean</th><th scope=col>performance_diff_mean</th><th scope=col>performance_diff_unscaled_mean</th><th scope=col>...</th><th scope=col>start_date</th><th scope=col>peak_date</th><th scope=col>perf_det_ratio</th><th scope=col>latbin</th><th scope=col>doy_bins</th><th scope=col>season</th><th scope=col>lat_scaled</th><th scope=col>sst_scaled</th><th scope=col>abslat_scaled</th><th scope=col>abslat</th></tr></thead>\n",
       "<tbody>\n",
       "\t<tr><td> 1               </td><td>-74.875          </td><td>164.625          </td><td>1                </td><td> 5               </td><td>6.265167e+00     </td><td>1.2691721152     </td><td>0.4176777708     </td><td> 0.28725032      </td><td> 0.09453255      </td><td>...              </td><td>1987-01-21       </td><td>5.391360e+17     </td><td>8.156109e-01     </td><td>(-75.026, -59.75]</td><td>(0.639, 91.25]   </td><td>summer           </td><td>-2.512773        </td><td>-2.1110269       </td><td>2.1837887        </td><td>74.875           </td></tr>\n",
       "\t<tr><td>16               </td><td>-57.875          </td><td> 62.125          </td><td>8                </td><td>37               </td><td>5.392747e-04     </td><td>0.0003390271     </td><td>0.0001078549     </td><td> 0.07245527      </td><td> 0.02305025      </td><td>...              </td><td>2000-01-10       </td><td>9.475488e+17     </td><td>4.609214e-03     </td><td>(-59.75, -44.625]</td><td>(0.639, 91.25]   </td><td>summer           </td><td>-2.045108        </td><td>-1.9549025       </td><td>1.2378394        </td><td>57.875           </td></tr>\n",
       "\t<tr><td>39               </td><td>-57.875          </td><td>139.875          </td><td>558              </td><td> 6               </td><td>8.048469e-01     </td><td>0.1441267048     </td><td>0.0473439352     </td><td>-0.14278485      </td><td>-0.04690315      </td><td>...              </td><td>1985-01-03       </td><td>4.737312e+17     </td><td>3.234330e+04     </td><td>(-59.75, -44.625]</td><td>(0.639, 91.25]   </td><td>summer           </td><td>-2.045108        </td><td>-1.7193377       </td><td>1.2378394        </td><td>57.875           </td></tr>\n",
       "\t<tr><td>48               </td><td>-46.625          </td><td>-75.875          </td><td>476              </td><td>23               </td><td>7.949109e-02     </td><td>0.0356370802     </td><td>0.0066242573     </td><td> 0.04883279      </td><td> 0.00907709      </td><td>...              </td><td>1992-01-26       </td><td>6.971616e+17     </td><td>4.533501e-01     </td><td>(-59.75, -44.625]</td><td>(0.639, 91.25]   </td><td>summer           </td><td>-1.735625        </td><td>-0.7799926       </td><td>0.6118436        </td><td>46.625           </td></tr>\n",
       "\t<tr><td>52               </td><td>-42.125          </td><td>169.625          </td><td>15               </td><td>58               </td><td>1.297108e+01     </td><td>0.1026763952     </td><td>0.1457425124     </td><td> 0.10700543      </td><td> 0.15188730      </td><td>...              </td><td>2016-02-24       </td><td>1.459382e+18     </td><td>4.387885e-01     </td><td>(-44.625, -29.5] </td><td>(0.639, 91.25]   </td><td>summer           </td><td>-1.611831        </td><td>-0.1946099       </td><td>0.3614453        </td><td>42.125           </td></tr>\n",
       "\t<tr><td>53               </td><td>-42.125          </td><td>169.625          </td><td>15               </td><td>67               </td><td>2.416684e+00     </td><td>0.3405134209     </td><td>0.4833368116     </td><td> 0.11409630      </td><td> 0.16195234      </td><td>...              </td><td>2018-10-19       </td><td>1.540253e+18     </td><td>7.483851e-01     </td><td>(-44.625, -29.5] </td><td>(271.75, 362.0]  </td><td>spring           </td><td>-1.611831        </td><td>-0.1955015       </td><td>0.3614453        </td><td>42.125           </td></tr>\n",
       "</tbody>\n",
       "</table>\n"
      ],
      "text/latex": [
       "\\begin{tabular}{r|lllllllllllllllllllllllllll}\n",
       " X & lat & lon & isolate & mhw & detriment\\_sum & relative\\_detriment\\_mean & detriment\\_mean & performance\\_diff\\_mean & performance\\_diff\\_unscaled\\_mean & ... & start\\_date & peak\\_date & perf\\_det\\_ratio & latbin & doy\\_bins & season & lat\\_scaled & sst\\_scaled & abslat\\_scaled & abslat\\\\\n",
       "\\hline\n",
       "\t  1                  & -74.875             & 164.625             & 1                   &  5                  & 6.265167e+00        & 1.2691721152        & 0.4176777708        &  0.28725032         &  0.09453255         & ...                 & 1987-01-21          & 5.391360e+17        & 8.156109e-01        & (-75.026, -59.75{]} & (0.639, 91.25{]}    & summer              & -2.512773           & -2.1110269          & 2.1837887           & 74.875             \\\\\n",
       "\t 16                  & -57.875             &  62.125             & 8                   & 37                  & 5.392747e-04        & 0.0003390271        & 0.0001078549        &  0.07245527         &  0.02305025         & ...                 & 2000-01-10          & 9.475488e+17        & 4.609214e-03        & (-59.75, -44.625{]} & (0.639, 91.25{]}    & summer              & -2.045108           & -1.9549025          & 1.2378394           & 57.875             \\\\\n",
       "\t 39                  & -57.875             & 139.875             & 558                 &  6                  & 8.048469e-01        & 0.1441267048        & 0.0473439352        & -0.14278485         & -0.04690315         & ...                 & 1985-01-03          & 4.737312e+17        & 3.234330e+04        & (-59.75, -44.625{]} & (0.639, 91.25{]}    & summer              & -2.045108           & -1.7193377          & 1.2378394           & 57.875             \\\\\n",
       "\t 48                  & -46.625             & -75.875             & 476                 & 23                  & 7.949109e-02        & 0.0356370802        & 0.0066242573        &  0.04883279         &  0.00907709         & ...                 & 1992-01-26          & 6.971616e+17        & 4.533501e-01        & (-59.75, -44.625{]} & (0.639, 91.25{]}    & summer              & -1.735625           & -0.7799926          & 0.6118436           & 46.625             \\\\\n",
       "\t 52                  & -42.125             & 169.625             & 15                  & 58                  & 1.297108e+01        & 0.1026763952        & 0.1457425124        &  0.10700543         &  0.15188730         & ...                 & 2016-02-24          & 1.459382e+18        & 4.387885e-01        & (-44.625, -29.5{]}  & (0.639, 91.25{]}    & summer              & -1.611831           & -0.1946099          & 0.3614453           & 42.125             \\\\\n",
       "\t 53                  & -42.125             & 169.625             & 15                  & 67                  & 2.416684e+00        & 0.3405134209        & 0.4833368116        &  0.11409630         &  0.16195234         & ...                 & 2018-10-19          & 1.540253e+18        & 7.483851e-01        & (-44.625, -29.5{]}  & (271.75, 362.0{]}   & spring              & -1.611831           & -0.1955015          & 0.3614453           & 42.125             \\\\\n",
       "\\end{tabular}\n"
      ],
      "text/markdown": [
       "\n",
       "| X | lat | lon | isolate | mhw | detriment_sum | relative_detriment_mean | detriment_mean | performance_diff_mean | performance_diff_unscaled_mean | ... | start_date | peak_date | perf_det_ratio | latbin | doy_bins | season | lat_scaled | sst_scaled | abslat_scaled | abslat |\n",
       "|---|---|---|---|---|---|---|---|---|---|---|---|---|---|---|---|---|---|---|---|---|\n",
       "|  1                | -74.875           | 164.625           | 1                 |  5                | 6.265167e+00      | 1.2691721152      | 0.4176777708      |  0.28725032       |  0.09453255       | ...               | 1987-01-21        | 5.391360e+17      | 8.156109e-01      | (-75.026, -59.75] | (0.639, 91.25]    | summer            | -2.512773         | -2.1110269        | 2.1837887         | 74.875            |\n",
       "| 16                | -57.875           |  62.125           | 8                 | 37                | 5.392747e-04      | 0.0003390271      | 0.0001078549      |  0.07245527       |  0.02305025       | ...               | 2000-01-10        | 9.475488e+17      | 4.609214e-03      | (-59.75, -44.625] | (0.639, 91.25]    | summer            | -2.045108         | -1.9549025        | 1.2378394         | 57.875            |\n",
       "| 39                | -57.875           | 139.875           | 558               |  6                | 8.048469e-01      | 0.1441267048      | 0.0473439352      | -0.14278485       | -0.04690315       | ...               | 1985-01-03        | 4.737312e+17      | 3.234330e+04      | (-59.75, -44.625] | (0.639, 91.25]    | summer            | -2.045108         | -1.7193377        | 1.2378394         | 57.875            |\n",
       "| 48                | -46.625           | -75.875           | 476               | 23                | 7.949109e-02      | 0.0356370802      | 0.0066242573      |  0.04883279       |  0.00907709       | ...               | 1992-01-26        | 6.971616e+17      | 4.533501e-01      | (-59.75, -44.625] | (0.639, 91.25]    | summer            | -1.735625         | -0.7799926        | 0.6118436         | 46.625            |\n",
       "| 52                | -42.125           | 169.625           | 15                | 58                | 1.297108e+01      | 0.1026763952      | 0.1457425124      |  0.10700543       |  0.15188730       | ...               | 2016-02-24        | 1.459382e+18      | 4.387885e-01      | (-44.625, -29.5]  | (0.639, 91.25]    | summer            | -1.611831         | -0.1946099        | 0.3614453         | 42.125            |\n",
       "| 53                | -42.125           | 169.625           | 15                | 67                | 2.416684e+00      | 0.3405134209      | 0.4833368116      |  0.11409630       |  0.16195234       | ...               | 2018-10-19        | 1.540253e+18      | 7.483851e-01      | (-44.625, -29.5]  | (271.75, 362.0]   | spring            | -1.611831         | -0.1955015        | 0.3614453         | 42.125            |\n",
       "\n"
      ],
      "text/plain": [
       "  X  lat     lon     isolate mhw detriment_sum relative_detriment_mean\n",
       "1  1 -74.875 164.625 1        5  6.265167e+00  1.2691721152           \n",
       "2 16 -57.875  62.125 8       37  5.392747e-04  0.0003390271           \n",
       "3 39 -57.875 139.875 558      6  8.048469e-01  0.1441267048           \n",
       "4 48 -46.625 -75.875 476     23  7.949109e-02  0.0356370802           \n",
       "5 52 -42.125 169.625 15      58  1.297108e+01  0.1026763952           \n",
       "6 53 -42.125 169.625 15      67  2.416684e+00  0.3405134209           \n",
       "  detriment_mean performance_diff_mean performance_diff_unscaled_mean ...\n",
       "1 0.4176777708    0.28725032            0.09453255                    ...\n",
       "2 0.0001078549    0.07245527            0.02305025                    ...\n",
       "3 0.0473439352   -0.14278485           -0.04690315                    ...\n",
       "4 0.0066242573    0.04883279            0.00907709                    ...\n",
       "5 0.1457425124    0.10700543            0.15188730                    ...\n",
       "6 0.4833368116    0.11409630            0.16195234                    ...\n",
       "  start_date peak_date    perf_det_ratio latbin            doy_bins       \n",
       "1 1987-01-21 5.391360e+17 8.156109e-01   (-75.026, -59.75] (0.639, 91.25] \n",
       "2 2000-01-10 9.475488e+17 4.609214e-03   (-59.75, -44.625] (0.639, 91.25] \n",
       "3 1985-01-03 4.737312e+17 3.234330e+04   (-59.75, -44.625] (0.639, 91.25] \n",
       "4 1992-01-26 6.971616e+17 4.533501e-01   (-59.75, -44.625] (0.639, 91.25] \n",
       "5 2016-02-24 1.459382e+18 4.387885e-01   (-44.625, -29.5]  (0.639, 91.25] \n",
       "6 2018-10-19 1.540253e+18 7.483851e-01   (-44.625, -29.5]  (271.75, 362.0]\n",
       "  season lat_scaled sst_scaled abslat_scaled abslat\n",
       "1 summer -2.512773  -2.1110269 2.1837887     74.875\n",
       "2 summer -2.045108  -1.9549025 1.2378394     57.875\n",
       "3 summer -2.045108  -1.7193377 1.2378394     57.875\n",
       "4 summer -1.735625  -0.7799926 0.6118436     46.625\n",
       "5 summer -1.611831  -0.1946099 0.3614453     42.125\n",
       "6 spring -1.611831  -0.1955015 0.3614453     42.125"
      ]
     },
     "metadata": {},
     "output_type": "display_data"
    }
   ],
   "source": [
    "head(intenseMhwPerformance)"
   ]
  },
  {
   "cell_type": "code",
   "execution_count": 19,
   "metadata": {},
   "outputs": [
    {
     "data": {
      "text/html": [
       "4570"
      ],
      "text/latex": [
       "4570"
      ],
      "text/markdown": [
       "4570"
      ],
      "text/plain": [
       "[1] 4570"
      ]
     },
     "metadata": {},
     "output_type": "display_data"
    }
   ],
   "source": [
    "nrow(intenseMhwPerformance)"
   ]
  },
  {
   "cell_type": "markdown",
   "metadata": {},
   "source": [
    "**Simple Model**"
   ]
  },
  {
   "cell_type": "code",
   "execution_count": 20,
   "metadata": {},
   "outputs": [
    {
     "data": {
      "text/plain": [
       "\n",
       "Call:\n",
       "lm(formula = formula, data = intenseMhwPerformance)\n",
       "\n",
       "Residuals:\n",
       "     Min       1Q   Median       3Q      Max \n",
       "-0.92402 -0.06593  0.00956  0.07719  1.00890 \n",
       "\n",
       "Coefficients:\n",
       "                                   Estimate Std. Error t value Pr(>|t|)    \n",
       "(Intercept)                        0.111464   0.007439  14.985  < 2e-16 ***\n",
       "poly(lat_scaled, 2)1               2.580157   0.603783   4.273 1.97e-05 ***\n",
       "poly(lat_scaled, 2)2               1.028692   0.878472   1.171 0.241659    \n",
       "sst_scaled                         0.010018   0.020025   0.500 0.616911    \n",
       "seasonspring                       0.006093   0.008631   0.706 0.480249    \n",
       "seasonsummer                      -0.168070   0.008106 -20.733  < 2e-16 ***\n",
       "seasonwinter                       0.055973   0.009301   6.018 1.91e-09 ***\n",
       "poly(lat_scaled, 2)1:sst_scaled    1.235104   0.226532   5.452 5.24e-08 ***\n",
       "poly(lat_scaled, 2)2:sst_scaled    0.851864   0.209612   4.064 4.91e-05 ***\n",
       "poly(lat_scaled, 2)1:seasonspring -1.510926   0.727712  -2.076 0.037925 *  \n",
       "poly(lat_scaled, 2)2:seasonspring -1.361971   1.039145  -1.311 0.190037    \n",
       "poly(lat_scaled, 2)1:seasonsummer -5.165672   0.666192  -7.754 1.09e-14 ***\n",
       "poly(lat_scaled, 2)2:seasonsummer -2.995043   0.956079  -3.133 0.001743 ** \n",
       "poly(lat_scaled, 2)1:seasonwinter  3.204207   0.843395   3.799 0.000147 ***\n",
       "poly(lat_scaled, 2)2:seasonwinter  0.757676   1.134019   0.668 0.504082    \n",
       "sst_scaled:seasonspring           -0.041419   0.023893  -1.734 0.083070 .  \n",
       "sst_scaled:seasonsummer           -0.193239   0.022204  -8.703  < 2e-16 ***\n",
       "sst_scaled:seasonwinter            0.074051   0.025600   2.893 0.003838 ** \n",
       "---\n",
       "Signif. codes:  0 ‘***’ 0.001 ‘**’ 0.01 ‘*’ 0.05 ‘.’ 0.1 ‘ ’ 1\n",
       "\n",
       "Residual standard error: 0.1633 on 4552 degrees of freedom\n",
       "Multiple R-squared:  0.3294,\tAdjusted R-squared:  0.3269 \n",
       "F-statistic: 131.5 on 17 and 4552 DF,  p-value: < 2.2e-16\n"
      ]
     },
     "metadata": {},
     "output_type": "display_data"
    }
   ],
   "source": [
    "simple_intense_lm = lm(\n",
    "    formula,\n",
    "    data=intenseMhwPerformance)\n",
    "summary(simple_intense_lm)"
   ]
  },
  {
   "cell_type": "markdown",
   "metadata": {},
   "source": [
    "**Simple Random Effects**"
   ]
  },
  {
   "cell_type": "code",
   "execution_count": 21,
   "metadata": {},
   "outputs": [
    {
     "name": "stderr",
     "output_type": "stream",
     "text": [
      "\n",
      "Correlation matrix not shown by default, as p = 18 > 12.\n",
      "Use print(obj, correlation=TRUE)  or\n",
      "    vcov(obj)        if you need it\n",
      "\n"
     ]
    },
    {
     "data": {
      "text/plain": [
       "Linear mixed model fit by REML. t-tests use Satterthwaite's method [\n",
       "lmerModLmerTest]\n",
       "Formula: formula_re\n",
       "   Data: intenseMhwPerformance\n",
       "\n",
       "REML criterion at convergence: -6131.5\n",
       "\n",
       "Scaled residuals: \n",
       "    Min      1Q  Median      3Q     Max \n",
       "-6.2333 -0.4729  0.0280  0.5208  4.8315 \n",
       "\n",
       "Random effects:\n",
       " Groups   Name        Variance Std.Dev.\n",
       " isolate  (Intercept) 0.01625  0.1275  \n",
       " Residual             0.01389  0.1179  \n",
       "Number of obs: 4570, groups:  isolate, 122\n",
       "\n",
       "Fixed effects:\n",
       "                                    Estimate Std. Error         df t value\n",
       "(Intercept)                        1.099e-01  1.626e-02  1.179e+02   6.759\n",
       "poly(lat_scaled, 2)1               5.858e+00  9.432e-01  2.343e+02   6.210\n",
       "poly(lat_scaled, 2)2               8.638e+00  1.377e+00  3.308e+02   6.271\n",
       "sst_scaled                         1.907e-01  2.616e-02  1.556e+03   7.288\n",
       "seasonspring                       9.492e-03  6.411e-03  4.459e+03   1.481\n",
       "seasonsummer                      -1.659e-01  6.037e-03  4.459e+03 -27.486\n",
       "seasonwinter                       6.567e-02  6.857e-03  4.450e+03   9.577\n",
       "poly(lat_scaled, 2)1:sst_scaled    1.165e+00  6.053e-01  1.388e+02   1.924\n",
       "poly(lat_scaled, 2)2:sst_scaled    1.222e+00  5.759e-01  1.256e+02   2.122\n",
       "poly(lat_scaled, 2)1:seasonspring -9.536e-01  5.491e-01  4.453e+03  -1.737\n",
       "poly(lat_scaled, 2)2:seasonspring -1.477e+00  7.645e-01  4.433e+03  -1.932\n",
       "poly(lat_scaled, 2)1:seasonsummer -5.247e+00  5.054e-01  4.457e+03 -10.381\n",
       "poly(lat_scaled, 2)2:seasonsummer -4.873e+00  7.111e-01  4.441e+03  -6.853\n",
       "poly(lat_scaled, 2)1:seasonwinter  2.072e+00  6.199e-01  4.436e+03   3.342\n",
       "poly(lat_scaled, 2)2:seasonwinter  1.151e+00  8.244e-01  4.422e+03   1.396\n",
       "sst_scaled:seasonspring           -3.269e-02  1.751e-02  4.441e+03  -1.867\n",
       "sst_scaled:seasonsummer           -2.102e-01  1.639e-02  4.445e+03 -12.826\n",
       "sst_scaled:seasonwinter            6.994e-02  1.871e-02  4.435e+03   3.739\n",
       "                                  Pr(>|t|)    \n",
       "(Intercept)                       5.61e-10 ***\n",
       "poly(lat_scaled, 2)1              2.39e-09 ***\n",
       "poly(lat_scaled, 2)2              1.12e-09 ***\n",
       "sst_scaled                        4.99e-13 ***\n",
       "seasonspring                      0.138780    \n",
       "seasonsummer                       < 2e-16 ***\n",
       "seasonwinter                       < 2e-16 ***\n",
       "poly(lat_scaled, 2)1:sst_scaled   0.056369 .  \n",
       "poly(lat_scaled, 2)2:sst_scaled   0.035800 *  \n",
       "poly(lat_scaled, 2)1:seasonspring 0.082503 .  \n",
       "poly(lat_scaled, 2)2:seasonspring 0.053407 .  \n",
       "poly(lat_scaled, 2)1:seasonsummer  < 2e-16 ***\n",
       "poly(lat_scaled, 2)2:seasonsummer 8.24e-12 ***\n",
       "poly(lat_scaled, 2)1:seasonwinter 0.000838 ***\n",
       "poly(lat_scaled, 2)2:seasonwinter 0.162725    \n",
       "sst_scaled:seasonspring           0.061942 .  \n",
       "sst_scaled:seasonsummer            < 2e-16 ***\n",
       "sst_scaled:seasonwinter           0.000187 ***\n",
       "---\n",
       "Signif. codes:  0 ‘***’ 0.001 ‘**’ 0.01 ‘*’ 0.05 ‘.’ 0.1 ‘ ’ 1"
      ]
     },
     "metadata": {},
     "output_type": "display_data"
    }
   ],
   "source": [
    "simple_intense_re = lmer(\n",
    "    formula_re, \n",
    "    data=intenseMhwPerformance\n",
    ")\n",
    "summary(simple_intense_re)"
   ]
  },
  {
   "cell_type": "markdown",
   "metadata": {},
   "source": [
    "## Absolute Latitude instead of Poly(2)"
   ]
  },
  {
   "cell_type": "code",
   "execution_count": 23,
   "metadata": {},
   "outputs": [
    {
     "name": "stderr",
     "output_type": "stream",
     "text": [
      "\n",
      "Correlation matrix not shown by default, as p = 13 > 12.\n",
      "Use print(obj, correlation=TRUE)  or\n",
      "    vcov(obj)        if you need it\n",
      "\n"
     ]
    },
    {
     "data": {
      "text/plain": [
       "Linear mixed model fit by REML. t-tests use Satterthwaite's method [\n",
       "lmerModLmerTest]\n",
       "Formula: formula_abslat_re\n",
       "   Data: mhwPerformance\n",
       "\n",
       "REML criterion at convergence: -15685.6\n",
       "\n",
       "Scaled residuals: \n",
       "    Min      1Q  Median      3Q     Max \n",
       "-7.8249 -0.4591 -0.0125  0.5156  6.2158 \n",
       "\n",
       "Random effects:\n",
       " Groups   Name        Variance Std.Dev.\n",
       " isolate  (Intercept) 0.016669 0.12911 \n",
       " Residual             0.009784 0.09891 \n",
       "Number of obs: 9170, groups:  isolate, 130\n",
       "\n",
       "Fixed effects:\n",
       "                             Estimate Std. Error         df t value Pr(>|t|)\n",
       "(Intercept)                 4.633e-02  1.487e-02  1.329e+02   3.114  0.00226\n",
       "abslat_scaled               2.155e-01  1.933e-02  4.337e+02  11.146  < 2e-16\n",
       "sst_scaled                  2.029e-01  1.746e-02  2.139e+03  11.620  < 2e-16\n",
       "seasonspring                2.038e-02  3.437e-03  9.014e+03   5.930 3.13e-09\n",
       "seasonsummer               -9.880e-02  3.230e-03  9.015e+03 -30.589  < 2e-16\n",
       "seasonwinter                4.768e-02  3.538e-03  9.011e+03  13.474  < 2e-16\n",
       "abslat_scaled:sst_scaled   -1.641e-02  1.036e-02  1.644e+02  -1.584  0.11511\n",
       "abslat_scaled:seasonspring -8.077e-03  8.537e-03  9.010e+03  -0.946  0.34406\n",
       "abslat_scaled:seasonsummer -1.671e-01  8.110e-03  9.010e+03 -20.604  < 2e-16\n",
       "abslat_scaled:seasonwinter  3.517e-02  8.788e-03  9.010e+03   4.002 6.32e-05\n",
       "sst_scaled:seasonspring    -8.448e-03  8.699e-03  9.009e+03  -0.971  0.33149\n",
       "sst_scaled:seasonsummer    -1.923e-01  8.194e-03  9.010e+03 -23.463  < 2e-16\n",
       "sst_scaled:seasonwinter     5.460e-02  8.918e-03  9.010e+03   6.122 9.63e-10\n",
       "                              \n",
       "(Intercept)                ** \n",
       "abslat_scaled              ***\n",
       "sst_scaled                 ***\n",
       "seasonspring               ***\n",
       "seasonsummer               ***\n",
       "seasonwinter               ***\n",
       "abslat_scaled:sst_scaled      \n",
       "abslat_scaled:seasonspring    \n",
       "abslat_scaled:seasonsummer ***\n",
       "abslat_scaled:seasonwinter ***\n",
       "sst_scaled:seasonspring       \n",
       "sst_scaled:seasonsummer    ***\n",
       "sst_scaled:seasonwinter    ***\n",
       "---\n",
       "Signif. codes:  0 ‘***’ 0.001 ‘**’ 0.01 ‘*’ 0.05 ‘.’ 0.1 ‘ ’ 1"
      ]
     },
     "metadata": {},
     "output_type": "display_data"
    }
   ],
   "source": [
    "abslat_re = lmer(\n",
    "    formula_abslat_re, \n",
    "    data=mhwPerformance\n",
    ")\n",
    "summary(abslat_re)"
   ]
  },
  {
   "cell_type": "code",
   "execution_count": 24,
   "metadata": {},
   "outputs": [
    {
     "name": "stderr",
     "output_type": "stream",
     "text": [
      "\n",
      "Correlation matrix not shown by default, as p = 13 > 12.\n",
      "Use print(obj, correlation=TRUE)  or\n",
      "    vcov(obj)        if you need it\n",
      "\n"
     ]
    },
    {
     "data": {
      "text/plain": [
       "Linear mixed model fit by REML. t-tests use Satterthwaite's method [\n",
       "lmerModLmerTest]\n",
       "Formula: formula_abslat_re\n",
       "   Data: intenseMhwPerformance\n",
       "\n",
       "REML criterion at convergence: -6233.6\n",
       "\n",
       "Scaled residuals: \n",
       "    Min      1Q  Median      3Q     Max \n",
       "-6.3330 -0.4802  0.0505  0.5342  4.7829 \n",
       "\n",
       "Random effects:\n",
       " Groups   Name        Variance Std.Dev.\n",
       " isolate  (Intercept) 0.01720  0.1311  \n",
       " Residual             0.01342  0.1158  \n",
       "Number of obs: 4570, groups:  isolate, 122\n",
       "\n",
       "Fixed effects:\n",
       "                             Estimate Std. Error         df t value Pr(>|t|)\n",
       "(Intercept)                 8.096e-02  1.651e-02  1.233e+02   4.904 2.90e-06\n",
       "abslat_scaled               2.134e-01  2.512e-02  4.644e+02   8.494 2.73e-16\n",
       "sst_scaled                  1.962e-01  2.507e-02  1.429e+03   7.827 9.64e-15\n",
       "seasonspring                9.800e-03  6.513e-03  4.477e+03   1.505 0.132456\n",
       "seasonsummer               -1.474e-01  6.120e-03  4.479e+03 -24.082  < 2e-16\n",
       "seasonwinter                6.315e-02  6.944e-03  4.472e+03   9.095  < 2e-16\n",
       "abslat_scaled:sst_scaled   -7.910e-03  1.254e-02  1.410e+02  -0.631 0.529056\n",
       "abslat_scaled:seasonspring -2.550e-02  1.579e-02  4.510e+03  -1.615 0.106460\n",
       "abslat_scaled:seasonsummer -1.978e-01  1.497e-02  4.505e+03 -13.216  < 2e-16\n",
       "abslat_scaled:seasonwinter  6.312e-02  1.700e-02  4.510e+03   3.714 0.000206\n",
       "sst_scaled:seasonspring    -2.516e-02  1.688e-02  4.444e+03  -1.491 0.136072\n",
       "sst_scaled:seasonsummer    -2.569e-01  1.588e-02  4.449e+03 -16.177  < 2e-16\n",
       "sst_scaled:seasonwinter     8.712e-02  1.811e-02  4.440e+03   4.812 1.54e-06\n",
       "                              \n",
       "(Intercept)                ***\n",
       "abslat_scaled              ***\n",
       "sst_scaled                 ***\n",
       "seasonspring                  \n",
       "seasonsummer               ***\n",
       "seasonwinter               ***\n",
       "abslat_scaled:sst_scaled      \n",
       "abslat_scaled:seasonspring    \n",
       "abslat_scaled:seasonsummer ***\n",
       "abslat_scaled:seasonwinter ***\n",
       "sst_scaled:seasonspring       \n",
       "sst_scaled:seasonsummer    ***\n",
       "sst_scaled:seasonwinter    ***\n",
       "---\n",
       "Signif. codes:  0 ‘***’ 0.001 ‘**’ 0.01 ‘*’ 0.05 ‘.’ 0.1 ‘ ’ 1"
      ]
     },
     "metadata": {},
     "output_type": "display_data"
    }
   ],
   "source": [
    "abslat_intense_re = lmer(\n",
    "   formula_abslat_re,\n",
    "    data=intenseMhwPerformance, \n",
    ")\n",
    "summary(abslat_intense_re)"
   ]
  },
  {
   "cell_type": "code",
   "execution_count": 25,
   "metadata": {},
   "outputs": [
    {
     "data": {
      "image/png": "[encoded data removed]",
      "text/plain": [
       "plot without title"
      ]
     },
     "metadata": {},
     "output_type": "display_data"
    },
    {
     "data": {
      "text/plain": [
       "$abslat_scaled\n",
       "\n",
       "$sst_scaled\n",
       "\n",
       "$season\n"
      ]
     },
     "metadata": {},
     "output_type": "display_data"
    },
    {
     "data": {
      "image/png": "[encoded data removed]",
      "text/plain": [
       "plot without title"
      ]
     },
     "metadata": {},
     "output_type": "display_data"
    },
    {
     "data": {
      "image/png": "[encoded data removed]",
      "text/plain": [
       "plot without title"
      ]
     },
     "metadata": {},
     "output_type": "display_data"
    }
   ],
   "source": [
    "plot_model(abslat_re, type='pred')"
   ]
  },
  {
   "cell_type": "code",
   "execution_count": 26,
   "metadata": {},
   "outputs": [
    {
     "data": {
      "image/png": "[encoded data removed]",
      "text/plain": [
       "plot without title"
      ]
     },
     "metadata": {},
     "output_type": "display_data"
    },
    {
     "data": {
      "text/plain": [
       "$abslat_scaled\n",
       "\n",
       "$sst_scaled\n",
       "\n",
       "$season\n"
      ]
     },
     "metadata": {},
     "output_type": "display_data"
    },
    {
     "data": {
      "image/png": "[encoded data removed]",
      "text/plain": [
       "plot without title"
      ]
     },
     "metadata": {},
     "output_type": "display_data"
    },
    {
     "data": {
      "image/png": "[encoded data removed]",
      "text/plain": [
       "plot without title"
      ]
     },
     "metadata": {},
     "output_type": "display_data"
    }
   ],
   "source": [
    "plot_model(abslat_intense_re, type='pred')"
   ]
  },
  {
   "cell_type": "markdown",
   "metadata": {},
   "source": [
    "## Produce Plots"
   ]
  },
  {
   "cell_type": "markdown",
   "metadata": {},
   "source": [
    "### Absolute Latitude\n",
    "\n",
    "**Coefficient Plots, Simple and Intense**"
   ]
  },
  {
   "cell_type": "code",
   "execution_count": 27,
   "metadata": {},
   "outputs": [
    {
     "name": "stderr",
     "output_type": "stream",
     "text": [
      "Scale for 'y' is already present. Adding another scale for 'y', which will\n",
      "replace the existing scale.\n",
      "Scale for 'y' is already present. Adding another scale for 'y', which will\n",
      "replace the existing scale.\n"
     ]
    },
    {
     "data": {
      "text/html": [
       "<strong>png:</strong> 2"
      ],
      "text/latex": [
       "\\textbf{png:} 2"
      ],
      "text/markdown": [
       "**png:** 2"
      ],
      "text/plain": [
       "png \n",
       "  2 "
      ]
     },
     "metadata": {},
     "output_type": "display_data"
    }
   ],
   "source": [
    "png(\"./tmax_only_abslat_compare_coefs_diff.png\", width=1440, height=950, res=180)\n",
    "y_limit = ylim(-1, 1)\n",
    "simple_coefs = plot_model(abslat_re, ci.lvl=NA,  show.values = TRUE, value.offset=.4) + y_limit + ggtitle(\"A) All MHWs\")\n",
    "intense_coefs = plot_model(abslat_intense_re,show.values = TRUE, value.offset=.4, ci.lvl=NA)+ y_limit + theme(axis.text.y = element_blank()) + ggtitle(\"B) Intense MHWs\")\n",
    "grid.arrange(simple_coefs, intense_coefs, nrow=1, widths=c(1.7, 1) )\n",
    "dev.off()"
   ]
  },
  {
   "cell_type": "markdown",
   "metadata": {},
   "source": [
    "**Coefficient Table**"
   ]
  },
  {
   "cell_type": "code",
   "execution_count": 28,
   "metadata": {},
   "outputs": [],
   "source": [
    "tab_model(\n",
    "    abslat_re, abslat_intense_re,\n",
    "    show.stat=TRUE, use.viewer=FALSE, \n",
    "    dv.labels=c(\"Performance Difference [all events]\", \"Performance Difference [intense events]\"), \n",
    "    file = \"tmax_only_abslat_coef_compare_table.html\"\n",
    ")"
   ]
  },
  {
   "cell_type": "markdown",
   "metadata": {},
   "source": [
    "**Predictions, All MHW**"
   ]
  },
  {
   "cell_type": "code",
   "execution_count": 29,
   "metadata": {},
   "outputs": [
    {
     "name": "stderr",
     "output_type": "stream",
     "text": [
      "Scale for 'y' is already present. Adding another scale for 'y', which will\n",
      "replace the existing scale.\n",
      "Scale for 'y' is already present. Adding another scale for 'y', which will\n",
      "replace the existing scale.\n"
     ]
    },
    {
     "data": {
      "text/html": [
       "<strong>png:</strong> 2"
      ],
      "text/latex": [
       "\\textbf{png:} 2"
      ],
      "text/markdown": [
       "**png:** 2"
      ],
      "text/plain": [
       "png \n",
       "  2 "
      ]
     },
     "metadata": {},
     "output_type": "display_data"
    }
   ],
   "source": [
    "png(\"./tmax_only_abslat_preds_preddiff.png\", width=1440, height=700, res=180)\n",
    "\n",
    "y_limit = ylim(-1, 1)\n",
    "\n",
    "seas = plot(ggeffect(abslat_re, terms='season')) +\n",
    "    baseline_hline + \n",
    "    xlab(\"Season\") +\n",
    "    ylab(\"Performance Difference\")  +\n",
    "    ggtitle(\"A) Season\") + \n",
    "    y_limit\n",
    "\n",
    "\n",
    "seaslat = plot(ggeffect(abslat_re, terms=c('abslat_scaled', 'season [summer, winter]'))) +\n",
    "    baseline_hline +\n",
    "    xlab(\"Absolute Latitude [scaled]\") +\n",
    "    ylab(\"Performance Difference\")  +\n",
    "    ggtitle(\"B) Latitude\") + \n",
    "    y_limit\n",
    "\n",
    "    \n",
    "\n",
    "grid.arrange(seas, seaslat, nrow=1, widths=c(1,1.3))\n",
    "dev.off()\n",
    "# seaslat"
   ]
  },
  {
   "cell_type": "markdown",
   "metadata": {},
   "source": [
    "**Predictions, Intense MHW**"
   ]
  },
  {
   "cell_type": "code",
   "execution_count": 31,
   "metadata": {},
   "outputs": [
    {
     "name": "stderr",
     "output_type": "stream",
     "text": [
      "Scale for 'y' is already present. Adding another scale for 'y', which will\n",
      "replace the existing scale.\n",
      "Scale for 'y' is already present. Adding another scale for 'y', which will\n",
      "replace the existing scale.\n"
     ]
    }
   ],
   "source": [
    "png(\"./tmax_only_abslat_preds_intense_preddiff.png\", width=1440, height=700, res=180)\n",
    "\n",
    "y_limit = ylim(-1, 1)\n",
    "\n",
    "seas = plot(ggeffect(abslat_intense_re, terms='season')) + \n",
    "    baseline_hline + \n",
    "    xlab(\"Season\") +\n",
    "    ylab(\"Performance Difference\")  +\n",
    "    ggtitle(\"A) Season\") + \n",
    "    y_limit \n",
    "\n",
    "\n",
    "seaslat = plot(ggeffect(abslat_intense_re, terms=c('abslat_scaled', 'season [summer, winter]'))) +\n",
    "    baseline_hline +\n",
    "    xlab(\"Absolute Latitude [scaled]\") +\n",
    "    ylab(\"Performance Difference\")  +\n",
    "    ggtitle(\"B) Latitude\") + \n",
    "    y_limit \n",
    "\n",
    "    \n",
    "\n",
    "grid.arrange(seas, seaslat, nrow=1, widths=c(1,1.3))\n",
    "# dev.off()\n",
    "# seaslat"
   ]
  },
  {
   "cell_type": "code",
   "execution_count": null,
   "metadata": {},
   "outputs": [],
   "source": []
  },
  {
   "cell_type": "markdown",
   "metadata": {},
   "source": [
    "### Regular Latitude"
   ]
  },
  {
   "cell_type": "markdown",
   "metadata": {},
   "source": [
    "**Coefficients**"
   ]
  },
  {
   "cell_type": "code",
   "execution_count": 32,
   "metadata": {},
   "outputs": [
    {
     "name": "stderr",
     "output_type": "stream",
     "text": [
      "Scale for 'y' is already present. Adding another scale for 'y', which will\n",
      "replace the existing scale.\n",
      "Scale for 'y' is already present. Adding another scale for 'y', which will\n",
      "replace the existing scale.\n",
      "Warning message:\n",
      "“Removed 1 rows containing missing values (geom_point).”Warning message:\n",
      "“Removed 1 rows containing missing values (geom_text).”Warning message:\n",
      "“Removed 2 rows containing missing values (geom_point).”Warning message:\n",
      "“Removed 2 rows containing missing values (geom_text).”"
     ]
    },
    {
     "data": {
      "text/html": [
       "<strong>png:</strong> 2"
      ],
      "text/latex": [
       "\\textbf{png:} 2"
      ],
      "text/markdown": [
       "**png:** 2"
      ],
      "text/plain": [
       "png \n",
       "  2 "
      ]
     },
     "metadata": {},
     "output_type": "display_data"
    }
   ],
   "source": [
    "png(\"./tmax_only_polylat_compare_coefs_diff.png\", width=1440, height=950, res=180)\n",
    "y_limit = ylim(-5.5,5.5)\n",
    "simple_coefs = plot_model(simple_re, ci.lvl=NA,  show.values = TRUE, value.offset=.4) + y_limit + ggtitle(\"A) All MHWs\")\n",
    "intense_coefs = plot_model(simple_intense_re,show.values = TRUE, value.offset=.4, ci.lvl=NA)+ y_limit + theme(axis.text.y = element_blank()) + ggtitle(\"B) Intense MHWs\")\n",
    "grid.arrange(simple_coefs, intense_coefs, nrow=1, widths=c(2, 1) )\n",
    "dev.off()"
   ]
  },
  {
   "cell_type": "markdown",
   "metadata": {},
   "source": [
    "**Coefficients Table**"
   ]
  },
  {
   "cell_type": "code",
   "execution_count": 33,
   "metadata": {},
   "outputs": [],
   "source": [
    "tab_model(\n",
    "    simple_re, simple_intense_re,\n",
    "    show.stat=TRUE, use.viewer=FALSE, \n",
    "    dv.labels=c(\"Performance Difference [all events]\", \"Performance Difference [intense events]\"), \n",
    "    file = \"tmax_only_polylat_coef_compare_table.html\"\n",
    ")"
   ]
  },
  {
   "cell_type": "markdown",
   "metadata": {},
   "source": [
    "**Predictions, all MHW**"
   ]
  },
  {
   "cell_type": "code",
   "execution_count": 34,
   "metadata": {},
   "outputs": [
    {
     "name": "stderr",
     "output_type": "stream",
     "text": [
      "Scale for 'y' is already present. Adding another scale for 'y', which will\n",
      "replace the existing scale.\n",
      "Scale for 'y' is already present. Adding another scale for 'y', which will\n",
      "replace the existing scale.\n",
      "Warning message:\n",
      "“Removed 2 row(s) containing missing values (geom_path).”"
     ]
    },
    {
     "data": {
      "text/html": [
       "<strong>png:</strong> 2"
      ],
      "text/latex": [
       "\\textbf{png:} 2"
      ],
      "text/markdown": [
       "**png:** 2"
      ],
      "text/plain": [
       "png \n",
       "  2 "
      ]
     },
     "metadata": {},
     "output_type": "display_data"
    }
   ],
   "source": [
    "png(\"./tmax_only_polylat_preds_preddiff.png\", width=1440, height=700, res=180)\n",
    "\n",
    " y_limit = ylim(-1, 1)\n",
    "\n",
    "seas = plot(ggeffect(simple_re, terms='season')) + \n",
    "    baseline_hline + \n",
    "    xlab(\"Season\") +\n",
    "    ylab(\"Performance Difference\")  +\n",
    "    ggtitle(\"A) Season\") + \n",
    "    y_limit\n",
    "\n",
    "\n",
    "seaslat = plot(ggeffect(simple_re, terms=c('lat_scaled', 'season [summer, winter]'))) +\n",
    "    baseline_hline +\n",
    "    xlab(\"Latitude [scaled]\") +\n",
    "    ylab(\"Performance Difference\")  +\n",
    "    ggtitle(\"B) Latitude\") + \n",
    "    y_limit\n",
    "    \n",
    "\n",
    "grid.arrange(seas, seaslat, nrow=1, widths=c(1,1.3))\n",
    "dev.off()\n",
    "# seaslat"
   ]
  },
  {
   "cell_type": "markdown",
   "metadata": {},
   "source": [
    "**Predictions, Intense MHW**"
   ]
  },
  {
   "cell_type": "code",
   "execution_count": 35,
   "metadata": {},
   "outputs": [
    {
     "name": "stderr",
     "output_type": "stream",
     "text": [
      "Scale for 'y' is already present. Adding another scale for 'y', which will\n",
      "replace the existing scale.\n",
      "Scale for 'y' is already present. Adding another scale for 'y', which will\n",
      "replace the existing scale.\n",
      "Warning message:\n",
      "“Removed 5 row(s) containing missing values (geom_path).”"
     ]
    },
    {
     "data": {
      "text/html": [
       "<strong>png:</strong> 2"
      ],
      "text/latex": [
       "\\textbf{png:} 2"
      ],
      "text/markdown": [
       "**png:** 2"
      ],
      "text/plain": [
       "png \n",
       "  2 "
      ]
     },
     "metadata": {},
     "output_type": "display_data"
    }
   ],
   "source": [
    "png(\"./tmax_only_polylat_preds_intense_preddiff.png\", width=1440, height=700, res=180)\n",
    "\n",
    "seas = plot(ggeffect(simple_intense_re, terms='season')) + \n",
    "    baseline_hline + \n",
    "    xlab(\"Season\") +\n",
    "    ylab(\"Performance Difference\")  +\n",
    "    ggtitle(\"A) Season\") + \n",
    "    ylim(-0.5, 0.5) \n",
    "\n",
    "\n",
    "\n",
    "seaslat = plot(ggeffect(simple_intense_re, terms=c('lat_scaled', 'season [summer, winter]'))) +\n",
    "    baseline_hline +\n",
    "    xlab(\"Latitude [scaled]\") +\n",
    "    ylab(\"Performance Difference\")  +\n",
    "    ggtitle(\"B) Latitude\") + \n",
    "    ylim(-0.5, 0.5) \n",
    "\n",
    "    \n",
    "\n",
    "grid.arrange(seas, seaslat, nrow=1, widths=c(1,1.3)) \n",
    "dev.off()\n",
    "# seaslat"
   ]
  },
  {
   "cell_type": "markdown",
   "metadata": {},
   "source": [
    "## Individual Models per Season"
   ]
  },
  {
   "cell_type": "code",
   "execution_count": 497,
   "metadata": {},
   "outputs": [],
   "source": [
    "winter_only = mhwPerformance %>% filter(season == \"winter\")\n",
    "winter_re = lmer(performance_diff_mean ~ (abslat + sst_scaled)^2 + (1 | isolate), data=winter_only, )"
   ]
  },
  {
   "cell_type": "code",
   "execution_count": 498,
   "metadata": {},
   "outputs": [
    {
     "data": {
      "text/plain": [
       "Linear mixed model fit by REML. t-tests use Satterthwaite's method [\n",
       "lmerModLmerTest]\n",
       "Formula: performance_diff_mean ~ (abslat + sst_scaled)^2 + (1 | isolate)\n",
       "   Data: winter_only\n",
       "\n",
       "REML criterion at convergence: -3908.4\n",
       "\n",
       "Scaled residuals: \n",
       "    Min      1Q  Median      3Q     Max \n",
       "-5.8243 -0.3722  0.0080  0.3138  5.2430 \n",
       "\n",
       "Random effects:\n",
       " Groups   Name        Variance Std.Dev.\n",
       " isolate  (Intercept) 0.021913 0.14803 \n",
       " Residual             0.001287 0.03588 \n",
       "Number of obs: 1141, groups:  isolate, 75\n",
       "\n",
       "Fixed effects:\n",
       "                    Estimate Std. Error         df t value Pr(>|t|)    \n",
       "(Intercept)       -8.181e-04  4.816e-02  1.777e+02  -0.017 0.986466    \n",
       "abslat             5.187e-03  1.407e-03  1.697e+02   3.687 0.000306 ***\n",
       "sst_scaled        -4.865e-02  3.358e-02  3.815e+02  -1.449 0.148191    \n",
       "abslat:sst_scaled  2.736e-03  7.421e-04  1.272e+02   3.687 0.000335 ***\n",
       "---\n",
       "Signif. codes:  0 ‘***’ 0.001 ‘**’ 0.01 ‘*’ 0.05 ‘.’ 0.1 ‘ ’ 1\n",
       "\n",
       "Correlation of Fixed Effects:\n",
       "            (Intr) abslat sst_sc\n",
       "abslat      -0.904              \n",
       "sst_scaled  -0.481  0.303       \n",
       "abslt:sst_s  0.118  0.129 -0.814"
      ]
     },
     "metadata": {},
     "output_type": "display_data"
    }
   ],
   "source": [
    "summary(winter_re)"
   ]
  },
  {
   "cell_type": "code",
   "execution_count": 499,
   "metadata": {},
   "outputs": [
    {
     "data": {
      "text/plain": [
       "Linear mixed model fit by REML. t-tests use Satterthwaite's method [\n",
       "lmerModLmerTest]\n",
       "Formula: performance_diff_mean ~ (abslat + sst_scaled)^2 + (1 | isolate)\n",
       "   Data: summer_only\n",
       "\n",
       "REML criterion at convergence: -4375.4\n",
       "\n",
       "Scaled residuals: \n",
       "    Min      1Q  Median      3Q     Max \n",
       "-7.0612 -0.3711 -0.0288  0.3465  6.4595 \n",
       "\n",
       "Random effects:\n",
       " Groups   Name        Variance Std.Dev.\n",
       " isolate  (Intercept) 0.032416 0.18004 \n",
       " Residual             0.005367 0.07326 \n",
       "Number of obs: 2003, groups:  isolate, 75\n",
       "\n",
       "Fixed effects:\n",
       "                    Estimate Std. Error         df t value Pr(>|t|)   \n",
       "(Intercept)       -1.818e-01  5.825e-02  1.716e+02  -3.121  0.00212 **\n",
       "abslat             3.439e-03  1.692e-03  1.675e+02   2.033  0.04362 * \n",
       "sst_scaled         1.080e-01  4.239e-02  2.940e+02   2.548  0.01133 * \n",
       "abslat:sst_scaled -2.160e-03  9.399e-04  1.075e+02  -2.298  0.02349 * \n",
       "---\n",
       "Signif. codes:  0 ‘***’ 0.001 ‘**’ 0.01 ‘*’ 0.05 ‘.’ 0.1 ‘ ’ 1\n",
       "\n",
       "Correlation of Fixed Effects:\n",
       "            (Intr) abslat sst_sc\n",
       "abslat      -0.900              \n",
       "sst_scaled  -0.481  0.290       \n",
       "abslt:sst_s  0.150  0.108 -0.837"
      ]
     },
     "metadata": {},
     "output_type": "display_data"
    }
   ],
   "source": [
    "summer_only = mhwPerformance %>% filter(season == \"summer\")\n",
    "summer_re = lmer(performance_diff_mean ~ (abslat + sst_scaled)^2 + (1 | isolate), data=summer_only, )\n",
    "summary(summer_re)"
   ]
  },
  {
   "cell_type": "code",
   "execution_count": 500,
   "metadata": {},
   "outputs": [
    {
     "data": {
      "text/plain": [
       "Linear mixed model fit by REML. t-tests use Satterthwaite's method [\n",
       "lmerModLmerTest]\n",
       "Formula: performance_diff_mean ~ (abslat + sst_scaled)^2 + (1 | isolate)\n",
       "   Data: spring_only\n",
       "\n",
       "REML criterion at convergence: -2613.3\n",
       "\n",
       "Scaled residuals: \n",
       "    Min      1Q  Median      3Q     Max \n",
       "-7.3284 -0.2555  0.0049  0.2718  6.8615 \n",
       "\n",
       "Random effects:\n",
       " Groups   Name        Variance Std.Dev.\n",
       " isolate  (Intercept) 0.018823 0.1372  \n",
       " Residual             0.006773 0.0823  \n",
       "Number of obs: 1363, groups:  isolate, 75\n",
       "\n",
       "Fixed effects:\n",
       "                    Estimate Std. Error         df t value Pr(>|t|)  \n",
       "(Intercept)       -2.208e-02  6.034e-02  1.766e+02  -0.366   0.7149  \n",
       "abslat             3.918e-03  1.734e-03  1.652e+02   2.259   0.0252 *\n",
       "sst_scaled        -1.478e-02  4.590e-02  2.218e+02  -0.322   0.7478  \n",
       "abslat:sst_scaled  1.244e-03  7.886e-04  9.408e+01   1.577   0.1182  \n",
       "---\n",
       "Signif. codes:  0 ‘***’ 0.001 ‘**’ 0.01 ‘*’ 0.05 ‘.’ 0.1 ‘ ’ 1\n",
       "\n",
       "Correlation of Fixed Effects:\n",
       "            (Intr) abslat sst_sc\n",
       "abslat      -0.942              \n",
       "sst_scaled  -0.713  0.596       \n",
       "abslt:sst_s  0.284 -0.085 -0.778"
      ]
     },
     "metadata": {},
     "output_type": "display_data"
    }
   ],
   "source": [
    "spring_only = mhwPerformance %>% filter(season == \"spring\")\n",
    "spring_re = lmer(performance_diff_mean ~ (abslat + sst_scaled)^2 + (1 | isolate), data=spring_only, )\n",
    "summary(spring_re)"
   ]
  },
  {
   "cell_type": "code",
   "execution_count": 501,
   "metadata": {},
   "outputs": [
    {
     "data": {
      "text/plain": [
       "Linear mixed model fit by REML. t-tests use Satterthwaite's method [\n",
       "lmerModLmerTest]\n",
       "Formula: performance_diff_mean ~ (abslat + sst_scaled)^2 + (1 | isolate)\n",
       "   Data: fall_only\n",
       "\n",
       "REML criterion at convergence: -2220.3\n",
       "\n",
       "Scaled residuals: \n",
       "    Min      1Q  Median      3Q     Max \n",
       "-7.8919 -0.3296  0.0008  0.3554  5.4018 \n",
       "\n",
       "Random effects:\n",
       " Groups   Name        Variance Std.Dev.\n",
       " isolate  (Intercept) 0.016241 0.12744 \n",
       " Residual             0.002272 0.04767 \n",
       "Number of obs: 792, groups:  isolate, 75\n",
       "\n",
       "Fixed effects:\n",
       "                    Estimate Std. Error         df t value Pr(>|t|)  \n",
       "(Intercept)       -2.539e-02  5.468e-02  1.862e+02  -0.464   0.6430  \n",
       "abslat             3.258e-03  1.577e-03  1.740e+02   2.066   0.0403 *\n",
       "sst_scaled        -2.935e-02  4.141e-02  2.373e+02  -0.709   0.4792  \n",
       "abslat:sst_scaled  1.216e-03  7.236e-04  9.740e+01   1.680   0.0962 .\n",
       "---\n",
       "Signif. codes:  0 ‘***’ 0.001 ‘**’ 0.01 ‘*’ 0.05 ‘.’ 0.1 ‘ ’ 1\n",
       "\n",
       "Correlation of Fixed Effects:\n",
       "            (Intr) abslat sst_sc\n",
       "abslat      -0.940              \n",
       "sst_scaled  -0.701  0.580       \n",
       "abslt:sst_s  0.270 -0.068 -0.777"
      ]
     },
     "metadata": {},
     "output_type": "display_data"
    }
   ],
   "source": [
    "fall_only = mhwPerformance %>% filter(season == \"fall\")\n",
    "fall_re = lmer(performance_diff_mean ~ (abslat + sst_scaled)^2 + (1 | isolate), data=fall_only, )\n",
    "summary(fall_re)"
   ]
  },
  {
   "cell_type": "code",
   "execution_count": 502,
   "metadata": {},
   "outputs": [],
   "source": [
    "tab_model(\n",
    "    winter_re,\n",
    "    spring_re,\n",
    "    summer_re,\n",
    "    fall_re,  \n",
    "    show.stat=TRUE,\n",
    "    use.viewer=FALSE, \n",
    "    dv.labels=c(\"Winter Only\", \"Spring Only\", \"Summer Only\", \"Autumn Only\"), \n",
    "    file = \"compare_season_models.html\"\n",
    ")"
   ]
  },
  {
   "cell_type": "code",
   "execution_count": 2,
   "metadata": {},
   "outputs": [],
   "source": [
    "theme_black = function(base_size = 12, base_family = \"\") {\n",
    " \n",
    "  theme_grey(base_size = base_size, base_family = base_family) %+replace%\n",
    " \n",
    "    theme(\n",
    "      # Specify axis options\n",
    "      axis.line = element_blank(),  \n",
    "      axis.text.x = element_text(size = base_size*0.8, color = \"white\", lineheight = 0.9),  \n",
    "      axis.text.y = element_text(size = base_size*0.8, color = \"white\", lineheight = 0.9),  \n",
    "      axis.ticks = element_line(color = \"white\", size  =  0.2),  \n",
    "      axis.title.x = element_text(size = base_size, color = \"white\", margin = margin(0, 10, 0, 0)),  \n",
    "      axis.title.y = element_text(size = base_size, color = \"white\", angle = 90, margin = margin(0, 10, 0, 0)),  \n",
    "      axis.ticks.length = unit(0.3, \"lines\"),   \n",
    "      # Specify legend options\n",
    "      legend.background = element_rect(color = NA, fill = \"black\"),  \n",
    "      legend.key = element_rect(color = \"white\",  fill = \"black\"),  \n",
    "      legend.key.size = unit(1.2, \"lines\"),  \n",
    "      legend.key.height = NULL,  \n",
    "      legend.key.width = NULL,      \n",
    "      legend.text = element_text(size = base_size*0.8, color = \"white\"),  \n",
    "      legend.title = element_text(size = base_size*0.8, face = \"bold\", hjust = 0, color = \"white\"),  \n",
    "      legend.position = \"right\",  \n",
    "      legend.text.align = NULL,  \n",
    "      legend.title.align = NULL,  \n",
    "      legend.direction = \"vertical\",  \n",
    "      legend.box = NULL, \n",
    "      # Specify panel options\n",
    "      panel.background = element_rect(fill = \"black\", color  =  NA),  \n",
    "      panel.border = element_rect(fill = NA, color = \"white\"),  \n",
    "      panel.grid.major = element_line(color = \"grey35\"),  \n",
    "      panel.grid.minor = element_line(color = \"grey20\"),  \n",
    "      panel.margin = unit(0.5, \"lines\"),   \n",
    "      # Specify facetting options\n",
    "      strip.background = element_rect(fill = \"grey30\", color = \"grey10\"),  \n",
    "      strip.text.x = element_text(size = base_size*0.8, color = \"white\"),  \n",
    "      strip.text.y = element_text(size = base_size*0.8, color = \"white\",angle = -90),  \n",
    "      # Specify plot options\n",
    "      plot.background = element_rect(color = \"black\", fill = \"black\"),  \n",
    "      plot.title = element_text(size = base_size*1.2, color = \"white\"),  \n",
    "      plot.margin = unit(rep(1, 4), \"lines\")\n",
    " \n",
    "    )\n",
    " \n",
    "}\n",
    " "
   ]
  },
  {
   "cell_type": "code",
   "execution_count": null,
   "metadata": {},
   "outputs": [],
   "source": []
  }
 ],
 "metadata": {
  "kernelspec": {
   "display_name": "R [conda env:R]",
   "language": "R",
   "name": "conda-env-R-r"
  },
  "language_info": {
   "codemirror_mode": "r",
   "file_extension": ".r",
   "mimetype": "text/x-r-source",
   "name": "R",
   "pygments_lexer": "r",
   "version": "3.6.1"
  }
 },
 "nbformat": 4,
 "nbformat_minor": 4
}
