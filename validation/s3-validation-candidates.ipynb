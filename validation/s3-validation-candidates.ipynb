{
 "cells": [
  {
   "cell_type": "code",
   "execution_count": 6,
   "metadata": {},
   "outputs": [],
   "source": [
    "import sys\n",
    "import os\n",
    "from glob import glob\n",
    "sys.path.append(\"../../marineHeatWaves/\")\n",
    "sys.path.append(\"../analysis/physiology/\")\n",
    "\n",
    "import marineHeatWaves as mh\n",
    "\n",
    "from tpc import tpc\n",
    "\n",
    "import xarray as xr\n",
    "import numpy as np\n",
    "import zarr\n",
    "\n",
    "from shapely import geometry, wkt\n",
    "\n",
    "import sentinelsat\n",
    "import satpy\n",
    "from requests import auth, get\n",
    "from pyresample.geometry import AreaDefinition\n",
    "\n",
    "coda_auth = auth.HTTPBasicAuth('tonycan', os.environ['ss_pass'])\n",
    "\n",
    "api_url='https://coda.eumetsat.int/'\n",
    "\n",
    "import pandas as pd\n",
    "\n",
    "import tqdm\n",
    "\n",
    "from multiprocessing import Pool\n",
    "\n",
    "\n",
    "import rasterio as rio\n",
    "from rasterio.plot import show, plotting_extent\n",
    "from cartopy import crs as ccrs\n",
    "\n",
    "import seaborn as sns\n",
    "import matplotlib.pyplot as plt\n",
    "\n",
    "from functools import partial\n",
    "\n",
    "from dask.distributed import Client\n",
    "from dask import delayed\n",
    " \n",
    "from datetime import timedelta\n",
    "\n",
    "import cloudpickle\n",
    "\n",
    "import requests\n",
    "from requests.auth import HTTPBasicAuth\n",
    "\n",
    "auth = HTTPBasicAuth('tonycan', os.environ['ss_pass'])\n",
    "\n",
    "import gcsfs\n",
    "import s3fs \n",
    "import boto3\n",
    "\n",
    "GCP_PROJECT_ID = '170771369993'\n",
    "OISST_GCP = 'oisst/oisst.zarr'\n",
    "\n",
    "%matplotlib inline"
   ]
  },
  {
   "cell_type": "code",
   "execution_count": 8,
   "metadata": {},
   "outputs": [],
   "source": [
    "from functools import partial\n",
    "import pyproj\n",
    "from shapely.ops import transform\n",
    "\n",
    "project = partial(\n",
    "    pyproj.transform,\n",
    "    pyproj.Proj(init='epsg:4326'), # source coordinate system\n",
    "    pyproj.Proj(init='epsg:3857')) # destination coordinate system\n",
    "\n"
   ]
  },
  {
   "cell_type": "markdown",
   "metadata": {},
   "source": [
    "# Phytoplankton Isolate Candidates for S3 Validation\n",
    "\n",
    "Trying to determine here which are the *ideal* isolates to attempt to identify in Sentnel 3 OLCI imagery a signal of MHW impacts esimated via TPCs. \n",
    "\n",
    "Possible criteria:\n",
    "\n",
    "* During a MHW event\n",
    "* Significant measureable impact in performance due to MHW\n",
    "* Not close to coast? "
   ]
  },
  {
   "cell_type": "markdown",
   "metadata": {},
   "source": [
    "## Load SST + Plankton"
   ]
  },
  {
   "cell_type": "code",
   "execution_count": 9,
   "metadata": {},
   "outputs": [],
   "source": [
    "plankton = pd.read_csv(\"../data/Phytoplankton_temperature_growth_rate_dataset_2016_01_29/traits_derived_2016_01_29.csv\", engine='python')\n",
    "\n",
    "plankton = plankton[\n",
    "    (plankton.habitat == 'marine') & \n",
    "    (plankton.curvequal == 'good')\n",
    "]\n"
   ]
  },
  {
   "cell_type": "code",
   "execution_count": null,
   "metadata": {},
   "outputs": [],
   "source": []
  },
  {
   "cell_type": "markdown",
   "metadata": {},
   "source": [
    "plankton.head()"
   ]
  },
  {
   "cell_type": "code",
   "execution_count": 10,
   "metadata": {},
   "outputs": [],
   "source": [
    "fs = gcsfs.GCSFileSystem(project=GCP_PROJECT_ID, token=\"../gc-pangeo.json\")\n",
    "oisst = xr.open_zarr(fs.get_mapper(OISST_GCP))\n",
    "oisst = oisst.assign_coords(lon=(((oisst.lon + 180) % 360) - 180)).sortby('lon')"
   ]
  },
  {
   "cell_type": "code",
   "execution_count": 11,
   "metadata": {},
   "outputs": [],
   "source": [
    "isolate_performance_perf = xr.open_zarr(\"../data/isolate_mhw_performance.zarr/isolate_mhw_performance.zarr/\")"
   ]
  },
  {
   "cell_type": "markdown",
   "metadata": {},
   "source": [
    "## Identify MHW statistics for these Isolates. "
   ]
  },
  {
   "cell_type": "code",
   "execution_count": 12,
   "metadata": {},
   "outputs": [],
   "source": [
    "mhws_ddf = pd.read_csv(\"../analysis/isolate_performance_withnegative.csv\")"
   ]
  },
  {
   "cell_type": "code",
   "execution_count": 13,
   "metadata": {},
   "outputs": [],
   "source": [
    "mhws_ddf.peak_date = pd.to_datetime(mhws_ddf.peak_date)\n",
    "mhws_ddf.start_date = pd.to_datetime(mhws_ddf.start_date)"
   ]
  },
  {
   "cell_type": "code",
   "execution_count": 14,
   "metadata": {},
   "outputs": [
    {
     "data": {
      "text/html": [
       "<div>\n",
       "<style scoped>\n",
       "    .dataframe tbody tr th:only-of-type {\n",
       "        vertical-align: middle;\n",
       "    }\n",
       "\n",
       "    .dataframe tbody tr th {\n",
       "        vertical-align: top;\n",
       "    }\n",
       "\n",
       "    .dataframe thead th {\n",
       "        text-align: right;\n",
       "    }\n",
       "</style>\n",
       "<table border=\"1\" class=\"dataframe\">\n",
       "  <thead>\n",
       "    <tr style=\"text-align: right;\">\n",
       "      <th></th>\n",
       "      <th>Unnamed: 0</th>\n",
       "      <th>lat</th>\n",
       "      <th>lon</th>\n",
       "      <th>isolate</th>\n",
       "      <th>mhw</th>\n",
       "      <th>detriment_sum</th>\n",
       "      <th>relative_detriment_mean</th>\n",
       "      <th>detriment_mean</th>\n",
       "      <th>performance_diff_mean</th>\n",
       "      <th>performance_diff_unscaled_mean</th>\n",
       "      <th>...</th>\n",
       "      <th>intensity_mean</th>\n",
       "      <th>duration</th>\n",
       "      <th>start_doy</th>\n",
       "      <th>peak_doy</th>\n",
       "      <th>current_year_sst_mean</th>\n",
       "      <th>start_date</th>\n",
       "      <th>peak_date</th>\n",
       "      <th>perf_det_ratio</th>\n",
       "      <th>latbin</th>\n",
       "      <th>doy_bins</th>\n",
       "    </tr>\n",
       "  </thead>\n",
       "  <tbody>\n",
       "    <tr>\n",
       "      <th>0</th>\n",
       "      <td>0</td>\n",
       "      <td>-74.875</td>\n",
       "      <td>164.625</td>\n",
       "      <td>1</td>\n",
       "      <td>4.0</td>\n",
       "      <td>3.433027</td>\n",
       "      <td>1.303966</td>\n",
       "      <td>0.429128</td>\n",
       "      <td>0.237193</td>\n",
       "      <td>0.078059</td>\n",
       "      <td>...</td>\n",
       "      <td>1.297811</td>\n",
       "      <td>9.0</td>\n",
       "      <td>1</td>\n",
       "      <td>1</td>\n",
       "      <td>-1.202301</td>\n",
       "      <td>1986-12-31</td>\n",
       "      <td>1987-01-01</td>\n",
       "      <td>0.846135</td>\n",
       "      <td>(-75.026, -59.75]</td>\n",
       "      <td>(0.639, 91.25]</td>\n",
       "    </tr>\n",
       "    <tr>\n",
       "      <th>1</th>\n",
       "      <td>1</td>\n",
       "      <td>-74.875</td>\n",
       "      <td>164.625</td>\n",
       "      <td>1</td>\n",
       "      <td>5.0</td>\n",
       "      <td>6.265167</td>\n",
       "      <td>1.269172</td>\n",
       "      <td>0.417678</td>\n",
       "      <td>0.287250</td>\n",
       "      <td>0.094533</td>\n",
       "      <td>...</td>\n",
       "      <td>1.528319</td>\n",
       "      <td>16.0</td>\n",
       "      <td>21</td>\n",
       "      <td>32</td>\n",
       "      <td>-1.103370</td>\n",
       "      <td>1987-01-21</td>\n",
       "      <td>1987-02-01</td>\n",
       "      <td>0.815611</td>\n",
       "      <td>(-75.026, -59.75]</td>\n",
       "      <td>(0.639, 91.25]</td>\n",
       "    </tr>\n",
       "    <tr>\n",
       "      <th>2</th>\n",
       "      <td>2</td>\n",
       "      <td>-74.875</td>\n",
       "      <td>164.625</td>\n",
       "      <td>1</td>\n",
       "      <td>11.0</td>\n",
       "      <td>9.585366</td>\n",
       "      <td>1.713322</td>\n",
       "      <td>0.563845</td>\n",
       "      <td>0.035686</td>\n",
       "      <td>0.011744</td>\n",
       "      <td>...</td>\n",
       "      <td>0.187730</td>\n",
       "      <td>18.0</td>\n",
       "      <td>232</td>\n",
       "      <td>244</td>\n",
       "      <td>-1.168743</td>\n",
       "      <td>1988-08-19</td>\n",
       "      <td>1988-08-31</td>\n",
       "      <td>0.979598</td>\n",
       "      <td>(-75.026, -59.75]</td>\n",
       "      <td>(181.5, 271.75]</td>\n",
       "    </tr>\n",
       "    <tr>\n",
       "      <th>3</th>\n",
       "      <td>3</td>\n",
       "      <td>-74.875</td>\n",
       "      <td>164.625</td>\n",
       "      <td>1</td>\n",
       "      <td>14.0</td>\n",
       "      <td>10.139295</td>\n",
       "      <td>1.711648</td>\n",
       "      <td>0.563294</td>\n",
       "      <td>0.033256</td>\n",
       "      <td>0.010944</td>\n",
       "      <td>...</td>\n",
       "      <td>0.174102</td>\n",
       "      <td>19.0</td>\n",
       "      <td>196</td>\n",
       "      <td>201</td>\n",
       "      <td>-1.181397</td>\n",
       "      <td>1989-07-15</td>\n",
       "      <td>1989-07-20</td>\n",
       "      <td>0.980941</td>\n",
       "      <td>(-75.026, -59.75]</td>\n",
       "      <td>(181.5, 271.75]</td>\n",
       "    </tr>\n",
       "    <tr>\n",
       "      <th>4</th>\n",
       "      <td>4</td>\n",
       "      <td>-74.875</td>\n",
       "      <td>164.625</td>\n",
       "      <td>1</td>\n",
       "      <td>37.0</td>\n",
       "      <td>6.210158</td>\n",
       "      <td>1.715494</td>\n",
       "      <td>0.564560</td>\n",
       "      <td>0.029738</td>\n",
       "      <td>0.009786</td>\n",
       "      <td>...</td>\n",
       "      <td>0.156030</td>\n",
       "      <td>12.0</td>\n",
       "      <td>215</td>\n",
       "      <td>220</td>\n",
       "      <td>-1.219370</td>\n",
       "      <td>1995-08-03</td>\n",
       "      <td>1995-08-08</td>\n",
       "      <td>0.982961</td>\n",
       "      <td>(-75.026, -59.75]</td>\n",
       "      <td>(181.5, 271.75]</td>\n",
       "    </tr>\n",
       "    <tr>\n",
       "      <th>...</th>\n",
       "      <td>...</td>\n",
       "      <td>...</td>\n",
       "      <td>...</td>\n",
       "      <td>...</td>\n",
       "      <td>...</td>\n",
       "      <td>...</td>\n",
       "      <td>...</td>\n",
       "      <td>...</td>\n",
       "      <td>...</td>\n",
       "      <td>...</td>\n",
       "      <td>...</td>\n",
       "      <td>...</td>\n",
       "      <td>...</td>\n",
       "      <td>...</td>\n",
       "      <td>...</td>\n",
       "      <td>...</td>\n",
       "      <td>...</td>\n",
       "      <td>...</td>\n",
       "      <td>...</td>\n",
       "      <td>...</td>\n",
       "      <td>...</td>\n",
       "    </tr>\n",
       "    <tr>\n",
       "      <th>5294</th>\n",
       "      <td>5294</td>\n",
       "      <td>76.375</td>\n",
       "      <td>-74.625</td>\n",
       "      <td>363</td>\n",
       "      <td>11.0</td>\n",
       "      <td>2.483677</td>\n",
       "      <td>0.563590</td>\n",
       "      <td>0.310460</td>\n",
       "      <td>0.198593</td>\n",
       "      <td>0.109397</td>\n",
       "      <td>...</td>\n",
       "      <td>1.053314</td>\n",
       "      <td>9.0</td>\n",
       "      <td>116</td>\n",
       "      <td>118</td>\n",
       "      <td>-0.199863</td>\n",
       "      <td>1992-04-25</td>\n",
       "      <td>1992-04-27</td>\n",
       "      <td>0.739461</td>\n",
       "      <td>(61.25, 76.375]</td>\n",
       "      <td>(91.25, 181.5]</td>\n",
       "    </tr>\n",
       "    <tr>\n",
       "      <th>5295</th>\n",
       "      <td>5295</td>\n",
       "      <td>76.375</td>\n",
       "      <td>-74.625</td>\n",
       "      <td>363</td>\n",
       "      <td>15.0</td>\n",
       "      <td>1.662053</td>\n",
       "      <td>0.335243</td>\n",
       "      <td>0.184673</td>\n",
       "      <td>0.198167</td>\n",
       "      <td>0.109163</td>\n",
       "      <td>...</td>\n",
       "      <td>1.308253</td>\n",
       "      <td>10.0</td>\n",
       "      <td>155</td>\n",
       "      <td>160</td>\n",
       "      <td>-0.296657</td>\n",
       "      <td>1995-06-04</td>\n",
       "      <td>1995-06-09</td>\n",
       "      <td>0.626645</td>\n",
       "      <td>(61.25, 76.375]</td>\n",
       "      <td>(91.25, 181.5]</td>\n",
       "    </tr>\n",
       "    <tr>\n",
       "      <th>5296</th>\n",
       "      <td>5296</td>\n",
       "      <td>76.375</td>\n",
       "      <td>-74.625</td>\n",
       "      <td>363</td>\n",
       "      <td>19.0</td>\n",
       "      <td>2.032843</td>\n",
       "      <td>0.615050</td>\n",
       "      <td>0.338807</td>\n",
       "      <td>0.178253</td>\n",
       "      <td>0.098193</td>\n",
       "      <td>...</td>\n",
       "      <td>0.923265</td>\n",
       "      <td>7.0</td>\n",
       "      <td>4</td>\n",
       "      <td>6</td>\n",
       "      <td>-0.149151</td>\n",
       "      <td>1998-01-04</td>\n",
       "      <td>1998-01-06</td>\n",
       "      <td>0.775308</td>\n",
       "      <td>(61.25, 76.375]</td>\n",
       "      <td>(0.639, 91.25]</td>\n",
       "    </tr>\n",
       "    <tr>\n",
       "      <th>5297</th>\n",
       "      <td>5297</td>\n",
       "      <td>76.375</td>\n",
       "      <td>-74.625</td>\n",
       "      <td>363</td>\n",
       "      <td>31.0</td>\n",
       "      <td>3.801053</td>\n",
       "      <td>0.530785</td>\n",
       "      <td>0.292389</td>\n",
       "      <td>0.270357</td>\n",
       "      <td>0.148929</td>\n",
       "      <td>...</td>\n",
       "      <td>1.431376</td>\n",
       "      <td>14.0</td>\n",
       "      <td>11</td>\n",
       "      <td>15</td>\n",
       "      <td>0.271288</td>\n",
       "      <td>2003-01-11</td>\n",
       "      <td>2003-01-15</td>\n",
       "      <td>0.662397</td>\n",
       "      <td>(61.25, 76.375]</td>\n",
       "      <td>(0.639, 91.25]</td>\n",
       "    </tr>\n",
       "    <tr>\n",
       "      <th>5298</th>\n",
       "      <td>5298</td>\n",
       "      <td>76.375</td>\n",
       "      <td>-74.625</td>\n",
       "      <td>363</td>\n",
       "      <td>73.0</td>\n",
       "      <td>0.202382</td>\n",
       "      <td>0.045924</td>\n",
       "      <td>0.025298</td>\n",
       "      <td>0.163573</td>\n",
       "      <td>0.090106</td>\n",
       "      <td>...</td>\n",
       "      <td>2.164215</td>\n",
       "      <td>9.0</td>\n",
       "      <td>189</td>\n",
       "      <td>192</td>\n",
       "      <td>0.416055</td>\n",
       "      <td>2014-07-08</td>\n",
       "      <td>2014-07-11</td>\n",
       "      <td>0.216182</td>\n",
       "      <td>(61.25, 76.375]</td>\n",
       "      <td>(181.5, 271.75]</td>\n",
       "    </tr>\n",
       "  </tbody>\n",
       "</table>\n",
       "<p>5299 rows × 22 columns</p>\n",
       "</div>"
      ],
      "text/plain": [
       "      Unnamed: 0     lat      lon  isolate   mhw  detriment_sum  \\\n",
       "0              0 -74.875  164.625        1   4.0       3.433027   \n",
       "1              1 -74.875  164.625        1   5.0       6.265167   \n",
       "2              2 -74.875  164.625        1  11.0       9.585366   \n",
       "3              3 -74.875  164.625        1  14.0      10.139295   \n",
       "4              4 -74.875  164.625        1  37.0       6.210158   \n",
       "...          ...     ...      ...      ...   ...            ...   \n",
       "5294        5294  76.375  -74.625      363  11.0       2.483677   \n",
       "5295        5295  76.375  -74.625      363  15.0       1.662053   \n",
       "5296        5296  76.375  -74.625      363  19.0       2.032843   \n",
       "5297        5297  76.375  -74.625      363  31.0       3.801053   \n",
       "5298        5298  76.375  -74.625      363  73.0       0.202382   \n",
       "\n",
       "      relative_detriment_mean  detriment_mean  performance_diff_mean  \\\n",
       "0                    1.303966        0.429128               0.237193   \n",
       "1                    1.269172        0.417678               0.287250   \n",
       "2                    1.713322        0.563845               0.035686   \n",
       "3                    1.711648        0.563294               0.033256   \n",
       "4                    1.715494        0.564560               0.029738   \n",
       "...                       ...             ...                    ...   \n",
       "5294                 0.563590        0.310460               0.198593   \n",
       "5295                 0.335243        0.184673               0.198167   \n",
       "5296                 0.615050        0.338807               0.178253   \n",
       "5297                 0.530785        0.292389               0.270357   \n",
       "5298                 0.045924        0.025298               0.163573   \n",
       "\n",
       "      performance_diff_unscaled_mean  ...  intensity_mean  duration  \\\n",
       "0                           0.078059  ...        1.297811       9.0   \n",
       "1                           0.094533  ...        1.528319      16.0   \n",
       "2                           0.011744  ...        0.187730      18.0   \n",
       "3                           0.010944  ...        0.174102      19.0   \n",
       "4                           0.009786  ...        0.156030      12.0   \n",
       "...                              ...  ...             ...       ...   \n",
       "5294                        0.109397  ...        1.053314       9.0   \n",
       "5295                        0.109163  ...        1.308253      10.0   \n",
       "5296                        0.098193  ...        0.923265       7.0   \n",
       "5297                        0.148929  ...        1.431376      14.0   \n",
       "5298                        0.090106  ...        2.164215       9.0   \n",
       "\n",
       "      start_doy  peak_doy  current_year_sst_mean  start_date  peak_date  \\\n",
       "0             1         1              -1.202301  1986-12-31 1987-01-01   \n",
       "1            21        32              -1.103370  1987-01-21 1987-02-01   \n",
       "2           232       244              -1.168743  1988-08-19 1988-08-31   \n",
       "3           196       201              -1.181397  1989-07-15 1989-07-20   \n",
       "4           215       220              -1.219370  1995-08-03 1995-08-08   \n",
       "...         ...       ...                    ...         ...        ...   \n",
       "5294        116       118              -0.199863  1992-04-25 1992-04-27   \n",
       "5295        155       160              -0.296657  1995-06-04 1995-06-09   \n",
       "5296          4         6              -0.149151  1998-01-04 1998-01-06   \n",
       "5297         11        15               0.271288  2003-01-11 2003-01-15   \n",
       "5298        189       192               0.416055  2014-07-08 2014-07-11   \n",
       "\n",
       "     perf_det_ratio             latbin         doy_bins  \n",
       "0          0.846135  (-75.026, -59.75]   (0.639, 91.25]  \n",
       "1          0.815611  (-75.026, -59.75]   (0.639, 91.25]  \n",
       "2          0.979598  (-75.026, -59.75]  (181.5, 271.75]  \n",
       "3          0.980941  (-75.026, -59.75]  (181.5, 271.75]  \n",
       "4          0.982961  (-75.026, -59.75]  (181.5, 271.75]  \n",
       "...             ...                ...              ...  \n",
       "5294       0.739461    (61.25, 76.375]   (91.25, 181.5]  \n",
       "5295       0.626645    (61.25, 76.375]   (91.25, 181.5]  \n",
       "5296       0.775308    (61.25, 76.375]   (0.639, 91.25]  \n",
       "5297       0.662397    (61.25, 76.375]   (0.639, 91.25]  \n",
       "5298       0.216182    (61.25, 76.375]  (181.5, 271.75]  \n",
       "\n",
       "[5299 rows x 22 columns]"
      ]
     },
     "execution_count": 14,
     "metadata": {},
     "output_type": "execute_result"
    }
   ],
   "source": [
    "mhws_ddf"
   ]
  },
  {
   "cell_type": "markdown",
   "metadata": {},
   "source": [
    "# Focus on NE Pacific?"
   ]
  },
  {
   "cell_type": "code",
   "execution_count": 15,
   "metadata": {},
   "outputs": [],
   "source": [
    "nepac = plankton[\n",
    "    (plankton['isolation.latitude'].between(40, 80)) &\n",
    "    (plankton['isolation.longitude'].between(-180, -100))\n",
    "]\n",
    "nepac_isolate = nepac.iloc[0]"
   ]
  },
  {
   "cell_type": "code",
   "execution_count": 16,
   "metadata": {},
   "outputs": [
    {
     "data": {
      "text/plain": [
       "isolate.code                                             240\n",
       "source                                     Northeast Pacific\n",
       "isolation.latitude                                        45\n",
       "isolation.longitude                                     -145\n",
       "habitat                                               marine\n",
       "name                                 Pseudo-nitzschia granii\n",
       "speciesname                          Pseudo-nitzschia granii\n",
       "former.name.1                                            NaN\n",
       "former.name.2                                            NaN\n",
       "strain                                                   NaN\n",
       "clone                                                    NaN\n",
       "species                                               granii\n",
       "genus                                       Pseudo-nitzschia\n",
       "family                                        Bacillariaceae\n",
       "order                                          Bacillariales\n",
       "class                                      Bacillariophyceae\n",
       "phylum                                            Ochrophyta\n",
       "kingdom                                            Chromista\n",
       "domain                                             Eukaryota\n",
       "comment                                                  NaN\n",
       "group                                                diatoms\n",
       "mu.rsqrlist                                         0.868516\n",
       "mu.wlist                                             19.7595\n",
       "mu.alist                                            0.898999\n",
       "mu.blist                                           0.0019933\n",
       "mu.slist                                           0.0535942\n",
       "mu.c.opt.list                                        13.6323\n",
       "mu.c.opt.val.list                                   0.923763\n",
       "mu.g.opt.list                                        13.7308\n",
       "mu.g.opt.val.list                                   0.923853\n",
       "mu.n                                                      10\n",
       "emp.max.growth                                         0.949\n",
       "tmin                                                 3.75254\n",
       "tmax                                                  23.512\n",
       "minqual                                                 good\n",
       "maxqual                                                 good\n",
       "curvequal                                               good\n",
       "abs.curveskew                                       -4.14183\n",
       "rel.curveskew                                   -0.000536863\n",
       "used.for.optimum.analysis                                  1\n",
       "used.for.tmax.analysis                                     1\n",
       "used.for.tmin.analysis                                     1\n",
       "used.for.niche.width.analysis                              1\n",
       "used.for.max.growth.rate.analysis                          1\n",
       "Name: 169, dtype: object"
      ]
     },
     "execution_count": 16,
     "metadata": {},
     "output_type": "execute_result"
    }
   ],
   "source": [
    "nepac_isolate"
   ]
  },
  {
   "cell_type": "markdown",
   "metadata": {},
   "source": [
    "What are the MHWs during the S3 record?"
   ]
  },
  {
   "cell_type": "code",
   "execution_count": 17,
   "metadata": {},
   "outputs": [
    {
     "data": {
      "text/html": [
       "<div>\n",
       "<style scoped>\n",
       "    .dataframe tbody tr th:only-of-type {\n",
       "        vertical-align: middle;\n",
       "    }\n",
       "\n",
       "    .dataframe tbody tr th {\n",
       "        vertical-align: top;\n",
       "    }\n",
       "\n",
       "    .dataframe thead th {\n",
       "        text-align: right;\n",
       "    }\n",
       "</style>\n",
       "<table border=\"1\" class=\"dataframe\">\n",
       "  <thead>\n",
       "    <tr style=\"text-align: right;\">\n",
       "      <th></th>\n",
       "      <th>Unnamed: 0</th>\n",
       "      <th>lat</th>\n",
       "      <th>lon</th>\n",
       "      <th>isolate</th>\n",
       "      <th>mhw</th>\n",
       "      <th>detriment_sum</th>\n",
       "      <th>relative_detriment_mean</th>\n",
       "      <th>detriment_mean</th>\n",
       "      <th>performance_diff_mean</th>\n",
       "      <th>performance_diff_unscaled_mean</th>\n",
       "      <th>...</th>\n",
       "      <th>intensity_mean</th>\n",
       "      <th>duration</th>\n",
       "      <th>start_doy</th>\n",
       "      <th>peak_doy</th>\n",
       "      <th>current_year_sst_mean</th>\n",
       "      <th>start_date</th>\n",
       "      <th>peak_date</th>\n",
       "      <th>perf_det_ratio</th>\n",
       "      <th>latbin</th>\n",
       "      <th>doy_bins</th>\n",
       "    </tr>\n",
       "  </thead>\n",
       "  <tbody>\n",
       "    <tr>\n",
       "      <th>4200</th>\n",
       "      <td>4200</td>\n",
       "      <td>45.125</td>\n",
       "      <td>-144.875</td>\n",
       "      <td>240</td>\n",
       "      <td>52.0</td>\n",
       "      <td>0.613273</td>\n",
       "      <td>0.110637</td>\n",
       "      <td>0.102212</td>\n",
       "      <td>0.145085</td>\n",
       "      <td>0.134037</td>\n",
       "      <td>...</td>\n",
       "      <td>1.731433</td>\n",
       "      <td>7.0</td>\n",
       "      <td>125</td>\n",
       "      <td>127</td>\n",
       "      <td>12.044685</td>\n",
       "      <td>2018-05-05</td>\n",
       "      <td>2018-05-07</td>\n",
       "      <td>0.432335</td>\n",
       "      <td>(31.0, 46.125]</td>\n",
       "      <td>(91.25, 181.5]</td>\n",
       "    </tr>\n",
       "    <tr>\n",
       "      <th>1353</th>\n",
       "      <td>1353</td>\n",
       "      <td>45.125</td>\n",
       "      <td>-144.875</td>\n",
       "      <td>240</td>\n",
       "      <td>55.0</td>\n",
       "      <td>0.086586</td>\n",
       "      <td>0.003471</td>\n",
       "      <td>0.003207</td>\n",
       "      <td>0.039455</td>\n",
       "      <td>0.036450</td>\n",
       "      <td>...</td>\n",
       "      <td>2.045781</td>\n",
       "      <td>28.0</td>\n",
       "      <td>306</td>\n",
       "      <td>319</td>\n",
       "      <td>12.044685</td>\n",
       "      <td>2018-11-02</td>\n",
       "      <td>2018-11-15</td>\n",
       "      <td>0.159336</td>\n",
       "      <td>(31.0, 46.125]</td>\n",
       "      <td>(271.75, 362.0]</td>\n",
       "    </tr>\n",
       "    <tr>\n",
       "      <th>4465</th>\n",
       "      <td>4465</td>\n",
       "      <td>45.125</td>\n",
       "      <td>-144.875</td>\n",
       "      <td>240</td>\n",
       "      <td>49.0</td>\n",
       "      <td>0.176060</td>\n",
       "      <td>0.047643</td>\n",
       "      <td>0.044015</td>\n",
       "      <td>-0.047240</td>\n",
       "      <td>-0.043643</td>\n",
       "      <td>...</td>\n",
       "      <td>2.239909</td>\n",
       "      <td>5.0</td>\n",
       "      <td>198</td>\n",
       "      <td>198</td>\n",
       "      <td>11.667212</td>\n",
       "      <td>2016-07-16</td>\n",
       "      <td>2016-07-16</td>\n",
       "      <td>45186.618943</td>\n",
       "      <td>(31.0, 46.125]</td>\n",
       "      <td>(181.5, 271.75]</td>\n",
       "    </tr>\n",
       "    <tr>\n",
       "      <th>4201</th>\n",
       "      <td>4201</td>\n",
       "      <td>45.125</td>\n",
       "      <td>-144.875</td>\n",
       "      <td>240</td>\n",
       "      <td>54.0</td>\n",
       "      <td>0.932968</td>\n",
       "      <td>0.067324</td>\n",
       "      <td>0.062198</td>\n",
       "      <td>-0.064333</td>\n",
       "      <td>-0.059434</td>\n",
       "      <td>...</td>\n",
       "      <td>2.088545</td>\n",
       "      <td>16.0</td>\n",
       "      <td>284</td>\n",
       "      <td>293</td>\n",
       "      <td>12.044685</td>\n",
       "      <td>2018-10-11</td>\n",
       "      <td>2018-10-20</td>\n",
       "      <td>98467.313719</td>\n",
       "      <td>(31.0, 46.125]</td>\n",
       "      <td>(271.75, 362.0]</td>\n",
       "    </tr>\n",
       "    <tr>\n",
       "      <th>1638</th>\n",
       "      <td>1638</td>\n",
       "      <td>45.125</td>\n",
       "      <td>-144.875</td>\n",
       "      <td>240</td>\n",
       "      <td>53.0</td>\n",
       "      <td>1.978868</td>\n",
       "      <td>0.125998</td>\n",
       "      <td>0.116404</td>\n",
       "      <td>-0.118718</td>\n",
       "      <td>-0.109678</td>\n",
       "      <td>...</td>\n",
       "      <td>2.732947</td>\n",
       "      <td>18.0</td>\n",
       "      <td>199</td>\n",
       "      <td>213</td>\n",
       "      <td>12.044685</td>\n",
       "      <td>2018-07-18</td>\n",
       "      <td>2018-08-01</td>\n",
       "      <td>17609.652831</td>\n",
       "      <td>(31.0, 46.125]</td>\n",
       "      <td>(181.5, 271.75]</td>\n",
       "    </tr>\n",
       "    <tr>\n",
       "      <th>2431</th>\n",
       "      <td>2431</td>\n",
       "      <td>45.125</td>\n",
       "      <td>-144.875</td>\n",
       "      <td>240</td>\n",
       "      <td>51.0</td>\n",
       "      <td>8.307739</td>\n",
       "      <td>0.236645</td>\n",
       "      <td>0.218625</td>\n",
       "      <td>-0.195401</td>\n",
       "      <td>-0.180522</td>\n",
       "      <td>...</td>\n",
       "      <td>2.722091</td>\n",
       "      <td>39.0</td>\n",
       "      <td>249</td>\n",
       "      <td>259</td>\n",
       "      <td>11.667212</td>\n",
       "      <td>2016-09-05</td>\n",
       "      <td>2016-09-15</td>\n",
       "      <td>6.400178</td>\n",
       "      <td>(31.0, 46.125]</td>\n",
       "      <td>(181.5, 271.75]</td>\n",
       "    </tr>\n",
       "    <tr>\n",
       "      <th>2685</th>\n",
       "      <td>2685</td>\n",
       "      <td>45.125</td>\n",
       "      <td>-144.875</td>\n",
       "      <td>240</td>\n",
       "      <td>50.0</td>\n",
       "      <td>6.047693</td>\n",
       "      <td>0.297553</td>\n",
       "      <td>0.274895</td>\n",
       "      <td>-0.240977</td>\n",
       "      <td>-0.222627</td>\n",
       "      <td>...</td>\n",
       "      <td>2.950525</td>\n",
       "      <td>23.0</td>\n",
       "      <td>223</td>\n",
       "      <td>234</td>\n",
       "      <td>11.667212</td>\n",
       "      <td>2016-08-10</td>\n",
       "      <td>2016-08-21</td>\n",
       "      <td>5.241702</td>\n",
       "      <td>(31.0, 46.125]</td>\n",
       "      <td>(181.5, 271.75]</td>\n",
       "    </tr>\n",
       "  </tbody>\n",
       "</table>\n",
       "<p>7 rows × 22 columns</p>\n",
       "</div>"
      ],
      "text/plain": [
       "      Unnamed: 0     lat      lon  isolate   mhw  detriment_sum  \\\n",
       "4200        4200  45.125 -144.875      240  52.0       0.613273   \n",
       "1353        1353  45.125 -144.875      240  55.0       0.086586   \n",
       "4465        4465  45.125 -144.875      240  49.0       0.176060   \n",
       "4201        4201  45.125 -144.875      240  54.0       0.932968   \n",
       "1638        1638  45.125 -144.875      240  53.0       1.978868   \n",
       "2431        2431  45.125 -144.875      240  51.0       8.307739   \n",
       "2685        2685  45.125 -144.875      240  50.0       6.047693   \n",
       "\n",
       "      relative_detriment_mean  detriment_mean  performance_diff_mean  \\\n",
       "4200                 0.110637        0.102212               0.145085   \n",
       "1353                 0.003471        0.003207               0.039455   \n",
       "4465                 0.047643        0.044015              -0.047240   \n",
       "4201                 0.067324        0.062198              -0.064333   \n",
       "1638                 0.125998        0.116404              -0.118718   \n",
       "2431                 0.236645        0.218625              -0.195401   \n",
       "2685                 0.297553        0.274895              -0.240977   \n",
       "\n",
       "      performance_diff_unscaled_mean  ...  intensity_mean  duration  \\\n",
       "4200                        0.134037  ...        1.731433       7.0   \n",
       "1353                        0.036450  ...        2.045781      28.0   \n",
       "4465                       -0.043643  ...        2.239909       5.0   \n",
       "4201                       -0.059434  ...        2.088545      16.0   \n",
       "1638                       -0.109678  ...        2.732947      18.0   \n",
       "2431                       -0.180522  ...        2.722091      39.0   \n",
       "2685                       -0.222627  ...        2.950525      23.0   \n",
       "\n",
       "      start_doy  peak_doy  current_year_sst_mean  start_date  peak_date  \\\n",
       "4200        125       127              12.044685  2018-05-05 2018-05-07   \n",
       "1353        306       319              12.044685  2018-11-02 2018-11-15   \n",
       "4465        198       198              11.667212  2016-07-16 2016-07-16   \n",
       "4201        284       293              12.044685  2018-10-11 2018-10-20   \n",
       "1638        199       213              12.044685  2018-07-18 2018-08-01   \n",
       "2431        249       259              11.667212  2016-09-05 2016-09-15   \n",
       "2685        223       234              11.667212  2016-08-10 2016-08-21   \n",
       "\n",
       "     perf_det_ratio          latbin         doy_bins  \n",
       "4200       0.432335  (31.0, 46.125]   (91.25, 181.5]  \n",
       "1353       0.159336  (31.0, 46.125]  (271.75, 362.0]  \n",
       "4465   45186.618943  (31.0, 46.125]  (181.5, 271.75]  \n",
       "4201   98467.313719  (31.0, 46.125]  (271.75, 362.0]  \n",
       "1638   17609.652831  (31.0, 46.125]  (181.5, 271.75]  \n",
       "2431       6.400178  (31.0, 46.125]  (181.5, 271.75]  \n",
       "2685       5.241702  (31.0, 46.125]  (181.5, 271.75]  \n",
       "\n",
       "[7 rows x 22 columns]"
      ]
     },
     "execution_count": 17,
     "metadata": {},
     "output_type": "execute_result"
    }
   ],
   "source": [
    "isolate_mhws = mhws_ddf[\n",
    "    (mhws_ddf.isolate == nepac_isolate['isolate.code']) & \n",
    "    (mhws_ddf.start_date >= '2016')\n",
    "].sort_values('performance_diff_mean', ascending=False)\n",
    "isolate_mhws"
   ]
  },
  {
   "cell_type": "markdown",
   "metadata": {},
   "source": [
    "Seems like a good idea to test both a MHW with negative and positive performance, but my hunch says we'll see a signal more strongly with a positive effect (perhaps because it's conflated though). \n",
    "\n",
    "Either way will start there with that top event (`4200`)\n",
    "\n"
   ]
  },
  {
   "cell_type": "code",
   "execution_count": 18,
   "metadata": {},
   "outputs": [],
   "source": [
    "selected_mhw = isolate_mhws.loc[2431]"
   ]
  },
  {
   "cell_type": "code",
   "execution_count": 19,
   "metadata": {},
   "outputs": [
    {
     "data": {
      "text/plain": [
       "Unnamed: 0                                       2431\n",
       "lat                                            45.125\n",
       "lon                                          -144.875\n",
       "isolate                                           240\n",
       "mhw                                                51\n",
       "detriment_sum                                 8.30774\n",
       "relative_detriment_mean                      0.236645\n",
       "detriment_mean                               0.218625\n",
       "performance_diff_mean                       -0.195401\n",
       "performance_diff_unscaled_mean              -0.180522\n",
       "performance_ratio_mean                       0.794739\n",
       "intensity_cumulative                          106.162\n",
       "intensity_mean                                2.72209\n",
       "duration                                           39\n",
       "start_doy                                         249\n",
       "peak_doy                                          259\n",
       "current_year_sst_mean                         11.6672\n",
       "start_date                        2016-09-05 00:00:00\n",
       "peak_date                         2016-09-15 00:00:00\n",
       "perf_det_ratio                                6.40018\n",
       "latbin                                 (31.0, 46.125]\n",
       "doy_bins                              (181.5, 271.75]\n",
       "Name: 2431, dtype: object"
      ]
     },
     "execution_count": 19,
     "metadata": {},
     "output_type": "execute_result"
    }
   ],
   "source": [
    "selected_mhw"
   ]
  },
  {
   "cell_type": "code",
   "execution_count": 20,
   "metadata": {},
   "outputs": [],
   "source": [
    "s3_api = sentinelsat.SentinelAPI('tonycan', os.environ['ss_pass'], api_url = 'https://codarep.eumetsat.int/')"
   ]
  },
  {
   "cell_type": "code",
   "execution_count": 21,
   "metadata": {},
   "outputs": [],
   "source": [
    "isolate_mhw_wkt = wkt.dumps(\n",
    "    geometry.Polygon.from_bounds(\n",
    "        *geometry.Point([\n",
    "            selected_mhw.lon,\n",
    "            selected_mhw.lat\n",
    "        ]).buffer(0.5).bounds\n",
    "    )\n",
    ")"
   ]
  },
  {
   "cell_type": "code",
   "execution_count": 22,
   "metadata": {},
   "outputs": [
    {
     "data": {
      "text/plain": [
       "'POLYGON ((-145.3750000000000000 44.6250000000000000, -145.3750000000000000 45.6250000000000000, -144.3750000000000000 45.6250000000000000, -144.3750000000000000 44.6250000000000000, -145.3750000000000000 44.6250000000000000))'"
      ]
     },
     "execution_count": 22,
     "metadata": {},
     "output_type": "execute_result"
    }
   ],
   "source": [
    "isolate_mhw_wkt"
   ]
  },
  {
   "cell_type": "code",
   "execution_count": 23,
   "metadata": {},
   "outputs": [
    {
     "data": {
      "text/plain": [
       "(Timestamp('2016-09-05 00:00:00'), Timestamp('2016-09-15 00:00:00'))"
      ]
     },
     "execution_count": 23,
     "metadata": {},
     "output_type": "execute_result"
    }
   ],
   "source": [
    "selected_mhw.start_date, selected_mhw.peak_date"
   ]
  },
  {
   "cell_type": "code",
   "execution_count": 24,
   "metadata": {},
   "outputs": [],
   "source": [
    "s3_query = s3_api.query(\n",
    "    area=isolate_mhw_wkt,\n",
    "    producttype='OL_2_WFR___',\n",
    "#     date=(\"20180505\", \"20180531\")\n",
    "#     date = (isolate_mhws.start_date.min() - timedelta(days=10) , isolate_mhws.start_date.max() + timedelta( days=10)) \n",
    "    date = (selected_mhw.start_date - timedelta(days=selected_mhw.duration), selected_mhw.peak_date + timedelta(days=selected_mhw.duration))\n",
    ")"
   ]
  },
  {
   "cell_type": "code",
   "execution_count": 25,
   "metadata": {},
   "outputs": [],
   "source": [
    "s3_result = s3_api.to_geodataframe(s3_query)"
   ]
  },
  {
   "cell_type": "code",
   "execution_count": 26,
   "metadata": {},
   "outputs": [
    {
     "data": {
      "text/html": [
       "<div>\n",
       "<style scoped>\n",
       "    .dataframe tbody tr th:only-of-type {\n",
       "        vertical-align: middle;\n",
       "    }\n",
       "\n",
       "    .dataframe tbody tr th {\n",
       "        vertical-align: top;\n",
       "    }\n",
       "\n",
       "    .dataframe thead th {\n",
       "        text-align: right;\n",
       "    }\n",
       "</style>\n",
       "<table border=\"1\" class=\"dataframe\">\n",
       "  <thead>\n",
       "    <tr style=\"text-align: right;\">\n",
       "      <th></th>\n",
       "      <th>summary</th>\n",
       "      <th>ecmwf</th>\n",
       "      <th>productlevel</th>\n",
       "      <th>platformname</th>\n",
       "      <th>platformidentifier</th>\n",
       "      <th>format</th>\n",
       "      <th>filename</th>\n",
       "      <th>instrumentname</th>\n",
       "      <th>instrumentshortname</th>\n",
       "      <th>sensoroperationalmode</th>\n",
       "      <th>...</th>\n",
       "      <th>link_icon</th>\n",
       "      <th>title</th>\n",
       "      <th>salinewatercoverpercentage</th>\n",
       "      <th>coastalcoverpercentage</th>\n",
       "      <th>tidalregioncoverpercentage</th>\n",
       "      <th>freshwatercoverpercentage</th>\n",
       "      <th>orbitnumber</th>\n",
       "      <th>relativeorbitnumber</th>\n",
       "      <th>cyclenumber</th>\n",
       "      <th>geometry</th>\n",
       "    </tr>\n",
       "  </thead>\n",
       "  <tbody>\n",
       "    <tr>\n",
       "      <th>2bc7896a-f173-4c22-95b2-d6363faafe01</th>\n",
       "      <td>Date: 2016-10-23T20:19:32.037Z, Instrument: OL...</td>\n",
       "      <td>ANALYSIS</td>\n",
       "      <td>L2</td>\n",
       "      <td>Sentinel-3</td>\n",
       "      <td>2016-011A</td>\n",
       "      <td>SAFE</td>\n",
       "      <td>S3A_OL_2_WFR____20161023T201932_20161023T20213...</td>\n",
       "      <td>Ocean Land Colour Instrument</td>\n",
       "      <td>OLCI</td>\n",
       "      <td>Earth Observation</td>\n",
       "      <td>...</td>\n",
       "      <td>http://codarep.eumetsat.int/odata/v1/Products(...</td>\n",
       "      <td>S3A_OL_2_WFR____20161023T201932_20161023T20213...</td>\n",
       "      <td>100.0</td>\n",
       "      <td>0.0</td>\n",
       "      <td>0.0</td>\n",
       "      <td>0.0</td>\n",
       "      <td>3566</td>\n",
       "      <td>128</td>\n",
       "      <td>10</td>\n",
       "      <td>POLYGON ((-158.30700 49.88680, -158.38500 49.3...</td>\n",
       "    </tr>\n",
       "    <tr>\n",
       "      <th>20498d03-5d4d-43e6-8cf9-5435746df013</th>\n",
       "      <td>Date: 2016-10-21T19:30:40.903Z, Instrument: OL...</td>\n",
       "      <td>ANALYSIS</td>\n",
       "      <td>L2</td>\n",
       "      <td>Sentinel-3</td>\n",
       "      <td>2016-011A</td>\n",
       "      <td>SAFE</td>\n",
       "      <td>S3A_OL_2_WFR____20161021T193041_20161021T19324...</td>\n",
       "      <td>Ocean Land Colour Instrument</td>\n",
       "      <td>OLCI</td>\n",
       "      <td>Earth Observation</td>\n",
       "      <td>...</td>\n",
       "      <td>http://codarep.eumetsat.int/odata/v1/Products(...</td>\n",
       "      <td>S3A_OL_2_WFR____20161021T193041_20161021T19324...</td>\n",
       "      <td>100.0</td>\n",
       "      <td>0.0</td>\n",
       "      <td>0.0</td>\n",
       "      <td>0.0</td>\n",
       "      <td>3537</td>\n",
       "      <td>99</td>\n",
       "      <td>10</td>\n",
       "      <td>POLYGON ((-146.03000 50.70540, -146.10700 50.1...</td>\n",
       "    </tr>\n",
       "    <tr>\n",
       "      <th>82b615c4-520c-4152-a7e3-f9fb91b10107</th>\n",
       "      <td>Date: 2016-10-20T19:56:46.056Z, Instrument: OL...</td>\n",
       "      <td>ANALYSIS</td>\n",
       "      <td>L2</td>\n",
       "      <td>Sentinel-3</td>\n",
       "      <td>2016-011A</td>\n",
       "      <td>SAFE</td>\n",
       "      <td>S3A_OL_2_WFR____20161020T195646_20161020T19584...</td>\n",
       "      <td>Ocean Land Colour Instrument</td>\n",
       "      <td>OLCI</td>\n",
       "      <td>Earth Observation</td>\n",
       "      <td>...</td>\n",
       "      <td>http://codarep.eumetsat.int/odata/v1/Products(...</td>\n",
       "      <td>S3A_OL_2_WFR____20161020T195646_20161020T19584...</td>\n",
       "      <td>100.0</td>\n",
       "      <td>0.0</td>\n",
       "      <td>0.0</td>\n",
       "      <td>0.0</td>\n",
       "      <td>3523</td>\n",
       "      <td>85</td>\n",
       "      <td>10</td>\n",
       "      <td>POLYGON ((-152.52200 51.04950, -152.60000 50.5...</td>\n",
       "    </tr>\n",
       "    <tr>\n",
       "      <th>b13723dd-bc37-4fd9-8f3b-e3ca9cc1450a</th>\n",
       "      <td>Date: 2016-10-19T20:22:49.977Z, Instrument: OL...</td>\n",
       "      <td>ANALYSIS</td>\n",
       "      <td>L2</td>\n",
       "      <td>Sentinel-3</td>\n",
       "      <td>2016-011A</td>\n",
       "      <td>SAFE</td>\n",
       "      <td>S3A_OL_2_WFR____20161019T202250_20161019T20245...</td>\n",
       "      <td>Ocean Land Colour Instrument</td>\n",
       "      <td>OLCI</td>\n",
       "      <td>Earth Observation</td>\n",
       "      <td>...</td>\n",
       "      <td>http://codarep.eumetsat.int/odata/v1/Products(...</td>\n",
       "      <td>S3A_OL_2_WFR____20161019T202250_20161019T20245...</td>\n",
       "      <td>100.0</td>\n",
       "      <td>0.0</td>\n",
       "      <td>0.0</td>\n",
       "      <td>0.0</td>\n",
       "      <td>3509</td>\n",
       "      <td>71</td>\n",
       "      <td>10</td>\n",
       "      <td>POLYGON ((-159.00400 51.46550, -159.08200 50.9...</td>\n",
       "    </tr>\n",
       "    <tr>\n",
       "      <th>a840954f-e381-4257-a74c-904e04844c31</th>\n",
       "      <td>Date: 2016-10-17T19:33:59.026Z, Instrument: OL...</td>\n",
       "      <td>ANALYSIS</td>\n",
       "      <td>L2</td>\n",
       "      <td>Sentinel-3</td>\n",
       "      <td>2016-011A</td>\n",
       "      <td>SAFE</td>\n",
       "      <td>S3A_OL_2_WFR____20161017T193359_20161017T19355...</td>\n",
       "      <td>Ocean Land Colour Instrument</td>\n",
       "      <td>OLCI</td>\n",
       "      <td>Earth Observation</td>\n",
       "      <td>...</td>\n",
       "      <td>http://codarep.eumetsat.int/odata/v1/Products(...</td>\n",
       "      <td>S3A_OL_2_WFR____20161017T193359_20161017T19355...</td>\n",
       "      <td>100.0</td>\n",
       "      <td>0.0</td>\n",
       "      <td>0.0</td>\n",
       "      <td>0.0</td>\n",
       "      <td>3480</td>\n",
       "      <td>42</td>\n",
       "      <td>10</td>\n",
       "      <td>POLYGON ((-146.72800 52.27050, -146.80600 51.7...</td>\n",
       "    </tr>\n",
       "  </tbody>\n",
       "</table>\n",
       "<p>5 rows × 45 columns</p>\n",
       "</div>"
      ],
      "text/plain": [
       "                                                                                summary  \\\n",
       "2bc7896a-f173-4c22-95b2-d6363faafe01  Date: 2016-10-23T20:19:32.037Z, Instrument: OL...   \n",
       "20498d03-5d4d-43e6-8cf9-5435746df013  Date: 2016-10-21T19:30:40.903Z, Instrument: OL...   \n",
       "82b615c4-520c-4152-a7e3-f9fb91b10107  Date: 2016-10-20T19:56:46.056Z, Instrument: OL...   \n",
       "b13723dd-bc37-4fd9-8f3b-e3ca9cc1450a  Date: 2016-10-19T20:22:49.977Z, Instrument: OL...   \n",
       "a840954f-e381-4257-a74c-904e04844c31  Date: 2016-10-17T19:33:59.026Z, Instrument: OL...   \n",
       "\n",
       "                                         ecmwf productlevel platformname  \\\n",
       "2bc7896a-f173-4c22-95b2-d6363faafe01  ANALYSIS           L2   Sentinel-3   \n",
       "20498d03-5d4d-43e6-8cf9-5435746df013  ANALYSIS           L2   Sentinel-3   \n",
       "82b615c4-520c-4152-a7e3-f9fb91b10107  ANALYSIS           L2   Sentinel-3   \n",
       "b13723dd-bc37-4fd9-8f3b-e3ca9cc1450a  ANALYSIS           L2   Sentinel-3   \n",
       "a840954f-e381-4257-a74c-904e04844c31  ANALYSIS           L2   Sentinel-3   \n",
       "\n",
       "                                     platformidentifier format  \\\n",
       "2bc7896a-f173-4c22-95b2-d6363faafe01          2016-011A   SAFE   \n",
       "20498d03-5d4d-43e6-8cf9-5435746df013          2016-011A   SAFE   \n",
       "82b615c4-520c-4152-a7e3-f9fb91b10107          2016-011A   SAFE   \n",
       "b13723dd-bc37-4fd9-8f3b-e3ca9cc1450a          2016-011A   SAFE   \n",
       "a840954f-e381-4257-a74c-904e04844c31          2016-011A   SAFE   \n",
       "\n",
       "                                                                               filename  \\\n",
       "2bc7896a-f173-4c22-95b2-d6363faafe01  S3A_OL_2_WFR____20161023T201932_20161023T20213...   \n",
       "20498d03-5d4d-43e6-8cf9-5435746df013  S3A_OL_2_WFR____20161021T193041_20161021T19324...   \n",
       "82b615c4-520c-4152-a7e3-f9fb91b10107  S3A_OL_2_WFR____20161020T195646_20161020T19584...   \n",
       "b13723dd-bc37-4fd9-8f3b-e3ca9cc1450a  S3A_OL_2_WFR____20161019T202250_20161019T20245...   \n",
       "a840954f-e381-4257-a74c-904e04844c31  S3A_OL_2_WFR____20161017T193359_20161017T19355...   \n",
       "\n",
       "                                                    instrumentname  \\\n",
       "2bc7896a-f173-4c22-95b2-d6363faafe01  Ocean Land Colour Instrument   \n",
       "20498d03-5d4d-43e6-8cf9-5435746df013  Ocean Land Colour Instrument   \n",
       "82b615c4-520c-4152-a7e3-f9fb91b10107  Ocean Land Colour Instrument   \n",
       "b13723dd-bc37-4fd9-8f3b-e3ca9cc1450a  Ocean Land Colour Instrument   \n",
       "a840954f-e381-4257-a74c-904e04844c31  Ocean Land Colour Instrument   \n",
       "\n",
       "                                     instrumentshortname  \\\n",
       "2bc7896a-f173-4c22-95b2-d6363faafe01                OLCI   \n",
       "20498d03-5d4d-43e6-8cf9-5435746df013                OLCI   \n",
       "82b615c4-520c-4152-a7e3-f9fb91b10107                OLCI   \n",
       "b13723dd-bc37-4fd9-8f3b-e3ca9cc1450a                OLCI   \n",
       "a840954f-e381-4257-a74c-904e04844c31                OLCI   \n",
       "\n",
       "                                     sensoroperationalmode  ...  \\\n",
       "2bc7896a-f173-4c22-95b2-d6363faafe01     Earth Observation  ...   \n",
       "20498d03-5d4d-43e6-8cf9-5435746df013     Earth Observation  ...   \n",
       "82b615c4-520c-4152-a7e3-f9fb91b10107     Earth Observation  ...   \n",
       "b13723dd-bc37-4fd9-8f3b-e3ca9cc1450a     Earth Observation  ...   \n",
       "a840954f-e381-4257-a74c-904e04844c31     Earth Observation  ...   \n",
       "\n",
       "                                                                              link_icon  \\\n",
       "2bc7896a-f173-4c22-95b2-d6363faafe01  http://codarep.eumetsat.int/odata/v1/Products(...   \n",
       "20498d03-5d4d-43e6-8cf9-5435746df013  http://codarep.eumetsat.int/odata/v1/Products(...   \n",
       "82b615c4-520c-4152-a7e3-f9fb91b10107  http://codarep.eumetsat.int/odata/v1/Products(...   \n",
       "b13723dd-bc37-4fd9-8f3b-e3ca9cc1450a  http://codarep.eumetsat.int/odata/v1/Products(...   \n",
       "a840954f-e381-4257-a74c-904e04844c31  http://codarep.eumetsat.int/odata/v1/Products(...   \n",
       "\n",
       "                                                                                  title  \\\n",
       "2bc7896a-f173-4c22-95b2-d6363faafe01  S3A_OL_2_WFR____20161023T201932_20161023T20213...   \n",
       "20498d03-5d4d-43e6-8cf9-5435746df013  S3A_OL_2_WFR____20161021T193041_20161021T19324...   \n",
       "82b615c4-520c-4152-a7e3-f9fb91b10107  S3A_OL_2_WFR____20161020T195646_20161020T19584...   \n",
       "b13723dd-bc37-4fd9-8f3b-e3ca9cc1450a  S3A_OL_2_WFR____20161019T202250_20161019T20245...   \n",
       "a840954f-e381-4257-a74c-904e04844c31  S3A_OL_2_WFR____20161017T193359_20161017T19355...   \n",
       "\n",
       "                                     salinewatercoverpercentage  \\\n",
       "2bc7896a-f173-4c22-95b2-d6363faafe01                      100.0   \n",
       "20498d03-5d4d-43e6-8cf9-5435746df013                      100.0   \n",
       "82b615c4-520c-4152-a7e3-f9fb91b10107                      100.0   \n",
       "b13723dd-bc37-4fd9-8f3b-e3ca9cc1450a                      100.0   \n",
       "a840954f-e381-4257-a74c-904e04844c31                      100.0   \n",
       "\n",
       "                                     coastalcoverpercentage  \\\n",
       "2bc7896a-f173-4c22-95b2-d6363faafe01                    0.0   \n",
       "20498d03-5d4d-43e6-8cf9-5435746df013                    0.0   \n",
       "82b615c4-520c-4152-a7e3-f9fb91b10107                    0.0   \n",
       "b13723dd-bc37-4fd9-8f3b-e3ca9cc1450a                    0.0   \n",
       "a840954f-e381-4257-a74c-904e04844c31                    0.0   \n",
       "\n",
       "                                     tidalregioncoverpercentage  \\\n",
       "2bc7896a-f173-4c22-95b2-d6363faafe01                        0.0   \n",
       "20498d03-5d4d-43e6-8cf9-5435746df013                        0.0   \n",
       "82b615c4-520c-4152-a7e3-f9fb91b10107                        0.0   \n",
       "b13723dd-bc37-4fd9-8f3b-e3ca9cc1450a                        0.0   \n",
       "a840954f-e381-4257-a74c-904e04844c31                        0.0   \n",
       "\n",
       "                                     freshwatercoverpercentage orbitnumber  \\\n",
       "2bc7896a-f173-4c22-95b2-d6363faafe01                       0.0        3566   \n",
       "20498d03-5d4d-43e6-8cf9-5435746df013                       0.0        3537   \n",
       "82b615c4-520c-4152-a7e3-f9fb91b10107                       0.0        3523   \n",
       "b13723dd-bc37-4fd9-8f3b-e3ca9cc1450a                       0.0        3509   \n",
       "a840954f-e381-4257-a74c-904e04844c31                       0.0        3480   \n",
       "\n",
       "                                     relativeorbitnumber cyclenumber  \\\n",
       "2bc7896a-f173-4c22-95b2-d6363faafe01                 128          10   \n",
       "20498d03-5d4d-43e6-8cf9-5435746df013                  99          10   \n",
       "82b615c4-520c-4152-a7e3-f9fb91b10107                  85          10   \n",
       "b13723dd-bc37-4fd9-8f3b-e3ca9cc1450a                  71          10   \n",
       "a840954f-e381-4257-a74c-904e04844c31                  42          10   \n",
       "\n",
       "                                                                               geometry  \n",
       "2bc7896a-f173-4c22-95b2-d6363faafe01  POLYGON ((-158.30700 49.88680, -158.38500 49.3...  \n",
       "20498d03-5d4d-43e6-8cf9-5435746df013  POLYGON ((-146.03000 50.70540, -146.10700 50.1...  \n",
       "82b615c4-520c-4152-a7e3-f9fb91b10107  POLYGON ((-152.52200 51.04950, -152.60000 50.5...  \n",
       "b13723dd-bc37-4fd9-8f3b-e3ca9cc1450a  POLYGON ((-159.00400 51.46550, -159.08200 50.9...  \n",
       "a840954f-e381-4257-a74c-904e04844c31  POLYGON ((-146.72800 52.27050, -146.80600 51.7...  \n",
       "\n",
       "[5 rows x 45 columns]"
      ]
     },
     "execution_count": 26,
     "metadata": {},
     "output_type": "execute_result"
    }
   ],
   "source": [
    "s3_result.head()"
   ]
  },
  {
   "cell_type": "code",
   "execution_count": 27,
   "metadata": {},
   "outputs": [
    {
     "data": {
      "text/plain": [
       "Index(['summary', 'ecmwf', 'productlevel', 'platformname',\n",
       "       'platformidentifier', 'format', 'filename', 'instrumentname',\n",
       "       'instrumentshortname', 'sensoroperationalmode', 'mode', 'producttype',\n",
       "       'timeliness', 'size', 'pduduration', 'orbitdirection', 'relorbitdir',\n",
       "       'relpassnumber', 'relpassdirection', 'passnumber', 'passdirection',\n",
       "       'processingname', 'processinglevel', 'procfacilityname',\n",
       "       'procfacilityorg', 'onlinequalitycheck', 'identifier', 'uuid',\n",
       "       'beginposition', 'endposition', 'creationdate', 'ingestiondate',\n",
       "       'collection', 'link', 'link_alternative', 'link_icon', 'title',\n",
       "       'salinewatercoverpercentage', 'coastalcoverpercentage',\n",
       "       'tidalregioncoverpercentage', 'freshwatercoverpercentage',\n",
       "       'orbitnumber', 'relativeorbitnumber', 'cyclenumber', 'geometry'],\n",
       "      dtype='object')"
      ]
     },
     "execution_count": 27,
     "metadata": {},
     "output_type": "execute_result"
    }
   ],
   "source": [
    "s3_result.columns"
   ]
  },
  {
   "cell_type": "markdown",
   "metadata": {},
   "source": [
    "Before we download anything it seems like the right thing to do to figure out whether we should actually look at this MHW. We'll check out the SST + Performance Regimes @ the isolate location: "
   ]
  },
  {
   "cell_type": "code",
   "execution_count": null,
   "metadata": {},
   "outputs": [],
   "source": [
    "single_isolate_performance = isolate_performance_perf.sel(isolate=nepac_isolate['isolate.code'])\n",
    "single_isolate_performance = single_isolate_performance.where(single_isolate_performance.mhw == selected_mhw.mhw, drop=True).compute()"
   ]
  },
  {
   "cell_type": "code",
   "execution_count": null,
   "metadata": {},
   "outputs": [],
   "source": [
    "single_isolate_performance.performance.plot()\n",
    "single_isolate_performance.performance_clim.plot()\n",
    "plt.ylim([0, 1])"
   ]
  },
  {
   "cell_type": "code",
   "execution_count": null,
   "metadata": {},
   "outputs": [],
   "source": [
    "single_isolate_performance.performance.plot()\n",
    "single_isolate_performance.performance_clim.plot()\n",
    "plt.ylim([0, 1])\n",
    "[plt.axvline(x=x.beginposition, alpha=0.2, color='red') for _, x in s3_result.iterrows()];\n"
   ]
  },
  {
   "cell_type": "code",
   "execution_count": null,
   "metadata": {},
   "outputs": [],
   "source": []
  },
  {
   "cell_type": "markdown",
   "metadata": {},
   "source": [
    "Now we can select images within a Duration/4 buffer around each of the endpoints: "
   ]
  },
  {
   "cell_type": "code",
   "execution_count": null,
   "metadata": {},
   "outputs": [],
   "source": [
    "selected_mhw.duration"
   ]
  },
  {
   "cell_type": "code",
   "execution_count": null,
   "metadata": {},
   "outputs": [],
   "source": [
    "sensing_start = selected_mhw.start_date - timedelta(days=selected_mhw.duration/4)\n",
    "sensing_end = selected_mhw.start_date + timedelta(days=selected_mhw.duration + (selected_mhw.duration/4))"
   ]
  },
  {
   "cell_type": "code",
   "execution_count": null,
   "metadata": {},
   "outputs": [],
   "source": [
    "sensing_start, sensing_end"
   ]
  },
  {
   "cell_type": "code",
   "execution_count": null,
   "metadata": {},
   "outputs": [],
   "source": [
    "selected_imagery = s3_result[\n",
    "    s3_result.beginposition.between(sensing_start, sensing_end)\n",
    "]\n",
    "print(len(selected_imagery))\n"
   ]
  },
  {
   "cell_type": "code",
   "execution_count": 3,
   "metadata": {},
   "outputs": [],
   "source": [
    "download_location = '/tmp/nepacs3/'"
   ]
  },
  {
   "cell_type": "code",
   "execution_count": null,
   "metadata": {},
   "outputs": [],
   "source": [
    "os.makedirs(download_location, exist_ok=True)"
   ]
  },
  {
   "cell_type": "code",
   "execution_count": null,
   "metadata": {},
   "outputs": [],
   "source": [
    "def download_image(image, path, auth):\n",
    "    r = requests.get(image.link, auth=auth)\n",
    "    with open(os.path.join(path, f'{image.title}.zip'), 'wb') as f:\n",
    "        f.write(r.content)"
   ]
  },
  {
   "cell_type": "code",
   "execution_count": null,
   "metadata": {},
   "outputs": [],
   "source": [
    "delayed_downloads = [delayed(download_image)(x, download_location, auth) for _, x in selected_imagery.iterrows()]"
   ]
  },
  {
   "cell_type": "code",
   "execution_count": null,
   "metadata": {},
   "outputs": [],
   "source": [
    "downloads = client.compute(delayed_downloads, sync=True)"
   ]
  },
  {
   "cell_type": "code",
   "execution_count": null,
   "metadata": {},
   "outputs": [],
   "source": [
    "%%bash -s \"$download_location\"\n",
    "ls ${1}*.zip | parallel -t unzip  > /dev/null"
   ]
  },
  {
   "cell_type": "code",
   "execution_count": null,
   "metadata": {},
   "outputs": [],
   "source": [
    "satpy."
   ]
  },
  {
   "cell_type": "code",
   "execution_count": 29,
   "metadata": {},
   "outputs": [],
   "source": [
    "## Had to replace _____ with _0000_ for the olci-l2 reader to work...\n",
    "files = satpy.find_files_and_readers(sensor='olci',\n",
    "                               base_dir=download_location,\n",
    "                               reader='olci_l2')\n"
   ]
  },
  {
   "cell_type": "code",
   "execution_count": 4,
   "metadata": {},
   "outputs": [],
   "source": [
    "sceneFiles = glob(os.path.join(download_location, \"*.SEN3\"))"
   ]
  },
  {
   "cell_type": "code",
   "execution_count": null,
   "metadata": {},
   "outputs": [],
   "source": [
    "scenes = [\n",
    "    satpy.Scene(glob(root+\"/*\") , reader='olci_l2', ) for root in sceneFiles\n",
    "]"
   ]
  },
  {
   "cell_type": "code",
   "execution_count": 32,
   "metadata": {},
   "outputs": [],
   "source": [
    "from satpy.multiscene import timeseries\n",
    "ms = satpy.MultiScene(scenes)"
   ]
  },
  {
   "cell_type": "code",
   "execution_count": null,
   "metadata": {},
   "outputs": [],
   "source": [
    "for scene in scenes:\n",
    "    scene.load(['chl_oc4me'])\n",
    "    print(scene.)"
   ]
  },
  {
   "cell_type": "code",
   "execution_count": 33,
   "metadata": {},
   "outputs": [],
   "source": [
    "sc = scenes[0]"
   ]
  },
  {
   "cell_type": "code",
   "execution_count": 34,
   "metadata": {},
   "outputs": [],
   "source": [
    "sc.load(['chl_oc4me'])"
   ]
  },
  {
   "cell_type": "code",
   "execution_count": 37,
   "metadata": {},
   "outputs": [],
   "source": [
    "sc_resampled = sc.resample(\n",
    "    sc['chl_oc4me'].attrs['area'].compute_optimal_bb_area(ccrs.Mercator().proj4_params)\n",
    ")"
   ]
  },
  {
   "cell_type": "code",
   "execution_count": 42,
   "metadata": {},
   "outputs": [
    {
     "ename": "KeyboardInterrupt",
     "evalue": "",
     "output_type": "error",
     "traceback": [
      "\u001b[0;31m---------------------------------------------------------------------------\u001b[0m",
      "\u001b[0;31mKeyboardInterrupt\u001b[0m                         Traceback (most recent call last)",
      "\u001b[0;32m<ipython-input-42-925721f98e6a>\u001b[0m in \u001b[0;36m<module>\u001b[0;34m\u001b[0m\n\u001b[0;32m----> 1\u001b[0;31m \u001b[0msc_resampled\u001b[0m\u001b[0;34m[\u001b[0m\u001b[0;34m'chl_oc4me'\u001b[0m\u001b[0;34m]\u001b[0m\u001b[0;34m.\u001b[0m\u001b[0mcompute\u001b[0m\u001b[0;34m(\u001b[0m\u001b[0;34m)\u001b[0m\u001b[0;34m\u001b[0m\u001b[0;34m\u001b[0m\u001b[0m\n\u001b[0m",
      "\u001b[0;32m~/miniconda3/envs/notebook/lib/python3.7/site-packages/xarray/core/dataarray.py\u001b[0m in \u001b[0;36mcompute\u001b[0;34m(self, **kwargs)\u001b[0m\n\u001b[1;32m    826\u001b[0m         \"\"\"\n\u001b[1;32m    827\u001b[0m         \u001b[0mnew\u001b[0m \u001b[0;34m=\u001b[0m \u001b[0mself\u001b[0m\u001b[0;34m.\u001b[0m\u001b[0mcopy\u001b[0m\u001b[0;34m(\u001b[0m\u001b[0mdeep\u001b[0m\u001b[0;34m=\u001b[0m\u001b[0;32mFalse\u001b[0m\u001b[0;34m)\u001b[0m\u001b[0;34m\u001b[0m\u001b[0;34m\u001b[0m\u001b[0m\n\u001b[0;32m--> 828\u001b[0;31m         \u001b[0;32mreturn\u001b[0m \u001b[0mnew\u001b[0m\u001b[0;34m.\u001b[0m\u001b[0mload\u001b[0m\u001b[0;34m(\u001b[0m\u001b[0;34m**\u001b[0m\u001b[0mkwargs\u001b[0m\u001b[0;34m)\u001b[0m\u001b[0;34m\u001b[0m\u001b[0;34m\u001b[0m\u001b[0m\n\u001b[0m\u001b[1;32m    829\u001b[0m \u001b[0;34m\u001b[0m\u001b[0m\n\u001b[1;32m    830\u001b[0m     \u001b[0;32mdef\u001b[0m \u001b[0mpersist\u001b[0m\u001b[0;34m(\u001b[0m\u001b[0mself\u001b[0m\u001b[0;34m,\u001b[0m \u001b[0;34m**\u001b[0m\u001b[0mkwargs\u001b[0m\u001b[0;34m)\u001b[0m \u001b[0;34m->\u001b[0m \u001b[0;34m\"DataArray\"\u001b[0m\u001b[0;34m:\u001b[0m\u001b[0;34m\u001b[0m\u001b[0;34m\u001b[0m\u001b[0m\n",
      "\u001b[0;32m~/miniconda3/envs/notebook/lib/python3.7/site-packages/xarray/core/dataarray.py\u001b[0m in \u001b[0;36mload\u001b[0;34m(self, **kwargs)\u001b[0m\n\u001b[1;32m    800\u001b[0m         \u001b[0mdask\u001b[0m\u001b[0;34m.\u001b[0m\u001b[0marray\u001b[0m\u001b[0;34m.\u001b[0m\u001b[0mcompute\u001b[0m\u001b[0;34m\u001b[0m\u001b[0;34m\u001b[0m\u001b[0m\n\u001b[1;32m    801\u001b[0m         \"\"\"\n\u001b[0;32m--> 802\u001b[0;31m         \u001b[0mds\u001b[0m \u001b[0;34m=\u001b[0m \u001b[0mself\u001b[0m\u001b[0;34m.\u001b[0m\u001b[0m_to_temp_dataset\u001b[0m\u001b[0;34m(\u001b[0m\u001b[0;34m)\u001b[0m\u001b[0;34m.\u001b[0m\u001b[0mload\u001b[0m\u001b[0;34m(\u001b[0m\u001b[0;34m**\u001b[0m\u001b[0mkwargs\u001b[0m\u001b[0;34m)\u001b[0m\u001b[0;34m\u001b[0m\u001b[0;34m\u001b[0m\u001b[0m\n\u001b[0m\u001b[1;32m    803\u001b[0m         \u001b[0mnew\u001b[0m \u001b[0;34m=\u001b[0m \u001b[0mself\u001b[0m\u001b[0;34m.\u001b[0m\u001b[0m_from_temp_dataset\u001b[0m\u001b[0;34m(\u001b[0m\u001b[0mds\u001b[0m\u001b[0;34m)\u001b[0m\u001b[0;34m\u001b[0m\u001b[0;34m\u001b[0m\u001b[0m\n\u001b[1;32m    804\u001b[0m         \u001b[0mself\u001b[0m\u001b[0;34m.\u001b[0m\u001b[0m_variable\u001b[0m \u001b[0;34m=\u001b[0m \u001b[0mnew\u001b[0m\u001b[0;34m.\u001b[0m\u001b[0m_variable\u001b[0m\u001b[0;34m\u001b[0m\u001b[0;34m\u001b[0m\u001b[0m\n",
      "\u001b[0;32m~/miniconda3/envs/notebook/lib/python3.7/site-packages/xarray/core/dataset.py\u001b[0m in \u001b[0;36mload\u001b[0;34m(self, **kwargs)\u001b[0m\n\u001b[1;32m    652\u001b[0m \u001b[0;34m\u001b[0m\u001b[0m\n\u001b[1;32m    653\u001b[0m             \u001b[0;31m# evaluate all the dask arrays simultaneously\u001b[0m\u001b[0;34m\u001b[0m\u001b[0;34m\u001b[0m\u001b[0;34m\u001b[0m\u001b[0m\n\u001b[0;32m--> 654\u001b[0;31m             \u001b[0mevaluated_data\u001b[0m \u001b[0;34m=\u001b[0m \u001b[0mda\u001b[0m\u001b[0;34m.\u001b[0m\u001b[0mcompute\u001b[0m\u001b[0;34m(\u001b[0m\u001b[0;34m*\u001b[0m\u001b[0mlazy_data\u001b[0m\u001b[0;34m.\u001b[0m\u001b[0mvalues\u001b[0m\u001b[0;34m(\u001b[0m\u001b[0;34m)\u001b[0m\u001b[0;34m,\u001b[0m \u001b[0;34m**\u001b[0m\u001b[0mkwargs\u001b[0m\u001b[0;34m)\u001b[0m\u001b[0;34m\u001b[0m\u001b[0;34m\u001b[0m\u001b[0m\n\u001b[0m\u001b[1;32m    655\u001b[0m \u001b[0;34m\u001b[0m\u001b[0m\n\u001b[1;32m    656\u001b[0m             \u001b[0;32mfor\u001b[0m \u001b[0mk\u001b[0m\u001b[0;34m,\u001b[0m \u001b[0mdata\u001b[0m \u001b[0;32min\u001b[0m \u001b[0mzip\u001b[0m\u001b[0;34m(\u001b[0m\u001b[0mlazy_data\u001b[0m\u001b[0;34m,\u001b[0m \u001b[0mevaluated_data\u001b[0m\u001b[0;34m)\u001b[0m\u001b[0;34m:\u001b[0m\u001b[0;34m\u001b[0m\u001b[0;34m\u001b[0m\u001b[0m\n",
      "\u001b[0;32m~/miniconda3/envs/notebook/lib/python3.7/site-packages/dask/base.py\u001b[0m in \u001b[0;36mcompute\u001b[0;34m(*args, **kwargs)\u001b[0m\n\u001b[1;32m    434\u001b[0m     \u001b[0mkeys\u001b[0m \u001b[0;34m=\u001b[0m \u001b[0;34m[\u001b[0m\u001b[0mx\u001b[0m\u001b[0;34m.\u001b[0m\u001b[0m__dask_keys__\u001b[0m\u001b[0;34m(\u001b[0m\u001b[0;34m)\u001b[0m \u001b[0;32mfor\u001b[0m \u001b[0mx\u001b[0m \u001b[0;32min\u001b[0m \u001b[0mcollections\u001b[0m\u001b[0;34m]\u001b[0m\u001b[0;34m\u001b[0m\u001b[0;34m\u001b[0m\u001b[0m\n\u001b[1;32m    435\u001b[0m     \u001b[0mpostcomputes\u001b[0m \u001b[0;34m=\u001b[0m \u001b[0;34m[\u001b[0m\u001b[0mx\u001b[0m\u001b[0;34m.\u001b[0m\u001b[0m__dask_postcompute__\u001b[0m\u001b[0;34m(\u001b[0m\u001b[0;34m)\u001b[0m \u001b[0;32mfor\u001b[0m \u001b[0mx\u001b[0m \u001b[0;32min\u001b[0m \u001b[0mcollections\u001b[0m\u001b[0;34m]\u001b[0m\u001b[0;34m\u001b[0m\u001b[0;34m\u001b[0m\u001b[0m\n\u001b[0;32m--> 436\u001b[0;31m     \u001b[0mresults\u001b[0m \u001b[0;34m=\u001b[0m \u001b[0mschedule\u001b[0m\u001b[0;34m(\u001b[0m\u001b[0mdsk\u001b[0m\u001b[0;34m,\u001b[0m \u001b[0mkeys\u001b[0m\u001b[0;34m,\u001b[0m \u001b[0;34m**\u001b[0m\u001b[0mkwargs\u001b[0m\u001b[0;34m)\u001b[0m\u001b[0;34m\u001b[0m\u001b[0;34m\u001b[0m\u001b[0m\n\u001b[0m\u001b[1;32m    437\u001b[0m     \u001b[0;32mreturn\u001b[0m \u001b[0mrepack\u001b[0m\u001b[0;34m(\u001b[0m\u001b[0;34m[\u001b[0m\u001b[0mf\u001b[0m\u001b[0;34m(\u001b[0m\u001b[0mr\u001b[0m\u001b[0;34m,\u001b[0m \u001b[0;34m*\u001b[0m\u001b[0ma\u001b[0m\u001b[0;34m)\u001b[0m \u001b[0;32mfor\u001b[0m \u001b[0mr\u001b[0m\u001b[0;34m,\u001b[0m \u001b[0;34m(\u001b[0m\u001b[0mf\u001b[0m\u001b[0;34m,\u001b[0m \u001b[0ma\u001b[0m\u001b[0;34m)\u001b[0m \u001b[0;32min\u001b[0m \u001b[0mzip\u001b[0m\u001b[0;34m(\u001b[0m\u001b[0mresults\u001b[0m\u001b[0;34m,\u001b[0m \u001b[0mpostcomputes\u001b[0m\u001b[0;34m)\u001b[0m\u001b[0;34m]\u001b[0m\u001b[0;34m)\u001b[0m\u001b[0;34m\u001b[0m\u001b[0;34m\u001b[0m\u001b[0m\n\u001b[1;32m    438\u001b[0m \u001b[0;34m\u001b[0m\u001b[0m\n",
      "\u001b[0;32m~/miniconda3/envs/notebook/lib/python3.7/site-packages/dask/threaded.py\u001b[0m in \u001b[0;36mget\u001b[0;34m(dsk, result, cache, num_workers, pool, **kwargs)\u001b[0m\n\u001b[1;32m     79\u001b[0m         \u001b[0mget_id\u001b[0m\u001b[0;34m=\u001b[0m\u001b[0m_thread_get_id\u001b[0m\u001b[0;34m,\u001b[0m\u001b[0;34m\u001b[0m\u001b[0;34m\u001b[0m\u001b[0m\n\u001b[1;32m     80\u001b[0m         \u001b[0mpack_exception\u001b[0m\u001b[0;34m=\u001b[0m\u001b[0mpack_exception\u001b[0m\u001b[0;34m,\u001b[0m\u001b[0;34m\u001b[0m\u001b[0;34m\u001b[0m\u001b[0m\n\u001b[0;32m---> 81\u001b[0;31m         \u001b[0;34m**\u001b[0m\u001b[0mkwargs\u001b[0m\u001b[0;34m\u001b[0m\u001b[0;34m\u001b[0m\u001b[0m\n\u001b[0m\u001b[1;32m     82\u001b[0m     )\n\u001b[1;32m     83\u001b[0m \u001b[0;34m\u001b[0m\u001b[0m\n",
      "\u001b[0;32m~/miniconda3/envs/notebook/lib/python3.7/site-packages/dask/local.py\u001b[0m in \u001b[0;36mget_async\u001b[0;34m(apply_async, num_workers, dsk, result, cache, get_id, rerun_exceptions_locally, pack_exception, raise_exception, callbacks, dumps, loads, **kwargs)\u001b[0m\n\u001b[1;32m    473\u001b[0m             \u001b[0;31m# Main loop, wait on tasks to finish, insert new ones\u001b[0m\u001b[0;34m\u001b[0m\u001b[0;34m\u001b[0m\u001b[0;34m\u001b[0m\u001b[0m\n\u001b[1;32m    474\u001b[0m             \u001b[0;32mwhile\u001b[0m \u001b[0mstate\u001b[0m\u001b[0;34m[\u001b[0m\u001b[0;34m\"waiting\"\u001b[0m\u001b[0;34m]\u001b[0m \u001b[0;32mor\u001b[0m \u001b[0mstate\u001b[0m\u001b[0;34m[\u001b[0m\u001b[0;34m\"ready\"\u001b[0m\u001b[0;34m]\u001b[0m \u001b[0;32mor\u001b[0m \u001b[0mstate\u001b[0m\u001b[0;34m[\u001b[0m\u001b[0;34m\"running\"\u001b[0m\u001b[0;34m]\u001b[0m\u001b[0;34m:\u001b[0m\u001b[0;34m\u001b[0m\u001b[0;34m\u001b[0m\u001b[0m\n\u001b[0;32m--> 475\u001b[0;31m                 \u001b[0mkey\u001b[0m\u001b[0;34m,\u001b[0m \u001b[0mres_info\u001b[0m\u001b[0;34m,\u001b[0m \u001b[0mfailed\u001b[0m \u001b[0;34m=\u001b[0m \u001b[0mqueue_get\u001b[0m\u001b[0;34m(\u001b[0m\u001b[0mqueue\u001b[0m\u001b[0;34m)\u001b[0m\u001b[0;34m\u001b[0m\u001b[0;34m\u001b[0m\u001b[0m\n\u001b[0m\u001b[1;32m    476\u001b[0m                 \u001b[0;32mif\u001b[0m \u001b[0mfailed\u001b[0m\u001b[0;34m:\u001b[0m\u001b[0;34m\u001b[0m\u001b[0;34m\u001b[0m\u001b[0m\n\u001b[1;32m    477\u001b[0m                     \u001b[0mexc\u001b[0m\u001b[0;34m,\u001b[0m \u001b[0mtb\u001b[0m \u001b[0;34m=\u001b[0m \u001b[0mloads\u001b[0m\u001b[0;34m(\u001b[0m\u001b[0mres_info\u001b[0m\u001b[0;34m)\u001b[0m\u001b[0;34m\u001b[0m\u001b[0;34m\u001b[0m\u001b[0m\n",
      "\u001b[0;32m~/miniconda3/envs/notebook/lib/python3.7/site-packages/dask/local.py\u001b[0m in \u001b[0;36mqueue_get\u001b[0;34m(q)\u001b[0m\n\u001b[1;32m    131\u001b[0m \u001b[0;34m\u001b[0m\u001b[0m\n\u001b[1;32m    132\u001b[0m     \u001b[0;32mdef\u001b[0m \u001b[0mqueue_get\u001b[0m\u001b[0;34m(\u001b[0m\u001b[0mq\u001b[0m\u001b[0;34m)\u001b[0m\u001b[0;34m:\u001b[0m\u001b[0;34m\u001b[0m\u001b[0;34m\u001b[0m\u001b[0m\n\u001b[0;32m--> 133\u001b[0;31m         \u001b[0;32mreturn\u001b[0m \u001b[0mq\u001b[0m\u001b[0;34m.\u001b[0m\u001b[0mget\u001b[0m\u001b[0;34m(\u001b[0m\u001b[0;34m)\u001b[0m\u001b[0;34m\u001b[0m\u001b[0;34m\u001b[0m\u001b[0m\n\u001b[0m\u001b[1;32m    134\u001b[0m \u001b[0;34m\u001b[0m\u001b[0m\n\u001b[1;32m    135\u001b[0m \u001b[0;34m\u001b[0m\u001b[0m\n",
      "\u001b[0;32m~/miniconda3/envs/notebook/lib/python3.7/queue.py\u001b[0m in \u001b[0;36mget\u001b[0;34m(self, block, timeout)\u001b[0m\n\u001b[1;32m    168\u001b[0m             \u001b[0;32melif\u001b[0m \u001b[0mtimeout\u001b[0m \u001b[0;32mis\u001b[0m \u001b[0;32mNone\u001b[0m\u001b[0;34m:\u001b[0m\u001b[0;34m\u001b[0m\u001b[0;34m\u001b[0m\u001b[0m\n\u001b[1;32m    169\u001b[0m                 \u001b[0;32mwhile\u001b[0m \u001b[0;32mnot\u001b[0m \u001b[0mself\u001b[0m\u001b[0;34m.\u001b[0m\u001b[0m_qsize\u001b[0m\u001b[0;34m(\u001b[0m\u001b[0;34m)\u001b[0m\u001b[0;34m:\u001b[0m\u001b[0;34m\u001b[0m\u001b[0;34m\u001b[0m\u001b[0m\n\u001b[0;32m--> 170\u001b[0;31m                     \u001b[0mself\u001b[0m\u001b[0;34m.\u001b[0m\u001b[0mnot_empty\u001b[0m\u001b[0;34m.\u001b[0m\u001b[0mwait\u001b[0m\u001b[0;34m(\u001b[0m\u001b[0;34m)\u001b[0m\u001b[0;34m\u001b[0m\u001b[0;34m\u001b[0m\u001b[0m\n\u001b[0m\u001b[1;32m    171\u001b[0m             \u001b[0;32melif\u001b[0m \u001b[0mtimeout\u001b[0m \u001b[0;34m<\u001b[0m \u001b[0;36m0\u001b[0m\u001b[0;34m:\u001b[0m\u001b[0;34m\u001b[0m\u001b[0;34m\u001b[0m\u001b[0m\n\u001b[1;32m    172\u001b[0m                 \u001b[0;32mraise\u001b[0m \u001b[0mValueError\u001b[0m\u001b[0;34m(\u001b[0m\u001b[0;34m\"'timeout' must be a non-negative number\"\u001b[0m\u001b[0;34m)\u001b[0m\u001b[0;34m\u001b[0m\u001b[0;34m\u001b[0m\u001b[0m\n",
      "\u001b[0;32m~/miniconda3/envs/notebook/lib/python3.7/threading.py\u001b[0m in \u001b[0;36mwait\u001b[0;34m(self, timeout)\u001b[0m\n\u001b[1;32m    294\u001b[0m         \u001b[0;32mtry\u001b[0m\u001b[0;34m:\u001b[0m    \u001b[0;31m# restore state no matter what (e.g., KeyboardInterrupt)\u001b[0m\u001b[0;34m\u001b[0m\u001b[0;34m\u001b[0m\u001b[0m\n\u001b[1;32m    295\u001b[0m             \u001b[0;32mif\u001b[0m \u001b[0mtimeout\u001b[0m \u001b[0;32mis\u001b[0m \u001b[0;32mNone\u001b[0m\u001b[0;34m:\u001b[0m\u001b[0;34m\u001b[0m\u001b[0;34m\u001b[0m\u001b[0m\n\u001b[0;32m--> 296\u001b[0;31m                 \u001b[0mwaiter\u001b[0m\u001b[0;34m.\u001b[0m\u001b[0macquire\u001b[0m\u001b[0;34m(\u001b[0m\u001b[0;34m)\u001b[0m\u001b[0;34m\u001b[0m\u001b[0;34m\u001b[0m\u001b[0m\n\u001b[0m\u001b[1;32m    297\u001b[0m                 \u001b[0mgotit\u001b[0m \u001b[0;34m=\u001b[0m \u001b[0;32mTrue\u001b[0m\u001b[0;34m\u001b[0m\u001b[0;34m\u001b[0m\u001b[0m\n\u001b[1;32m    298\u001b[0m             \u001b[0;32melse\u001b[0m\u001b[0;34m:\u001b[0m\u001b[0;34m\u001b[0m\u001b[0;34m\u001b[0m\u001b[0m\n",
      "\u001b[0;31mKeyboardInterrupt\u001b[0m: "
     ]
    }
   ],
   "source": [
    "sc_resampled['chl_oc4me'].compute()"
   ]
  },
  {
   "cell_type": "code",
   "execution_count": 74,
   "metadata": {},
   "outputs": [
    {
     "data": {
      "text/plain": [
       "{'sensor': {'olci'},\n",
       " 'start_time': datetime.datetime(2016, 10, 8, 20, 8, 35, 921791),\n",
       " 'end_time': datetime.datetime(2016, 10, 8, 20, 10, 36)}"
      ]
     },
     "execution_count": 74,
     "metadata": {},
     "output_type": "execute_result"
    }
   ],
   "source": [
    "sc.attrs"
   ]
  },
  {
   "cell_type": "code",
   "execution_count": 44,
   "metadata": {},
   "outputs": [],
   "source": [
    "sc_resampled.save_dataset('chl_oc4me', writer='geotiff', filename='gtiff2.tif')"
   ]
  },
  {
   "cell_type": "code",
   "execution_count": 10,
   "metadata": {},
   "outputs": [],
   "source": [
    "def reproject_and_save(img_directory, projection=ccrs.Mercator()):\n",
    "    _sc = satpy.Scene(glob(img_directory+\"/*\") , reader='olci_l2', )\n",
    "    _sc.load(['chl_oc4me'])\n",
    "    _sc_resampled = _sc.resample(\n",
    "        _sc['chl_oc4me'].attrs['area'].compute_optimal_bb_area(projection.proj4_params)\n",
    "    )\n",
    "    outpath = os.path.join(img_directory, f\"chl_oc4me-{_sc.attrs['start_time']:%Y%m%d}.tif\")\n",
    "    _sc_resampled.save_dataset('chl_oc4me', writer='geotiff', filename=outpath, client=False)\n",
    "    \n",
    "    \n"
   ]
  },
  {
   "cell_type": "code",
   "execution_count": null,
   "metadata": {},
   "outputs": [],
   "source": [
    "list(map(reproject_and_save, sceneFiles))"
   ]
  },
  {
   "cell_type": "markdown",
   "metadata": {},
   "source": [
    "## Which isolates experience the largest mean \"mean_performance_ratio\"?"
   ]
  },
  {
   "cell_type": "code",
   "execution_count": null,
   "metadata": {},
   "outputs": [],
   "source": [
    "a['performance_ratio_mean_abs'] = a.performance_ratio_mean.abs()"
   ]
  },
  {
   "cell_type": "code",
   "execution_count": null,
   "metadata": {},
   "outputs": [],
   "source": [
    "q_95 = a.performance_ratio_mean.quantile(0.95)\n",
    "q_05 = a.performance_ratio_mean.quantile(0.05)"
   ]
  },
  {
   "cell_type": "code",
   "execution_count": null,
   "metadata": {},
   "outputs": [],
   "source": [
    "top_isolates_positive_ratio = a.groupby(['isolate']).performance_ratio_mean.median().replace([np.inf, -np.inf], np.nan).sort_values(ascending=False)"
   ]
  },
  {
   "cell_type": "code",
   "execution_count": null,
   "metadata": {},
   "outputs": [],
   "source": [
    "top_isolates_negative_ratio = a.groupby(['isolate']).performance_ratio_mean.median().replace([np.inf, -np.inf], np.nan).sort_values(ascending=True)"
   ]
  },
  {
   "cell_type": "code",
   "execution_count": null,
   "metadata": {},
   "outputs": [],
   "source": [
    "# top_isolates_negative_ratio = a[\n",
    "#     (a.performance_ratio_mean < 1) &\n",
    "#     (a.performance_ratio_mean != 0)\n",
    "# ].groupby('isolate').apply(lambda x: (1 - x['performance_ratio_mean']).max()).replace([np.inf, -np.inf], np.nan).sort_values(ascending=False)"
   ]
  },
  {
   "cell_type": "code",
   "execution_count": null,
   "metadata": {},
   "outputs": [],
   "source": [
    "top_isolates_positive_ratio"
   ]
  },
  {
   "cell_type": "code",
   "execution_count": null,
   "metadata": {},
   "outputs": [],
   "source": [
    "top_isolates_negative_ratio"
   ]
  },
  {
   "cell_type": "markdown",
   "metadata": {},
   "source": [
    "**Start with Isolates with Above-Clim Performance**"
   ]
  },
  {
   "cell_type": "code",
   "execution_count": null,
   "metadata": {},
   "outputs": [],
   "source": [
    "top_isolate = plankton.set_index('isolate.code').loc[top_isolates_positive_ratio.index[0]]"
   ]
  },
  {
   "cell_type": "code",
   "execution_count": null,
   "metadata": {},
   "outputs": [],
   "source": [
    "top_isolate"
   ]
  },
  {
   "cell_type": "code",
   "execution_count": null,
   "metadata": {},
   "outputs": [],
   "source": [
    "### mhw detections for this isolate: \n",
    "isolate_mhws = mhws_ddf[mhws_ddf.isolate == int(top_isolate.name)].compute()"
   ]
  },
  {
   "cell_type": "code",
   "execution_count": null,
   "metadata": {},
   "outputs": [],
   "source": [
    "isolate_mhws"
   ]
  },
  {
   "cell_type": "code",
   "execution_count": null,
   "metadata": {},
   "outputs": [],
   "source": [
    "plt.scatter(isolate_mhws['time'], isolate_mhws['performance']/isolate_mhws['performance_clim'])\n"
   ]
  },
  {
   "cell_type": "code",
   "execution_count": null,
   "metadata": {},
   "outputs": [],
   "source": [
    "## Find MHW event with highest performance ratio"
   ]
  },
  {
   "cell_type": "code",
   "execution_count": null,
   "metadata": {},
   "outputs": [],
   "source": [
    "isolate_mhws['performance_ratio'] = isolate_mhws.performance / isolate_mhws.performance_clim"
   ]
  },
  {
   "cell_type": "code",
   "execution_count": null,
   "metadata": {},
   "outputs": [],
   "source": [
    "isolate_mhws.groupby('mhw').performance_ratio.median().replace(np.inf, np.nan).dropna().sort_values(ascending=False)"
   ]
  },
  {
   "cell_type": "markdown",
   "metadata": {},
   "source": [
    "Going to pick 59 because 54 seems anaomalous and short"
   ]
  },
  {
   "cell_type": "code",
   "execution_count": null,
   "metadata": {},
   "outputs": [],
   "source": [
    "selected_mhw = isolate_mhws[isolate_mhws.mhw == 59]"
   ]
  },
  {
   "cell_type": "code",
   "execution_count": null,
   "metadata": {},
   "outputs": [],
   "source": [
    "selected_mhw"
   ]
  },
  {
   "cell_type": "code",
   "execution_count": null,
   "metadata": {},
   "outputs": [],
   "source": [
    "selected_mhw.columns"
   ]
  },
  {
   "cell_type": "code",
   "execution_count": null,
   "metadata": {},
   "outputs": [],
   "source": []
  },
  {
   "cell_type": "code",
   "execution_count": null,
   "metadata": {},
   "outputs": [],
   "source": [
    "selected_sst = oisst.sel(lat = selected_mhw.lat.iloc[0], lon = selected_mhw.lon.iloc[0], time = slice(selected_mhw.time.min(), selected_mhw.time.max()))"
   ]
  },
  {
   "cell_type": "code",
   "execution_count": null,
   "metadata": {},
   "outputs": [],
   "source": [
    "other_year_sst = oisst.sel(\n",
    "    lat = selected_mhw.lat.iloc[0],\n",
    "    lon = selected_mhw.lon.iloc[0],\n",
    "    time = slice(\n",
    "        selected_mhw.time.min() + np.timedelta64(365, \"D\"),\n",
    "        selected_mhw.time.max() + np.timedelta64(365, 'D')\n",
    "    )\n",
    ")"
   ]
  },
  {
   "cell_type": "code",
   "execution_count": null,
   "metadata": {},
   "outputs": [],
   "source": [
    "selected_sst"
   ]
  },
  {
   "cell_type": "code",
   "execution_count": null,
   "metadata": {},
   "outputs": [],
   "source": [
    "plt.plot(selected_sst.time, selected_sst.sst)\n",
    "plt.plot(selected_mhw.time, selected_mhw.clim_seas, color='black')\n",
    "plt.fill_between(selected_mhw.time, selected_mhw.clim_thresh, selected_sst.sst, color='red', alpha=0.2)\n",
    "plt.plot(selected_mhw.time, selected_mhw.clim_thresh, color='red')\n",
    "\n",
    "ax2 = plt.twinx()\n",
    "ax2.plot(selected_mhw.time, selected_mhw.performance)\n",
    "ax2.plot(selected_mhw.time, selected_mhw.performance_clim)\n",
    "ax2.set_ylim([0, 1])\n"
   ]
  },
  {
   "cell_type": "markdown",
   "metadata": {},
   "source": [
    "## Get Sentinel 3"
   ]
  },
  {
   "cell_type": "code",
   "execution_count": null,
   "metadata": {},
   "outputs": [],
   "source": [
    " from datetime import datetime"
   ]
  },
  {
   "cell_type": "code",
   "execution_count": null,
   "metadata": {},
   "outputs": [],
   "source": [
    "s3_api = sentinelsat.SentinelAPI('tonycan', os.environ['ss_pass'], api_url = 'https://codarep.eumetsat.int/')"
   ]
  },
  {
   "cell_type": "code",
   "execution_count": null,
   "metadata": {},
   "outputs": [],
   "source": [
    "isolate_mhw_wkt = wkt.dumps(\n",
    "    geometry.Point([\n",
    "        selected_mhw.lon.iloc[0],\n",
    "        selected_mhw.lat.iloc[0]\n",
    "    ]).buffer(0.01)\n",
    ")"
   ]
  },
  {
   "cell_type": "code",
   "execution_count": null,
   "metadata": {},
   "outputs": [],
   "source": [
    "s3_query = s3_api.query(\n",
    "    area=isolate_mhw_wkt,\n",
    "    producttype='OL_2_WFR___',\n",
    "    date = (selected_mhw.time.min() , selected_mhw.time.max()), \n",
    ")"
   ]
  },
  {
   "cell_type": "code",
   "execution_count": null,
   "metadata": {},
   "outputs": [],
   "source": [
    "s3_results = s3_api.to_geodataframe(s3_query)"
   ]
  },
  {
   "cell_type": "code",
   "execution_count": null,
   "metadata": {},
   "outputs": [],
   "source": [
    "s3_results.columns"
   ]
  },
  {
   "cell_type": "code",
   "execution_count": null,
   "metadata": {},
   "outputs": [],
   "source": [
    "plt.plot(selected_sst.time, selected_sst.sst)\n",
    "plt.plot(selected_mhw.time, selected_mhw.clim_seas, color='black')\n",
    "plt.fill_between(selected_mhw.time, selected_mhw.clim_thresh, selected_sst.sst, color='red', alpha=0.2)\n",
    "plt.plot(selected_mhw.time, selected_mhw.clim_thresh, color='red')\n",
    "\n",
    "ax2 = plt.twinx()\n",
    "ax2.plot(selected_mhw.time, selected_mhw.performance)\n",
    "ax2.plot(selected_mhw.time, selected_mhw.performance_clim)\n",
    "ax2.set_ylim([0, 1])\n",
    "[plt.axvline(i,alpha=0.2) for i in s3_results.beginposition];"
   ]
  },
  {
   "cell_type": "code",
   "execution_count": null,
   "metadata": {},
   "outputs": [],
   "source": [
    "s3_api_new = sentinelsat.SentinelAPI('tonycan', os.environ['ss_pass'], api_url = 'https://coda.eumetsat.int/')"
   ]
  },
  {
   "cell_type": "code",
   "execution_count": null,
   "metadata": {},
   "outputs": [],
   "source": [
    "selected_mhw.time.min() + np.timedelta64(365, 'D')\n"
   ]
  },
  {
   "cell_type": "code",
   "execution_count": null,
   "metadata": {},
   "outputs": [],
   "source": [
    "s3_query_future = s3_api_new.query(\n",
    "    area=isolate_mhw_wkt,\n",
    "    producttype='OL_2_WFR___',\n",
    "    date = (\n",
    "        selected_mhw.time.min() + np.timedelta64(365, 'D') ,\n",
    "        selected_mhw.time.max() + np.timedelta64(365, 'D')\n",
    "    )\n",
    ")"
   ]
  },
  {
   "cell_type": "code",
   "execution_count": null,
   "metadata": {},
   "outputs": [],
   "source": [
    "s3_future = s3_api_new.to_geodataframe(s3_query_future)"
   ]
  },
  {
   "cell_type": "code",
   "execution_count": null,
   "metadata": {},
   "outputs": [],
   "source": []
  },
  {
   "cell_type": "code",
   "execution_count": null,
   "metadata": {},
   "outputs": [],
   "source": []
  }
 ],
 "metadata": {
  "kernelspec": {
   "display_name": "Python 3",
   "language": "python",
   "name": "python3"
  },
  "language_info": {
   "codemirror_mode": {
    "name": "ipython",
    "version": 3
   },
   "file_extension": ".py",
   "mimetype": "text/x-python",
   "name": "python",
   "nbconvert_exporter": "python",
   "pygments_lexer": "ipython3",
   "version": "3.7.6"
  }
 },
 "nbformat": 4,
 "nbformat_minor": 4
}
