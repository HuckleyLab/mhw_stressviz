{
 "cells": [
  {
   "cell_type": "code",
   "execution_count": 1,
   "metadata": {},
   "outputs": [
    {
     "name": "stdout",
     "output_type": "stream",
     "text": [
      "Collecting pygbif\n",
      "  Using cached https://files.pythonhosted.org/packages/7a/25/222531f22cf162409c38f55c48b13ab0c4128cf13ac05290de8878d639b1/pygbif-0.4.0-py2.py3-none-any.whl\n",
      "Collecting geomet\n",
      "  Using cached https://files.pythonhosted.org/packages/c9/81/156ca48f950f833ddc392f8e3677ca50a18cb9d5db38ccb4ecea55a9303f/geomet-0.2.1.post1-py3-none-any.whl\n",
      "Collecting geojson-rewind\n",
      "  Using cached https://files.pythonhosted.org/packages/f7/5b/55fb64433477ebc983546e2d84ce04473b8750525dab67b2b18c6959a1ae/geojson_rewind-0.2.0-py3-none-any.whl\n",
      "Collecting requests-cache\n",
      "  Using cached https://files.pythonhosted.org/packages/7f/55/9b1c40eb83c16d8fc79c5f6c2ffade04208b080670fbfc35e0a5effb5a92/requests_cache-0.5.2-py2.py3-none-any.whl\n",
      "Requirement already satisfied: matplotlib in /srv/conda/envs/notebook/lib/python3.7/site-packages (from pygbif) (3.1.2)\n",
      "Requirement already satisfied: appdirs>=1.4.3 in /srv/conda/envs/notebook/lib/python3.7/site-packages (from pygbif) (1.4.3)\n",
      "Requirement already satisfied: requests>2.7 in /srv/conda/envs/notebook/lib/python3.7/site-packages (from pygbif) (2.22.0)\n",
      "Requirement already satisfied: six in /srv/conda/envs/notebook/lib/python3.7/site-packages (from geomet->pygbif) (1.14.0)\n",
      "Requirement already satisfied: click in /srv/conda/envs/notebook/lib/python3.7/site-packages (from geomet->pygbif) (7.0)\n",
      "Requirement already satisfied: kiwisolver>=1.0.1 in /srv/conda/envs/notebook/lib/python3.7/site-packages (from matplotlib->pygbif) (1.1.0)\n",
      "Requirement already satisfied: pyparsing!=2.0.4,!=2.1.2,!=2.1.6,>=2.0.1 in /srv/conda/envs/notebook/lib/python3.7/site-packages (from matplotlib->pygbif) (2.4.6)\n",
      "Requirement already satisfied: python-dateutil>=2.1 in /srv/conda/envs/notebook/lib/python3.7/site-packages (from matplotlib->pygbif) (2.7.5)\n",
      "Requirement already satisfied: numpy>=1.11 in /srv/conda/envs/notebook/lib/python3.7/site-packages (from matplotlib->pygbif) (1.17.3)\n",
      "Requirement already satisfied: cycler>=0.10 in /srv/conda/envs/notebook/lib/python3.7/site-packages (from matplotlib->pygbif) (0.10.0)\n",
      "Requirement already satisfied: chardet<3.1.0,>=3.0.2 in /srv/conda/envs/notebook/lib/python3.7/site-packages (from requests>2.7->pygbif) (3.0.4)\n",
      "Requirement already satisfied: urllib3!=1.25.0,!=1.25.1,<1.26,>=1.21.1 in /srv/conda/envs/notebook/lib/python3.7/site-packages (from requests>2.7->pygbif) (1.25.7)\n",
      "Requirement already satisfied: idna<2.9,>=2.5 in /srv/conda/envs/notebook/lib/python3.7/site-packages (from requests>2.7->pygbif) (2.8)\n",
      "Requirement already satisfied: certifi>=2017.4.17 in /srv/conda/envs/notebook/lib/python3.7/site-packages (from requests>2.7->pygbif) (2019.11.28)\n",
      "Requirement already satisfied: setuptools in /srv/conda/envs/notebook/lib/python3.7/site-packages (from kiwisolver>=1.0.1->matplotlib->pygbif) (45.1.0.post20200119)\n",
      "Installing collected packages: geomet, geojson-rewind, requests-cache, pygbif\n",
      "Successfully installed geojson-rewind-0.2.0 geomet-0.2.1.post1 pygbif-0.4.0 requests-cache-0.5.2\n"
     ]
    }
   ],
   "source": [
    "! pip install pygbif\n"
   ]
  },
  {
   "cell_type": "code",
   "execution_count": 1,
   "metadata": {},
   "outputs": [
    {
     "ename": "ModuleNotFoundError",
     "evalue": "No module named 'pygbif'",
     "output_type": "error",
     "traceback": [
      "\u001b[0;31m---------------------------------------------------------------------------\u001b[0m",
      "\u001b[0;31mModuleNotFoundError\u001b[0m                       Traceback (most recent call last)",
      "\u001b[0;32m<ipython-input-1-6c413da0259b>\u001b[0m in \u001b[0;36m<module>\u001b[0;34m\u001b[0m\n\u001b[1;32m     31\u001b[0m \u001b[0mPNW_LON\u001b[0m \u001b[0;34m=\u001b[0m\u001b[0mslice\u001b[0m\u001b[0;34m(\u001b[0m\u001b[0;34m-\u001b[0m\u001b[0;36m170\u001b[0m\u001b[0;34m,\u001b[0m \u001b[0;34m-\u001b[0m\u001b[0;36m103\u001b[0m\u001b[0;34m)\u001b[0m\u001b[0;34m\u001b[0m\u001b[0;34m\u001b[0m\u001b[0m\n\u001b[1;32m     32\u001b[0m \u001b[0;34m\u001b[0m\u001b[0m\n\u001b[0;32m---> 33\u001b[0;31m \u001b[0;32mimport\u001b[0m \u001b[0mpygbif\u001b[0m\u001b[0;34m\u001b[0m\u001b[0;34m\u001b[0m\u001b[0m\n\u001b[0m",
      "\u001b[0;31mModuleNotFoundError\u001b[0m: No module named 'pygbif'"
     ]
    }
   ],
   "source": [
    "import os\n",
    "\n",
    "import pandas as pd\n",
    "import seaborn as sns\n",
    "\n",
    "import matplotlib.pyplot as plt\n",
    "from matplotlib import colors\n",
    "from matplotlib.animation import FuncAnimation\n",
    "sns.set_style('ticks', {'font_scale': 1.1})\n",
    "\n",
    "import random\n",
    "import numpy as np\n",
    "\n",
    "import gcsfs\n",
    "\n",
    "from datetime import timedelta, datetime\n",
    "\n",
    "from functools import partial \n",
    "\n",
    "import cartopy.crs as ccrs\n",
    "import cartopy.feature as cf\n",
    "\n",
    "from tqdm import tqdm\n",
    "\n",
    "import xarray as xr\n",
    "from dask.distributed import Client\n",
    "\n",
    "%matplotlib inline\n",
    "\n",
    "PNW_LAT = slice(1.52, 63.4)\n",
    "PNW_LON =slice(-170, -103)\n",
    "\n",
    "import pygbif"
   ]
  },
  {
   "cell_type": "code",
   "execution_count": null,
   "metadata": {},
   "outputs": [],
   "source": [
    "GCP_PROJECT_ID = '170771369993'\n",
    "OISST_GCP = 'oisst/oisst.zarr'"
   ]
  },
  {
   "cell_type": "markdown",
   "metadata": {},
   "source": [
    "# PNW Focal Species Sanity Check\n",
    "We'll use GBIF to select a species with lots of occurrences in the PNW and assess the impact of MHWs on that species. "
   ]
  },
  {
   "cell_type": "code",
   "execution_count": 3,
   "metadata": {},
   "outputs": [],
   "source": [
    "plankton = pd.read_csv(\"../data/Phytoplankton_temperature_growth_rate_dataset_2016_01_29/traits_derived_2016_01_29.csv\", engine='python')"
   ]
  },
  {
   "cell_type": "code",
   "execution_count": 4,
   "metadata": {},
   "outputs": [],
   "source": [
    "plankton = plankton[(plankton.minqual == \"good\") &\n",
    "                    (plankton.maxqual == \"good\") &\n",
    "                    (plankton.curvequal == \"good\")]"
   ]
  },
  {
   "cell_type": "code",
   "execution_count": 5,
   "metadata": {},
   "outputs": [],
   "source": [
    "plankton = plankton[plankton.habitat == 'marine']"
   ]
  },
  {
   "cell_type": "code",
   "execution_count": 6,
   "metadata": {},
   "outputs": [
    {
     "name": "stdout",
     "output_type": "stream",
     "text": [
      "96\n",
      "62\n"
     ]
    }
   ],
   "source": [
    "print(len(plankton))\n",
    "print(len(set(list(zip(plankton.genus, plankton.species)))))"
   ]
  },
  {
   "cell_type": "code",
   "execution_count": 7,
   "metadata": {},
   "outputs": [
    {
     "data": {
      "text/plain": [
       "array(['Koliella', 'Klebsormidium', 'Phaeocystis', 'Pseudo-nitzschia',\n",
       "       'Emiliania', 'Fibrocapsa', 'Gephyrocapsa', 'Calcidiscus',\n",
       "       'Isochrysis', 'Trichodesmium', 'Pernambugia', 'Skeletonema',\n",
       "       'Odontella', 'Chaetoceros', 'Rhizosolenia', 'Thalassionema',\n",
       "       'Leonella', 'Gymnodinium', 'Crocosphaera', 'Helicotheca',\n",
       "       'Karenia', 'Thalassiosira', 'Synechococcus', 'Amphiprora',\n",
       "       'Leptocylindrus', 'Prochlorococcus', 'Chattonella', nan,\n",
       "       'Akashiwo', 'Cochlodinium', 'Biceratium', 'Neoceratium',\n",
       "       'Peridinium', 'Prorocentrum', 'Conticribra', 'Cylindrotheca',\n",
       "       'Alexandrium', 'Micromonas', 'Diacronema', 'Pleurochrysis',\n",
       "       'Proboscia', 'Chryosochromulina', 'Nannochloris'], dtype=object)"
      ]
     },
     "execution_count": 7,
     "metadata": {},
     "output_type": "execute_result"
    }
   ],
   "source": [
    "plankton.genus.unique()"
   ]
  },
  {
   "cell_type": "code",
   "execution_count": 192,
   "metadata": {},
   "outputs": [
    {
     "data": {
      "text/plain": [
       "<matplotlib.axes._subplots.AxesSubplot at 0x7fd40dc7ced0>"
      ]
     },
     "execution_count": 192,
     "metadata": {},
     "output_type": "execute_result"
    },
    {
     "data": {
      "image/png": "[encoded data removed]",
      "text/plain": [
       "<Figure size 432x288 with 1 Axes>"
      ]
     },
     "metadata": {
      "needs_background": "light"
     },
     "output_type": "display_data"
    }
   ],
   "source": [
    "plankton['mu.c.opt.list'].plot(kind='hist')"
   ]
  },
  {
   "cell_type": "code",
   "execution_count": 193,
   "metadata": {},
   "outputs": [
    {
     "data": {
      "text/html": [
       "<div>\n",
       "<style scoped>\n",
       "    .dataframe tbody tr th:only-of-type {\n",
       "        vertical-align: middle;\n",
       "    }\n",
       "\n",
       "    .dataframe tbody tr th {\n",
       "        vertical-align: top;\n",
       "    }\n",
       "\n",
       "    .dataframe thead th {\n",
       "        text-align: right;\n",
       "    }\n",
       "</style>\n",
       "<table border=\"1\" class=\"dataframe\">\n",
       "  <thead>\n",
       "    <tr style=\"text-align: right;\">\n",
       "      <th></th>\n",
       "      <th>isolate.code</th>\n",
       "      <th>source</th>\n",
       "      <th>isolation.latitude</th>\n",
       "      <th>isolation.longitude</th>\n",
       "      <th>habitat</th>\n",
       "      <th>name</th>\n",
       "      <th>speciesname</th>\n",
       "      <th>former.name.1</th>\n",
       "      <th>former.name.2</th>\n",
       "      <th>strain</th>\n",
       "      <th>...</th>\n",
       "      <th>minqual</th>\n",
       "      <th>maxqual</th>\n",
       "      <th>curvequal</th>\n",
       "      <th>abs.curveskew</th>\n",
       "      <th>rel.curveskew</th>\n",
       "      <th>used.for.optimum.analysis</th>\n",
       "      <th>used.for.tmax.analysis</th>\n",
       "      <th>used.for.tmin.analysis</th>\n",
       "      <th>used.for.niche.width.analysis</th>\n",
       "      <th>used.for.max.growth.rate.analysis</th>\n",
       "    </tr>\n",
       "  </thead>\n",
       "  <tbody>\n",
       "    <tr>\n",
       "      <th>20</th>\n",
       "      <td>26</td>\n",
       "      <td>South Atlantic, off South Africa</td>\n",
       "      <td>-34.28</td>\n",
       "      <td>17.18</td>\n",
       "      <td>marine</td>\n",
       "      <td>Calcidiscus leptoporus strain NS10-2</td>\n",
       "      <td>Calcidiscus leptoporus</td>\n",
       "      <td>NaN</td>\n",
       "      <td>NaN</td>\n",
       "      <td>NS10-2</td>\n",
       "      <td>...</td>\n",
       "      <td>good</td>\n",
       "      <td>good</td>\n",
       "      <td>good</td>\n",
       "      <td>9.704694</td>\n",
       "      <td>0.001558</td>\n",
       "      <td>1.0</td>\n",
       "      <td>1.0</td>\n",
       "      <td>1.0</td>\n",
       "      <td>1.0</td>\n",
       "      <td>1.0</td>\n",
       "    </tr>\n",
       "    <tr>\n",
       "      <th>26</th>\n",
       "      <td>33</td>\n",
       "      <td>South Atlantic, off Namibia</td>\n",
       "      <td>-23.00</td>\n",
       "      <td>14.00</td>\n",
       "      <td>marine</td>\n",
       "      <td>Calcidiscus leptoporus strain N482-1</td>\n",
       "      <td>Calcidiscus leptoporus</td>\n",
       "      <td>NaN</td>\n",
       "      <td>NaN</td>\n",
       "      <td>N482-1</td>\n",
       "      <td>...</td>\n",
       "      <td>good</td>\n",
       "      <td>good</td>\n",
       "      <td>good</td>\n",
       "      <td>-90.140655</td>\n",
       "      <td>-0.014947</td>\n",
       "      <td>1.0</td>\n",
       "      <td>1.0</td>\n",
       "      <td>1.0</td>\n",
       "      <td>1.0</td>\n",
       "      <td>1.0</td>\n",
       "    </tr>\n",
       "    <tr>\n",
       "      <th>132</th>\n",
       "      <td>188</td>\n",
       "      <td>39�36'N 70�06'W (continental shelf edge)</td>\n",
       "      <td>39.60</td>\n",
       "      <td>-70.10</td>\n",
       "      <td>marine</td>\n",
       "      <td>Conticribra guillardii clone 7-15</td>\n",
       "      <td>Conticribra guillardii</td>\n",
       "      <td>Thalassiosira guillardi</td>\n",
       "      <td>Cyclotella nana</td>\n",
       "      <td>NaN</td>\n",
       "      <td>...</td>\n",
       "      <td>good</td>\n",
       "      <td>good</td>\n",
       "      <td>good</td>\n",
       "      <td>-70.982503</td>\n",
       "      <td>-0.003186</td>\n",
       "      <td>1.0</td>\n",
       "      <td>1.0</td>\n",
       "      <td>1.0</td>\n",
       "      <td>1.0</td>\n",
       "      <td>1.0</td>\n",
       "    </tr>\n",
       "    <tr>\n",
       "      <th>163</th>\n",
       "      <td>233</td>\n",
       "      <td>off Monhegan Island, Gulf of Maine, USA</td>\n",
       "      <td>43.56</td>\n",
       "      <td>-69.45</td>\n",
       "      <td>marine</td>\n",
       "      <td>Alexandrium fundyense strain MI</td>\n",
       "      <td>Alexandrium fundyense</td>\n",
       "      <td>NaN</td>\n",
       "      <td>NaN</td>\n",
       "      <td>MI</td>\n",
       "      <td>...</td>\n",
       "      <td>good</td>\n",
       "      <td>good</td>\n",
       "      <td>good</td>\n",
       "      <td>-161.059941</td>\n",
       "      <td>-0.017284</td>\n",
       "      <td>1.0</td>\n",
       "      <td>1.0</td>\n",
       "      <td>1.0</td>\n",
       "      <td>1.0</td>\n",
       "      <td>1.0</td>\n",
       "    </tr>\n",
       "    <tr>\n",
       "      <th>168</th>\n",
       "      <td>239</td>\n",
       "      <td>Bay of Fundy</td>\n",
       "      <td>44.70</td>\n",
       "      <td>-66.51</td>\n",
       "      <td>marine</td>\n",
       "      <td>Alexandrium fundyense strain BoF</td>\n",
       "      <td>Alexandrium fundyense</td>\n",
       "      <td>NaN</td>\n",
       "      <td>NaN</td>\n",
       "      <td>BoF</td>\n",
       "      <td>...</td>\n",
       "      <td>good</td>\n",
       "      <td>good</td>\n",
       "      <td>good</td>\n",
       "      <td>-138.562847</td>\n",
       "      <td>-0.012760</td>\n",
       "      <td>1.0</td>\n",
       "      <td>1.0</td>\n",
       "      <td>1.0</td>\n",
       "      <td>1.0</td>\n",
       "      <td>1.0</td>\n",
       "    </tr>\n",
       "    <tr>\n",
       "      <th>169</th>\n",
       "      <td>240</td>\n",
       "      <td>Northeast Pacific</td>\n",
       "      <td>45.00</td>\n",
       "      <td>-145.00</td>\n",
       "      <td>marine</td>\n",
       "      <td>Pseudo-nitzschia granii</td>\n",
       "      <td>Pseudo-nitzschia granii</td>\n",
       "      <td>NaN</td>\n",
       "      <td>NaN</td>\n",
       "      <td>NaN</td>\n",
       "      <td>...</td>\n",
       "      <td>good</td>\n",
       "      <td>good</td>\n",
       "      <td>good</td>\n",
       "      <td>-4.141825</td>\n",
       "      <td>-0.000537</td>\n",
       "      <td>1.0</td>\n",
       "      <td>1.0</td>\n",
       "      <td>1.0</td>\n",
       "      <td>1.0</td>\n",
       "      <td>1.0</td>\n",
       "    </tr>\n",
       "    <tr>\n",
       "      <th>178</th>\n",
       "      <td>256</td>\n",
       "      <td>Friday Harbour, WA, USA</td>\n",
       "      <td>48.54</td>\n",
       "      <td>-123.01</td>\n",
       "      <td>marine</td>\n",
       "      <td>Skeletonema costatum clone FHS 3</td>\n",
       "      <td>Skeletonema costatum</td>\n",
       "      <td>NaN</td>\n",
       "      <td>NaN</td>\n",
       "      <td>NaN</td>\n",
       "      <td>...</td>\n",
       "      <td>good</td>\n",
       "      <td>good</td>\n",
       "      <td>good</td>\n",
       "      <td>-309.835196</td>\n",
       "      <td>-0.014434</td>\n",
       "      <td>1.0</td>\n",
       "      <td>1.0</td>\n",
       "      <td>1.0</td>\n",
       "      <td>1.0</td>\n",
       "      <td>1.0</td>\n",
       "    </tr>\n",
       "    <tr>\n",
       "      <th>297</th>\n",
       "      <td>422</td>\n",
       "      <td>obtained from MBL, Plymouth</td>\n",
       "      <td>NaN</td>\n",
       "      <td>NaN</td>\n",
       "      <td>marine</td>\n",
       "      <td>Emiliania huxleyi clone P3</td>\n",
       "      <td>Emiliania huxleyi</td>\n",
       "      <td>Coccolithus huxleyi</td>\n",
       "      <td>NaN</td>\n",
       "      <td>NaN</td>\n",
       "      <td>...</td>\n",
       "      <td>good</td>\n",
       "      <td>good</td>\n",
       "      <td>good</td>\n",
       "      <td>-270.539982</td>\n",
       "      <td>-0.017748</td>\n",
       "      <td>0.0</td>\n",
       "      <td>0.0</td>\n",
       "      <td>0.0</td>\n",
       "      <td>1.0</td>\n",
       "      <td>0.0</td>\n",
       "    </tr>\n",
       "    <tr>\n",
       "      <th>399</th>\n",
       "      <td>544</td>\n",
       "      <td>Gulf of Naples, Italy</td>\n",
       "      <td>40.49</td>\n",
       "      <td>14.14</td>\n",
       "      <td>marine</td>\n",
       "      <td>Thalassiosira rotula strain CCMP3264</td>\n",
       "      <td>Thalassiosira rotula</td>\n",
       "      <td>NaN</td>\n",
       "      <td>NaN</td>\n",
       "      <td>CCMP3264</td>\n",
       "      <td>...</td>\n",
       "      <td>good</td>\n",
       "      <td>good</td>\n",
       "      <td>good</td>\n",
       "      <td>-309.766019</td>\n",
       "      <td>-0.012502</td>\n",
       "      <td>1.0</td>\n",
       "      <td>1.0</td>\n",
       "      <td>1.0</td>\n",
       "      <td>1.0</td>\n",
       "      <td>1.0</td>\n",
       "    </tr>\n",
       "    <tr>\n",
       "      <th>407</th>\n",
       "      <td>553</td>\n",
       "      <td>North Atlantic, off Portugal</td>\n",
       "      <td>39.50</td>\n",
       "      <td>-9.33</td>\n",
       "      <td>marine</td>\n",
       "      <td>Conticribra weissflogii strain CCMP1053, SA</td>\n",
       "      <td>Conticribra weissflogii</td>\n",
       "      <td>Thalassiosira weissflogii</td>\n",
       "      <td>NaN</td>\n",
       "      <td>CCMP1053, SA</td>\n",
       "      <td>...</td>\n",
       "      <td>good</td>\n",
       "      <td>good</td>\n",
       "      <td>good</td>\n",
       "      <td>-174.107608</td>\n",
       "      <td>-0.019239</td>\n",
       "      <td>1.0</td>\n",
       "      <td>1.0</td>\n",
       "      <td>1.0</td>\n",
       "      <td>1.0</td>\n",
       "      <td>1.0</td>\n",
       "    </tr>\n",
       "    <tr>\n",
       "      <th>423</th>\n",
       "      <td>570</td>\n",
       "      <td>Ruakaka Bay, Marlborough Sounds, New Zealand</td>\n",
       "      <td>-41.20</td>\n",
       "      <td>174.12</td>\n",
       "      <td>marine</td>\n",
       "      <td>Chrysochromulina ericina</td>\n",
       "      <td>Chryosochromulina ericina</td>\n",
       "      <td>NaN</td>\n",
       "      <td>NaN</td>\n",
       "      <td>NaN</td>\n",
       "      <td>...</td>\n",
       "      <td>good</td>\n",
       "      <td>good</td>\n",
       "      <td>good</td>\n",
       "      <td>-145.668220</td>\n",
       "      <td>-0.019616</td>\n",
       "      <td>1.0</td>\n",
       "      <td>1.0</td>\n",
       "      <td>1.0</td>\n",
       "      <td>1.0</td>\n",
       "      <td>1.0</td>\n",
       "    </tr>\n",
       "    <tr>\n",
       "      <th>424</th>\n",
       "      <td>571</td>\n",
       "      <td>Elie Bay, Marlborough Sounds, New Zealand</td>\n",
       "      <td>-41.13</td>\n",
       "      <td>173.99</td>\n",
       "      <td>marine</td>\n",
       "      <td>Chrysochromulina hirta</td>\n",
       "      <td>Chryosochromulina hirta</td>\n",
       "      <td>NaN</td>\n",
       "      <td>NaN</td>\n",
       "      <td>NaN</td>\n",
       "      <td>...</td>\n",
       "      <td>good</td>\n",
       "      <td>good</td>\n",
       "      <td>good</td>\n",
       "      <td>-131.910963</td>\n",
       "      <td>-0.019797</td>\n",
       "      <td>1.0</td>\n",
       "      <td>1.0</td>\n",
       "      <td>1.0</td>\n",
       "      <td>1.0</td>\n",
       "      <td>1.0</td>\n",
       "    </tr>\n",
       "  </tbody>\n",
       "</table>\n",
       "<p>12 rows × 44 columns</p>\n",
       "</div>"
      ],
      "text/plain": [
       "     isolate.code                                        source  \\\n",
       "20             26              South Atlantic, off South Africa   \n",
       "26             33                   South Atlantic, off Namibia   \n",
       "132           188      39�36'N 70�06'W (continental shelf edge)   \n",
       "163           233       off Monhegan Island, Gulf of Maine, USA   \n",
       "168           239                                  Bay of Fundy   \n",
       "169           240                             Northeast Pacific   \n",
       "178           256                       Friday Harbour, WA, USA   \n",
       "297           422                   obtained from MBL, Plymouth   \n",
       "399           544                         Gulf of Naples, Italy   \n",
       "407           553                  North Atlantic, off Portugal   \n",
       "423           570  Ruakaka Bay, Marlborough Sounds, New Zealand   \n",
       "424           571     Elie Bay, Marlborough Sounds, New Zealand   \n",
       "\n",
       "     isolation.latitude  isolation.longitude habitat  \\\n",
       "20               -34.28                17.18  marine   \n",
       "26               -23.00                14.00  marine   \n",
       "132               39.60               -70.10  marine   \n",
       "163               43.56               -69.45  marine   \n",
       "168               44.70               -66.51  marine   \n",
       "169               45.00              -145.00  marine   \n",
       "178               48.54              -123.01  marine   \n",
       "297                 NaN                  NaN  marine   \n",
       "399               40.49                14.14  marine   \n",
       "407               39.50                -9.33  marine   \n",
       "423              -41.20               174.12  marine   \n",
       "424              -41.13               173.99  marine   \n",
       "\n",
       "                                            name                speciesname  \\\n",
       "20          Calcidiscus leptoporus strain NS10-2     Calcidiscus leptoporus   \n",
       "26          Calcidiscus leptoporus strain N482-1     Calcidiscus leptoporus   \n",
       "132            Conticribra guillardii clone 7-15     Conticribra guillardii   \n",
       "163              Alexandrium fundyense strain MI      Alexandrium fundyense   \n",
       "168             Alexandrium fundyense strain BoF      Alexandrium fundyense   \n",
       "169                      Pseudo-nitzschia granii    Pseudo-nitzschia granii   \n",
       "178             Skeletonema costatum clone FHS 3       Skeletonema costatum   \n",
       "297                   Emiliania huxleyi clone P3          Emiliania huxleyi   \n",
       "399         Thalassiosira rotula strain CCMP3264       Thalassiosira rotula   \n",
       "407  Conticribra weissflogii strain CCMP1053, SA    Conticribra weissflogii   \n",
       "423                     Chrysochromulina ericina  Chryosochromulina ericina   \n",
       "424                       Chrysochromulina hirta    Chryosochromulina hirta   \n",
       "\n",
       "                  former.name.1     former.name.2        strain  ... minqual  \\\n",
       "20                          NaN               NaN        NS10-2  ...    good   \n",
       "26                          NaN               NaN        N482-1  ...    good   \n",
       "132    Thalassiosira guillardi   Cyclotella nana            NaN  ...    good   \n",
       "163                         NaN               NaN            MI  ...    good   \n",
       "168                         NaN               NaN           BoF  ...    good   \n",
       "169                         NaN               NaN           NaN  ...    good   \n",
       "178                         NaN               NaN           NaN  ...    good   \n",
       "297         Coccolithus huxleyi               NaN           NaN  ...    good   \n",
       "399                         NaN               NaN      CCMP3264  ...    good   \n",
       "407  Thalassiosira weissflogii                NaN  CCMP1053, SA  ...    good   \n",
       "423                         NaN               NaN           NaN  ...    good   \n",
       "424                         NaN               NaN           NaN  ...    good   \n",
       "\n",
       "    maxqual curvequal abs.curveskew rel.curveskew used.for.optimum.analysis  \\\n",
       "20     good      good      9.704694      0.001558                       1.0   \n",
       "26     good      good    -90.140655     -0.014947                       1.0   \n",
       "132    good      good    -70.982503     -0.003186                       1.0   \n",
       "163    good      good   -161.059941     -0.017284                       1.0   \n",
       "168    good      good   -138.562847     -0.012760                       1.0   \n",
       "169    good      good     -4.141825     -0.000537                       1.0   \n",
       "178    good      good   -309.835196     -0.014434                       1.0   \n",
       "297    good      good   -270.539982     -0.017748                       0.0   \n",
       "399    good      good   -309.766019     -0.012502                       1.0   \n",
       "407    good      good   -174.107608     -0.019239                       1.0   \n",
       "423    good      good   -145.668220     -0.019616                       1.0   \n",
       "424    good      good   -131.910963     -0.019797                       1.0   \n",
       "\n",
       "    used.for.tmax.analysis used.for.tmin.analysis  \\\n",
       "20                     1.0                    1.0   \n",
       "26                     1.0                    1.0   \n",
       "132                    1.0                    1.0   \n",
       "163                    1.0                    1.0   \n",
       "168                    1.0                    1.0   \n",
       "169                    1.0                    1.0   \n",
       "178                    1.0                    1.0   \n",
       "297                    0.0                    0.0   \n",
       "399                    1.0                    1.0   \n",
       "407                    1.0                    1.0   \n",
       "423                    1.0                    1.0   \n",
       "424                    1.0                    1.0   \n",
       "\n",
       "    used.for.niche.width.analysis used.for.max.growth.rate.analysis  \n",
       "20                            1.0                               1.0  \n",
       "26                            1.0                               1.0  \n",
       "132                           1.0                               1.0  \n",
       "163                           1.0                               1.0  \n",
       "168                           1.0                               1.0  \n",
       "169                           1.0                               1.0  \n",
       "178                           1.0                               1.0  \n",
       "297                           1.0                               0.0  \n",
       "399                           1.0                               1.0  \n",
       "407                           1.0                               1.0  \n",
       "423                           1.0                               1.0  \n",
       "424                           1.0                               1.0  \n",
       "\n",
       "[12 rows x 44 columns]"
      ]
     },
     "execution_count": 193,
     "metadata": {},
     "output_type": "execute_result"
    }
   ],
   "source": [
    "plankton[plankton['mu.c.opt.list'].between(13, 16)]"
   ]
  },
  {
   "cell_type": "code",
   "execution_count": 247,
   "metadata": {},
   "outputs": [],
   "source": [
    "sample_loc = 178"
   ]
  },
  {
   "cell_type": "code",
   "execution_count": null,
   "metadata": {},
   "outputs": [],
   "source": []
  },
  {
   "cell_type": "code",
   "execution_count": 191,
   "metadata": {},
   "outputs": [
    {
     "data": {
      "text/plain": [
       "Index(['isolate.code', 'source', 'isolation.latitude', 'isolation.longitude',\n",
       "       'habitat', 'name', 'speciesname', 'former.name.1', 'former.name.2',\n",
       "       'strain', 'clone', 'species', 'genus', 'family', 'order', 'class',\n",
       "       'phylum', 'kingdom', 'domain', 'comment', 'group', 'mu.rsqrlist',\n",
       "       'mu.wlist', 'mu.alist', 'mu.blist', 'mu.slist', 'mu.c.opt.list',\n",
       "       'mu.c.opt.val.list', 'mu.g.opt.list', 'mu.g.opt.val.list', 'mu.n',\n",
       "       'emp.max.growth', 'tmin', 'tmax', 'minqual', 'maxqual', 'curvequal',\n",
       "       'abs.curveskew', 'rel.curveskew', 'used.for.optimum.analysis',\n",
       "       'used.for.tmax.analysis', 'used.for.tmin.analysis',\n",
       "       'used.for.niche.width.analysis', 'used.for.max.growth.rate.analysis'],\n",
       "      dtype='object')"
      ]
     },
     "execution_count": 191,
     "metadata": {},
     "output_type": "execute_result"
    }
   ],
   "source": [
    "plankton.columns"
   ]
  },
  {
   "cell_type": "markdown",
   "metadata": {},
   "source": [
    "## GBIF Occurrences\n",
    "*For locating PNW species...*"
   ]
  },
  {
   "cell_type": "code",
   "execution_count": 84,
   "metadata": {},
   "outputs": [
    {
     "data": {
      "text/plain": [
       "array(['Koliella', 'Klebsormidium', 'Phaeocystis', 'Pseudo-nitzschia',\n",
       "       'Emiliania', 'Fibrocapsa', 'Gephyrocapsa', 'Calcidiscus',\n",
       "       'Isochrysis', 'Trichodesmium', 'Pernambugia', 'Skeletonema',\n",
       "       'Odontella', 'Chaetoceros', 'Rhizosolenia', 'Thalassionema',\n",
       "       'Leonella', 'Gymnodinium', 'Crocosphaera', 'Helicotheca',\n",
       "       'Karenia', 'Thalassiosira', 'Synechococcus', 'Amphiprora',\n",
       "       'Leptocylindrus', 'Prochlorococcus', 'Chattonella', 'Akashiwo',\n",
       "       'Cochlodinium', 'Biceratium', 'Neoceratium', 'Peridinium',\n",
       "       'Prorocentrum', 'Conticribra', 'Cylindrotheca', 'Alexandrium',\n",
       "       'Micromonas', 'Diacronema', 'Pleurochrysis', 'Proboscia',\n",
       "       'Chryosochromulina', 'Nannochloris'], dtype=object)"
      ]
     },
     "execution_count": 84,
     "metadata": {},
     "output_type": "execute_result"
    }
   ],
   "source": [
    "genera = plankton.genus.dropna().unique()\n",
    "genera"
   ]
  },
  {
   "cell_type": "code",
   "execution_count": 85,
   "metadata": {},
   "outputs": [],
   "source": [
    "genera = [pygbif.species.name_lookup(q=g, rank='genus') for g in genera]"
   ]
  },
  {
   "cell_type": "code",
   "execution_count": 86,
   "metadata": {},
   "outputs": [],
   "source": [
    "genera = [g for g in genera if len(g['results']) > 0]"
   ]
  },
  {
   "cell_type": "code",
   "execution_count": 92,
   "metadata": {},
   "outputs": [],
   "source": [
    "genera = [max(g['results'], key=lambda x: x['numDescendants']) for g in genera]"
   ]
  },
  {
   "cell_type": "code",
   "execution_count": 96,
   "metadata": {},
   "outputs": [
    {
     "data": {
      "text/plain": [
       "[100257648,\n",
       " 2638318,\n",
       " 3202265,\n",
       " 156106086,\n",
       " 3202210,\n",
       " 157137562,\n",
       " 7886820,\n",
       " 3202194,\n",
       " 3202305,\n",
       " 135291666,\n",
       " 7986990,\n",
       " 3193372,\n",
       " 3191919,\n",
       " 3192923,\n",
       " 3236591,\n",
       " 8242378,\n",
       " 157033029,\n",
       " 3207519,\n",
       " 102600899,\n",
       " 7795240,\n",
       " 3266115,\n",
       " 9623827,\n",
       " 3216715,\n",
       " 2633558,\n",
       " 3193082,\n",
       " 3215940,\n",
       " 3194434,\n",
       " 100244582,\n",
       " 7565797,\n",
       " 155694066,\n",
       " 135293515,\n",
       " 7536081,\n",
       " 8069717,\n",
       " 8131159,\n",
       " 7784947,\n",
       " 3205073,\n",
       " 100219962,\n",
       " 3202273,\n",
       " 4674451,\n",
       " 3194133,\n",
       " 2641141]"
      ]
     },
     "execution_count": 96,
     "metadata": {},
     "output_type": "execute_result"
    }
   ],
   "source": [
    "[g['key'] for g in genera]"
   ]
  },
  {
   "cell_type": "code",
   "execution_count": 99,
   "metadata": {},
   "outputs": [],
   "source": [
    "genera_counts = [pygbif.occurrences.count(taxonKey=g['key']) for g in genera]"
   ]
  },
  {
   "cell_type": "code",
   "execution_count": 100,
   "metadata": {},
   "outputs": [
    {
     "data": {
      "text/plain": [
       "[0,\n",
       " 1260,\n",
       " 15529,\n",
       " 0,\n",
       " 16685,\n",
       " 0,\n",
       " 33714,\n",
       " 31506,\n",
       " 1281,\n",
       " 0,\n",
       " 18,\n",
       " 63424,\n",
       " 44286,\n",
       " 246661,\n",
       " 199674,\n",
       " 101496,\n",
       " 0,\n",
       " 44541,\n",
       " 0,\n",
       " 2519,\n",
       " 5,\n",
       " 198039,\n",
       " 18960,\n",
       " 935,\n",
       " 62691,\n",
       " 15007,\n",
       " 1520,\n",
       " 0,\n",
       " 12674,\n",
       " 0,\n",
       " 0,\n",
       " 19577,\n",
       " 73640,\n",
       " 105,\n",
       " 31771,\n",
       " 23326,\n",
       " 0,\n",
       " 464,\n",
       " 641,\n",
       " 23761,\n",
       " 1958]"
      ]
     },
     "execution_count": 100,
     "metadata": {},
     "output_type": "execute_result"
    }
   ],
   "source": [
    "genera_counts"
   ]
  },
  {
   "cell_type": "code",
   "execution_count": 108,
   "metadata": {},
   "outputs": [
    {
     "name": "stdout",
     "output_type": "stream",
     "text": [
      "Koliella 0\n",
      "Klebsormidium 1260\n",
      "Phaeocystis 15529\n",
      "Nitzschia 0\n",
      "Emiliania 16685\n",
      "Fibrocapsa 0\n",
      "Gephyrocapsa 33714\n",
      "Calcidiscus 31506\n",
      "Isochrysis 1281\n",
      "Trichodesmium 0\n",
      "Pernambugia 18\n",
      "Skeletonema 63424\n",
      "Odontella 44286\n",
      "Chaetoceros 246661\n",
      "Rhizosolenia 199674\n",
      "Thalassionema 101496\n",
      "Leonella 0\n",
      "Gymnodinium 44541\n",
      "Crocosphaera 0\n",
      "Helicotheca 2519\n",
      "Karenia 5\n",
      "Thalassiosira 198039\n",
      "Synechococcus 18960\n",
      "Amphiprora 935\n",
      "Leptocylindrus 62691\n",
      "Prochlorococcus 15007\n",
      "Chattonella 1520\n",
      "Akashiwo 0\n",
      "Cochlodinium 12674\n",
      "Biceratium 0\n",
      "Neoceratium 0\n",
      "Peridinium 19577\n",
      "Prorocentrum 73640\n",
      "Conticribra 105\n",
      "Cylindrotheca 31771\n",
      "Alexandrium 23326\n",
      "Micromonas 0\n",
      "Diacronema 464\n",
      "Ipsiura 641\n",
      "Proboscia 23761\n",
      "Nannochloris 1958\n"
     ]
    }
   ],
   "source": [
    "occs = []\n",
    "for genus, genus_count in zip(genera, genera_counts):\n",
    "    print(genus['genus'], genus_count)\n",
    "    if genus_count > 5:\n",
    "        occs.append(pygbif.occurrences.search(\n",
    "            taxonKey=genus['key'],\n",
    "            decimalLatitude=f\"{PNW_LAT.start},{PNW_LAT.stop}\",\n",
    "            decimalLongitude=f\"{PNW_LON.start},{PNW_LON.stop}\"\n",
    "        ))\n",
    "    else: \n",
    "        occs.append([])"
   ]
  },
  {
   "cell_type": "code",
   "execution_count": 120,
   "metadata": {},
   "outputs": [],
   "source": [
    "occs = [o for o in occs if type(o) == dict]"
   ]
  },
  {
   "cell_type": "code",
   "execution_count": 125,
   "metadata": {},
   "outputs": [],
   "source": [
    "max_genus = max(occs, key=lambda x: x['count'])['results'][0]"
   ]
  },
  {
   "cell_type": "code",
   "execution_count": 127,
   "metadata": {},
   "outputs": [
    {
     "data": {
      "text/plain": [
       "'Chaetoceros'"
      ]
     },
     "execution_count": 127,
     "metadata": {},
     "output_type": "execute_result"
    }
   ],
   "source": [
    "max_genus['genus']"
   ]
  },
  {
   "cell_type": "code",
   "execution_count": 9,
   "metadata": {},
   "outputs": [],
   "source": [
    "max_genus_name = \"Skeletonema\""
   ]
  },
  {
   "cell_type": "markdown",
   "metadata": {},
   "source": [
    "## TPC From Genus"
   ]
  },
  {
   "cell_type": "code",
   "execution_count": 10,
   "metadata": {},
   "outputs": [],
   "source": [
    "def tpc(T, a, b, z, w):\n",
    "    '''\n",
    "    https://science.sciencemag.org/content/sci/suppl/2012/10/25/science.1224836.DC1/Thomas.SM.pdf\n",
    "    '''\n",
    "    return a * np.exp(b*T) * (1 - ((T - z)/(w / 2))**2)\n",
    "def plot_tpc(sample, ax=None):\n",
    "    T = np.arange(sample['mu.c.opt.list'] - (sample['mu.wlist'] / 2), sample['mu.c.opt.list'] + (sample['mu.wlist'] / 2), 0.1)\n",
    "    perf = tpc(T, sample['mu.alist'], sample['mu.blist'], sample['mu.c.opt.list'], sample['mu.wlist'])\n",
    "    try:\n",
    "        plotTitle = \"{} {} [{}]\".format(sample.genus, sample.species, sample['isolate.code'])\n",
    "    except AttributeError as e: \n",
    "        plotTitle = \"\"\n",
    "    if ax:\n",
    "        ax.plot(T, perf)\n",
    "        ax.set_title(plotTitle)\n",
    "        ax.set_xlabel(\"$T$\")\n",
    "        sns.despine(ax=ax)\n",
    "    else:\n",
    "        plt.plot(T, perf)\n",
    "        plt.title(plotTitle)\n",
    "        plt.xlabel(\"$T$ [${^\\circ}C$]\")\n",
    "        sns.despine()"
   ]
  },
  {
   "cell_type": "code",
   "execution_count": 9,
   "metadata": {},
   "outputs": [
    {
     "ename": "NameError",
     "evalue": "name 'max_genus_name' is not defined",
     "output_type": "error",
     "traceback": [
      "\u001b[0;31m---------------------------------------------------------------------------\u001b[0m",
      "\u001b[0;31mNameError\u001b[0m                                 Traceback (most recent call last)",
      "\u001b[0;32m<ipython-input-9-4b1082d97e1e>\u001b[0m in \u001b[0;36m<module>\u001b[0;34m\u001b[0m\n\u001b[0;32m----> 1\u001b[0;31m \u001b[0mthis_genus\u001b[0m \u001b[0;34m=\u001b[0m \u001b[0mplankton\u001b[0m\u001b[0;34m[\u001b[0m\u001b[0mplankton\u001b[0m\u001b[0;34m.\u001b[0m\u001b[0mgenus\u001b[0m \u001b[0;34m==\u001b[0m \u001b[0mmax_genus_name\u001b[0m\u001b[0;34m]\u001b[0m\u001b[0;34m\u001b[0m\u001b[0;34m\u001b[0m\u001b[0m\n\u001b[0m",
      "\u001b[0;31mNameError\u001b[0m: name 'max_genus_name' is not defined"
     ]
    }
   ],
   "source": [
    "this_genus = plankton[plankton.genus == max_genus_name]"
   ]
  },
  {
   "cell_type": "code",
   "execution_count": 10,
   "metadata": {},
   "outputs": [
    {
     "ename": "NameError",
     "evalue": "name 'this_genus' is not defined",
     "output_type": "error",
     "traceback": [
      "\u001b[0;31m---------------------------------------------------------------------------\u001b[0m",
      "\u001b[0;31mNameError\u001b[0m                                 Traceback (most recent call last)",
      "\u001b[0;32m<ipython-input-10-3b5c1aad1a08>\u001b[0m in \u001b[0;36m<module>\u001b[0;34m\u001b[0m\n\u001b[0;32m----> 1\u001b[0;31m \u001b[0mthis_genus\u001b[0m\u001b[0;34m\u001b[0m\u001b[0;34m\u001b[0m\u001b[0m\n\u001b[0m",
      "\u001b[0;31mNameError\u001b[0m: name 'this_genus' is not defined"
     ]
    }
   ],
   "source": [
    "this_genus"
   ]
  },
  {
   "cell_type": "markdown",
   "metadata": {},
   "source": [
    "## **NOTE** Overrode above analysis and chose a single species"
   ]
  },
  {
   "cell_type": "code",
   "execution_count": 8,
   "metadata": {},
   "outputs": [
    {
     "ename": "NameError",
     "evalue": "name 'this_genus' is not defined",
     "output_type": "error",
     "traceback": [
      "\u001b[0;31m---------------------------------------------------------------------------\u001b[0m",
      "\u001b[0;31mNameError\u001b[0m                                 Traceback (most recent call last)",
      "\u001b[0;32m<ipython-input-8-bd7e8507c567>\u001b[0m in \u001b[0;36m<module>\u001b[0;34m\u001b[0m\n\u001b[0;32m----> 1\u001b[0;31m \u001b[0msample_species\u001b[0m \u001b[0;34m=\u001b[0m \u001b[0mthis_genus\u001b[0m\u001b[0;34m.\u001b[0m\u001b[0msample\u001b[0m\u001b[0;34m(\u001b[0m\u001b[0;36m1\u001b[0m\u001b[0;34m)\u001b[0m\u001b[0;34m.\u001b[0m\u001b[0miloc\u001b[0m\u001b[0;34m[\u001b[0m\u001b[0;36m0\u001b[0m\u001b[0;34m]\u001b[0m\u001b[0;34m\u001b[0m\u001b[0;34m\u001b[0m\u001b[0m\n\u001b[0m",
      "\u001b[0;31mNameError\u001b[0m: name 'this_genus' is not defined"
     ]
    }
   ],
   "source": [
    "sample_species = this_genus.sample(1).iloc[0]"
   ]
  },
  {
   "cell_type": "code",
   "execution_count": 14,
   "metadata": {},
   "outputs": [
    {
     "data": {
      "image/png": "[encoded data removed]",
      "text/plain": [
       "<Figure size 432x288 with 1 Axes>"
      ]
     },
     "metadata": {
      "needs_background": "light"
     },
     "output_type": "display_data"
    }
   ],
   "source": [
    "plot_tpc(sample_species)"
   ]
  },
  {
   "cell_type": "code",
   "execution_count": null,
   "metadata": {},
   "outputs": [],
   "source": []
  },
  {
   "cell_type": "markdown",
   "metadata": {},
   "source": [
    "## Enter MHW and SST"
   ]
  },
  {
   "cell_type": "code",
   "execution_count": 14,
   "metadata": {},
   "outputs": [],
   "source": [
    "mhw_time = slice('2014-01-01', '2015-05-31')"
   ]
  },
  {
   "cell_type": "code",
   "execution_count": 11,
   "metadata": {},
   "outputs": [],
   "source": [
    "mhws = xr.open_dataset(\"../mhw_pipeline/pnw_mhw_intensity.nc\").rename({\n",
    "    '__xarray_dataarray_variable__': 'mhw_intensity'\n",
    "})\n"
   ]
  },
  {
   "cell_type": "code",
   "execution_count": 12,
   "metadata": {},
   "outputs": [
    {
     "data": {
      "text/html": [
       "<pre>&lt;xarray.Dataset&gt;\n",
       "Dimensions:        (lat: 40, lon: 176, time: 13636)\n",
       "Coordinates:\n",
       "  * lat            (lat) float32 40.125 40.375 40.625 ... 49.375 49.625 49.875\n",
       "  * lon            (lon) float32 -165.875 -165.625 ... -122.375 -122.125\n",
       "  * time           (time) datetime64[ns] 1981-09-01 1981-09-02 ... 2018-12-31\n",
       "Data variables:\n",
       "    mhw_intensity  (lat, lon, time) float64 ...</pre>"
      ],
      "text/plain": [
       "<xarray.Dataset>\n",
       "Dimensions:        (lat: 40, lon: 176, time: 13636)\n",
       "Coordinates:\n",
       "  * lat            (lat) float32 40.125 40.375 40.625 ... 49.375 49.625 49.875\n",
       "  * lon            (lon) float32 -165.875 -165.625 ... -122.375 -122.125\n",
       "  * time           (time) datetime64[ns] 1981-09-01 1981-09-02 ... 2018-12-31\n",
       "Data variables:\n",
       "    mhw_intensity  (lat, lon, time) float64 ..."
      ]
     },
     "execution_count": 12,
     "metadata": {},
     "output_type": "execute_result"
    }
   ],
   "source": [
    "mhws"
   ]
  },
  {
   "cell_type": "code",
   "execution_count": 16,
   "metadata": {},
   "outputs": [],
   "source": [
    "mhw_recent = mhws.sel(time=mhw_time)"
   ]
  },
  {
   "cell_type": "code",
   "execution_count": 24,
   "metadata": {},
   "outputs": [],
   "source": [
    "\n",
    "\n",
    "mhw_count = mhw_recent.median(dim='time').mhw_intensity"
   ]
  },
  {
   "cell_type": "code",
   "execution_count": 25,
   "metadata": {},
   "outputs": [
    {
     "name": "stderr",
     "output_type": "stream",
     "text": [
      "/srv/conda/envs/notebook/lib/python3.7/site-packages/matplotlib/colors.py:1110: RuntimeWarning: invalid value encountered in less_equal\n",
      "  mask |= resdat <= 0\n"
     ]
    },
    {
     "data": {
      "image/png": "[encoded data removed]",
      "text/plain": [
       "<Figure size 720x720 with 2 Axes>"
      ]
     },
     "metadata": {
      "needs_background": "light"
     },
     "output_type": "display_data"
    }
   ],
   "source": [
    "plt.figure(figsize=(10,10))\n",
    "ax = plt.axes(projection=ccrs.Mercator().GOOGLE)\n",
    "plot = mhw_count.plot(norm=colors.LogNorm(vmin=1, vmax=mhw_count.max()), cmap='PuBu_r', ax=ax)"
   ]
  },
  {
   "cell_type": "code",
   "execution_count": 26,
   "metadata": {},
   "outputs": [
    {
     "data": {
      "text/html": [
       "<pre>&lt;xarray.DataArray &#x27;lon&#x27; ()&gt;\n",
       "array(-122.125)</pre>"
      ],
      "text/plain": [
       "<xarray.DataArray 'lon' ()>\n",
       "array(-122.125)"
      ]
     },
     "execution_count": 26,
     "metadata": {},
     "output_type": "execute_result"
    }
   ],
   "source": [
    "mhw_count.lon.max()"
   ]
  },
  {
   "cell_type": "code",
   "execution_count": 27,
   "metadata": {},
   "outputs": [
    {
     "data": {
      "text/plain": [
       "<cartopy.mpl.feature_artist.FeatureArtist at 0x7fdfe1b08dd0>"
      ]
     },
     "execution_count": 27,
     "metadata": {},
     "output_type": "execute_result"
    },
    {
     "data": {
      "image/png": "[encoded data removed]",
      "text/plain": [
       "<Figure size 720x720 with 2 Axes>"
      ]
     },
     "metadata": {
      "needs_background": "light"
     },
     "output_type": "display_data"
    }
   ],
   "source": [
    "plt.figure(figsize=(10,10))\n",
    "ax = plt.axes(projection=ccrs.Mercator().GOOGLE)\n",
    "mhw_count.plot.contourf(cmap='Spectral', ax=ax, transform=ccrs.PlateCarree())\n",
    "ax.gridlines(alpha=0.7)\n",
    "ax.add_feature(cf.COASTLINE, facecolor='black')"
   ]
  },
  {
   "cell_type": "markdown",
   "metadata": {},
   "source": [
    "### SST"
   ]
  },
  {
   "cell_type": "code",
   "execution_count": 237,
   "metadata": {},
   "outputs": [],
   "source": [
    "fs = gcsfs.GCSFileSystem(project=GCP_PROJECT_ID, token=\"/home/jovyan/gc-pangeo.json\")\n",
    "oisst = xr.open_zarr(fs.get_mapper(OISST_GCP))\n",
    "oisst = oisst.assign_coords(lon=(((oisst.lon + 180) % 360) - 180)).sortby('lon')"
   ]
  },
  {
   "cell_type": "code",
   "execution_count": 238,
   "metadata": {},
   "outputs": [],
   "source": [
    "PNW_LAT = slice(mhw_count.lat.min(), mhw_count.lat.max())\n",
    "PNW_LON = slice(mhw_count.lon.min(), mhw_count.lon.max())"
   ]
  },
  {
   "cell_type": "code",
   "execution_count": 39,
   "metadata": {},
   "outputs": [],
   "source": [
    "oisst_pnw = oisst.sel(lat = PNW_LAT, lon = PNW_LON).persist()\n"
   ]
  },
  {
   "cell_type": "code",
   "execution_count": 40,
   "metadata": {},
   "outputs": [],
   "source": [
    "recent_sst = oisst_pnw.sel(time=mhw_time)"
   ]
  },
  {
   "cell_type": "code",
   "execution_count": 289,
   "metadata": {},
   "outputs": [
    {
     "name": "stderr",
     "output_type": "stream",
     "text": [
      "/srv/conda/envs/notebook/lib/python3.7/site-packages/dask/utils.py:29: RuntimeWarning: All-NaN slice encountered\n",
      "  return func(*args, **kwargs)\n",
      "/srv/conda/envs/notebook/lib/python3.7/site-packages/toolz/functoolz.py:488: RuntimeWarning: All-NaN slice encountered\n",
      "  ret = f(ret)\n"
     ]
    },
    {
     "data": {
      "text/plain": [
       "<cartopy.mpl.feature_artist.FeatureArtist at 0x7fbe11095850>"
      ]
     },
     "execution_count": 289,
     "metadata": {},
     "output_type": "execute_result"
    },
    {
     "data": {
      "image/png": "[encoded data removed]",
      "text/plain": [
       "<Figure size 720x720 with 2 Axes>"
      ]
     },
     "metadata": {
      "needs_background": "light"
     },
     "output_type": "display_data"
    }
   ],
   "source": [
    "plt.figure(figsize=(10,10))\n",
    "ax = plt.axes(projection=ccrs.Mercator().GOOGLE)\n",
    "recent_sst.sst.max(dim='time',).plot( ax=ax, transform=ccrs.PlateCarree())\n",
    "ax.add_feature(cf.COASTLINE)"
   ]
  },
  {
   "cell_type": "code",
   "execution_count": 292,
   "metadata": {},
   "outputs": [
    {
     "data": {
      "text/plain": [
       "<cartopy.mpl.feature_artist.FeatureArtist at 0x7fbe110e5fd0>"
      ]
     },
     "execution_count": 292,
     "metadata": {},
     "output_type": "execute_result"
    },
    {
     "data": {
      "image/png": "[encoded data removed]",
      "text/plain": [
       "<Figure size 720x720 with 2 Axes>"
      ]
     },
     "metadata": {
      "needs_background": "light"
     },
     "output_type": "display_data"
    }
   ],
   "source": [
    "\n",
    "plt.figure(figsize=(10,10))\n",
    "ax = plt.axes(projection=ccrs.Mercator().GOOGLE)\n",
    "recent_sst.sst.sel(time=mhw_time.stop).plot.contourf( ax=ax, transform=ccrs.PlateCarree(), levels=10)\n",
    "ax.add_feature(cf.COASTLINE)"
   ]
  },
  {
   "cell_type": "code",
   "execution_count": 256,
   "metadata": {},
   "outputs": [],
   "source": [
    "dates_for_plot = [pd.to_datetime(mhw_time.start) + timedelta(n) for n in range(len(recent_sst.time))]"
   ]
  },
  {
   "cell_type": "code",
   "execution_count": 101,
   "metadata": {},
   "outputs": [
    {
     "data": {
      "text/plain": [
       "<matplotlib.contour.QuadContourSet at 0x7f9c643110d0>"
      ]
     },
     "execution_count": 101,
     "metadata": {},
     "output_type": "execute_result"
    },
    {
     "data": {
      "image/png": "[encoded data removed]",
      "text/plain": [
       "<Figure size 640x480 with 2 Axes>"
      ]
     },
     "metadata": {},
     "output_type": "display_data"
    }
   ],
   "source": [
    "mhws.sel(time=mhw_time.start).mhw.plot.contourf(cmap='binary',vmax=1, levels=3)\n"
   ]
  },
  {
   "cell_type": "code",
   "execution_count": 102,
   "metadata": {
    "collapsed": true,
    "jupyter": {
     "outputs_hidden": true
    }
   },
   "outputs": [
    {
     "name": "stderr",
     "output_type": "stream",
     "text": [
      "MovieWriter ffmpeg unavailable; trying to use <class 'matplotlib.animation.PillowWriter'> instead.\n"
     ]
    },
    {
     "name": "stdout",
     "output_type": "stream",
     "text": [
      "2014-01-01 00:00:00\n",
      "2014-01-01 00:00:00\n",
      "2014-01-02 00:00:00\n",
      "2014-01-03 00:00:00\n",
      "2014-01-04 00:00:00\n",
      "2014-01-05 00:00:00\n",
      "2014-01-06 00:00:00\n",
      "2014-01-07 00:00:00\n",
      "2014-01-08 00:00:00\n",
      "2014-01-09 00:00:00\n",
      "2014-01-10 00:00:00\n",
      "2014-01-11 00:00:00\n",
      "2014-01-12 00:00:00\n",
      "2014-01-13 00:00:00\n",
      "2014-01-14 00:00:00\n",
      "2014-01-15 00:00:00\n",
      "2014-01-16 00:00:00\n",
      "2014-01-17 00:00:00\n",
      "2014-01-18 00:00:00\n",
      "2014-01-19 00:00:00\n",
      "2014-01-20 00:00:00\n",
      "2014-01-21 00:00:00\n",
      "2014-01-22 00:00:00\n",
      "2014-01-23 00:00:00\n",
      "2014-01-24 00:00:00\n",
      "2014-01-25 00:00:00\n",
      "2014-01-26 00:00:00\n",
      "2014-01-27 00:00:00\n",
      "2014-01-28 00:00:00\n",
      "2014-01-29 00:00:00\n",
      "2014-01-30 00:00:00\n",
      "2014-01-31 00:00:00\n",
      "2014-02-01 00:00:00\n",
      "2014-02-02 00:00:00\n",
      "2014-02-03 00:00:00\n",
      "2014-02-04 00:00:00\n",
      "2014-02-05 00:00:00\n",
      "2014-02-06 00:00:00\n",
      "2014-02-07 00:00:00\n",
      "2014-02-08 00:00:00\n",
      "2014-02-09 00:00:00\n",
      "2014-02-10 00:00:00\n",
      "2014-02-11 00:00:00\n",
      "2014-02-12 00:00:00\n",
      "2014-02-13 00:00:00\n",
      "2014-02-14 00:00:00\n",
      "2014-02-15 00:00:00\n",
      "2014-02-16 00:00:00\n",
      "2014-02-17 00:00:00\n",
      "2014-02-18 00:00:00\n",
      "2014-02-19 00:00:00\n",
      "2014-02-20 00:00:00\n",
      "2014-02-21 00:00:00\n",
      "2014-02-22 00:00:00\n",
      "2014-02-23 00:00:00\n",
      "2014-02-24 00:00:00\n",
      "2014-02-25 00:00:00\n",
      "2014-02-26 00:00:00\n",
      "2014-02-27 00:00:00\n",
      "2014-02-28 00:00:00\n",
      "2014-03-01 00:00:00\n",
      "2014-03-02 00:00:00\n",
      "2014-03-03 00:00:00\n",
      "2014-03-04 00:00:00\n",
      "2014-03-05 00:00:00\n",
      "2014-03-06 00:00:00\n",
      "2014-03-07 00:00:00\n",
      "2014-03-08 00:00:00\n",
      "2014-03-09 00:00:00\n",
      "2014-03-10 00:00:00\n",
      "2014-03-11 00:00:00\n",
      "2014-03-12 00:00:00\n",
      "2014-03-13 00:00:00\n",
      "2014-03-14 00:00:00\n",
      "2014-03-15 00:00:00\n",
      "2014-03-16 00:00:00\n",
      "2014-03-17 00:00:00\n",
      "2014-03-18 00:00:00\n",
      "2014-03-19 00:00:00\n",
      "2014-03-20 00:00:00\n",
      "2014-03-21 00:00:00\n",
      "2014-03-22 00:00:00\n",
      "2014-03-23 00:00:00\n",
      "2014-03-24 00:00:00\n",
      "2014-03-25 00:00:00\n",
      "2014-03-26 00:00:00\n",
      "2014-03-27 00:00:00\n",
      "2014-03-28 00:00:00\n",
      "2014-03-29 00:00:00\n",
      "2014-03-30 00:00:00\n",
      "2014-03-31 00:00:00\n",
      "2014-04-01 00:00:00\n",
      "2014-04-02 00:00:00\n",
      "2014-04-03 00:00:00\n",
      "2014-04-04 00:00:00\n",
      "2014-04-05 00:00:00\n",
      "2014-04-06 00:00:00\n",
      "2014-04-07 00:00:00\n",
      "2014-04-08 00:00:00\n",
      "2014-04-09 00:00:00\n",
      "2014-04-10 00:00:00\n",
      "2014-04-11 00:00:00\n",
      "2014-04-12 00:00:00\n",
      "2014-04-13 00:00:00\n",
      "2014-04-14 00:00:00\n",
      "2014-04-15 00:00:00\n",
      "2014-04-16 00:00:00\n",
      "2014-04-17 00:00:00\n",
      "2014-04-18 00:00:00\n",
      "2014-04-19 00:00:00\n",
      "2014-04-20 00:00:00\n",
      "2014-04-21 00:00:00\n",
      "2014-04-22 00:00:00\n",
      "2014-04-23 00:00:00\n",
      "2014-04-24 00:00:00\n",
      "2014-04-25 00:00:00\n",
      "2014-04-26 00:00:00\n",
      "2014-04-27 00:00:00\n",
      "2014-04-28 00:00:00\n",
      "2014-04-29 00:00:00\n",
      "2014-04-30 00:00:00\n",
      "2014-05-01 00:00:00\n",
      "2014-05-02 00:00:00\n",
      "2014-05-03 00:00:00\n",
      "2014-05-04 00:00:00\n",
      "2014-05-05 00:00:00\n",
      "2014-05-06 00:00:00\n",
      "2014-05-07 00:00:00\n",
      "2014-05-08 00:00:00\n",
      "2014-05-09 00:00:00\n",
      "2014-05-10 00:00:00\n",
      "2014-05-11 00:00:00\n",
      "2014-05-12 00:00:00\n",
      "2014-05-13 00:00:00\n",
      "2014-05-14 00:00:00\n",
      "2014-05-15 00:00:00\n",
      "2014-05-16 00:00:00\n",
      "2014-05-17 00:00:00\n",
      "2014-05-18 00:00:00\n",
      "2014-05-19 00:00:00\n",
      "2014-05-20 00:00:00\n",
      "2014-05-21 00:00:00\n",
      "2014-05-22 00:00:00\n",
      "2014-05-23 00:00:00\n",
      "2014-05-24 00:00:00\n",
      "2014-05-25 00:00:00\n",
      "2014-05-26 00:00:00\n",
      "2014-05-27 00:00:00\n",
      "2014-05-28 00:00:00\n",
      "2014-05-29 00:00:00\n",
      "2014-05-30 00:00:00\n",
      "2014-05-31 00:00:00\n",
      "2014-06-01 00:00:00\n",
      "2014-06-02 00:00:00\n",
      "2014-06-03 00:00:00\n",
      "2014-06-04 00:00:00\n",
      "2014-06-05 00:00:00\n",
      "2014-06-06 00:00:00\n",
      "2014-06-07 00:00:00\n",
      "2014-06-08 00:00:00\n",
      "2014-06-09 00:00:00\n",
      "2014-06-10 00:00:00\n",
      "2014-06-11 00:00:00\n",
      "2014-06-12 00:00:00\n",
      "2014-06-13 00:00:00\n",
      "2014-06-14 00:00:00\n",
      "2014-06-15 00:00:00\n",
      "2014-06-16 00:00:00\n",
      "2014-06-17 00:00:00\n",
      "2014-06-18 00:00:00\n",
      "2014-06-19 00:00:00\n",
      "2014-06-20 00:00:00\n",
      "2014-06-21 00:00:00\n",
      "2014-06-22 00:00:00\n",
      "2014-06-23 00:00:00\n",
      "2014-06-24 00:00:00\n",
      "2014-06-25 00:00:00\n",
      "2014-06-26 00:00:00\n",
      "2014-06-27 00:00:00\n",
      "2014-06-28 00:00:00\n",
      "2014-06-29 00:00:00\n",
      "2014-06-30 00:00:00\n",
      "2014-07-01 00:00:00\n",
      "2014-07-02 00:00:00\n",
      "2014-07-03 00:00:00\n",
      "2014-07-04 00:00:00\n",
      "2014-07-05 00:00:00\n",
      "2014-07-06 00:00:00\n",
      "2014-07-07 00:00:00\n",
      "2014-07-08 00:00:00\n",
      "2014-07-09 00:00:00\n",
      "2014-07-10 00:00:00\n",
      "2014-07-11 00:00:00\n",
      "2014-07-12 00:00:00\n",
      "2014-07-13 00:00:00\n",
      "2014-07-14 00:00:00\n",
      "2014-07-15 00:00:00\n",
      "2014-07-16 00:00:00\n",
      "2014-07-17 00:00:00\n",
      "2014-07-18 00:00:00\n",
      "2014-07-19 00:00:00\n",
      "2014-07-20 00:00:00\n",
      "2014-07-21 00:00:00\n",
      "2014-07-22 00:00:00\n",
      "2014-07-23 00:00:00\n",
      "2014-07-24 00:00:00\n",
      "2014-07-25 00:00:00\n",
      "2014-07-26 00:00:00\n",
      "2014-07-27 00:00:00\n",
      "2014-07-28 00:00:00\n",
      "2014-07-29 00:00:00\n",
      "2014-07-30 00:00:00\n",
      "2014-07-31 00:00:00\n",
      "2014-08-01 00:00:00\n",
      "2014-08-02 00:00:00\n",
      "2014-08-03 00:00:00\n",
      "2014-08-04 00:00:00\n",
      "2014-08-05 00:00:00\n",
      "2014-08-06 00:00:00\n",
      "2014-08-07 00:00:00\n",
      "2014-08-08 00:00:00\n",
      "2014-08-09 00:00:00\n",
      "2014-08-10 00:00:00\n",
      "2014-08-11 00:00:00\n",
      "2014-08-12 00:00:00\n",
      "2014-08-13 00:00:00\n",
      "2014-08-14 00:00:00\n",
      "2014-08-15 00:00:00\n",
      "2014-08-16 00:00:00\n",
      "2014-08-17 00:00:00\n",
      "2014-08-18 00:00:00\n",
      "2014-08-19 00:00:00\n",
      "2014-08-20 00:00:00\n",
      "2014-08-21 00:00:00\n",
      "2014-08-22 00:00:00\n",
      "2014-08-23 00:00:00\n",
      "2014-08-24 00:00:00\n",
      "2014-08-25 00:00:00\n",
      "2014-08-26 00:00:00\n",
      "2014-08-27 00:00:00\n",
      "2014-08-28 00:00:00\n",
      "2014-08-29 00:00:00\n",
      "2014-08-30 00:00:00\n",
      "2014-08-31 00:00:00\n",
      "2014-09-01 00:00:00\n",
      "2014-09-02 00:00:00\n",
      "2014-09-03 00:00:00\n",
      "2014-09-04 00:00:00\n",
      "2014-09-05 00:00:00\n",
      "2014-09-06 00:00:00\n",
      "2014-09-07 00:00:00\n",
      "2014-09-08 00:00:00\n",
      "2014-09-09 00:00:00\n",
      "2014-09-10 00:00:00\n",
      "2014-09-11 00:00:00\n",
      "2014-09-12 00:00:00\n",
      "2014-09-13 00:00:00\n",
      "2014-09-14 00:00:00\n",
      "2014-09-15 00:00:00\n",
      "2014-09-16 00:00:00\n",
      "2014-09-17 00:00:00\n",
      "2014-09-18 00:00:00\n",
      "2014-09-19 00:00:00\n",
      "2014-09-20 00:00:00\n",
      "2014-09-21 00:00:00\n",
      "2014-09-22 00:00:00\n",
      "2014-09-23 00:00:00\n",
      "2014-09-24 00:00:00\n",
      "2014-09-25 00:00:00\n",
      "2014-09-26 00:00:00\n",
      "2014-09-27 00:00:00\n",
      "2014-09-28 00:00:00\n",
      "2014-09-29 00:00:00\n",
      "2014-09-30 00:00:00\n",
      "2014-10-01 00:00:00\n",
      "2014-10-02 00:00:00\n",
      "2014-10-03 00:00:00\n",
      "2014-10-04 00:00:00\n",
      "2014-10-05 00:00:00\n",
      "2014-10-06 00:00:00\n",
      "2014-10-07 00:00:00\n",
      "2014-10-08 00:00:00\n",
      "2014-10-09 00:00:00\n",
      "2014-10-10 00:00:00\n",
      "2014-10-11 00:00:00\n",
      "2014-10-12 00:00:00\n",
      "2014-10-13 00:00:00\n",
      "2014-10-14 00:00:00\n",
      "2014-10-15 00:00:00\n",
      "2014-10-16 00:00:00\n",
      "2014-10-17 00:00:00\n",
      "2014-10-18 00:00:00\n",
      "2014-10-19 00:00:00\n",
      "2014-10-20 00:00:00\n",
      "2014-10-21 00:00:00\n",
      "2014-10-22 00:00:00\n",
      "2014-10-23 00:00:00\n",
      "2014-10-24 00:00:00\n",
      "2014-10-25 00:00:00\n",
      "2014-10-26 00:00:00\n",
      "2014-10-27 00:00:00\n",
      "2014-10-28 00:00:00\n",
      "2014-10-29 00:00:00\n",
      "2014-10-30 00:00:00\n",
      "2014-10-31 00:00:00\n",
      "2014-11-01 00:00:00\n",
      "2014-11-02 00:00:00\n",
      "2014-11-03 00:00:00\n",
      "2014-11-04 00:00:00\n",
      "2014-11-05 00:00:00\n",
      "2014-11-06 00:00:00\n",
      "2014-11-07 00:00:00\n",
      "2014-11-08 00:00:00\n",
      "2014-11-09 00:00:00\n",
      "2014-11-10 00:00:00\n",
      "2014-11-11 00:00:00\n",
      "2014-11-12 00:00:00\n",
      "2014-11-13 00:00:00\n",
      "2014-11-14 00:00:00\n",
      "2014-11-15 00:00:00\n",
      "2014-11-16 00:00:00\n",
      "2014-11-17 00:00:00\n",
      "2014-11-18 00:00:00\n",
      "2014-11-19 00:00:00\n",
      "2014-11-20 00:00:00\n",
      "2014-11-21 00:00:00\n",
      "2014-11-22 00:00:00\n",
      "2014-11-23 00:00:00\n",
      "2014-11-24 00:00:00\n",
      "2014-11-25 00:00:00\n",
      "2014-11-26 00:00:00\n",
      "2014-11-27 00:00:00\n",
      "2014-11-28 00:00:00\n",
      "2014-11-29 00:00:00\n",
      "2014-11-30 00:00:00\n",
      "2014-12-01 00:00:00\n",
      "2014-12-02 00:00:00\n",
      "2014-12-03 00:00:00\n",
      "2014-12-04 00:00:00\n",
      "2014-12-05 00:00:00\n",
      "2014-12-06 00:00:00\n",
      "2014-12-07 00:00:00\n",
      "2014-12-08 00:00:00\n",
      "2014-12-09 00:00:00\n",
      "2014-12-10 00:00:00\n",
      "2014-12-11 00:00:00\n",
      "2014-12-12 00:00:00\n",
      "2014-12-13 00:00:00\n",
      "2014-12-14 00:00:00\n",
      "2014-12-15 00:00:00\n",
      "2014-12-16 00:00:00\n",
      "2014-12-17 00:00:00\n",
      "2014-12-18 00:00:00\n",
      "2014-12-19 00:00:00\n",
      "2014-12-20 00:00:00\n",
      "2014-12-21 00:00:00\n",
      "2014-12-22 00:00:00\n",
      "2014-12-23 00:00:00\n",
      "2014-12-24 00:00:00\n",
      "2014-12-25 00:00:00\n",
      "2014-12-26 00:00:00\n",
      "2014-12-27 00:00:00\n",
      "2014-12-28 00:00:00\n",
      "2014-12-29 00:00:00\n",
      "2014-12-30 00:00:00\n",
      "2014-12-31 00:00:00\n",
      "2015-01-01 00:00:00\n",
      "2015-01-02 00:00:00\n",
      "2015-01-03 00:00:00\n",
      "2015-01-04 00:00:00\n",
      "2015-01-05 00:00:00\n",
      "2015-01-06 00:00:00\n",
      "2015-01-07 00:00:00\n",
      "2015-01-08 00:00:00\n",
      "2015-01-09 00:00:00\n",
      "2015-01-10 00:00:00\n",
      "2015-01-11 00:00:00\n",
      "2015-01-12 00:00:00\n",
      "2015-01-13 00:00:00\n",
      "2015-01-14 00:00:00\n",
      "2015-01-15 00:00:00\n",
      "2015-01-16 00:00:00\n",
      "2015-01-17 00:00:00\n",
      "2015-01-18 00:00:00\n",
      "2015-01-19 00:00:00\n",
      "2015-01-20 00:00:00\n",
      "2015-01-21 00:00:00\n",
      "2015-01-22 00:00:00\n",
      "2015-01-23 00:00:00\n",
      "2015-01-24 00:00:00\n",
      "2015-01-25 00:00:00\n",
      "2015-01-26 00:00:00\n",
      "2015-01-27 00:00:00\n",
      "2015-01-28 00:00:00\n",
      "2015-01-29 00:00:00\n",
      "2015-01-30 00:00:00\n",
      "2015-01-31 00:00:00\n",
      "2015-02-01 00:00:00\n",
      "2015-02-02 00:00:00\n",
      "2015-02-03 00:00:00\n",
      "2015-02-04 00:00:00\n",
      "2015-02-05 00:00:00\n",
      "2015-02-06 00:00:00\n",
      "2015-02-07 00:00:00\n",
      "2015-02-08 00:00:00\n",
      "2015-02-09 00:00:00\n",
      "2015-02-10 00:00:00\n",
      "2015-02-11 00:00:00\n",
      "2015-02-12 00:00:00\n",
      "2015-02-13 00:00:00\n",
      "2015-02-14 00:00:00\n",
      "2015-02-15 00:00:00\n",
      "2015-02-16 00:00:00\n",
      "2015-02-17 00:00:00\n",
      "2015-02-18 00:00:00\n",
      "2015-02-19 00:00:00\n",
      "2015-02-20 00:00:00\n",
      "2015-02-21 00:00:00\n",
      "2015-02-22 00:00:00\n",
      "2015-02-23 00:00:00\n",
      "2015-02-24 00:00:00\n",
      "2015-02-25 00:00:00\n",
      "2015-02-26 00:00:00\n",
      "2015-02-27 00:00:00\n",
      "2015-02-28 00:00:00\n",
      "2015-03-01 00:00:00\n",
      "2015-03-02 00:00:00\n",
      "2015-03-03 00:00:00\n",
      "2015-03-04 00:00:00\n",
      "2015-03-05 00:00:00\n",
      "2015-03-06 00:00:00\n",
      "2015-03-07 00:00:00\n",
      "2015-03-08 00:00:00\n",
      "2015-03-09 00:00:00\n",
      "2015-03-10 00:00:00\n",
      "2015-03-11 00:00:00\n",
      "2015-03-12 00:00:00\n",
      "2015-03-13 00:00:00\n",
      "2015-03-14 00:00:00\n",
      "2015-03-15 00:00:00\n",
      "2015-03-16 00:00:00\n",
      "2015-03-17 00:00:00\n",
      "2015-03-18 00:00:00\n",
      "2015-03-19 00:00:00\n",
      "2015-03-20 00:00:00\n",
      "2015-03-21 00:00:00\n",
      "2015-03-22 00:00:00\n",
      "2015-03-23 00:00:00\n",
      "2015-03-24 00:00:00\n",
      "2015-03-25 00:00:00\n",
      "2015-03-26 00:00:00\n",
      "2015-03-27 00:00:00\n",
      "2015-03-28 00:00:00\n",
      "2015-03-29 00:00:00\n",
      "2015-03-30 00:00:00\n",
      "2015-03-31 00:00:00\n",
      "2015-04-01 00:00:00\n",
      "2015-04-02 00:00:00\n",
      "2015-04-03 00:00:00\n",
      "2015-04-04 00:00:00\n",
      "2015-04-05 00:00:00\n",
      "2015-04-06 00:00:00\n",
      "2015-04-07 00:00:00\n",
      "2015-04-08 00:00:00\n",
      "2015-04-09 00:00:00\n",
      "2015-04-10 00:00:00\n",
      "2015-04-11 00:00:00\n",
      "2015-04-12 00:00:00\n",
      "2015-04-13 00:00:00\n",
      "2015-04-14 00:00:00\n",
      "2015-04-15 00:00:00\n",
      "2015-04-16 00:00:00\n",
      "2015-04-17 00:00:00\n",
      "2015-04-18 00:00:00\n",
      "2015-04-19 00:00:00\n",
      "2015-04-20 00:00:00\n",
      "2015-04-21 00:00:00\n",
      "2015-04-22 00:00:00\n",
      "2015-04-23 00:00:00\n",
      "2015-04-24 00:00:00\n",
      "2015-04-25 00:00:00\n",
      "2015-04-26 00:00:00\n",
      "2015-04-27 00:00:00\n",
      "2015-04-28 00:00:00\n",
      "2015-04-29 00:00:00\n",
      "2015-04-30 00:00:00\n",
      "2015-05-01 00:00:00\n",
      "2015-05-02 00:00:00\n",
      "2015-05-03 00:00:00\n",
      "2015-05-04 00:00:00\n",
      "2015-05-05 00:00:00\n",
      "2015-05-06 00:00:00\n",
      "2015-05-07 00:00:00\n",
      "2015-05-08 00:00:00\n",
      "2015-05-09 00:00:00\n",
      "2015-05-10 00:00:00\n",
      "2015-05-11 00:00:00\n",
      "2015-05-12 00:00:00\n",
      "2015-05-13 00:00:00\n",
      "2015-05-14 00:00:00\n",
      "2015-05-15 00:00:00\n",
      "2015-05-16 00:00:00\n",
      "2015-05-17 00:00:00\n",
      "2015-05-18 00:00:00\n",
      "2015-05-19 00:00:00\n",
      "2015-05-20 00:00:00\n",
      "2015-05-21 00:00:00\n",
      "2015-05-22 00:00:00\n",
      "2015-05-23 00:00:00\n",
      "2015-05-24 00:00:00\n",
      "2015-05-25 00:00:00\n",
      "2015-05-26 00:00:00\n",
      "2015-05-27 00:00:00\n",
      "2015-05-28 00:00:00\n",
      "2015-05-29 00:00:00\n",
      "2015-05-30 00:00:00\n",
      "2015-05-31 00:00:00\n",
      "2014-01-01 00:00:00\n"
     ]
    },
    {
     "data": {
      "image/png": "[encoded data removed]",
      "text/plain": [
       "<Figure size 640x480 with 2 Axes>"
      ]
     },
     "metadata": {},
     "output_type": "display_data"
    }
   ],
   "source": [
    "fig = plt.figure()\n",
    "\n",
    "def anim_func(i):\n",
    "    fig.clf()\n",
    "    print(i)\n",
    "    ax = plt.axes(projection=ccrs.Mercator().GOOGLE)\n",
    "    mhws.sel(time=i).mhw.plot.contourf(cmap='binary', ax=ax, transform=ccrs.PlateCarree(), vmax=1, levels=3)\n",
    "\n",
    "    \n",
    "    \n",
    "    \n",
    "anim = FuncAnimation(fig, anim_func, frames=dates_for_plot, interval=100)\n",
    "anim.save(\"test.gif\")"
   ]
  },
  {
   "cell_type": "markdown",
   "metadata": {},
   "source": [
    "## Compute Performance Detriment\n",
    "<!-- We're calling it like this: $$P_{det} = P(T_{opt}) - P(T)$$ where $P(T)$ is the value of the thermal performance curve at temperature $T$.  -->"
   ]
  },
  {
   "cell_type": "code",
   "execution_count": 320,
   "metadata": {},
   "outputs": [],
   "source": [
    "def perf_det(T, T_opt, tpc, axis=1):\n",
    "    \n",
    "    return tpc(T_opt) - tpc(T)\n",
    "\n",
    "def tsm(T, T_opt, axis):\n",
    "    return T - T_opt\n",
    "\n",
    "def plot_det(s, ax):\n",
    "    this_tpc = partial(tpc, a=s['mu.alist'], b=s['mu.blist'], z=s['mu.c.opt.list'], w=s['mu.wlist'])\n",
    "    T = np.arange(s['mu.g.opt.list'] - (s['mu.wlist'] / 2), s['mu.c.opt.list'] + (s['mu.wlist'] / 2), 0.1)\n",
    "    \n",
    "    perf = this_tpc(T)\n",
    "    \n",
    "    max_perf = this_tpc(s['mu.g.opt.list'])\n",
    "    \n",
    "    randomT = np.random.choice(T, size=1)\n",
    "    perf_T = this_tpc(randomT)\n",
    "    det_T = perf_det(randomT, s['mu.g.opt.list'], this_tpc)\n",
    "\n",
    "    plt.plot(T, perf)\n",
    "    plt.vlines(randomT,max_perf, max_perf - det_T)\n",
    "    plt.axhline(max_perf)"
   ]
  },
  {
   "cell_type": "code",
   "execution_count": 321,
   "metadata": {},
   "outputs": [],
   "source": [
    "mean_species=sample_species"
   ]
  },
  {
   "cell_type": "code",
   "execution_count": 322,
   "metadata": {},
   "outputs": [],
   "source": [
    "this_det = partial(\n",
    "    perf_det,\n",
    "    T_opt = mean_species['mu.g.opt.list'],\n",
    "    tpc = partial(tpc,\n",
    "                  a=mean_species['mu.alist'],\n",
    "                  b=mean_species['mu.blist'],\n",
    "                  z=mean_species['mu.c.opt.list'],\n",
    "                  w=mean_species['mu.wlist'])\n",
    ")"
   ]
  },
  {
   "cell_type": "code",
   "execution_count": 323,
   "metadata": {},
   "outputs": [],
   "source": [
    "this_tsm = partial(\n",
    "    tsm,\n",
    "    T_opt = mean_species['mu.g.opt.list']\n",
    ")"
   ]
  },
  {
   "cell_type": "code",
   "execution_count": 324,
   "metadata": {},
   "outputs": [],
   "source": [
    "ans = recent_sst.sst.reduce(this_det, dim='time').compute()"
   ]
  },
  {
   "cell_type": "code",
   "execution_count": 325,
   "metadata": {},
   "outputs": [],
   "source": [
    "tsm_ans = recent_sst.sst.reduce(this_tsm, dim='time').compute()"
   ]
  },
  {
   "cell_type": "code",
   "execution_count": 362,
   "metadata": {},
   "outputs": [
    {
     "data": {
      "image/png": "[encoded data removed]",
      "text/plain": [
       "<Figure size 720x720 with 2 Axes>"
      ]
     },
     "metadata": {
      "needs_background": "light"
     },
     "output_type": "display_data"
    }
   ],
   "source": [
    "plt.figure(figsize=(10,10))\n",
    "ax = plt.axes(projection=ccrs.Mercator().GOOGLE)\n",
    "ans.sel(time=slice('2014-01-01', '2014-05-28')).sum(dim='time').plot.contourf(ax=ax, cmap='viridis', vmin=-10, vmax=10)\n",
    "ax.gridlines(alpha=0.7)\n",
    "ax.add_feature(cf.COASTLINE, facecolor='black', zorder=10)\n",
    "plt.show()"
   ]
  },
  {
   "cell_type": "code",
   "execution_count": 357,
   "metadata": {},
   "outputs": [
    {
     "data": {
      "text/plain": [
       "<cartopy.mpl.feature_artist.FeatureArtist at 0x7fd4008ee790>"
      ]
     },
     "execution_count": 357,
     "metadata": {},
     "output_type": "execute_result"
    },
    {
     "data": {
      "image/png": "[encoded data removed]",
      "text/plain": [
       "<Figure size 720x720 with 2 Axes>"
      ]
     },
     "metadata": {
      "needs_background": "light"
     },
     "output_type": "display_data"
    }
   ],
   "source": [
    "plt.figure(figsize=(10,10))\n",
    "ax = plt.axes(projection=ccrs.Mercator().GOOGLE)\n",
    "tsm_ans.mean(dim='time').plot.contourf(ax=ax, cmap='viridis', vmin=-1, vmax=1)\n",
    "ax.gridlines(alpha=0.7)\n",
    "ax.add_feature(cf.COASTLINE, facecolor='black')\n"
   ]
  },
  {
   "cell_type": "code",
   "execution_count": 356,
   "metadata": {},
   "outputs": [
    {
     "data": {
      "text/plain": [
       "<cartopy.mpl.feature_artist.FeatureArtist at 0x7fd40094cd10>"
      ]
     },
     "execution_count": 356,
     "metadata": {},
     "output_type": "execute_result"
    },
    {
     "data": {
      "image/png": "[encoded data removed]",
      "text/plain": [
       "<Figure size 720x720 with 2 Axes>"
      ]
     },
     "metadata": {
      "needs_background": "light"
     },
     "output_type": "display_data"
    }
   ],
   "source": [
    "plt.figure(figsize=(10,10))\n",
    "ax = plt.axes(projection=ccrs.Mercator().GOOGLE)\n",
    "ans.sel(time=slice('2014-10-25', '2014-12-31')).std(dim='time').plot.contourf(ax=ax)\n",
    "ax.gridlines(alpha=0.7)\n",
    "ax.add_feature(cf.COASTLINE, facecolor='black')\n"
   ]
  },
  {
   "cell_type": "code",
   "execution_count": 303,
   "metadata": {},
   "outputs": [],
   "source": [
    "example_mhw = slice('2014-01-01', '2014-5-31')\n",
    "ans_cumsum = ans.sel(time=example_mhw).cumsum(dim='time')\n",
    "mhw_cumsum = mhws.sel(time=example_mhw).mhw.cumsum(dim='time')"
   ]
  },
  {
   "cell_type": "code",
   "execution_count": 304,
   "metadata": {},
   "outputs": [],
   "source": [
    "def daterange(start_date, end_date):\n",
    "    for n in range(int ((pd.to_datetime(end_date) - pd.to_datetime(start_date)).days)):\n",
    "        yield pd.to_datetime(start_date) + timedelta(n)"
   ]
  },
  {
   "cell_type": "code",
   "execution_count": 311,
   "metadata": {},
   "outputs": [
    {
     "name": "stderr",
     "output_type": "stream",
     "text": [
      "MovieWriter ffmpeg unavailable; trying to use <class 'matplotlib.animation.PillowWriter'> instead.\n"
     ]
    },
    {
     "name": "stdout",
     "output_type": "stream",
     "text": [
      "2014-01-01 00:00:00\n",
      "2014-01-01 00:00:00\n",
      "2014-01-02 00:00:00\n",
      "2014-01-03 00:00:00\n",
      "2014-01-04 00:00:00\n",
      "2014-01-05 00:00:00\n",
      "2014-01-06 00:00:00\n",
      "2014-01-07 00:00:00\n",
      "2014-01-08 00:00:00\n",
      "2014-01-09 00:00:00\n",
      "2014-01-10 00:00:00\n",
      "2014-01-11 00:00:00\n",
      "2014-01-12 00:00:00\n",
      "2014-01-13 00:00:00\n",
      "2014-01-14 00:00:00\n",
      "2014-01-15 00:00:00\n",
      "2014-01-16 00:00:00\n",
      "2014-01-17 00:00:00\n",
      "2014-01-18 00:00:00\n",
      "2014-01-19 00:00:00\n",
      "2014-01-20 00:00:00\n",
      "2014-01-21 00:00:00\n",
      "2014-01-22 00:00:00\n",
      "2014-01-23 00:00:00\n",
      "2014-01-24 00:00:00\n",
      "2014-01-25 00:00:00\n",
      "2014-01-26 00:00:00\n",
      "2014-01-27 00:00:00\n",
      "2014-01-28 00:00:00\n",
      "2014-01-29 00:00:00\n",
      "2014-01-30 00:00:00\n",
      "2014-01-31 00:00:00\n",
      "2014-02-01 00:00:00\n",
      "2014-02-02 00:00:00\n",
      "2014-02-03 00:00:00\n",
      "2014-02-04 00:00:00\n",
      "2014-02-05 00:00:00\n",
      "2014-02-06 00:00:00\n",
      "2014-02-07 00:00:00\n",
      "2014-02-08 00:00:00\n",
      "2014-02-09 00:00:00\n",
      "2014-02-10 00:00:00\n",
      "2014-02-11 00:00:00\n",
      "2014-02-12 00:00:00\n",
      "2014-02-13 00:00:00\n",
      "2014-02-14 00:00:00\n",
      "2014-02-15 00:00:00\n",
      "2014-02-16 00:00:00\n",
      "2014-02-17 00:00:00\n",
      "2014-02-18 00:00:00\n",
      "2014-02-19 00:00:00\n",
      "2014-02-20 00:00:00\n",
      "2014-02-21 00:00:00\n",
      "2014-02-22 00:00:00\n",
      "2014-02-23 00:00:00\n",
      "2014-02-24 00:00:00\n",
      "2014-02-25 00:00:00\n",
      "2014-02-26 00:00:00\n",
      "2014-02-27 00:00:00\n",
      "2014-02-28 00:00:00\n",
      "2014-03-01 00:00:00\n",
      "2014-03-02 00:00:00\n",
      "2014-03-03 00:00:00\n",
      "2014-03-04 00:00:00\n",
      "2014-03-05 00:00:00\n",
      "2014-03-06 00:00:00\n",
      "2014-03-07 00:00:00\n",
      "2014-03-08 00:00:00\n",
      "2014-03-09 00:00:00\n",
      "2014-03-10 00:00:00\n",
      "2014-03-11 00:00:00\n",
      "2014-03-12 00:00:00\n",
      "2014-03-13 00:00:00\n",
      "2014-03-14 00:00:00\n",
      "2014-03-15 00:00:00\n",
      "2014-03-16 00:00:00\n",
      "2014-03-17 00:00:00\n",
      "2014-03-18 00:00:00\n",
      "2014-03-19 00:00:00\n",
      "2014-03-20 00:00:00\n",
      "2014-03-21 00:00:00\n",
      "2014-03-22 00:00:00\n",
      "2014-03-23 00:00:00\n",
      "2014-03-24 00:00:00\n",
      "2014-03-25 00:00:00\n",
      "2014-03-26 00:00:00\n",
      "2014-03-27 00:00:00\n",
      "2014-03-28 00:00:00\n",
      "2014-03-29 00:00:00\n",
      "2014-03-30 00:00:00\n",
      "2014-03-31 00:00:00\n",
      "2014-04-01 00:00:00\n",
      "2014-04-02 00:00:00\n",
      "2014-04-03 00:00:00\n",
      "2014-04-04 00:00:00\n",
      "2014-04-05 00:00:00\n",
      "2014-04-06 00:00:00\n",
      "2014-04-07 00:00:00\n",
      "2014-04-08 00:00:00\n",
      "2014-04-09 00:00:00\n",
      "2014-04-10 00:00:00\n",
      "2014-04-11 00:00:00\n",
      "2014-04-12 00:00:00\n",
      "2014-04-13 00:00:00\n",
      "2014-04-14 00:00:00\n",
      "2014-04-15 00:00:00\n",
      "2014-04-16 00:00:00\n",
      "2014-04-17 00:00:00\n",
      "2014-04-18 00:00:00\n",
      "2014-04-19 00:00:00\n",
      "2014-04-20 00:00:00\n",
      "2014-04-21 00:00:00\n",
      "2014-04-22 00:00:00\n",
      "2014-04-23 00:00:00\n",
      "2014-04-24 00:00:00\n",
      "2014-04-25 00:00:00\n",
      "2014-04-26 00:00:00\n",
      "2014-04-27 00:00:00\n",
      "2014-04-28 00:00:00\n",
      "2014-04-29 00:00:00\n",
      "2014-04-30 00:00:00\n",
      "2014-05-01 00:00:00\n",
      "2014-05-02 00:00:00\n",
      "2014-05-03 00:00:00\n",
      "2014-05-04 00:00:00\n",
      "2014-05-05 00:00:00\n",
      "2014-05-06 00:00:00\n",
      "2014-05-07 00:00:00\n",
      "2014-05-08 00:00:00\n",
      "2014-05-09 00:00:00\n",
      "2014-05-10 00:00:00\n",
      "2014-05-11 00:00:00\n",
      "2014-05-12 00:00:00\n",
      "2014-05-13 00:00:00\n",
      "2014-05-14 00:00:00\n",
      "2014-05-15 00:00:00\n",
      "2014-05-16 00:00:00\n",
      "2014-05-17 00:00:00\n",
      "2014-05-18 00:00:00\n",
      "2014-05-19 00:00:00\n",
      "2014-05-20 00:00:00\n",
      "2014-05-21 00:00:00\n",
      "2014-05-22 00:00:00\n",
      "2014-05-23 00:00:00\n",
      "2014-05-24 00:00:00\n",
      "2014-05-25 00:00:00\n",
      "2014-05-26 00:00:00\n",
      "2014-05-27 00:00:00\n",
      "2014-05-28 00:00:00\n",
      "2014-05-29 00:00:00\n",
      "2014-05-30 00:00:00\n",
      "2014-01-01 00:00:00\n"
     ]
    },
    {
     "data": {
      "image/png": "[encoded data removed]",
      "text/plain": [
       "<Figure size 720x720 with 4 Axes>"
      ]
     },
     "metadata": {
      "needs_background": "light"
     },
     "output_type": "display_data"
    }
   ],
   "source": [
    "fig = plt.figure(figsize=(10,10))\n",
    "\n",
    "def anim_func(i):\n",
    "    print(i)\n",
    "    fig.clf()\n",
    "    ax = fig.subplots(nrows =1, ncols = 2, subplot_kw={\"projection\" : ccrs.PlateCarree()})\n",
    "    mhws.mhw.sel(time=i).plot(cmap='Spectral', ax=ax[0], transform=ccrs.PlateCarree(), vmax=1)\n",
    "    ans_norm = colors.DivergingNorm(vmin=-1, vcenter=0, vmax=1)\n",
    "    ans.sel(time=i).plot(cmap='bwr', ax=ax[1], transform=ccrs.PlateCarree(), norm=ans_norm)\n",
    "    ax[0].add_feature(cf.COASTLINE, facecolor='black')\n",
    "    ax[1].add_feature(cf.COASTLINE, facecolor='black')\n",
    "\n",
    "\n",
    "frames = list(daterange(example_mhw.start, example_mhw.stop))\n",
    "\n",
    "anim = FuncAnimation(fig, anim_func, frames=frames, interval=100, save_count=len(frames))\n",
    "anim.save(\"test.gif\")"
   ]
  },
  {
   "cell_type": "code",
   "execution_count": null,
   "metadata": {},
   "outputs": [],
   "source": [
    "\n"
   ]
  },
  {
   "cell_type": "code",
   "execution_count": null,
   "metadata": {},
   "outputs": [],
   "source": []
  }
 ],
 "metadata": {
  "kernelspec": {
   "display_name": "Python 3",
   "language": "python",
   "name": "python3"
  },
  "language_info": {
   "codemirror_mode": {
    "name": "ipython",
    "version": 3
   },
   "file_extension": ".py",
   "mimetype": "text/x-python",
   "name": "python",
   "nbconvert_exporter": "python",
   "pygments_lexer": "ipython3",
   "version": "3.7.6"
  }
 },
 "nbformat": 4,
 "nbformat_minor": 4
}
