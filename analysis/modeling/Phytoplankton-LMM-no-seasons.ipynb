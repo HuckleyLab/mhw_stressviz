{
 "cells": [
  {
   "cell_type": "code",
   "execution_count": 2,
   "metadata": {},
   "outputs": [],
   "source": [
    "options(warn=-1)\n",
    "suppressWarnings({\n",
    "    library(lmerTest)\n",
    "    library(lme4)\n",
    "    library(ggplot2)\n",
    "    library(dplyr)\n",
    "    library(tidyr)\n",
    "    library(sjPlot)\n",
    "    library(IRdisplay)\n",
    "    library(car)\n",
    "    library(ggeffects)\n",
    "    library(gridExtra)\n",
    "    library(repr)\n",
    "    \n",
    "})\n",
    "options(repr.plot.width=4, repr.plot.height=3)"
   ]
  },
  {
   "cell_type": "markdown",
   "metadata": {},
   "source": [
    "# Investigating MHWs + Phytoplankton Performance Response via LMMs\n",
    "\n",
    "Tony Cannistra, May 2020\n",
    "\n",
    "**Purpose**: To experiment with linear mixed effects models to examine whether a significant relationship exists between latitude, yearly mean sea surface temperature, and performance ratio during marine heatwave events. \n",
    "\n",
    "**Method**: Build a linear mixed model of performance ratio with the following effects: \n",
    "\n",
    "*Fixed*: \n",
    "* Second-degree polynomial of Latitude *(perhaps also abs(lat))*\n",
    "* mean_sst_event_year_local\n",
    "* season\n",
    "* *interaction terms*\n",
    "\n",
    "\n",
    "*Random*:\n",
    "* phytoplankton isolate\n",
    "\n",
    "\n",
    "Perhaps season should be a fixed effect, especially since it likely does have control over the direction + shape of the curve. \n",
    "\n",
    "## Data\n",
    "\n",
    "We compute individual isolate performance for all local heatwaves in [this notebook](../Individual_Isolate_performance.ipynb), and use these data below. "
   ]
  },
  {
   "cell_type": "code",
   "execution_count": 3,
   "metadata": {},
   "outputs": [
    {
     "data": {
      "text/html": [
       "<table>\n",
       "<thead><tr><th scope=col>X</th><th scope=col>lat</th><th scope=col>lon</th><th scope=col>isolate</th><th scope=col>mhw</th><th scope=col>detriment_sum</th><th scope=col>relative_detriment_mean</th><th scope=col>detriment_mean</th><th scope=col>performance_diff_mean</th><th scope=col>performance_diff_unscaled_mean</th><th scope=col>...</th><th scope=col>start_doy</th><th scope=col>peak_doy</th><th scope=col>current_year_sst_mean</th><th scope=col>period_all_time_mean_sst</th><th scope=col>annual_mean_sst</th><th scope=col>start_date</th><th scope=col>peak_date</th><th scope=col>perf_det_ratio</th><th scope=col>latbin</th><th scope=col>doy_bins</th></tr></thead>\n",
       "<tbody>\n",
       "\t<tr><td>0                </td><td>-74.875          </td><td>164.625          </td><td>1                </td><td> 4               </td><td> 3.433027        </td><td>1.303966         </td><td>0.4291283        </td><td>0.23719293       </td><td>0.078058928      </td><td>...              </td><td>  1              </td><td>  1              </td><td>-1.202301        </td><td>-1.2320130       </td><td>-1.230659        </td><td>1986-12-31       </td><td>5.364576e+17     </td><td>0.8461350        </td><td>(-75.026, -59.75]</td><td>(0.639, 91.25]   </td></tr>\n",
       "\t<tr><td>1                </td><td>-74.875          </td><td>164.625          </td><td>1                </td><td> 5               </td><td> 6.265167        </td><td>1.269172         </td><td>0.4176778        </td><td>0.28725032       </td><td>0.094532547      </td><td>...              </td><td> 21              </td><td> 32              </td><td>-1.103370        </td><td>-0.3548288       </td><td>-1.230659        </td><td>1987-01-21       </td><td>5.391360e+17     </td><td>0.8156109        </td><td>(-75.026, -59.75]</td><td>(0.639, 91.25]   </td></tr>\n",
       "\t<tr><td>2                </td><td>-74.875          </td><td>164.625          </td><td>1                </td><td>11               </td><td> 9.585366        </td><td>1.713322         </td><td>0.5638451        </td><td>0.03568606       </td><td>0.011744091      </td><td>...              </td><td>232              </td><td>244              </td><td>-1.168743        </td><td>-1.4795898       </td><td>-1.230659        </td><td>1988-08-19       </td><td>5.889888e+17     </td><td>0.9795979        </td><td>(-75.026, -59.75]</td><td>(181.5, 271.75]  </td></tr>\n",
       "\t<tr><td>3                </td><td>-74.875          </td><td>164.625          </td><td>1                </td><td>14               </td><td>10.139295        </td><td>1.711648         </td><td>0.5632942        </td><td>0.03325621       </td><td>0.010944441      </td><td>...              </td><td>196              </td><td>201              </td><td>-1.181397        </td><td>-1.4468017       </td><td>-1.230659        </td><td>1989-07-15       </td><td>6.168960e+17     </td><td>0.9809409        </td><td>(-75.026, -59.75]</td><td>(181.5, 271.75]  </td></tr>\n",
       "\t<tr><td>4                </td><td>-74.875          </td><td>164.625          </td><td>1                </td><td>37               </td><td> 6.210158        </td><td>1.715494         </td><td>0.5645598        </td><td>0.02973751       </td><td>0.009786456      </td><td>...              </td><td>215              </td><td>220              </td><td>-1.219370        </td><td>-1.4356755       </td><td>-1.230659        </td><td>1995-08-03       </td><td>8.078400e+17     </td><td>0.9829606        </td><td>(-75.026, -59.75]</td><td>(181.5, 271.75]  </td></tr>\n",
       "\t<tr><td>5                </td><td>-74.875          </td><td>164.625          </td><td>1                </td><td>69               </td><td> 5.665564        </td><td>1.721560         </td><td>0.5665564        </td><td>0.02600654       </td><td>0.008558612      </td><td>...              </td><td>133              </td><td>138              </td><td>-1.088333        </td><td>-1.4704324       </td><td>-1.230659        </td><td>2004-05-12       </td><td>1.084752e+18     </td><td>0.9851187        </td><td>(-75.026, -59.75]</td><td>(91.25, 181.5]   </td></tr>\n",
       "</tbody>\n",
       "</table>\n"
      ],
      "text/latex": [
       "\\begin{tabular}{r|llllllllllllllllllllllll}\n",
       " X & lat & lon & isolate & mhw & detriment\\_sum & relative\\_detriment\\_mean & detriment\\_mean & performance\\_diff\\_mean & performance\\_diff\\_unscaled\\_mean & ... & start\\_doy & peak\\_doy & current\\_year\\_sst\\_mean & period\\_all\\_time\\_mean\\_sst & annual\\_mean\\_sst & start\\_date & peak\\_date & perf\\_det\\_ratio & latbin & doy\\_bins\\\\\n",
       "\\hline\n",
       "\t 0                   & -74.875             & 164.625             & 1                   &  4                  &  3.433027           & 1.303966            & 0.4291283           & 0.23719293          & 0.078058928         & ...                 &   1                 &   1                 & -1.202301           & -1.2320130          & -1.230659           & 1986-12-31          & 5.364576e+17        & 0.8461350           & (-75.026, -59.75{]} & (0.639, 91.25{]}   \\\\\n",
       "\t 1                   & -74.875             & 164.625             & 1                   &  5                  &  6.265167           & 1.269172            & 0.4176778           & 0.28725032          & 0.094532547         & ...                 &  21                 &  32                 & -1.103370           & -0.3548288          & -1.230659           & 1987-01-21          & 5.391360e+17        & 0.8156109           & (-75.026, -59.75{]} & (0.639, 91.25{]}   \\\\\n",
       "\t 2                   & -74.875             & 164.625             & 1                   & 11                  &  9.585366           & 1.713322            & 0.5638451           & 0.03568606          & 0.011744091         & ...                 & 232                 & 244                 & -1.168743           & -1.4795898          & -1.230659           & 1988-08-19          & 5.889888e+17        & 0.9795979           & (-75.026, -59.75{]} & (181.5, 271.75{]}  \\\\\n",
       "\t 3                   & -74.875             & 164.625             & 1                   & 14                  & 10.139295           & 1.711648            & 0.5632942           & 0.03325621          & 0.010944441         & ...                 & 196                 & 201                 & -1.181397           & -1.4468017          & -1.230659           & 1989-07-15          & 6.168960e+17        & 0.9809409           & (-75.026, -59.75{]} & (181.5, 271.75{]}  \\\\\n",
       "\t 4                   & -74.875             & 164.625             & 1                   & 37                  &  6.210158           & 1.715494            & 0.5645598           & 0.02973751          & 0.009786456         & ...                 & 215                 & 220                 & -1.219370           & -1.4356755          & -1.230659           & 1995-08-03          & 8.078400e+17        & 0.9829606           & (-75.026, -59.75{]} & (181.5, 271.75{]}  \\\\\n",
       "\t 5                   & -74.875             & 164.625             & 1                   & 69                  &  5.665564           & 1.721560            & 0.5665564           & 0.02600654          & 0.008558612         & ...                 & 133                 & 138                 & -1.088333           & -1.4704324          & -1.230659           & 2004-05-12          & 1.084752e+18        & 0.9851187           & (-75.026, -59.75{]} & (91.25, 181.5{]}   \\\\\n",
       "\\end{tabular}\n"
      ],
      "text/markdown": [
       "\n",
       "| X | lat | lon | isolate | mhw | detriment_sum | relative_detriment_mean | detriment_mean | performance_diff_mean | performance_diff_unscaled_mean | ... | start_doy | peak_doy | current_year_sst_mean | period_all_time_mean_sst | annual_mean_sst | start_date | peak_date | perf_det_ratio | latbin | doy_bins |\n",
       "|---|---|---|---|---|---|---|---|---|---|---|---|---|---|---|---|---|---|---|---|---|\n",
       "| 0                 | -74.875           | 164.625           | 1                 |  4                |  3.433027         | 1.303966          | 0.4291283         | 0.23719293        | 0.078058928       | ...               |   1               |   1               | -1.202301         | -1.2320130        | -1.230659         | 1986-12-31        | 5.364576e+17      | 0.8461350         | (-75.026, -59.75] | (0.639, 91.25]    |\n",
       "| 1                 | -74.875           | 164.625           | 1                 |  5                |  6.265167         | 1.269172          | 0.4176778         | 0.28725032        | 0.094532547       | ...               |  21               |  32               | -1.103370         | -0.3548288        | -1.230659         | 1987-01-21        | 5.391360e+17      | 0.8156109         | (-75.026, -59.75] | (0.639, 91.25]    |\n",
       "| 2                 | -74.875           | 164.625           | 1                 | 11                |  9.585366         | 1.713322          | 0.5638451         | 0.03568606        | 0.011744091       | ...               | 232               | 244               | -1.168743         | -1.4795898        | -1.230659         | 1988-08-19        | 5.889888e+17      | 0.9795979         | (-75.026, -59.75] | (181.5, 271.75]   |\n",
       "| 3                 | -74.875           | 164.625           | 1                 | 14                | 10.139295         | 1.711648          | 0.5632942         | 0.03325621        | 0.010944441       | ...               | 196               | 201               | -1.181397         | -1.4468017        | -1.230659         | 1989-07-15        | 6.168960e+17      | 0.9809409         | (-75.026, -59.75] | (181.5, 271.75]   |\n",
       "| 4                 | -74.875           | 164.625           | 1                 | 37                |  6.210158         | 1.715494          | 0.5645598         | 0.02973751        | 0.009786456       | ...               | 215               | 220               | -1.219370         | -1.4356755        | -1.230659         | 1995-08-03        | 8.078400e+17      | 0.9829606         | (-75.026, -59.75] | (181.5, 271.75]   |\n",
       "| 5                 | -74.875           | 164.625           | 1                 | 69                |  5.665564         | 1.721560          | 0.5665564         | 0.02600654        | 0.008558612       | ...               | 133               | 138               | -1.088333         | -1.4704324        | -1.230659         | 2004-05-12        | 1.084752e+18      | 0.9851187         | (-75.026, -59.75] | (91.25, 181.5]    |\n",
       "\n"
      ],
      "text/plain": [
       "  X lat     lon     isolate mhw detriment_sum relative_detriment_mean\n",
       "1 0 -74.875 164.625 1        4   3.433027     1.303966               \n",
       "2 1 -74.875 164.625 1        5   6.265167     1.269172               \n",
       "3 2 -74.875 164.625 1       11   9.585366     1.713322               \n",
       "4 3 -74.875 164.625 1       14  10.139295     1.711648               \n",
       "5 4 -74.875 164.625 1       37   6.210158     1.715494               \n",
       "6 5 -74.875 164.625 1       69   5.665564     1.721560               \n",
       "  detriment_mean performance_diff_mean performance_diff_unscaled_mean ...\n",
       "1 0.4291283      0.23719293            0.078058928                    ...\n",
       "2 0.4176778      0.28725032            0.094532547                    ...\n",
       "3 0.5638451      0.03568606            0.011744091                    ...\n",
       "4 0.5632942      0.03325621            0.010944441                    ...\n",
       "5 0.5645598      0.02973751            0.009786456                    ...\n",
       "6 0.5665564      0.02600654            0.008558612                    ...\n",
       "  start_doy peak_doy current_year_sst_mean period_all_time_mean_sst\n",
       "1   1         1      -1.202301             -1.2320130              \n",
       "2  21        32      -1.103370             -0.3548288              \n",
       "3 232       244      -1.168743             -1.4795898              \n",
       "4 196       201      -1.181397             -1.4468017              \n",
       "5 215       220      -1.219370             -1.4356755              \n",
       "6 133       138      -1.088333             -1.4704324              \n",
       "  annual_mean_sst start_date peak_date    perf_det_ratio latbin           \n",
       "1 -1.230659       1986-12-31 5.364576e+17 0.8461350      (-75.026, -59.75]\n",
       "2 -1.230659       1987-01-21 5.391360e+17 0.8156109      (-75.026, -59.75]\n",
       "3 -1.230659       1988-08-19 5.889888e+17 0.9795979      (-75.026, -59.75]\n",
       "4 -1.230659       1989-07-15 6.168960e+17 0.9809409      (-75.026, -59.75]\n",
       "5 -1.230659       1995-08-03 8.078400e+17 0.9829606      (-75.026, -59.75]\n",
       "6 -1.230659       2004-05-12 1.084752e+18 0.9851187      (-75.026, -59.75]\n",
       "  doy_bins       \n",
       "1 (0.639, 91.25] \n",
       "2 (0.639, 91.25] \n",
       "3 (181.5, 271.75]\n",
       "4 (181.5, 271.75]\n",
       "5 (181.5, 271.75]\n",
       "6 (91.25, 181.5] "
      ]
     },
     "metadata": {},
     "output_type": "display_data"
    }
   ],
   "source": [
    "mhwPerformance <- read.csv(\"../tmax_only_isolate_performance_withnegative_anddepartures.csv\")\n",
    "mhwPerformance = mhwPerformance %>% mutate(isolate = factor(isolate))\n",
    "head(mhwPerformance)"
   ]
  },
  {
   "cell_type": "code",
   "execution_count": 4,
   "metadata": {},
   "outputs": [
    {
     "data": {
      "text/html": [
       "<ol class=list-inline>\n",
       "\t<li>'X'</li>\n",
       "\t<li>'lat'</li>\n",
       "\t<li>'lon'</li>\n",
       "\t<li>'isolate'</li>\n",
       "\t<li>'mhw'</li>\n",
       "\t<li>'detriment_sum'</li>\n",
       "\t<li>'relative_detriment_mean'</li>\n",
       "\t<li>'detriment_mean'</li>\n",
       "\t<li>'performance_diff_mean'</li>\n",
       "\t<li>'performance_diff_unscaled_mean'</li>\n",
       "\t<li>'performance_ratio_mean'</li>\n",
       "\t<li>'intensity_cumulative'</li>\n",
       "\t<li>'intensity_mean'</li>\n",
       "\t<li>'duration'</li>\n",
       "\t<li>'start_doy'</li>\n",
       "\t<li>'peak_doy'</li>\n",
       "\t<li>'current_year_sst_mean'</li>\n",
       "\t<li>'period_all_time_mean_sst'</li>\n",
       "\t<li>'annual_mean_sst'</li>\n",
       "\t<li>'start_date'</li>\n",
       "\t<li>'peak_date'</li>\n",
       "\t<li>'perf_det_ratio'</li>\n",
       "\t<li>'latbin'</li>\n",
       "\t<li>'doy_bins'</li>\n",
       "</ol>\n"
      ],
      "text/latex": [
       "\\begin{enumerate*}\n",
       "\\item 'X'\n",
       "\\item 'lat'\n",
       "\\item 'lon'\n",
       "\\item 'isolate'\n",
       "\\item 'mhw'\n",
       "\\item 'detriment\\_sum'\n",
       "\\item 'relative\\_detriment\\_mean'\n",
       "\\item 'detriment\\_mean'\n",
       "\\item 'performance\\_diff\\_mean'\n",
       "\\item 'performance\\_diff\\_unscaled\\_mean'\n",
       "\\item 'performance\\_ratio\\_mean'\n",
       "\\item 'intensity\\_cumulative'\n",
       "\\item 'intensity\\_mean'\n",
       "\\item 'duration'\n",
       "\\item 'start\\_doy'\n",
       "\\item 'peak\\_doy'\n",
       "\\item 'current\\_year\\_sst\\_mean'\n",
       "\\item 'period\\_all\\_time\\_mean\\_sst'\n",
       "\\item 'annual\\_mean\\_sst'\n",
       "\\item 'start\\_date'\n",
       "\\item 'peak\\_date'\n",
       "\\item 'perf\\_det\\_ratio'\n",
       "\\item 'latbin'\n",
       "\\item 'doy\\_bins'\n",
       "\\end{enumerate*}\n"
      ],
      "text/markdown": [
       "1. 'X'\n",
       "2. 'lat'\n",
       "3. 'lon'\n",
       "4. 'isolate'\n",
       "5. 'mhw'\n",
       "6. 'detriment_sum'\n",
       "7. 'relative_detriment_mean'\n",
       "8. 'detriment_mean'\n",
       "9. 'performance_diff_mean'\n",
       "10. 'performance_diff_unscaled_mean'\n",
       "11. 'performance_ratio_mean'\n",
       "12. 'intensity_cumulative'\n",
       "13. 'intensity_mean'\n",
       "14. 'duration'\n",
       "15. 'start_doy'\n",
       "16. 'peak_doy'\n",
       "17. 'current_year_sst_mean'\n",
       "18. 'period_all_time_mean_sst'\n",
       "19. 'annual_mean_sst'\n",
       "20. 'start_date'\n",
       "21. 'peak_date'\n",
       "22. 'perf_det_ratio'\n",
       "23. 'latbin'\n",
       "24. 'doy_bins'\n",
       "\n",
       "\n"
      ],
      "text/plain": [
       " [1] \"X\"                              \"lat\"                           \n",
       " [3] \"lon\"                            \"isolate\"                       \n",
       " [5] \"mhw\"                            \"detriment_sum\"                 \n",
       " [7] \"relative_detriment_mean\"        \"detriment_mean\"                \n",
       " [9] \"performance_diff_mean\"          \"performance_diff_unscaled_mean\"\n",
       "[11] \"performance_ratio_mean\"         \"intensity_cumulative\"          \n",
       "[13] \"intensity_mean\"                 \"duration\"                      \n",
       "[15] \"start_doy\"                      \"peak_doy\"                      \n",
       "[17] \"current_year_sst_mean\"          \"period_all_time_mean_sst\"      \n",
       "[19] \"annual_mean_sst\"                \"start_date\"                    \n",
       "[21] \"peak_date\"                      \"perf_det_ratio\"                \n",
       "[23] \"latbin\"                         \"doy_bins\"                      "
      ]
     },
     "metadata": {},
     "output_type": "display_data"
    }
   ],
   "source": [
    "names(mhwPerformance)"
   ]
  },
  {
   "cell_type": "markdown",
   "metadata": {},
   "source": [
    "~We need to adjust for the effect of hemisphere to \"align\" seasons and convert to \"season\" factor variables from \"peak_doy\" column:~ we are no longer doing this, in favor of using a departuere from mean temperature to demonstrate seasonality "
   ]
  },
  {
   "cell_type": "code",
   "execution_count": 5,
   "metadata": {},
   "outputs": [],
   "source": [
    "#mhwPerformance[between(mhwPerformance$lat, -90, 0), 'peak_doy'] = (mhwPerformance[between(mhwPerformance$lat, -90, 0), 'peak_doy'] - 180) %% 365"
   ]
  },
  {
   "cell_type": "code",
   "execution_count": 6,
   "metadata": {},
   "outputs": [],
   "source": [
    "# mhwPerformance = mhwPerformance %>%  \n",
    "#                     mutate(season = \n",
    "#                            case_when(\n",
    "#                                 (between(peak_doy, 0, 77) | between(peak_doy, 355, 366)) ~ \"winter\", # January 1 - March XX or December XX - December 31\n",
    "#                                 between(peak_doy, 78, 170) ~ \"spring\", # March XX - June XX\n",
    "#                                 between(peak_doy, 171, 295) ~ \"summer\", # June XX - September XX\n",
    "#                                 between(peak_doy, 296, 354) ~ \"fall\" # September XX - December XX\n",
    "#                         )\n",
    "#                     )"
   ]
  },
  {
   "cell_type": "code",
   "execution_count": 7,
   "metadata": {},
   "outputs": [],
   "source": [
    "# head(mhwPerformance %>% select(peak_doy, season))"
   ]
  },
  {
   "cell_type": "code",
   "execution_count": 8,
   "metadata": {},
   "outputs": [],
   "source": [
    "mhwPerformance = mhwPerformance %>% \n",
    "    mutate(\n",
    "        seasonal_departure = scale(annual_mean_sst - period_all_time_mean_sst)\n",
    "    )"
   ]
  },
  {
   "cell_type": "markdown",
   "metadata": {},
   "source": [
    "We'll clean up by dropping NAs and `Inf`s "
   ]
  },
  {
   "cell_type": "markdown",
   "metadata": {},
   "source": [
    "We'll also **scale the input variables** for later, but the initial models will use the raw values: "
   ]
  },
  {
   "cell_type": "code",
   "execution_count": 9,
   "metadata": {},
   "outputs": [],
   "source": [
    "mhwPerformance = mhwPerformance %>%\n",
    "    mutate(\n",
    "        lat_scaled = scale(lat),\n",
    "        sst_scaled = scale(current_year_sst_mean), \n",
    "        abslat_scaled = scale(abs(lat)),\n",
    "        abslat = abs(lat)\n",
    "    )"
   ]
  },
  {
   "cell_type": "markdown",
   "metadata": {},
   "source": [
    "## Models\n",
    "\n",
    "Let's define the standard model formulations here:"
   ]
  },
  {
   "cell_type": "code",
   "execution_count": 10,
   "metadata": {},
   "outputs": [],
   "source": [
    "formula <- performance_diff_unscaled_mean ~ (poly(lat_scaled, 2)  + seasonal_departure)^2\n",
    "formula_unscaled <- performance_diff_unscaled_mean ~ (poly(lat, 2)  + seasonal_departure)^2\n",
    "\n",
    "formula_abslat <- performance_diff_unscaled_mean ~ (abslat_scaled  + seasonal_departure)^2\n",
    "formula_abslat_unscaled <- performance_diff_unscaled_mean ~ (abslat  + seasonal_departure)^2"
   ]
  },
  {
   "cell_type": "markdown",
   "metadata": {},
   "source": [
    "And the random effects formulations: "
   ]
  },
  {
   "cell_type": "code",
   "execution_count": 11,
   "metadata": {},
   "outputs": [],
   "source": [
    "formula_re <- performance_diff_unscaled_mean ~ (poly(lat_scaled, 2)  + seasonal_departure)^2 + (1|isolate)\n",
    "formula_unscaled_re <- performance_diff_unscaled_mean ~ (poly(lat, 2)  + seasonal_departure)^2 + (1|isolate)\n",
    "\n",
    "formula_abslat_re <- performance_diff_unscaled_mean ~ (abslat_scaled  + seasonal_departure)^2 + (1|isolate)\n",
    "formula_abslat_unscaled_re <- performance_diff_unscaled_mean ~ (abslat  + seasonal_departure)^2 + (1|isolate)"
   ]
  },
  {
   "cell_type": "markdown",
   "metadata": {},
   "source": [
    "We'll start with a simple linear model with all terms."
   ]
  },
  {
   "cell_type": "code",
   "execution_count": 12,
   "metadata": {},
   "outputs": [
    {
     "data": {
      "text/plain": [
       "\n",
       "Call:\n",
       "lm(formula = formula, data = mhwPerformance)\n",
       "\n",
       "Residuals:\n",
       "     Min       1Q   Median       3Q      Max \n",
       "-1.99701 -0.05109  0.00153  0.06272  0.66382 \n",
       "\n",
       "Coefficients:\n",
       "                                         Estimate Std. Error t value Pr(>|t|)\n",
       "(Intercept)                              0.021803   0.001473  14.798  < 2e-16\n",
       "poly(lat_scaled, 2)1                     0.250876   0.144445   1.737   0.0825\n",
       "poly(lat_scaled, 2)2                     2.146120   0.142368  15.074  < 2e-16\n",
       "seasonal_departure                       0.063697   0.002253  28.277  < 2e-16\n",
       "poly(lat_scaled, 2)1:seasonal_departure  2.019961   0.314345   6.426 1.38e-10\n",
       "poly(lat_scaled, 2)2:seasonal_departure -3.252175   0.249943 -13.012  < 2e-16\n",
       "                                           \n",
       "(Intercept)                             ***\n",
       "poly(lat_scaled, 2)1                    .  \n",
       "poly(lat_scaled, 2)2                    ***\n",
       "seasonal_departure                      ***\n",
       "poly(lat_scaled, 2)1:seasonal_departure ***\n",
       "poly(lat_scaled, 2)2:seasonal_departure ***\n",
       "---\n",
       "Signif. codes:  0 ‘***’ 0.001 ‘**’ 0.01 ‘*’ 0.05 ‘.’ 0.1 ‘ ’ 1\n",
       "\n",
       "Residual standard error: 0.139 on 9164 degrees of freedom\n",
       "Multiple R-squared:  0.2406,\tAdjusted R-squared:  0.2402 \n",
       "F-statistic: 580.7 on 5 and 9164 DF,  p-value: < 2.2e-16\n"
      ]
     },
     "metadata": {},
     "output_type": "display_data"
    }
   ],
   "source": [
    "simple_lm = lm(formula, data=mhwPerformance)\n",
    "summary(simple_lm)"
   ]
  },
  {
   "cell_type": "code",
   "execution_count": 13,
   "metadata": {},
   "outputs": [],
   "source": [
    "baseline_hline = geom_hline(yintercept=0, linetype='dashed', color='blue', size=0.6, alpha=0.6)"
   ]
  },
  {
   "cell_type": "markdown",
   "metadata": {},
   "source": [
    "## Simple Model with Random Effects\n",
    "\n",
    "Only `isolate` as random effect for now: "
   ]
  },
  {
   "cell_type": "code",
   "execution_count": 15,
   "metadata": {},
   "outputs": [
    {
     "data": {
      "text/plain": [
       "Linear mixed model fit by REML. t-tests use Satterthwaite's method [\n",
       "lmerModLmerTest]\n",
       "Formula: formula_re\n",
       "   Data: mhwPerformance\n",
       "\n",
       "REML criterion at convergence: -14723.7\n",
       "\n",
       "Scaled residuals: \n",
       "     Min       1Q   Median       3Q      Max \n",
       "-17.1598  -0.2092   0.0314   0.2837   7.3489 \n",
       "\n",
       "Random effects:\n",
       " Groups   Name        Variance Std.Dev.\n",
       " isolate  (Intercept) 0.008585 0.09266 \n",
       " Residual             0.011089 0.10531 \n",
       "Number of obs: 9170, groups:  isolate, 130\n",
       "\n",
       "Fixed effects:\n",
       "                                          Estimate Std. Error         df\n",
       "(Intercept)                              2.234e-02  8.218e-03  1.271e+02\n",
       "poly(lat_scaled, 2)1                     2.678e-01  8.154e-01  1.269e+02\n",
       "poly(lat_scaled, 2)2                     2.290e+00  8.195e-01  1.268e+02\n",
       "seasonal_departure                       6.442e-02  1.721e-03  9.043e+03\n",
       "poly(lat_scaled, 2)1:seasonal_departure  1.921e+00  2.400e-01  9.042e+03\n",
       "poly(lat_scaled, 2)2:seasonal_departure -3.130e+00  1.914e-01  9.044e+03\n",
       "                                        t value Pr(>|t|)    \n",
       "(Intercept)                               2.719  0.00746 ** \n",
       "poly(lat_scaled, 2)1                      0.328  0.74314    \n",
       "poly(lat_scaled, 2)2                      2.794  0.00601 ** \n",
       "seasonal_departure                       37.421  < 2e-16 ***\n",
       "poly(lat_scaled, 2)1:seasonal_departure   8.005 1.34e-15 ***\n",
       "poly(lat_scaled, 2)2:seasonal_departure -16.356  < 2e-16 ***\n",
       "---\n",
       "Signif. codes:  0 ‘***’ 0.001 ‘**’ 0.01 ‘*’ 0.05 ‘.’ 0.1 ‘ ’ 1\n",
       "\n",
       "Correlation of Fixed Effects:\n",
       "            (Intr) pl(_,2)1 pl(_,2)2 ssnl_d p(_,2)1:\n",
       "ply(lt_,2)1 -0.024                                  \n",
       "ply(lt_,2)2  0.051 -0.026                           \n",
       "sesnl_dprtr -0.017  0.032   -0.013                  \n",
       "ply(_,2)1:_  0.023 -0.034    0.019   -0.759         \n",
       "ply(_,2)2:_ -0.013  0.020   -0.027    0.339 -0.499  "
      ]
     },
     "metadata": {},
     "output_type": "display_data"
    }
   ],
   "source": [
    "simple_re = lmer(\n",
    "    formula_re,\n",
    "    data=mhwPerformance\n",
    ")\n",
    "summary(simple_re)"
   ]
  },
  {
   "cell_type": "code",
   "execution_count": 16,
   "metadata": {},
   "outputs": [
    {
     "name": "stderr",
     "output_type": "stream",
     "text": [
      "Model contains splines or polynomial terms. Consider using `terms=\"lat_scaled [all]\"` to get smooth plots. See also package-vignette 'Marginal Effects at Specific Values'.\n",
      "Model contains splines or polynomial terms. Consider using `terms=\"seasonal_departure [all]\"` to get smooth plots. See also package-vignette 'Marginal Effects at Specific Values'.\n"
     ]
    },
    {
     "data": {
      "text/plain": [
       "NULL"
      ]
     },
     "metadata": {},
     "output_type": "display_data"
    },
    {
     "data": {
      "image/png": "[encoded data removed]",
      "text/plain": [
       "plot without title"
      ]
     },
     "metadata": {},
     "output_type": "display_data"
    },
    {
     "data": {
      "image/png": "[encoded data removed]",
      "text/plain": [
       "plot without title"
      ]
     },
     "metadata": {},
     "output_type": "display_data"
    }
   ],
   "source": [
    "simple_re_plots = plot_model(simple_re, type='pred')\n",
    "simple_re_plots$lat + baseline_hline\n",
    "simple_re_plots$current_year_sst_mean + baseline_hline\n",
    "simple_re_plots$seasonal_departure + baseline_hline"
   ]
  },
  {
   "cell_type": "code",
   "execution_count": 17,
   "metadata": {},
   "outputs": [
    {
     "name": "stderr",
     "output_type": "stream",
     "text": [
      "Scale for 'y' is already present. Adding another scale for 'y', which will\n",
      "replace the existing scale.\n"
     ]
    },
    {
     "data": {
      "image/png": "[encoded data removed]",
      "text/plain": [
       "plot without title"
      ]
     },
     "metadata": {},
     "output_type": "display_data"
    }
   ],
   "source": [
    "plot_model(simple_re, type='re') +\n",
    "    xlab(\"Isolate ID\") + \n",
    "    ylab('random effect')+\n",
    "    ylim(-0.2, 0.2)"
   ]
  },
  {
   "cell_type": "markdown",
   "metadata": {},
   "source": [
    "## More Intense Heatwaves =? Stronger Signal?\n",
    "\n",
    "There's probably a lot of noise from shorter events here. \n",
    "\n",
    "Lets take a look at the distribution of heatwaves by intensity: "
   ]
  },
  {
   "cell_type": "code",
   "execution_count": 18,
   "metadata": {},
   "outputs": [
    {
     "data": {
      "text/html": [
       "1.49603433663944"
      ],
      "text/latex": [
       "1.49603433663944"
      ],
      "text/markdown": [
       "1.49603433663944"
      ],
      "text/plain": [
       "[1] 1.496034"
      ]
     },
     "metadata": {},
     "output_type": "display_data"
    }
   ],
   "source": [
    "median(mhwPerformance$intensity_mean)"
   ]
  },
  {
   "cell_type": "code",
   "execution_count": 19,
   "metadata": {},
   "outputs": [
    {
     "name": "stderr",
     "output_type": "stream",
     "text": [
      "`stat_bin()` using `bins = 30`. Pick better value with `binwidth`.\n"
     ]
    },
    {
     "data": {
      "image/png": "[encoded data removed]",
      "text/plain": [
       "plot without title"
      ]
     },
     "metadata": {},
     "output_type": "display_data"
    }
   ],
   "source": [
    "ggplot(mhwPerformance, aes(x=intensity_mean)) +\n",
    "    geom_histogram() + \n",
    "    geom_vline(xintercept=median(mhwPerformance$intensity_mean)) "
   ]
  },
  {
   "cell_type": "markdown",
   "metadata": {},
   "source": [
    "We can use ~1.5 C as our threshold (median?)"
   ]
  },
  {
   "cell_type": "code",
   "execution_count": 20,
   "metadata": {},
   "outputs": [],
   "source": [
    "intensity_threshold = 1.5"
   ]
  },
  {
   "cell_type": "code",
   "execution_count": 21,
   "metadata": {},
   "outputs": [],
   "source": [
    "intenseMhwPerformance = mhwPerformance %>% filter(intensity_mean > intensity_threshold)"
   ]
  },
  {
   "cell_type": "code",
   "execution_count": 22,
   "metadata": {},
   "outputs": [
    {
     "data": {
      "text/html": [
       "<table>\n",
       "<thead><tr><th scope=col>X</th><th scope=col>lat</th><th scope=col>lon</th><th scope=col>isolate</th><th scope=col>mhw</th><th scope=col>detriment_sum</th><th scope=col>relative_detriment_mean</th><th scope=col>detriment_mean</th><th scope=col>performance_diff_mean</th><th scope=col>performance_diff_unscaled_mean</th><th scope=col>...</th><th scope=col>start_date</th><th scope=col>peak_date</th><th scope=col>perf_det_ratio</th><th scope=col>latbin</th><th scope=col>doy_bins</th><th scope=col>seasonal_departure</th><th scope=col>lat_scaled</th><th scope=col>sst_scaled</th><th scope=col>abslat_scaled</th><th scope=col>abslat</th></tr></thead>\n",
       "<tbody>\n",
       "\t<tr><td> 1               </td><td>-74.875          </td><td>164.625          </td><td>1                </td><td> 5               </td><td>6.265167e+00     </td><td>1.2691721152     </td><td>0.417677771      </td><td> 0.28725032      </td><td> 0.094532547     </td><td>...              </td><td>1987-01-21       </td><td>5.391360e+17     </td><td>8.156109e-01     </td><td>(-75.026, -59.75]</td><td>(0.639, 91.25]   </td><td>-0.1252877       </td><td>-2.512773        </td><td>-2.1110269       </td><td>2.1837887        </td><td>74.875           </td></tr>\n",
       "\t<tr><td>16               </td><td>-57.875          </td><td> 62.125          </td><td>8                </td><td>37               </td><td>5.392449e-04     </td><td>0.0003390084     </td><td>0.000107849      </td><td> 0.07245528      </td><td> 0.023050252     </td><td>...              </td><td>2000-01-10       </td><td>9.475488e+17     </td><td>4.608943e-03     </td><td>(-59.75, -44.625]</td><td>(0.639, 91.25]   </td><td>-0.1301955       </td><td>-2.045108        </td><td>-1.9549025       </td><td>1.2378394        </td><td>57.875           </td></tr>\n",
       "\t<tr><td>39               </td><td>-57.875          </td><td>139.875          </td><td>558              </td><td> 6               </td><td>8.048469e-01     </td><td>0.1441267048     </td><td>0.047343935      </td><td>-0.14278485      </td><td>-0.046903153     </td><td>...              </td><td>1985-01-03       </td><td>4.737312e+17     </td><td>3.234330e+04     </td><td>(-59.75, -44.625]</td><td>(0.639, 91.25]   </td><td>-0.2734778       </td><td>-2.045108        </td><td>-1.7193377       </td><td>1.2378394        </td><td>57.875           </td></tr>\n",
       "\t<tr><td>48               </td><td>-46.625          </td><td>-75.875          </td><td>476              </td><td>23               </td><td>7.949110e-02     </td><td>0.0356370868     </td><td>0.006624259      </td><td> 0.04883279      </td><td> 0.009077089     </td><td>...              </td><td>1992-01-26       </td><td>6.971616e+17     </td><td>4.533502e-01     </td><td>(-59.75, -44.625]</td><td>(0.639, 91.25]   </td><td>-0.5813154       </td><td>-1.735625        </td><td>-0.7799925       </td><td>0.6118436        </td><td>46.625           </td></tr>\n",
       "\t<tr><td>52               </td><td>-42.125          </td><td>169.625          </td><td>15               </td><td>58               </td><td>1.297108e+01     </td><td>0.1026764027     </td><td>0.145742523      </td><td> 0.10700543      </td><td> 0.151887292     </td><td>...              </td><td>2016-02-24       </td><td>1.459382e+18     </td><td>4.387885e-01     </td><td>(-44.625, -29.5] </td><td>(0.639, 91.25]   </td><td>-0.3658507       </td><td>-1.611831        </td><td>-0.1946098       </td><td>0.3614453        </td><td>42.125           </td></tr>\n",
       "\t<tr><td>53               </td><td>-42.125          </td><td>169.625          </td><td>15               </td><td>67               </td><td>2.416684e+00     </td><td>0.3405134209     </td><td>0.483336812      </td><td> 0.11409630      </td><td> 0.161952336     </td><td>...              </td><td>2018-10-19       </td><td>1.540253e+18     </td><td>7.483851e-01     </td><td>(-44.625, -29.5] </td><td>(271.75, 362.0]  </td><td> 0.7010545       </td><td>-1.611831        </td><td>-0.1955015       </td><td>0.3614453        </td><td>42.125           </td></tr>\n",
       "</tbody>\n",
       "</table>\n"
      ],
      "text/latex": [
       "\\begin{tabular}{r|lllllllllllllllllllllllllllll}\n",
       " X & lat & lon & isolate & mhw & detriment\\_sum & relative\\_detriment\\_mean & detriment\\_mean & performance\\_diff\\_mean & performance\\_diff\\_unscaled\\_mean & ... & start\\_date & peak\\_date & perf\\_det\\_ratio & latbin & doy\\_bins & seasonal\\_departure & lat\\_scaled & sst\\_scaled & abslat\\_scaled & abslat\\\\\n",
       "\\hline\n",
       "\t  1                  & -74.875             & 164.625             & 1                   &  5                  & 6.265167e+00        & 1.2691721152        & 0.417677771         &  0.28725032         &  0.094532547        & ...                 & 1987-01-21          & 5.391360e+17        & 8.156109e-01        & (-75.026, -59.75{]} & (0.639, 91.25{]}    & -0.1252877          & -2.512773           & -2.1110269          & 2.1837887           & 74.875             \\\\\n",
       "\t 16                  & -57.875             &  62.125             & 8                   & 37                  & 5.392449e-04        & 0.0003390084        & 0.000107849         &  0.07245528         &  0.023050252        & ...                 & 2000-01-10          & 9.475488e+17        & 4.608943e-03        & (-59.75, -44.625{]} & (0.639, 91.25{]}    & -0.1301955          & -2.045108           & -1.9549025          & 1.2378394           & 57.875             \\\\\n",
       "\t 39                  & -57.875             & 139.875             & 558                 &  6                  & 8.048469e-01        & 0.1441267048        & 0.047343935         & -0.14278485         & -0.046903153        & ...                 & 1985-01-03          & 4.737312e+17        & 3.234330e+04        & (-59.75, -44.625{]} & (0.639, 91.25{]}    & -0.2734778          & -2.045108           & -1.7193377          & 1.2378394           & 57.875             \\\\\n",
       "\t 48                  & -46.625             & -75.875             & 476                 & 23                  & 7.949110e-02        & 0.0356370868        & 0.006624259         &  0.04883279         &  0.009077089        & ...                 & 1992-01-26          & 6.971616e+17        & 4.533502e-01        & (-59.75, -44.625{]} & (0.639, 91.25{]}    & -0.5813154          & -1.735625           & -0.7799925          & 0.6118436           & 46.625             \\\\\n",
       "\t 52                  & -42.125             & 169.625             & 15                  & 58                  & 1.297108e+01        & 0.1026764027        & 0.145742523         &  0.10700543         &  0.151887292        & ...                 & 2016-02-24          & 1.459382e+18        & 4.387885e-01        & (-44.625, -29.5{]}  & (0.639, 91.25{]}    & -0.3658507          & -1.611831           & -0.1946098          & 0.3614453           & 42.125             \\\\\n",
       "\t 53                  & -42.125             & 169.625             & 15                  & 67                  & 2.416684e+00        & 0.3405134209        & 0.483336812         &  0.11409630         &  0.161952336        & ...                 & 2018-10-19          & 1.540253e+18        & 7.483851e-01        & (-44.625, -29.5{]}  & (271.75, 362.0{]}   &  0.7010545          & -1.611831           & -0.1955015          & 0.3614453           & 42.125             \\\\\n",
       "\\end{tabular}\n"
      ],
      "text/markdown": [
       "\n",
       "| X | lat | lon | isolate | mhw | detriment_sum | relative_detriment_mean | detriment_mean | performance_diff_mean | performance_diff_unscaled_mean | ... | start_date | peak_date | perf_det_ratio | latbin | doy_bins | seasonal_departure | lat_scaled | sst_scaled | abslat_scaled | abslat |\n",
       "|---|---|---|---|---|---|---|---|---|---|---|---|---|---|---|---|---|---|---|---|---|\n",
       "|  1                | -74.875           | 164.625           | 1                 |  5                | 6.265167e+00      | 1.2691721152      | 0.417677771       |  0.28725032       |  0.094532547      | ...               | 1987-01-21        | 5.391360e+17      | 8.156109e-01      | (-75.026, -59.75] | (0.639, 91.25]    | -0.1252877        | -2.512773         | -2.1110269        | 2.1837887         | 74.875            |\n",
       "| 16                | -57.875           |  62.125           | 8                 | 37                | 5.392449e-04      | 0.0003390084      | 0.000107849       |  0.07245528       |  0.023050252      | ...               | 2000-01-10        | 9.475488e+17      | 4.608943e-03      | (-59.75, -44.625] | (0.639, 91.25]    | -0.1301955        | -2.045108         | -1.9549025        | 1.2378394         | 57.875            |\n",
       "| 39                | -57.875           | 139.875           | 558               |  6                | 8.048469e-01      | 0.1441267048      | 0.047343935       | -0.14278485       | -0.046903153      | ...               | 1985-01-03        | 4.737312e+17      | 3.234330e+04      | (-59.75, -44.625] | (0.639, 91.25]    | -0.2734778        | -2.045108         | -1.7193377        | 1.2378394         | 57.875            |\n",
       "| 48                | -46.625           | -75.875           | 476               | 23                | 7.949110e-02      | 0.0356370868      | 0.006624259       |  0.04883279       |  0.009077089      | ...               | 1992-01-26        | 6.971616e+17      | 4.533502e-01      | (-59.75, -44.625] | (0.639, 91.25]    | -0.5813154        | -1.735625         | -0.7799925        | 0.6118436         | 46.625            |\n",
       "| 52                | -42.125           | 169.625           | 15                | 58                | 1.297108e+01      | 0.1026764027      | 0.145742523       |  0.10700543       |  0.151887292      | ...               | 2016-02-24        | 1.459382e+18      | 4.387885e-01      | (-44.625, -29.5]  | (0.639, 91.25]    | -0.3658507        | -1.611831         | -0.1946098        | 0.3614453         | 42.125            |\n",
       "| 53                | -42.125           | 169.625           | 15                | 67                | 2.416684e+00      | 0.3405134209      | 0.483336812       |  0.11409630       |  0.161952336      | ...               | 2018-10-19        | 1.540253e+18      | 7.483851e-01      | (-44.625, -29.5]  | (271.75, 362.0]   |  0.7010545        | -1.611831         | -0.1955015        | 0.3614453         | 42.125            |\n",
       "\n"
      ],
      "text/plain": [
       "  X  lat     lon     isolate mhw detriment_sum relative_detriment_mean\n",
       "1  1 -74.875 164.625 1        5  6.265167e+00  1.2691721152           \n",
       "2 16 -57.875  62.125 8       37  5.392449e-04  0.0003390084           \n",
       "3 39 -57.875 139.875 558      6  8.048469e-01  0.1441267048           \n",
       "4 48 -46.625 -75.875 476     23  7.949110e-02  0.0356370868           \n",
       "5 52 -42.125 169.625 15      58  1.297108e+01  0.1026764027           \n",
       "6 53 -42.125 169.625 15      67  2.416684e+00  0.3405134209           \n",
       "  detriment_mean performance_diff_mean performance_diff_unscaled_mean ...\n",
       "1 0.417677771     0.28725032            0.094532547                   ...\n",
       "2 0.000107849     0.07245528            0.023050252                   ...\n",
       "3 0.047343935    -0.14278485           -0.046903153                   ...\n",
       "4 0.006624259     0.04883279            0.009077089                   ...\n",
       "5 0.145742523     0.10700543            0.151887292                   ...\n",
       "6 0.483336812     0.11409630            0.161952336                   ...\n",
       "  start_date peak_date    perf_det_ratio latbin            doy_bins       \n",
       "1 1987-01-21 5.391360e+17 8.156109e-01   (-75.026, -59.75] (0.639, 91.25] \n",
       "2 2000-01-10 9.475488e+17 4.608943e-03   (-59.75, -44.625] (0.639, 91.25] \n",
       "3 1985-01-03 4.737312e+17 3.234330e+04   (-59.75, -44.625] (0.639, 91.25] \n",
       "4 1992-01-26 6.971616e+17 4.533502e-01   (-59.75, -44.625] (0.639, 91.25] \n",
       "5 2016-02-24 1.459382e+18 4.387885e-01   (-44.625, -29.5]  (0.639, 91.25] \n",
       "6 2018-10-19 1.540253e+18 7.483851e-01   (-44.625, -29.5]  (271.75, 362.0]\n",
       "  seasonal_departure lat_scaled sst_scaled abslat_scaled abslat\n",
       "1 -0.1252877         -2.512773  -2.1110269 2.1837887     74.875\n",
       "2 -0.1301955         -2.045108  -1.9549025 1.2378394     57.875\n",
       "3 -0.2734778         -2.045108  -1.7193377 1.2378394     57.875\n",
       "4 -0.5813154         -1.735625  -0.7799925 0.6118436     46.625\n",
       "5 -0.3658507         -1.611831  -0.1946098 0.3614453     42.125\n",
       "6  0.7010545         -1.611831  -0.1955015 0.3614453     42.125"
      ]
     },
     "metadata": {},
     "output_type": "display_data"
    }
   ],
   "source": [
    "head(intenseMhwPerformance)"
   ]
  },
  {
   "cell_type": "code",
   "execution_count": 23,
   "metadata": {},
   "outputs": [
    {
     "data": {
      "text/html": [
       "4570"
      ],
      "text/latex": [
       "4570"
      ],
      "text/markdown": [
       "4570"
      ],
      "text/plain": [
       "[1] 4570"
      ]
     },
     "metadata": {},
     "output_type": "display_data"
    }
   ],
   "source": [
    "nrow(intenseMhwPerformance)"
   ]
  },
  {
   "cell_type": "markdown",
   "metadata": {},
   "source": [
    "**Simple Model**"
   ]
  },
  {
   "cell_type": "code",
   "execution_count": 24,
   "metadata": {},
   "outputs": [
    {
     "data": {
      "text/plain": [
       "\n",
       "Call:\n",
       "lm(formula = formula, data = intenseMhwPerformance)\n",
       "\n",
       "Residuals:\n",
       "     Min       1Q   Median       3Q      Max \n",
       "-1.99661 -0.06343  0.01187  0.07267  0.65421 \n",
       "\n",
       "Coefficients:\n",
       "                                         Estimate Std. Error t value Pr(>|t|)\n",
       "(Intercept)                              0.036157   0.002475  14.612  < 2e-16\n",
       "poly(lat_scaled, 2)1                     0.758990   0.170217   4.459 8.43e-06\n",
       "poly(lat_scaled, 2)2                     1.124674   0.169763   6.625 3.88e-11\n",
       "seasonal_departure                       0.077363   0.002395  32.304  < 2e-16\n",
       "poly(lat_scaled, 2)1:seasonal_departure  0.690734   0.296383   2.331   0.0198\n",
       "poly(lat_scaled, 2)2:seasonal_departure -1.564495   0.198953  -7.864 4.62e-15\n",
       "                                           \n",
       "(Intercept)                             ***\n",
       "poly(lat_scaled, 2)1                    ***\n",
       "poly(lat_scaled, 2)2                    ***\n",
       "seasonal_departure                      ***\n",
       "poly(lat_scaled, 2)1:seasonal_departure *  \n",
       "poly(lat_scaled, 2)2:seasonal_departure ***\n",
       "---\n",
       "Signif. codes:  0 ‘***’ 0.001 ‘**’ 0.01 ‘*’ 0.05 ‘.’ 0.1 ‘ ’ 1\n",
       "\n",
       "Residual standard error: 0.166 on 4564 degrees of freedom\n",
       "Multiple R-squared:  0.2863,\tAdjusted R-squared:  0.2855 \n",
       "F-statistic: 366.1 on 5 and 4564 DF,  p-value: < 2.2e-16\n"
      ]
     },
     "metadata": {},
     "output_type": "display_data"
    }
   ],
   "source": [
    "simple_intense_lm = lm(\n",
    "    formula,\n",
    "    data=intenseMhwPerformance)\n",
    "summary(simple_intense_lm)"
   ]
  },
  {
   "cell_type": "markdown",
   "metadata": {},
   "source": [
    "**Simple Random Effects**"
   ]
  },
  {
   "cell_type": "code",
   "execution_count": 25,
   "metadata": {},
   "outputs": [
    {
     "data": {
      "text/plain": [
       "Linear mixed model fit by REML. t-tests use Satterthwaite's method [\n",
       "lmerModLmerTest]\n",
       "Formula: formula_re\n",
       "   Data: intenseMhwPerformance\n",
       "\n",
       "REML criterion at convergence: -4803.6\n",
       "\n",
       "Scaled residuals: \n",
       "     Min       1Q   Median       3Q      Max \n",
       "-13.3208  -0.2530   0.0534   0.3448   5.2801 \n",
       "\n",
       "Random effects:\n",
       " Groups   Name        Variance Std.Dev.\n",
       " isolate  (Intercept) 0.00910  0.0954  \n",
       " Residual             0.01907  0.1381  \n",
       "Number of obs: 4570, groups:  isolate, 122\n",
       "\n",
       "Fixed effects:\n",
       "                                          Estimate Std. Error         df\n",
       "(Intercept)                              3.147e-02  9.749e-03  1.065e+02\n",
       "poly(lat_scaled, 2)1                     8.159e-01  4.976e-01  1.322e+02\n",
       "poly(lat_scaled, 2)2                     1.348e+00  4.395e-01  1.646e+02\n",
       "seasonal_departure                       8.039e-02  2.127e-03  4.534e+03\n",
       "poly(lat_scaled, 2)1:seasonal_departure  1.186e-01  2.751e-01  4.561e+03\n",
       "poly(lat_scaled, 2)2:seasonal_departure -1.188e+00  1.775e-01  4.538e+03\n",
       "                                        t value Pr(>|t|)    \n",
       "(Intercept)                               3.228  0.00166 ** \n",
       "poly(lat_scaled, 2)1                      1.640  0.10343    \n",
       "poly(lat_scaled, 2)2                      3.066  0.00253 ** \n",
       "seasonal_departure                       37.795  < 2e-16 ***\n",
       "poly(lat_scaled, 2)1:seasonal_departure   0.431  0.66633    \n",
       "poly(lat_scaled, 2)2:seasonal_departure  -6.693 2.46e-11 ***\n",
       "---\n",
       "Signif. codes:  0 ‘***’ 0.001 ‘**’ 0.01 ‘*’ 0.05 ‘.’ 0.1 ‘ ’ 1\n",
       "\n",
       "Correlation of Fixed Effects:\n",
       "            (Intr) pl(_,2)1 pl(_,2)2 ssnl_d p(_,2)1:\n",
       "ply(lt_,2)1  0.235                                  \n",
       "ply(lt_,2)2 -0.040  0.281                           \n",
       "sesnl_dprtr  0.021 -0.047    0.059                  \n",
       "ply(_,2)1:_ -0.006  0.091   -0.070   -0.623         \n",
       "ply(_,2)2:_  0.024 -0.062    0.079    0.417 -0.657  "
      ]
     },
     "metadata": {},
     "output_type": "display_data"
    }
   ],
   "source": [
    "simple_intense_re = lmer(\n",
    "    formula_re, \n",
    "    data=intenseMhwPerformance\n",
    ")\n",
    "summary(simple_intense_re)"
   ]
  },
  {
   "cell_type": "markdown",
   "metadata": {},
   "source": [
    "## Absolute Latitude instead of Poly(2)"
   ]
  },
  {
   "cell_type": "code",
   "execution_count": 26,
   "metadata": {},
   "outputs": [
    {
     "data": {
      "text/plain": [
       "Linear mixed model fit by REML. t-tests use Satterthwaite's method [\n",
       "lmerModLmerTest]\n",
       "Formula: formula_abslat_re\n",
       "   Data: mhwPerformance\n",
       "\n",
       "REML criterion at convergence: -14656.7\n",
       "\n",
       "Scaled residuals: \n",
       "     Min       1Q   Median       3Q      Max \n",
       "-17.1513  -0.2356   0.0321   0.3195   7.3419 \n",
       "\n",
       "Random effects:\n",
       " Groups   Name        Variance Std.Dev.\n",
       " isolate  (Intercept) 0.008355 0.0914  \n",
       " Residual             0.011151 0.1056  \n",
       "Number of obs: 9170, groups:  isolate, 130\n",
       "\n",
       "Fixed effects:\n",
       "                                   Estimate Std. Error         df t value\n",
       "(Intercept)                       2.046e-02  8.104e-03  1.280e+02   2.524\n",
       "abslat_scaled                     2.689e-02  8.149e-03  1.282e+02   3.300\n",
       "seasonal_departure                7.944e-02  1.186e-03  9.050e+03  66.976\n",
       "abslat_scaled:seasonal_departure -2.812e-02  1.916e-03  9.046e+03 -14.675\n",
       "                                 Pr(>|t|)    \n",
       "(Intercept)                       0.01282 *  \n",
       "abslat_scaled                     0.00125 ** \n",
       "seasonal_departure                < 2e-16 ***\n",
       "abslat_scaled:seasonal_departure  < 2e-16 ***\n",
       "---\n",
       "Signif. codes:  0 ‘***’ 0.001 ‘**’ 0.01 ‘*’ 0.05 ‘.’ 0.1 ‘ ’ 1\n",
       "\n",
       "Correlation of Fixed Effects:\n",
       "            (Intr) abslt_ ssnl_d\n",
       "abslat_scld  0.049              \n",
       "sesnl_dprtr -0.001  0.012       \n",
       "abslt_scl:_  0.005 -0.025 -0.326"
      ]
     },
     "metadata": {},
     "output_type": "display_data"
    }
   ],
   "source": [
    "abslat_re = lmer(\n",
    "    formula_abslat_re, \n",
    "    data=mhwPerformance\n",
    ")\n",
    "summary(abslat_re)"
   ]
  },
  {
   "cell_type": "code",
   "execution_count": 27,
   "metadata": {},
   "outputs": [
    {
     "data": {
      "text/plain": [
       "Linear mixed model fit by REML. t-tests use Satterthwaite's method [\n",
       "lmerModLmerTest]\n",
       "Formula: formula_abslat_re\n",
       "   Data: intenseMhwPerformance\n",
       "\n",
       "REML criterion at convergence: -4792.8\n",
       "\n",
       "Scaled residuals: \n",
       "     Min       1Q   Median       3Q      Max \n",
       "-13.3399  -0.2696   0.0611   0.3435   5.2810 \n",
       "\n",
       "Random effects:\n",
       " Groups   Name        Variance Std.Dev.\n",
       " isolate  (Intercept) 0.008806 0.09384 \n",
       " Residual             0.019061 0.13806 \n",
       "Number of obs: 4570, groups:  isolate, 122\n",
       "\n",
       "Fixed effects:\n",
       "                                   Estimate Std. Error         df t value\n",
       "(Intercept)                       3.154e-02  9.269e-03  1.152e+02   3.402\n",
       "abslat_scaled                     4.136e-02  1.026e-02  1.440e+02   4.033\n",
       "seasonal_departure                8.731e-02  1.812e-03  4.483e+03  48.193\n",
       "abslat_scaled:seasonal_departure -2.523e-02  2.957e-03  4.487e+03  -8.531\n",
       "                                 Pr(>|t|)    \n",
       "(Intercept)                      0.000919 ***\n",
       "abslat_scaled                    8.91e-05 ***\n",
       "seasonal_departure                < 2e-16 ***\n",
       "abslat_scaled:seasonal_departure  < 2e-16 ***\n",
       "---\n",
       "Signif. codes:  0 ‘***’ 0.001 ‘**’ 0.01 ‘*’ 0.05 ‘.’ 0.1 ‘ ’ 1\n",
       "\n",
       "Correlation of Fixed Effects:\n",
       "            (Intr) abslt_ ssnl_d\n",
       "abslat_scld  0.007              \n",
       "sesnl_dprtr  0.008  0.021       \n",
       "abslt_scl:_  0.029  0.004 -0.396"
      ]
     },
     "metadata": {},
     "output_type": "display_data"
    }
   ],
   "source": [
    "abslat_intense_re = lmer(\n",
    "   formula_abslat_re,\n",
    "    data=intenseMhwPerformance, \n",
    ")\n",
    "summary(abslat_intense_re)"
   ]
  },
  {
   "cell_type": "code",
   "execution_count": 28,
   "metadata": {},
   "outputs": [
    {
     "data": {
      "text/plain": [
       "$abslat_scaled\n",
       "\n",
       "$seasonal_departure\n"
      ]
     },
     "metadata": {},
     "output_type": "display_data"
    },
    {
     "data": {
      "image/png": "[encoded data removed]",
      "text/plain": [
       "plot without title"
      ]
     },
     "metadata": {},
     "output_type": "display_data"
    },
    {
     "data": {
      "image/png": "[encoded data removed]",
      "text/plain": [
       "plot without title"
      ]
     },
     "metadata": {},
     "output_type": "display_data"
    }
   ],
   "source": [
    "plot_model(abslat_re, type='pred')"
   ]
  },
  {
   "cell_type": "code",
   "execution_count": 29,
   "metadata": {},
   "outputs": [
    {
     "data": {
      "text/plain": [
       "$abslat_scaled\n",
       "\n",
       "$seasonal_departure\n"
      ]
     },
     "metadata": {},
     "output_type": "display_data"
    },
    {
     "data": {
      "image/png": "[encoded data removed]",
      "text/plain": [
       "plot without title"
      ]
     },
     "metadata": {},
     "output_type": "display_data"
    },
    {
     "data": {
      "image/png": "[encoded data removed]",
      "text/plain": [
       "plot without title"
      ]
     },
     "metadata": {},
     "output_type": "display_data"
    }
   ],
   "source": [
    "plot_model(abslat_intense_re, type='pred')"
   ]
  },
  {
   "cell_type": "markdown",
   "metadata": {},
   "source": [
    "## Produce Plots"
   ]
  },
  {
   "cell_type": "markdown",
   "metadata": {},
   "source": [
    "### Absolute Latitude\n",
    "\n",
    "**Coefficient Plots, Simple and Intense**"
   ]
  },
  {
   "cell_type": "code",
   "execution_count": 30,
   "metadata": {},
   "outputs": [
    {
     "name": "stderr",
     "output_type": "stream",
     "text": [
      "Scale for 'y' is already present. Adding another scale for 'y', which will\n",
      "replace the existing scale.\n",
      "Scale for 'y' is already present. Adding another scale for 'y', which will\n",
      "replace the existing scale.\n"
     ]
    },
    {
     "data": {
      "text/html": [
       "<strong>png:</strong> 2"
      ],
      "text/latex": [
       "\\textbf{png:} 2"
      ],
      "text/markdown": [
       "**png:** 2"
      ],
      "text/plain": [
       "png \n",
       "  2 "
      ]
     },
     "metadata": {},
     "output_type": "display_data"
    }
   ],
   "source": [
    "png(\"./tmax_only_abslat_compare_coefs_UNSCALED_diff.png\", width=1440, height=950, res=180)\n",
    "y_limit = ylim(-1, 1)\n",
    "simple_coefs = plot_model(abslat_re, ci.lvl=NA,  show.values = TRUE, value.offset=.4) + y_limit + ggtitle(\"A) All MHWs\")\n",
    "intense_coefs = plot_model(abslat_intense_re,show.values = TRUE, value.offset=.4, ci.lvl=NA)+ y_limit + theme(axis.text.y = element_blank()) + ggtitle(\"B) Intense MHWs\")\n",
    "grid.arrange(simple_coefs, intense_coefs, nrow=1, widths=c(1.7, 1) )\n",
    "dev.off()"
   ]
  },
  {
   "cell_type": "markdown",
   "metadata": {},
   "source": [
    "**Coefficient Table**"
   ]
  },
  {
   "cell_type": "code",
   "execution_count": 31,
   "metadata": {},
   "outputs": [],
   "source": [
    "tab_model(\n",
    "    abslat_re, abslat_intense_re,\n",
    "    show.stat=TRUE, use.viewer=FALSE, \n",
    "    dv.labels=c(\"Performance Difference [all events]\", \"Performance Difference [intense events]\"), \n",
    "    file = \"tmax_only_abslat_coef_compare_table_UNSCALED.html\"\n",
    ")"
   ]
  },
  {
   "cell_type": "markdown",
   "metadata": {},
   "source": [
    "**Predictions, All MHW**"
   ]
  },
  {
   "cell_type": "code",
   "execution_count": 32,
   "metadata": {},
   "outputs": [
    {
     "name": "stderr",
     "output_type": "stream",
     "text": [
      "Scale for 'y' is already present. Adding another scale for 'y', which will\n",
      "replace the existing scale.\n"
     ]
    },
    {
     "data": {
      "image/png": "[encoded data removed]",
      "text/plain": [
       "plot without title"
      ]
     },
     "metadata": {},
     "output_type": "display_data"
    }
   ],
   "source": [
    "# png(\"./tmax_only_abslat_preds_UNSCALED_preddiff.png\", width=1440, height=700, res=180)\n",
    "\n",
    "# y_limit = ylim(-1, 1)\n",
    "\n",
    "seas = plot(ggeffect(abslat_re, terms='seasonal_departure')) +\n",
    "    baseline_hline + \n",
    "    xlab(\"Season\") +\n",
    "    ylab(\"Performance Difference\")  +\n",
    "    ggtitle(\"A) Season\") + \n",
    "    y_limit\n",
    "\n",
    "\n",
    "# seaslat = plot(ggeffect(abslat_re, terms=c('abslat_scaled', 'season [summer, winter]'))) +\n",
    "#     baseline_hline +\n",
    "#     xlab(\"Absolute Latitude [scaled]\") +\n",
    "#     ylab(\"Performance Difference\")  +\n",
    "#     ggtitle(\"B) Latitude\") + \n",
    "#     y_limit\n",
    "\n",
    "    \n",
    "\n",
    "# grid.arrange(seas, seaslat, nrow=1, widths=c(1,1.3))\n",
    "seas"
   ]
  },
  {
   "cell_type": "markdown",
   "metadata": {},
   "source": [
    "**Predictions, Intense MHW**"
   ]
  },
  {
   "cell_type": "code",
   "execution_count": 35,
   "metadata": {},
   "outputs": [
    {
     "name": "stderr",
     "output_type": "stream",
     "text": [
      "Scale for 'y' is already present. Adding another scale for 'y', which will\n",
      "replace the existing scale.\n",
      "Scale for 'y' is already present. Adding another scale for 'y', which will\n",
      "replace the existing scale.\n"
     ]
    },
    {
     "data": {
      "text/html": [
       "<strong>png:</strong> 2"
      ],
      "text/latex": [
       "\\textbf{png:} 2"
      ],
      "text/markdown": [
       "**png:** 2"
      ],
      "text/plain": [
       "png \n",
       "  2 "
      ]
     },
     "metadata": {},
     "output_type": "display_data"
    }
   ],
   "source": [
    "png(\"./tmax_only_abslat_preds_intense_preddiff_UNSCALED.png\", width=1440, height=700, res=180)\n",
    "\n",
    "y_limit = ylim(-1, 1)\n",
    "\n",
    "seas = plot(ggeffect(abslat_intense_re, terms='seasonal_departure')) + \n",
    "    baseline_hline + \n",
    "    xlab(\"Season\") +\n",
    "    ylab(\"Performance Difference\")  +\n",
    "    ggtitle(\"A) Season\") + \n",
    "    y_limit \n",
    "\n",
    "\n",
    "seaslat = plot(ggeffect(abslat_intense_re, terms=c('abslat_scaled', 'seasonal_departure'))) +\n",
    "    baseline_hline +\n",
    "    xlab(\"Absolute Latitude [scaled]\") +\n",
    "    ylab(\"Performance Difference\")  +\n",
    "    ggtitle(\"B) Latitude\") + \n",
    "    y_limit \n",
    "\n",
    "    \n",
    "\n",
    "grid.arrange(seas, seaslat, nrow=1, widths=c(1,1.3))\n",
    "dev.off()\n",
    "# seaslat"
   ]
  },
  {
   "cell_type": "code",
   "execution_count": null,
   "metadata": {},
   "outputs": [],
   "source": []
  },
  {
   "cell_type": "markdown",
   "metadata": {},
   "source": [
    "### Regular Latitude"
   ]
  },
  {
   "cell_type": "markdown",
   "metadata": {},
   "source": [
    "**Coefficients**"
   ]
  },
  {
   "cell_type": "code",
   "execution_count": 36,
   "metadata": {},
   "outputs": [
    {
     "name": "stderr",
     "output_type": "stream",
     "text": [
      "Scale for 'y' is already present. Adding another scale for 'y', which will\n",
      "replace the existing scale.\n",
      "Scale for 'y' is already present. Adding another scale for 'y', which will\n",
      "replace the existing scale.\n"
     ]
    },
    {
     "data": {
      "text/html": [
       "<strong>png:</strong> 3"
      ],
      "text/latex": [
       "\\textbf{png:} 3"
      ],
      "text/markdown": [
       "**png:** 3"
      ],
      "text/plain": [
       "png \n",
       "  3 "
      ]
     },
     "metadata": {},
     "output_type": "display_data"
    },
    {
     "data": {
      "image/png": "[encoded data removed]",
      "text/plain": [
       "plot without title"
      ]
     },
     "metadata": {},
     "output_type": "display_data"
    }
   ],
   "source": [
    "# png(\"./tmax_only_polylat_compare_coefs_diff_UNSCALED.png\", width=1440, height=950, res=180)\n",
    "y_limit = ylim(-5.5,5.5)\n",
    "simple_coefs = plot_model(simple_re, ci.lvl=NA,  show.values = TRUE, value.offset=.4) + y_limit + ggtitle(\"A) All MHWs\")\n",
    "intense_coefs = plot_model(simple_intense_re,show.values = TRUE, value.offset=.4, ci.lvl=NA)+ y_limit + theme(axis.text.y = element_blank()) + ggtitle(\"B) Intense MHWs\")\n",
    "grid.arrange(simple_coefs, intense_coefs, nrow=1, widths=c(2, 1) )\n",
    "dev.off()"
   ]
  },
  {
   "cell_type": "markdown",
   "metadata": {},
   "source": [
    "**Coefficients Table**"
   ]
  },
  {
   "cell_type": "code",
   "execution_count": 33,
   "metadata": {},
   "outputs": [],
   "source": [
    "tab_model(\n",
    "    simple_re, simple_intense_re,\n",
    "    show.stat=TRUE, use.viewer=FALSE, \n",
    "    dv.labels=c(\"Performance Difference [all events]\", \"Performance Difference [intense events]\"), \n",
    "    file = \"tmax_only_polylat_coef_compare_table.html\"\n",
    ")"
   ]
  },
  {
   "cell_type": "markdown",
   "metadata": {},
   "source": [
    "**Predictions, all MHW**"
   ]
  },
  {
   "cell_type": "code",
   "execution_count": 39,
   "metadata": {},
   "outputs": [
    {
     "name": "stderr",
     "output_type": "stream",
     "text": [
      "Scale for 'y' is already present. Adding another scale for 'y', which will\n",
      "replace the existing scale.\n"
     ]
    },
    {
     "data": {
      "text/html": [
       "<strong>png:</strong> 3"
      ],
      "text/latex": [
       "\\textbf{png:} 3"
      ],
      "text/markdown": [
       "**png:** 3"
      ],
      "text/plain": [
       "png \n",
       "  3 "
      ]
     },
     "metadata": {},
     "output_type": "display_data"
    },
    {
     "data": {
      "image/png": "[encoded data removed]",
      "text/plain": [
       "plot without title"
      ]
     },
     "metadata": {},
     "output_type": "display_data"
    }
   ],
   "source": [
    "# png(\"./tmax_only_polylat_preds_preddiff.png\", width=1440, height=700, res=180)\n",
    "\n",
    " y_limit = ylim(-1, 1)\n",
    "\n",
    "seas = plot(ggeffect(simple_re, terms='seasonal_departure')) + \n",
    "    baseline_hline + \n",
    "    xlab(\"Season\") +\n",
    "    ylab(\"Performance Difference\")  +\n",
    "    ggtitle(\"A) Season\") + \n",
    "    y_limit\n",
    "\n",
    "\n",
    "# seaslat = plot(ggeffect(simple_re, terms=c('lat_scaled', 'season [summer, winter]'))) +\n",
    "#     baseline_hline +\n",
    "#     xlab(\"Latitude [scaled]\") +\n",
    "#     ylab(\"Performance Difference\")  +\n",
    "#     ggtitle(\"B) Latitude\") + \n",
    "#     y_limit\n",
    "    \n",
    "\n",
    "grid.arrange(seas, seaslat, nrow=1, widths=c(1,1.3))\n",
    "dev.off()\n",
    "# seaslat"
   ]
  },
  {
   "cell_type": "markdown",
   "metadata": {},
   "source": [
    "**Predictions, Intense MHW**"
   ]
  },
  {
   "cell_type": "code",
   "execution_count": 35,
   "metadata": {},
   "outputs": [
    {
     "name": "stderr",
     "output_type": "stream",
     "text": [
      "Scale for 'y' is already present. Adding another scale for 'y', which will\n",
      "replace the existing scale.\n",
      "Scale for 'y' is already present. Adding another scale for 'y', which will\n",
      "replace the existing scale.\n",
      "Warning message:\n",
      "“Removed 5 row(s) containing missing values (geom_path).”"
     ]
    },
    {
     "data": {
      "text/html": [
       "<strong>png:</strong> 2"
      ],
      "text/latex": [
       "\\textbf{png:} 2"
      ],
      "text/markdown": [
       "**png:** 2"
      ],
      "text/plain": [
       "png \n",
       "  2 "
      ]
     },
     "metadata": {},
     "output_type": "display_data"
    }
   ],
   "source": [
    "png(\"./tmax_only_polylat_preds_intense_preddiff.png\", width=1440, height=700, res=180)\n",
    "\n",
    "seas = plot(ggeffect(simple_intense_re, terms='season')) + \n",
    "    baseline_hline + \n",
    "    xlab(\"Season\") +\n",
    "    ylab(\"Performance Difference\")  +\n",
    "    ggtitle(\"A) Season\") + \n",
    "    ylim(-0.5, 0.5) \n",
    "\n",
    "\n",
    "\n",
    "seaslat = plot(ggeffect(simple_intense_re, terms=c('lat_scaled', 'season [summer, winter]'))) +\n",
    "    baseline_hline +\n",
    "    xlab(\"Latitude [scaled]\") +\n",
    "    ylab(\"Performance Difference\")  +\n",
    "    ggtitle(\"B) Latitude\") + \n",
    "    ylim(-0.5, 0.5) \n",
    "\n",
    "    \n",
    "\n",
    "grid.arrange(seas, seaslat, nrow=1, widths=c(1,1.3)) \n",
    "dev.off()\n",
    "# seaslat"
   ]
  },
  {
   "cell_type": "markdown",
   "metadata": {},
   "source": [
    "## Individual Models per Season"
   ]
  },
  {
   "cell_type": "code",
   "execution_count": 497,
   "metadata": {},
   "outputs": [],
   "source": [
    "winter_only = mhwPerformance %>% filter(season == \"winter\")\n",
    "winter_re = lmer(performance_diff_mean ~ (abslat + sst_scaled)^2 + (1 | isolate), data=winter_only, )"
   ]
  },
  {
   "cell_type": "code",
   "execution_count": 498,
   "metadata": {},
   "outputs": [
    {
     "data": {
      "text/plain": [
       "Linear mixed model fit by REML. t-tests use Satterthwaite's method [\n",
       "lmerModLmerTest]\n",
       "Formula: performance_diff_mean ~ (abslat + sst_scaled)^2 + (1 | isolate)\n",
       "   Data: winter_only\n",
       "\n",
       "REML criterion at convergence: -3908.4\n",
       "\n",
       "Scaled residuals: \n",
       "    Min      1Q  Median      3Q     Max \n",
       "-5.8243 -0.3722  0.0080  0.3138  5.2430 \n",
       "\n",
       "Random effects:\n",
       " Groups   Name        Variance Std.Dev.\n",
       " isolate  (Intercept) 0.021913 0.14803 \n",
       " Residual             0.001287 0.03588 \n",
       "Number of obs: 1141, groups:  isolate, 75\n",
       "\n",
       "Fixed effects:\n",
       "                    Estimate Std. Error         df t value Pr(>|t|)    \n",
       "(Intercept)       -8.181e-04  4.816e-02  1.777e+02  -0.017 0.986466    \n",
       "abslat             5.187e-03  1.407e-03  1.697e+02   3.687 0.000306 ***\n",
       "sst_scaled        -4.865e-02  3.358e-02  3.815e+02  -1.449 0.148191    \n",
       "abslat:sst_scaled  2.736e-03  7.421e-04  1.272e+02   3.687 0.000335 ***\n",
       "---\n",
       "Signif. codes:  0 ‘***’ 0.001 ‘**’ 0.01 ‘*’ 0.05 ‘.’ 0.1 ‘ ’ 1\n",
       "\n",
       "Correlation of Fixed Effects:\n",
       "            (Intr) abslat sst_sc\n",
       "abslat      -0.904              \n",
       "sst_scaled  -0.481  0.303       \n",
       "abslt:sst_s  0.118  0.129 -0.814"
      ]
     },
     "metadata": {},
     "output_type": "display_data"
    }
   ],
   "source": [
    "summary(winter_re)"
   ]
  },
  {
   "cell_type": "code",
   "execution_count": 499,
   "metadata": {},
   "outputs": [
    {
     "data": {
      "text/plain": [
       "Linear mixed model fit by REML. t-tests use Satterthwaite's method [\n",
       "lmerModLmerTest]\n",
       "Formula: performance_diff_mean ~ (abslat + sst_scaled)^2 + (1 | isolate)\n",
       "   Data: summer_only\n",
       "\n",
       "REML criterion at convergence: -4375.4\n",
       "\n",
       "Scaled residuals: \n",
       "    Min      1Q  Median      3Q     Max \n",
       "-7.0612 -0.3711 -0.0288  0.3465  6.4595 \n",
       "\n",
       "Random effects:\n",
       " Groups   Name        Variance Std.Dev.\n",
       " isolate  (Intercept) 0.032416 0.18004 \n",
       " Residual             0.005367 0.07326 \n",
       "Number of obs: 2003, groups:  isolate, 75\n",
       "\n",
       "Fixed effects:\n",
       "                    Estimate Std. Error         df t value Pr(>|t|)   \n",
       "(Intercept)       -1.818e-01  5.825e-02  1.716e+02  -3.121  0.00212 **\n",
       "abslat             3.439e-03  1.692e-03  1.675e+02   2.033  0.04362 * \n",
       "sst_scaled         1.080e-01  4.239e-02  2.940e+02   2.548  0.01133 * \n",
       "abslat:sst_scaled -2.160e-03  9.399e-04  1.075e+02  -2.298  0.02349 * \n",
       "---\n",
       "Signif. codes:  0 ‘***’ 0.001 ‘**’ 0.01 ‘*’ 0.05 ‘.’ 0.1 ‘ ’ 1\n",
       "\n",
       "Correlation of Fixed Effects:\n",
       "            (Intr) abslat sst_sc\n",
       "abslat      -0.900              \n",
       "sst_scaled  -0.481  0.290       \n",
       "abslt:sst_s  0.150  0.108 -0.837"
      ]
     },
     "metadata": {},
     "output_type": "display_data"
    }
   ],
   "source": [
    "summer_only = mhwPerformance %>% filter(season == \"summer\")\n",
    "summer_re = lmer(performance_diff_mean ~ (abslat + sst_scaled)^2 + (1 | isolate), data=summer_only, )\n",
    "summary(summer_re)"
   ]
  },
  {
   "cell_type": "code",
   "execution_count": 500,
   "metadata": {},
   "outputs": [
    {
     "data": {
      "text/plain": [
       "Linear mixed model fit by REML. t-tests use Satterthwaite's method [\n",
       "lmerModLmerTest]\n",
       "Formula: performance_diff_mean ~ (abslat + sst_scaled)^2 + (1 | isolate)\n",
       "   Data: spring_only\n",
       "\n",
       "REML criterion at convergence: -2613.3\n",
       "\n",
       "Scaled residuals: \n",
       "    Min      1Q  Median      3Q     Max \n",
       "-7.3284 -0.2555  0.0049  0.2718  6.8615 \n",
       "\n",
       "Random effects:\n",
       " Groups   Name        Variance Std.Dev.\n",
       " isolate  (Intercept) 0.018823 0.1372  \n",
       " Residual             0.006773 0.0823  \n",
       "Number of obs: 1363, groups:  isolate, 75\n",
       "\n",
       "Fixed effects:\n",
       "                    Estimate Std. Error         df t value Pr(>|t|)  \n",
       "(Intercept)       -2.208e-02  6.034e-02  1.766e+02  -0.366   0.7149  \n",
       "abslat             3.918e-03  1.734e-03  1.652e+02   2.259   0.0252 *\n",
       "sst_scaled        -1.478e-02  4.590e-02  2.218e+02  -0.322   0.7478  \n",
       "abslat:sst_scaled  1.244e-03  7.886e-04  9.408e+01   1.577   0.1182  \n",
       "---\n",
       "Signif. codes:  0 ‘***’ 0.001 ‘**’ 0.01 ‘*’ 0.05 ‘.’ 0.1 ‘ ’ 1\n",
       "\n",
       "Correlation of Fixed Effects:\n",
       "            (Intr) abslat sst_sc\n",
       "abslat      -0.942              \n",
       "sst_scaled  -0.713  0.596       \n",
       "abslt:sst_s  0.284 -0.085 -0.778"
      ]
     },
     "metadata": {},
     "output_type": "display_data"
    }
   ],
   "source": [
    "spring_only = mhwPerformance %>% filter(season == \"spring\")\n",
    "spring_re = lmer(performance_diff_mean ~ (abslat + sst_scaled)^2 + (1 | isolate), data=spring_only, )\n",
    "summary(spring_re)"
   ]
  },
  {
   "cell_type": "code",
   "execution_count": 501,
   "metadata": {},
   "outputs": [
    {
     "data": {
      "text/plain": [
       "Linear mixed model fit by REML. t-tests use Satterthwaite's method [\n",
       "lmerModLmerTest]\n",
       "Formula: performance_diff_mean ~ (abslat + sst_scaled)^2 + (1 | isolate)\n",
       "   Data: fall_only\n",
       "\n",
       "REML criterion at convergence: -2220.3\n",
       "\n",
       "Scaled residuals: \n",
       "    Min      1Q  Median      3Q     Max \n",
       "-7.8919 -0.3296  0.0008  0.3554  5.4018 \n",
       "\n",
       "Random effects:\n",
       " Groups   Name        Variance Std.Dev.\n",
       " isolate  (Intercept) 0.016241 0.12744 \n",
       " Residual             0.002272 0.04767 \n",
       "Number of obs: 792, groups:  isolate, 75\n",
       "\n",
       "Fixed effects:\n",
       "                    Estimate Std. Error         df t value Pr(>|t|)  \n",
       "(Intercept)       -2.539e-02  5.468e-02  1.862e+02  -0.464   0.6430  \n",
       "abslat             3.258e-03  1.577e-03  1.740e+02   2.066   0.0403 *\n",
       "sst_scaled        -2.935e-02  4.141e-02  2.373e+02  -0.709   0.4792  \n",
       "abslat:sst_scaled  1.216e-03  7.236e-04  9.740e+01   1.680   0.0962 .\n",
       "---\n",
       "Signif. codes:  0 ‘***’ 0.001 ‘**’ 0.01 ‘*’ 0.05 ‘.’ 0.1 ‘ ’ 1\n",
       "\n",
       "Correlation of Fixed Effects:\n",
       "            (Intr) abslat sst_sc\n",
       "abslat      -0.940              \n",
       "sst_scaled  -0.701  0.580       \n",
       "abslt:sst_s  0.270 -0.068 -0.777"
      ]
     },
     "metadata": {},
     "output_type": "display_data"
    }
   ],
   "source": [
    "fall_only = mhwPerformance %>% filter(season == \"fall\")\n",
    "fall_re = lmer(performance_diff_mean ~ (abslat + sst_scaled)^2 + (1 | isolate), data=fall_only, )\n",
    "summary(fall_re)"
   ]
  },
  {
   "cell_type": "code",
   "execution_count": 502,
   "metadata": {},
   "outputs": [],
   "source": [
    "tab_model(\n",
    "    winter_re,\n",
    "    spring_re,\n",
    "    summer_re,\n",
    "    fall_re,  \n",
    "    show.stat=TRUE,\n",
    "    use.viewer=FALSE, \n",
    "    dv.labels=c(\"Winter Only\", \"Spring Only\", \"Summer Only\", \"Autumn Only\"), \n",
    "    file = \"compare_season_models.html\"\n",
    ")"
   ]
  },
  {
   "cell_type": "code",
   "execution_count": 2,
   "metadata": {},
   "outputs": [],
   "source": [
    "theme_black = function(base_size = 12, base_family = \"\") {\n",
    " \n",
    "  theme_grey(base_size = base_size, base_family = base_family) %+replace%\n",
    " \n",
    "    theme(\n",
    "      # Specify axis options\n",
    "      axis.line = element_blank(),  \n",
    "      axis.text.x = element_text(size = base_size*0.8, color = \"white\", lineheight = 0.9),  \n",
    "      axis.text.y = element_text(size = base_size*0.8, color = \"white\", lineheight = 0.9),  \n",
    "      axis.ticks = element_line(color = \"white\", size  =  0.2),  \n",
    "      axis.title.x = element_text(size = base_size, color = \"white\", margin = margin(0, 10, 0, 0)),  \n",
    "      axis.title.y = element_text(size = base_size, color = \"white\", angle = 90, margin = margin(0, 10, 0, 0)),  \n",
    "      axis.ticks.length = unit(0.3, \"lines\"),   \n",
    "      # Specify legend options\n",
    "      legend.background = element_rect(color = NA, fill = \"black\"),  \n",
    "      legend.key = element_rect(color = \"white\",  fill = \"black\"),  \n",
    "      legend.key.size = unit(1.2, \"lines\"),  \n",
    "      legend.key.height = NULL,  \n",
    "      legend.key.width = NULL,      \n",
    "      legend.text = element_text(size = base_size*0.8, color = \"white\"),  \n",
    "      legend.title = element_text(size = base_size*0.8, face = \"bold\", hjust = 0, color = \"white\"),  \n",
    "      legend.position = \"right\",  \n",
    "      legend.text.align = NULL,  \n",
    "      legend.title.align = NULL,  \n",
    "      legend.direction = \"vertical\",  \n",
    "      legend.box = NULL, \n",
    "      # Specify panel options\n",
    "      panel.background = element_rect(fill = \"black\", color  =  NA),  \n",
    "      panel.border = element_rect(fill = NA, color = \"white\"),  \n",
    "      panel.grid.major = element_line(color = \"grey35\"),  \n",
    "      panel.grid.minor = element_line(color = \"grey20\"),  \n",
    "      panel.margin = unit(0.5, \"lines\"),   \n",
    "      # Specify facetting options\n",
    "      strip.background = element_rect(fill = \"grey30\", color = \"grey10\"),  \n",
    "      strip.text.x = element_text(size = base_size*0.8, color = \"white\"),  \n",
    "      strip.text.y = element_text(size = base_size*0.8, color = \"white\",angle = -90),  \n",
    "      # Specify plot options\n",
    "      plot.background = element_rect(color = \"black\", fill = \"black\"),  \n",
    "      plot.title = element_text(size = base_size*1.2, color = \"white\"),  \n",
    "      plot.margin = unit(rep(1, 4), \"lines\")\n",
    " \n",
    "    )\n",
    " \n",
    "}\n",
    " "
   ]
  },
  {
   "cell_type": "code",
   "execution_count": null,
   "metadata": {},
   "outputs": [],
   "source": []
  }
 ],
 "metadata": {
  "kernelspec": {
   "display_name": "R [conda env:R]",
   "language": "R",
   "name": "conda-env-R-r"
  },
  "language_info": {
   "codemirror_mode": "r",
   "file_extension": ".r",
   "mimetype": "text/x-r-source",
   "name": "R",
   "pygments_lexer": "r",
   "version": "3.6.1"
  }
 },
 "nbformat": 4,
 "nbformat_minor": 4
}
