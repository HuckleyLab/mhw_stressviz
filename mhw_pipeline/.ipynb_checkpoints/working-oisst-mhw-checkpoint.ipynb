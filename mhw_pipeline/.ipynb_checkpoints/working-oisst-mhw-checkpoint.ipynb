{
 "cells": [
  {
   "cell_type": "code",
   "execution_count": 3,
   "metadata": {},
   "outputs": [],
   "source": [
    "import os\n",
    "import sys\n",
    "\n",
    "sys.path.append(\"/home/jovyan/marineHeatWaves\")\n",
    "import marineHeatWaves as mh\n",
    "\n",
    "import xarray as xr\n",
    "import numpy as np\n",
    "\n",
    "from dask.distributed import Client\n",
    "\n",
    "from datetime import date, datetime\n",
    "\n",
    "from functools import partial\n",
    "\n",
    "import gcsfs\n",
    "\n",
    "import cartopy.crs as ccrs\n",
    "import cartopy.feature as cf\n",
    "\n",
    "from pandas import Timestamp\n",
    "\n",
    "import matplotlib.pyplot as plt\n",
    "%matplotlib inline\n",
    "\n",
    "from multiprocessing import Pool\n",
    "\n",
    "from numba import float64, guvectorize, jit\n",
    "\n",
    "GCP_PROJECT_ID = '170771369993'\n",
    "OISST_GCP = 'oisst/oisst.zarr'"
   ]
  },
  {
   "cell_type": "code",
   "execution_count": 4,
   "metadata": {},
   "outputs": [],
   "source": [
    "from importlib import reload"
   ]
  },
  {
   "cell_type": "code",
   "execution_count": 5,
   "metadata": {},
   "outputs": [],
   "source": [
    "from dask.distributed import Client\n",
    "from dask_kubernetes import KubeCluster\n",
    "\n",
    "# cluster = KubeCluster()"
   ]
  },
  {
   "cell_type": "code",
   "execution_count": 4,
   "metadata": {},
   "outputs": [
    {
     "ename": "NameError",
     "evalue": "name 'client' is not defined",
     "output_type": "error",
     "traceback": [
      "\u001b[0;31m---------------------------------------------------------------------------\u001b[0m",
      "\u001b[0;31mNameError\u001b[0m                                 Traceback (most recent call last)",
      "\u001b[0;32m<ipython-input-4-e39ec740b4b6>\u001b[0m in \u001b[0;36m<module>\u001b[0;34m\u001b[0m\n\u001b[0;32m----> 1\u001b[0;31m \u001b[0mclient\u001b[0m\u001b[0;34m.\u001b[0m\u001b[0mcluster\u001b[0m\u001b[0;34m.\u001b[0m\u001b[0mscale_up\u001b[0m\u001b[0;34m(\u001b[0m\u001b[0;36m16\u001b[0m\u001b[0;34m)\u001b[0m\u001b[0;34m\u001b[0m\u001b[0;34m\u001b[0m\u001b[0m\n\u001b[0m",
      "\u001b[0;31mNameError\u001b[0m: name 'client' is not defined"
     ]
    }
   ],
   "source": [
    "client.cluster.scale_up(16)"
   ]
  },
  {
   "cell_type": "code",
   "execution_count": null,
   "metadata": {},
   "outputs": [],
   "source": [
    "\n",
    "client = Client(\"tcp://10.32.2.85:39965\")\n",
    "client"
   ]
  },
  {
   "cell_type": "code",
   "execution_count": 6,
   "metadata": {},
   "outputs": [],
   "source": [
    "client = Client()\n"
   ]
  },
  {
   "cell_type": "code",
   "execution_count": 7,
   "metadata": {},
   "outputs": [],
   "source": [
    "client.cluster.scale(16)"
   ]
  },
  {
   "cell_type": "code",
   "execution_count": 6,
   "metadata": {},
   "outputs": [
    {
     "data": {
      "text/plain": [
       "<module 'marineHeatWaves' from '/home/jovyan/marineHeatWaves/marineHeatWaves.py'>"
      ]
     },
     "execution_count": 6,
     "metadata": {},
     "output_type": "execute_result"
    }
   ],
   "source": [
    "reload(mh)"
   ]
  },
  {
   "cell_type": "markdown",
   "metadata": {},
   "source": [
    "# Marine Heatwaves in OISST Data"
   ]
  },
  {
   "cell_type": "markdown",
   "metadata": {},
   "source": [
    "## First: use [`marineHeatWaves.py`](https://github.com/ecjoliver/marineHeatWaves/blob/master/marineHeatWaves.py)\n"
   ]
  },
  {
   "cell_type": "code",
   "execution_count": 8,
   "metadata": {},
   "outputs": [],
   "source": [
    "fs = gcsfs.GCSFileSystem(project=GCP_PROJECT_ID, token=\"/home/jovyan/gc-pangeo.json\")\n",
    "oisst = xr.open_zarr(fs.get_mapper(OISST_GCP))\n",
    "oisst = oisst.assign_coords(lon=(((oisst.lon + 180) % 360) - 180)).sortby('lon')"
   ]
  },
  {
   "cell_type": "code",
   "execution_count": 9,
   "metadata": {},
   "outputs": [
    {
     "data": {
      "text/html": [
       "<table>\n",
       "<tr>\n",
       "<td>\n",
       "<table>\n",
       "  <thead>\n",
       "    <tr><td> </td><th> Array </th><th> Chunk </th></tr>\n",
       "  </thead>\n",
       "  <tbody>\n",
       "    <tr><th> Bytes </th><td> 56.55 GB </td> <td> 10.00 MB </td></tr>\n",
       "    <tr><th> Shape </th><td> (13636, 720, 1440) </td> <td> (100, 50, 500) </td></tr>\n",
       "    <tr><th> Count </th><td> 14386 Tasks </td><td> 8220 Chunks </td></tr>\n",
       "    <tr><th> Type </th><td> float32 </td><td> numpy.ndarray </td></tr>\n",
       "  </tbody>\n",
       "</table>\n",
       "</td>\n",
       "<td>\n",
       "<svg width=\"169\" height=\"155\" style=\"stroke:rgb(0,0,0);stroke-width:1\" >\n",
       "\n",
       "  <!-- Horizontal lines -->\n",
       "  <line x1=\"10\" y1=\"0\" x2=\"80\" y2=\"70\" style=\"stroke-width:2\" />\n",
       "  <line x1=\"10\" y1=\"2\" x2=\"80\" y2=\"73\" />\n",
       "  <line x1=\"10\" y1=\"4\" x2=\"80\" y2=\"75\" />\n",
       "  <line x1=\"10\" y1=\"7\" x2=\"80\" y2=\"77\" />\n",
       "  <line x1=\"10\" y1=\"9\" x2=\"80\" y2=\"80\" />\n",
       "  <line x1=\"10\" y1=\"12\" x2=\"80\" y2=\"82\" />\n",
       "  <line x1=\"10\" y1=\"14\" x2=\"80\" y2=\"85\" />\n",
       "  <line x1=\"10\" y1=\"16\" x2=\"80\" y2=\"87\" />\n",
       "  <line x1=\"10\" y1=\"19\" x2=\"80\" y2=\"89\" />\n",
       "  <line x1=\"10\" y1=\"21\" x2=\"80\" y2=\"92\" />\n",
       "  <line x1=\"10\" y1=\"24\" x2=\"80\" y2=\"94\" />\n",
       "  <line x1=\"10\" y1=\"26\" x2=\"80\" y2=\"97\" />\n",
       "  <line x1=\"10\" y1=\"29\" x2=\"80\" y2=\"99\" />\n",
       "  <line x1=\"10\" y1=\"31\" x2=\"80\" y2=\"102\" />\n",
       "  <line x1=\"10\" y1=\"33\" x2=\"80\" y2=\"104\" />\n",
       "  <line x1=\"10\" y1=\"34\" x2=\"80\" y2=\"105\" style=\"stroke-width:2\" />\n",
       "\n",
       "  <!-- Vertical lines -->\n",
       "  <line x1=\"10\" y1=\"0\" x2=\"10\" y2=\"34\" style=\"stroke-width:2\" />\n",
       "  <line x1=\"10\" y1=\"0\" x2=\"10\" y2=\"35\" />\n",
       "  <line x1=\"11\" y1=\"1\" x2=\"11\" y2=\"35\" />\n",
       "  <line x1=\"11\" y1=\"1\" x2=\"11\" y2=\"36\" />\n",
       "  <line x1=\"12\" y1=\"2\" x2=\"12\" y2=\"36\" />\n",
       "  <line x1=\"12\" y1=\"2\" x2=\"12\" y2=\"37\" />\n",
       "  <line x1=\"13\" y1=\"3\" x2=\"13\" y2=\"37\" />\n",
       "  <line x1=\"13\" y1=\"3\" x2=\"13\" y2=\"38\" />\n",
       "  <line x1=\"14\" y1=\"4\" x2=\"14\" y2=\"38\" />\n",
       "  <line x1=\"14\" y1=\"4\" x2=\"14\" y2=\"39\" />\n",
       "  <line x1=\"15\" y1=\"5\" x2=\"15\" y2=\"40\" />\n",
       "  <line x1=\"15\" y1=\"5\" x2=\"15\" y2=\"40\" />\n",
       "  <line x1=\"16\" y1=\"6\" x2=\"16\" y2=\"41\" />\n",
       "  <line x1=\"16\" y1=\"6\" x2=\"16\" y2=\"41\" />\n",
       "  <line x1=\"17\" y1=\"7\" x2=\"17\" y2=\"42\" />\n",
       "  <line x1=\"17\" y1=\"7\" x2=\"17\" y2=\"42\" />\n",
       "  <line x1=\"18\" y1=\"8\" x2=\"18\" y2=\"43\" />\n",
       "  <line x1=\"18\" y1=\"8\" x2=\"18\" y2=\"43\" />\n",
       "  <line x1=\"19\" y1=\"9\" x2=\"19\" y2=\"44\" />\n",
       "  <line x1=\"19\" y1=\"9\" x2=\"19\" y2=\"44\" />\n",
       "  <line x1=\"20\" y1=\"10\" x2=\"20\" y2=\"45\" />\n",
       "  <line x1=\"20\" y1=\"10\" x2=\"20\" y2=\"45\" />\n",
       "  <line x1=\"21\" y1=\"11\" x2=\"21\" y2=\"46\" />\n",
       "  <line x1=\"21\" y1=\"11\" x2=\"21\" y2=\"46\" />\n",
       "  <line x1=\"22\" y1=\"12\" x2=\"22\" y2=\"47\" />\n",
       "  <line x1=\"22\" y1=\"12\" x2=\"22\" y2=\"47\" />\n",
       "  <line x1=\"23\" y1=\"13\" x2=\"23\" y2=\"48\" />\n",
       "  <line x1=\"23\" y1=\"13\" x2=\"23\" y2=\"48\" />\n",
       "  <line x1=\"24\" y1=\"14\" x2=\"24\" y2=\"49\" />\n",
       "  <line x1=\"25\" y1=\"15\" x2=\"25\" y2=\"49\" />\n",
       "  <line x1=\"25\" y1=\"15\" x2=\"25\" y2=\"50\" />\n",
       "  <line x1=\"26\" y1=\"16\" x2=\"26\" y2=\"50\" />\n",
       "  <line x1=\"26\" y1=\"16\" x2=\"26\" y2=\"51\" />\n",
       "  <line x1=\"27\" y1=\"17\" x2=\"27\" y2=\"51\" />\n",
       "  <line x1=\"27\" y1=\"17\" x2=\"27\" y2=\"52\" />\n",
       "  <line x1=\"28\" y1=\"18\" x2=\"28\" y2=\"52\" />\n",
       "  <line x1=\"28\" y1=\"18\" x2=\"28\" y2=\"53\" />\n",
       "  <line x1=\"29\" y1=\"19\" x2=\"29\" y2=\"53\" />\n",
       "  <line x1=\"29\" y1=\"19\" x2=\"29\" y2=\"54\" />\n",
       "  <line x1=\"30\" y1=\"20\" x2=\"30\" y2=\"55\" />\n",
       "  <line x1=\"30\" y1=\"20\" x2=\"30\" y2=\"55\" />\n",
       "  <line x1=\"31\" y1=\"21\" x2=\"31\" y2=\"56\" />\n",
       "  <line x1=\"31\" y1=\"21\" x2=\"31\" y2=\"56\" />\n",
       "  <line x1=\"32\" y1=\"22\" x2=\"32\" y2=\"57\" />\n",
       "  <line x1=\"32\" y1=\"22\" x2=\"32\" y2=\"57\" />\n",
       "  <line x1=\"33\" y1=\"23\" x2=\"33\" y2=\"58\" />\n",
       "  <line x1=\"33\" y1=\"23\" x2=\"33\" y2=\"58\" />\n",
       "  <line x1=\"34\" y1=\"24\" x2=\"34\" y2=\"59\" />\n",
       "  <line x1=\"34\" y1=\"24\" x2=\"34\" y2=\"59\" />\n",
       "  <line x1=\"35\" y1=\"25\" x2=\"35\" y2=\"60\" />\n",
       "  <line x1=\"35\" y1=\"25\" x2=\"35\" y2=\"60\" />\n",
       "  <line x1=\"36\" y1=\"26\" x2=\"36\" y2=\"61\" />\n",
       "  <line x1=\"36\" y1=\"26\" x2=\"36\" y2=\"61\" />\n",
       "  <line x1=\"37\" y1=\"27\" x2=\"37\" y2=\"62\" />\n",
       "  <line x1=\"37\" y1=\"27\" x2=\"37\" y2=\"62\" />\n",
       "  <line x1=\"38\" y1=\"28\" x2=\"38\" y2=\"63\" />\n",
       "  <line x1=\"38\" y1=\"28\" x2=\"38\" y2=\"63\" />\n",
       "  <line x1=\"39\" y1=\"29\" x2=\"39\" y2=\"64\" />\n",
       "  <line x1=\"40\" y1=\"30\" x2=\"40\" y2=\"64\" />\n",
       "  <line x1=\"40\" y1=\"30\" x2=\"40\" y2=\"65\" />\n",
       "  <line x1=\"41\" y1=\"31\" x2=\"41\" y2=\"65\" />\n",
       "  <line x1=\"41\" y1=\"31\" x2=\"41\" y2=\"66\" />\n",
       "  <line x1=\"42\" y1=\"32\" x2=\"42\" y2=\"66\" />\n",
       "  <line x1=\"42\" y1=\"32\" x2=\"42\" y2=\"67\" />\n",
       "  <line x1=\"43\" y1=\"33\" x2=\"43\" y2=\"67\" />\n",
       "  <line x1=\"43\" y1=\"33\" x2=\"43\" y2=\"68\" />\n",
       "  <line x1=\"44\" y1=\"34\" x2=\"44\" y2=\"69\" />\n",
       "  <line x1=\"44\" y1=\"34\" x2=\"44\" y2=\"69\" />\n",
       "  <line x1=\"45\" y1=\"35\" x2=\"45\" y2=\"70\" />\n",
       "  <line x1=\"45\" y1=\"35\" x2=\"45\" y2=\"70\" />\n",
       "  <line x1=\"46\" y1=\"36\" x2=\"46\" y2=\"71\" />\n",
       "  <line x1=\"46\" y1=\"36\" x2=\"46\" y2=\"71\" />\n",
       "  <line x1=\"47\" y1=\"37\" x2=\"47\" y2=\"72\" />\n",
       "  <line x1=\"47\" y1=\"37\" x2=\"47\" y2=\"72\" />\n",
       "  <line x1=\"48\" y1=\"38\" x2=\"48\" y2=\"73\" />\n",
       "  <line x1=\"48\" y1=\"38\" x2=\"48\" y2=\"73\" />\n",
       "  <line x1=\"49\" y1=\"39\" x2=\"49\" y2=\"74\" />\n",
       "  <line x1=\"49\" y1=\"39\" x2=\"49\" y2=\"74\" />\n",
       "  <line x1=\"50\" y1=\"40\" x2=\"50\" y2=\"75\" />\n",
       "  <line x1=\"50\" y1=\"40\" x2=\"50\" y2=\"75\" />\n",
       "  <line x1=\"51\" y1=\"41\" x2=\"51\" y2=\"76\" />\n",
       "  <line x1=\"51\" y1=\"41\" x2=\"51\" y2=\"76\" />\n",
       "  <line x1=\"52\" y1=\"42\" x2=\"52\" y2=\"77\" />\n",
       "  <line x1=\"52\" y1=\"42\" x2=\"52\" y2=\"77\" />\n",
       "  <line x1=\"53\" y1=\"43\" x2=\"53\" y2=\"78\" />\n",
       "  <line x1=\"54\" y1=\"44\" x2=\"54\" y2=\"78\" />\n",
       "  <line x1=\"54\" y1=\"44\" x2=\"54\" y2=\"79\" />\n",
       "  <line x1=\"55\" y1=\"45\" x2=\"55\" y2=\"79\" />\n",
       "  <line x1=\"55\" y1=\"45\" x2=\"55\" y2=\"80\" />\n",
       "  <line x1=\"56\" y1=\"46\" x2=\"56\" y2=\"80\" />\n",
       "  <line x1=\"56\" y1=\"46\" x2=\"56\" y2=\"81\" />\n",
       "  <line x1=\"57\" y1=\"47\" x2=\"57\" y2=\"81\" />\n",
       "  <line x1=\"57\" y1=\"47\" x2=\"57\" y2=\"82\" />\n",
       "  <line x1=\"58\" y1=\"48\" x2=\"58\" y2=\"82\" />\n",
       "  <line x1=\"58\" y1=\"48\" x2=\"58\" y2=\"83\" />\n",
       "  <line x1=\"59\" y1=\"49\" x2=\"59\" y2=\"84\" />\n",
       "  <line x1=\"59\" y1=\"49\" x2=\"59\" y2=\"84\" />\n",
       "  <line x1=\"60\" y1=\"50\" x2=\"60\" y2=\"85\" />\n",
       "  <line x1=\"60\" y1=\"50\" x2=\"60\" y2=\"85\" />\n",
       "  <line x1=\"61\" y1=\"51\" x2=\"61\" y2=\"86\" />\n",
       "  <line x1=\"61\" y1=\"51\" x2=\"61\" y2=\"86\" />\n",
       "  <line x1=\"62\" y1=\"52\" x2=\"62\" y2=\"87\" />\n",
       "  <line x1=\"62\" y1=\"52\" x2=\"62\" y2=\"87\" />\n",
       "  <line x1=\"63\" y1=\"53\" x2=\"63\" y2=\"88\" />\n",
       "  <line x1=\"63\" y1=\"53\" x2=\"63\" y2=\"88\" />\n",
       "  <line x1=\"64\" y1=\"54\" x2=\"64\" y2=\"89\" />\n",
       "  <line x1=\"64\" y1=\"54\" x2=\"64\" y2=\"89\" />\n",
       "  <line x1=\"65\" y1=\"55\" x2=\"65\" y2=\"90\" />\n",
       "  <line x1=\"65\" y1=\"55\" x2=\"65\" y2=\"90\" />\n",
       "  <line x1=\"66\" y1=\"56\" x2=\"66\" y2=\"91\" />\n",
       "  <line x1=\"66\" y1=\"56\" x2=\"66\" y2=\"91\" />\n",
       "  <line x1=\"67\" y1=\"57\" x2=\"67\" y2=\"92\" />\n",
       "  <line x1=\"67\" y1=\"57\" x2=\"67\" y2=\"92\" />\n",
       "  <line x1=\"68\" y1=\"58\" x2=\"68\" y2=\"93\" />\n",
       "  <line x1=\"69\" y1=\"59\" x2=\"69\" y2=\"93\" />\n",
       "  <line x1=\"69\" y1=\"59\" x2=\"69\" y2=\"94\" />\n",
       "  <line x1=\"70\" y1=\"60\" x2=\"70\" y2=\"94\" />\n",
       "  <line x1=\"70\" y1=\"60\" x2=\"70\" y2=\"95\" />\n",
       "  <line x1=\"71\" y1=\"61\" x2=\"71\" y2=\"95\" />\n",
       "  <line x1=\"71\" y1=\"61\" x2=\"71\" y2=\"96\" />\n",
       "  <line x1=\"72\" y1=\"62\" x2=\"72\" y2=\"96\" />\n",
       "  <line x1=\"72\" y1=\"62\" x2=\"72\" y2=\"97\" />\n",
       "  <line x1=\"73\" y1=\"63\" x2=\"73\" y2=\"97\" />\n",
       "  <line x1=\"73\" y1=\"63\" x2=\"73\" y2=\"98\" />\n",
       "  <line x1=\"74\" y1=\"64\" x2=\"74\" y2=\"99\" />\n",
       "  <line x1=\"74\" y1=\"64\" x2=\"74\" y2=\"99\" />\n",
       "  <line x1=\"75\" y1=\"65\" x2=\"75\" y2=\"100\" />\n",
       "  <line x1=\"75\" y1=\"65\" x2=\"75\" y2=\"100\" />\n",
       "  <line x1=\"76\" y1=\"66\" x2=\"76\" y2=\"101\" />\n",
       "  <line x1=\"76\" y1=\"66\" x2=\"76\" y2=\"101\" />\n",
       "  <line x1=\"77\" y1=\"67\" x2=\"77\" y2=\"102\" />\n",
       "  <line x1=\"77\" y1=\"67\" x2=\"77\" y2=\"102\" />\n",
       "  <line x1=\"78\" y1=\"68\" x2=\"78\" y2=\"103\" />\n",
       "  <line x1=\"78\" y1=\"68\" x2=\"78\" y2=\"103\" />\n",
       "  <line x1=\"79\" y1=\"69\" x2=\"79\" y2=\"104\" />\n",
       "  <line x1=\"79\" y1=\"69\" x2=\"79\" y2=\"104\" />\n",
       "  <line x1=\"80\" y1=\"70\" x2=\"80\" y2=\"105\" />\n",
       "  <line x1=\"80\" y1=\"70\" x2=\"80\" y2=\"105\" style=\"stroke-width:2\" />\n",
       "\n",
       "  <!-- Colored Rectangle -->\n",
       "  <polygon points=\"10.000000,0.000000 80.588235,70.588235 80.588235,105.422745 10.000000,34.834509\" style=\"fill:#ECB172A0;stroke-width:0\"/>\n",
       "\n",
       "  <!-- Horizontal lines -->\n",
       "  <line x1=\"10\" y1=\"0\" x2=\"48\" y2=\"0\" style=\"stroke-width:2\" />\n",
       "  <line x1=\"10\" y1=\"0\" x2=\"49\" y2=\"0\" />\n",
       "  <line x1=\"11\" y1=\"1\" x2=\"49\" y2=\"1\" />\n",
       "  <line x1=\"11\" y1=\"1\" x2=\"50\" y2=\"1\" />\n",
       "  <line x1=\"12\" y1=\"2\" x2=\"50\" y2=\"2\" />\n",
       "  <line x1=\"12\" y1=\"2\" x2=\"51\" y2=\"2\" />\n",
       "  <line x1=\"13\" y1=\"3\" x2=\"52\" y2=\"3\" />\n",
       "  <line x1=\"13\" y1=\"3\" x2=\"52\" y2=\"3\" />\n",
       "  <line x1=\"14\" y1=\"4\" x2=\"53\" y2=\"4\" />\n",
       "  <line x1=\"14\" y1=\"4\" x2=\"53\" y2=\"4\" />\n",
       "  <line x1=\"15\" y1=\"5\" x2=\"54\" y2=\"5\" />\n",
       "  <line x1=\"15\" y1=\"5\" x2=\"54\" y2=\"5\" />\n",
       "  <line x1=\"16\" y1=\"6\" x2=\"55\" y2=\"6\" />\n",
       "  <line x1=\"16\" y1=\"6\" x2=\"55\" y2=\"6\" />\n",
       "  <line x1=\"17\" y1=\"7\" x2=\"56\" y2=\"7\" />\n",
       "  <line x1=\"17\" y1=\"7\" x2=\"56\" y2=\"7\" />\n",
       "  <line x1=\"18\" y1=\"8\" x2=\"57\" y2=\"8\" />\n",
       "  <line x1=\"18\" y1=\"8\" x2=\"57\" y2=\"8\" />\n",
       "  <line x1=\"19\" y1=\"9\" x2=\"58\" y2=\"9\" />\n",
       "  <line x1=\"19\" y1=\"9\" x2=\"58\" y2=\"9\" />\n",
       "  <line x1=\"20\" y1=\"10\" x2=\"59\" y2=\"10\" />\n",
       "  <line x1=\"20\" y1=\"10\" x2=\"59\" y2=\"10\" />\n",
       "  <line x1=\"21\" y1=\"11\" x2=\"60\" y2=\"11\" />\n",
       "  <line x1=\"21\" y1=\"11\" x2=\"60\" y2=\"11\" />\n",
       "  <line x1=\"22\" y1=\"12\" x2=\"61\" y2=\"12\" />\n",
       "  <line x1=\"22\" y1=\"12\" x2=\"61\" y2=\"12\" />\n",
       "  <line x1=\"23\" y1=\"13\" x2=\"62\" y2=\"13\" />\n",
       "  <line x1=\"23\" y1=\"13\" x2=\"62\" y2=\"13\" />\n",
       "  <line x1=\"24\" y1=\"14\" x2=\"63\" y2=\"14\" />\n",
       "  <line x1=\"25\" y1=\"15\" x2=\"63\" y2=\"15\" />\n",
       "  <line x1=\"25\" y1=\"15\" x2=\"64\" y2=\"15\" />\n",
       "  <line x1=\"26\" y1=\"16\" x2=\"64\" y2=\"16\" />\n",
       "  <line x1=\"26\" y1=\"16\" x2=\"65\" y2=\"16\" />\n",
       "  <line x1=\"27\" y1=\"17\" x2=\"65\" y2=\"17\" />\n",
       "  <line x1=\"27\" y1=\"17\" x2=\"66\" y2=\"17\" />\n",
       "  <line x1=\"28\" y1=\"18\" x2=\"67\" y2=\"18\" />\n",
       "  <line x1=\"28\" y1=\"18\" x2=\"67\" y2=\"18\" />\n",
       "  <line x1=\"29\" y1=\"19\" x2=\"68\" y2=\"19\" />\n",
       "  <line x1=\"29\" y1=\"19\" x2=\"68\" y2=\"19\" />\n",
       "  <line x1=\"30\" y1=\"20\" x2=\"69\" y2=\"20\" />\n",
       "  <line x1=\"30\" y1=\"20\" x2=\"69\" y2=\"20\" />\n",
       "  <line x1=\"31\" y1=\"21\" x2=\"70\" y2=\"21\" />\n",
       "  <line x1=\"31\" y1=\"21\" x2=\"70\" y2=\"21\" />\n",
       "  <line x1=\"32\" y1=\"22\" x2=\"71\" y2=\"22\" />\n",
       "  <line x1=\"32\" y1=\"22\" x2=\"71\" y2=\"22\" />\n",
       "  <line x1=\"33\" y1=\"23\" x2=\"72\" y2=\"23\" />\n",
       "  <line x1=\"33\" y1=\"23\" x2=\"72\" y2=\"23\" />\n",
       "  <line x1=\"34\" y1=\"24\" x2=\"73\" y2=\"24\" />\n",
       "  <line x1=\"34\" y1=\"24\" x2=\"73\" y2=\"24\" />\n",
       "  <line x1=\"35\" y1=\"25\" x2=\"74\" y2=\"25\" />\n",
       "  <line x1=\"35\" y1=\"25\" x2=\"74\" y2=\"25\" />\n",
       "  <line x1=\"36\" y1=\"26\" x2=\"75\" y2=\"26\" />\n",
       "  <line x1=\"36\" y1=\"26\" x2=\"75\" y2=\"26\" />\n",
       "  <line x1=\"37\" y1=\"27\" x2=\"76\" y2=\"27\" />\n",
       "  <line x1=\"37\" y1=\"27\" x2=\"76\" y2=\"27\" />\n",
       "  <line x1=\"38\" y1=\"28\" x2=\"77\" y2=\"28\" />\n",
       "  <line x1=\"38\" y1=\"28\" x2=\"77\" y2=\"28\" />\n",
       "  <line x1=\"39\" y1=\"29\" x2=\"78\" y2=\"29\" />\n",
       "  <line x1=\"40\" y1=\"30\" x2=\"78\" y2=\"30\" />\n",
       "  <line x1=\"40\" y1=\"30\" x2=\"79\" y2=\"30\" />\n",
       "  <line x1=\"41\" y1=\"31\" x2=\"79\" y2=\"31\" />\n",
       "  <line x1=\"41\" y1=\"31\" x2=\"80\" y2=\"31\" />\n",
       "  <line x1=\"42\" y1=\"32\" x2=\"80\" y2=\"32\" />\n",
       "  <line x1=\"42\" y1=\"32\" x2=\"81\" y2=\"32\" />\n",
       "  <line x1=\"43\" y1=\"33\" x2=\"82\" y2=\"33\" />\n",
       "  <line x1=\"43\" y1=\"33\" x2=\"82\" y2=\"33\" />\n",
       "  <line x1=\"44\" y1=\"34\" x2=\"83\" y2=\"34\" />\n",
       "  <line x1=\"44\" y1=\"34\" x2=\"83\" y2=\"34\" />\n",
       "  <line x1=\"45\" y1=\"35\" x2=\"84\" y2=\"35\" />\n",
       "  <line x1=\"45\" y1=\"35\" x2=\"84\" y2=\"35\" />\n",
       "  <line x1=\"46\" y1=\"36\" x2=\"85\" y2=\"36\" />\n",
       "  <line x1=\"46\" y1=\"36\" x2=\"85\" y2=\"36\" />\n",
       "  <line x1=\"47\" y1=\"37\" x2=\"86\" y2=\"37\" />\n",
       "  <line x1=\"47\" y1=\"37\" x2=\"86\" y2=\"37\" />\n",
       "  <line x1=\"48\" y1=\"38\" x2=\"87\" y2=\"38\" />\n",
       "  <line x1=\"48\" y1=\"38\" x2=\"87\" y2=\"38\" />\n",
       "  <line x1=\"49\" y1=\"39\" x2=\"88\" y2=\"39\" />\n",
       "  <line x1=\"49\" y1=\"39\" x2=\"88\" y2=\"39\" />\n",
       "  <line x1=\"50\" y1=\"40\" x2=\"89\" y2=\"40\" />\n",
       "  <line x1=\"50\" y1=\"40\" x2=\"89\" y2=\"40\" />\n",
       "  <line x1=\"51\" y1=\"41\" x2=\"90\" y2=\"41\" />\n",
       "  <line x1=\"51\" y1=\"41\" x2=\"90\" y2=\"41\" />\n",
       "  <line x1=\"52\" y1=\"42\" x2=\"91\" y2=\"42\" />\n",
       "  <line x1=\"52\" y1=\"42\" x2=\"91\" y2=\"42\" />\n",
       "  <line x1=\"53\" y1=\"43\" x2=\"92\" y2=\"43\" />\n",
       "  <line x1=\"54\" y1=\"44\" x2=\"92\" y2=\"44\" />\n",
       "  <line x1=\"54\" y1=\"44\" x2=\"93\" y2=\"44\" />\n",
       "  <line x1=\"55\" y1=\"45\" x2=\"93\" y2=\"45\" />\n",
       "  <line x1=\"55\" y1=\"45\" x2=\"94\" y2=\"45\" />\n",
       "  <line x1=\"56\" y1=\"46\" x2=\"94\" y2=\"46\" />\n",
       "  <line x1=\"56\" y1=\"46\" x2=\"95\" y2=\"46\" />\n",
       "  <line x1=\"57\" y1=\"47\" x2=\"96\" y2=\"47\" />\n",
       "  <line x1=\"57\" y1=\"47\" x2=\"96\" y2=\"47\" />\n",
       "  <line x1=\"58\" y1=\"48\" x2=\"97\" y2=\"48\" />\n",
       "  <line x1=\"58\" y1=\"48\" x2=\"97\" y2=\"48\" />\n",
       "  <line x1=\"59\" y1=\"49\" x2=\"98\" y2=\"49\" />\n",
       "  <line x1=\"59\" y1=\"49\" x2=\"98\" y2=\"49\" />\n",
       "  <line x1=\"60\" y1=\"50\" x2=\"99\" y2=\"50\" />\n",
       "  <line x1=\"60\" y1=\"50\" x2=\"99\" y2=\"50\" />\n",
       "  <line x1=\"61\" y1=\"51\" x2=\"100\" y2=\"51\" />\n",
       "  <line x1=\"61\" y1=\"51\" x2=\"100\" y2=\"51\" />\n",
       "  <line x1=\"62\" y1=\"52\" x2=\"101\" y2=\"52\" />\n",
       "  <line x1=\"62\" y1=\"52\" x2=\"101\" y2=\"52\" />\n",
       "  <line x1=\"63\" y1=\"53\" x2=\"102\" y2=\"53\" />\n",
       "  <line x1=\"63\" y1=\"53\" x2=\"102\" y2=\"53\" />\n",
       "  <line x1=\"64\" y1=\"54\" x2=\"103\" y2=\"54\" />\n",
       "  <line x1=\"64\" y1=\"54\" x2=\"103\" y2=\"54\" />\n",
       "  <line x1=\"65\" y1=\"55\" x2=\"104\" y2=\"55\" />\n",
       "  <line x1=\"65\" y1=\"55\" x2=\"104\" y2=\"55\" />\n",
       "  <line x1=\"66\" y1=\"56\" x2=\"105\" y2=\"56\" />\n",
       "  <line x1=\"66\" y1=\"56\" x2=\"105\" y2=\"56\" />\n",
       "  <line x1=\"67\" y1=\"57\" x2=\"106\" y2=\"57\" />\n",
       "  <line x1=\"67\" y1=\"57\" x2=\"106\" y2=\"57\" />\n",
       "  <line x1=\"68\" y1=\"58\" x2=\"107\" y2=\"58\" />\n",
       "  <line x1=\"69\" y1=\"59\" x2=\"107\" y2=\"59\" />\n",
       "  <line x1=\"69\" y1=\"59\" x2=\"108\" y2=\"59\" />\n",
       "  <line x1=\"70\" y1=\"60\" x2=\"108\" y2=\"60\" />\n",
       "  <line x1=\"70\" y1=\"60\" x2=\"109\" y2=\"60\" />\n",
       "  <line x1=\"71\" y1=\"61\" x2=\"109\" y2=\"61\" />\n",
       "  <line x1=\"71\" y1=\"61\" x2=\"110\" y2=\"61\" />\n",
       "  <line x1=\"72\" y1=\"62\" x2=\"111\" y2=\"62\" />\n",
       "  <line x1=\"72\" y1=\"62\" x2=\"111\" y2=\"62\" />\n",
       "  <line x1=\"73\" y1=\"63\" x2=\"112\" y2=\"63\" />\n",
       "  <line x1=\"73\" y1=\"63\" x2=\"112\" y2=\"63\" />\n",
       "  <line x1=\"74\" y1=\"64\" x2=\"113\" y2=\"64\" />\n",
       "  <line x1=\"74\" y1=\"64\" x2=\"113\" y2=\"64\" />\n",
       "  <line x1=\"75\" y1=\"65\" x2=\"114\" y2=\"65\" />\n",
       "  <line x1=\"75\" y1=\"65\" x2=\"114\" y2=\"65\" />\n",
       "  <line x1=\"76\" y1=\"66\" x2=\"115\" y2=\"66\" />\n",
       "  <line x1=\"76\" y1=\"66\" x2=\"115\" y2=\"66\" />\n",
       "  <line x1=\"77\" y1=\"67\" x2=\"116\" y2=\"67\" />\n",
       "  <line x1=\"77\" y1=\"67\" x2=\"116\" y2=\"67\" />\n",
       "  <line x1=\"78\" y1=\"68\" x2=\"117\" y2=\"68\" />\n",
       "  <line x1=\"78\" y1=\"68\" x2=\"117\" y2=\"68\" />\n",
       "  <line x1=\"79\" y1=\"69\" x2=\"118\" y2=\"69\" />\n",
       "  <line x1=\"79\" y1=\"69\" x2=\"118\" y2=\"69\" />\n",
       "  <line x1=\"80\" y1=\"70\" x2=\"119\" y2=\"70\" />\n",
       "  <line x1=\"80\" y1=\"70\" x2=\"119\" y2=\"70\" style=\"stroke-width:2\" />\n",
       "\n",
       "  <!-- Vertical lines -->\n",
       "  <line x1=\"10\" y1=\"0\" x2=\"80\" y2=\"70\" style=\"stroke-width:2\" />\n",
       "  <line x1=\"17\" y1=\"0\" x2=\"88\" y2=\"70\" />\n",
       "  <line x1=\"29\" y1=\"0\" x2=\"100\" y2=\"70\" />\n",
       "  <line x1=\"42\" y1=\"0\" x2=\"113\" y2=\"70\" />\n",
       "  <line x1=\"48\" y1=\"0\" x2=\"119\" y2=\"70\" style=\"stroke-width:2\" />\n",
       "\n",
       "  <!-- Colored Rectangle -->\n",
       "  <polygon points=\"10.000000,0.000000 48.896753,0.000000 119.484988,70.588235 80.588235,70.588235\" style=\"fill:#ECB172A0;stroke-width:0\"/>\n",
       "\n",
       "  <!-- Horizontal lines -->\n",
       "  <line x1=\"80\" y1=\"70\" x2=\"119\" y2=\"70\" style=\"stroke-width:2\" />\n",
       "  <line x1=\"80\" y1=\"73\" x2=\"119\" y2=\"73\" />\n",
       "  <line x1=\"80\" y1=\"75\" x2=\"119\" y2=\"75\" />\n",
       "  <line x1=\"80\" y1=\"77\" x2=\"119\" y2=\"77\" />\n",
       "  <line x1=\"80\" y1=\"80\" x2=\"119\" y2=\"80\" />\n",
       "  <line x1=\"80\" y1=\"82\" x2=\"119\" y2=\"82\" />\n",
       "  <line x1=\"80\" y1=\"85\" x2=\"119\" y2=\"85\" />\n",
       "  <line x1=\"80\" y1=\"87\" x2=\"119\" y2=\"87\" />\n",
       "  <line x1=\"80\" y1=\"89\" x2=\"119\" y2=\"89\" />\n",
       "  <line x1=\"80\" y1=\"92\" x2=\"119\" y2=\"92\" />\n",
       "  <line x1=\"80\" y1=\"94\" x2=\"119\" y2=\"94\" />\n",
       "  <line x1=\"80\" y1=\"97\" x2=\"119\" y2=\"97\" />\n",
       "  <line x1=\"80\" y1=\"99\" x2=\"119\" y2=\"99\" />\n",
       "  <line x1=\"80\" y1=\"102\" x2=\"119\" y2=\"102\" />\n",
       "  <line x1=\"80\" y1=\"104\" x2=\"119\" y2=\"104\" />\n",
       "  <line x1=\"80\" y1=\"105\" x2=\"119\" y2=\"105\" style=\"stroke-width:2\" />\n",
       "\n",
       "  <!-- Vertical lines -->\n",
       "  <line x1=\"80\" y1=\"70\" x2=\"80\" y2=\"105\" style=\"stroke-width:2\" />\n",
       "  <line x1=\"88\" y1=\"70\" x2=\"88\" y2=\"105\" />\n",
       "  <line x1=\"100\" y1=\"70\" x2=\"100\" y2=\"105\" />\n",
       "  <line x1=\"113\" y1=\"70\" x2=\"113\" y2=\"105\" />\n",
       "  <line x1=\"119\" y1=\"70\" x2=\"119\" y2=\"105\" style=\"stroke-width:2\" />\n",
       "\n",
       "  <!-- Colored Rectangle -->\n",
       "  <polygon points=\"80.588235,70.588235 119.484988,70.588235 119.484988,105.422745 80.588235,105.422745\" style=\"fill:#ECB172A0;stroke-width:0\"/>\n",
       "\n",
       "  <!-- Text -->\n",
       "  <text x=\"100.036612\" y=\"125.422745\" font-size=\"1.0rem\" font-weight=\"100\" text-anchor=\"middle\" >1440</text>\n",
       "  <text x=\"139.484988\" y=\"88.005490\" font-size=\"1.0rem\" font-weight=\"100\" text-anchor=\"middle\" transform=\"rotate(-90,139.484988,88.005490)\">720</text>\n",
       "  <text x=\"35.294118\" y=\"90.128627\" font-size=\"1.0rem\" font-weight=\"100\" text-anchor=\"middle\" transform=\"rotate(45,35.294118,90.128627)\">13636</text>\n",
       "</svg>\n",
       "</td>\n",
       "</tr>\n",
       "</table>"
      ],
      "text/plain": [
       "dask.array<getitem, shape=(13636, 720, 1440), dtype=float32, chunksize=(100, 50, 500), chunktype=numpy.ndarray>"
      ]
     },
     "execution_count": 9,
     "metadata": {},
     "output_type": "execute_result"
    }
   ],
   "source": [
    "oisst.sst.data"
   ]
  },
  {
   "cell_type": "code",
   "execution_count": 10,
   "metadata": {},
   "outputs": [
    {
     "data": {
      "text/html": [
       "<pre>&lt;xarray.Dataset&gt;\n",
       "Dimensions:  (lat: 720, lon: 1440, time: 13636)\n",
       "Coordinates:\n",
       "  * lat      (lat) float32 -89.875 -89.625 -89.375 ... 89.375 89.625 89.875\n",
       "  * lon      (lon) float32 -179.875 -179.625 -179.375 ... 179.625 179.875\n",
       "  * time     (time) datetime64[ns] 1981-09-01 1981-09-02 ... 2018-12-31\n",
       "Data variables:\n",
       "    sst      (time, lat, lon) float32 dask.array&lt;chunksize=(100, 50, 280), meta=np.ndarray&gt;\n",
       "Attributes:\n",
       "    Conventions:    CF-1.5\n",
       "    comment:        Reynolds, et al., 2007: Daily High-Resolution-Blended Ana...\n",
       "    dataset_title:  NOAA Daily Optimum Interpolation Sea Surface Temperature\n",
       "    history:        Thu Aug 24 13:34:17 2017: ncatted -O -a References,global...\n",
       "    institution:    NOAA/NCDC\n",
       "    references:     https://www.esrl.noaa.gov/psd/data/gridded/data.noaa.oiss...\n",
       "    source:         NOAA/NCDC  ftp://eclipse.ncdc.noaa.gov/pub/OI-daily-v2/\n",
       "    title:          NOAA High-resolution Blended Analysis: Daily Values using...</pre>"
      ],
      "text/plain": [
       "<xarray.Dataset>\n",
       "Dimensions:  (lat: 720, lon: 1440, time: 13636)\n",
       "Coordinates:\n",
       "  * lat      (lat) float32 -89.875 -89.625 -89.375 ... 89.375 89.625 89.875\n",
       "  * lon      (lon) float32 -179.875 -179.625 -179.375 ... 179.625 179.875\n",
       "  * time     (time) datetime64[ns] 1981-09-01 1981-09-02 ... 2018-12-31\n",
       "Data variables:\n",
       "    sst      (time, lat, lon) float32 dask.array<chunksize=(100, 50, 280), meta=np.ndarray>\n",
       "Attributes:\n",
       "    Conventions:    CF-1.5\n",
       "    comment:        Reynolds, et al., 2007: Daily High-Resolution-Blended Ana...\n",
       "    dataset_title:  NOAA Daily Optimum Interpolation Sea Surface Temperature\n",
       "    history:        Thu Aug 24 13:34:17 2017: ncatted -O -a References,global...\n",
       "    institution:    NOAA/NCDC\n",
       "    references:     https://www.esrl.noaa.gov/psd/data/gridded/data.noaa.oiss...\n",
       "    source:         NOAA/NCDC  ftp://eclipse.ncdc.noaa.gov/pub/OI-daily-v2/\n",
       "    title:          NOAA High-resolution Blended Analysis: Daily Values using..."
      ]
     },
     "execution_count": 10,
     "metadata": {},
     "output_type": "execute_result"
    }
   ],
   "source": [
    "oisst"
   ]
  },
  {
   "cell_type": "code",
   "execution_count": null,
   "metadata": {},
   "outputs": [],
   "source": []
  },
  {
   "cell_type": "code",
   "execution_count": 11,
   "metadata": {},
   "outputs": [],
   "source": [
    "# s\n",
    "PNW_LAT = slice(40, 50)\n",
    "PNW_LON = slice(-165.9, -121.9)\n",
    "oisst_pnw = oisst.sel(lat = PNW_LAT, lon = PNW_LON).persist()\n"
   ]
  },
  {
   "cell_type": "code",
   "execution_count": 12,
   "metadata": {},
   "outputs": [
    {
     "data": {
      "text/plain": [
       "<matplotlib.collections.QuadMesh at 0x7f9bf85991d0>"
      ]
     },
     "execution_count": 12,
     "metadata": {},
     "output_type": "execute_result"
    },
    {
     "data": {
      "image/png": "[encoded data removed]",
      "text/plain": [
       "<Figure size 432x288 with 2 Axes>"
      ]
     },
     "metadata": {
      "needs_background": "light"
     },
     "output_type": "display_data"
    }
   ],
   "source": [
    "\n",
    "oisst_pnw.sst.max('time').plot()"
   ]
  },
  {
   "cell_type": "code",
   "execution_count": 14,
   "metadata": {},
   "outputs": [],
   "source": [
    "reload(mh)\n",
    "def det_xr(x):\n",
    "    times = np.array([Timestamp(t).toordinal() for t in x.time.values])\n",
    "    dets = mh.detect(times, x.values.copy())\n",
    "    events = dets[0]['n_events']\n",
    "    del dets[0]['n_events']\n",
    "    \n",
    "    metrics = dets[0]\n",
    "    ds  = xr.merge([\n",
    "        xr.DataArray(\n",
    "            metrics[var],\n",
    "            name = var,\n",
    "            dims = 'n_event',\n",
    "            coords = {\"n_event\": np.arange(events)}\n",
    "        )\n",
    "        for var in metrics.keys()\n",
    "    ])\n",
    "\n",
    "    \n",
    "    \n",
    "    return(ds)"
   ]
  },
  {
   "cell_type": "code",
   "execution_count": null,
   "metadata": {},
   "outputs": [],
   "source": [
    "def det_minimal(x):\n",
    "    times = np.array([Timestamp(t).toordinal() for t in x.time.values])\n",
    "    dets = mh.detect(times, x.values.copy())\n",
    "    \n",
    "    events = dets[0]['n_events']\n",
    "    del dets[0]['n_events']\n",
    "    \n",
    "    arrays = {\n",
    "        key: xr.DataArray(np.full_like(times, False),\n",
    "                          name = key, dims='time',\n",
    "                          coords={\n",
    "                              'time' : x.time.values,\n",
    "                              'grid' : x.grid\n",
    "                          })\n",
    "        for key in ['mhw', 'mhw_cum_intensity']\n",
    "    }\n",
    "    for event in range(events):\n",
    "        start_date = dets[0]['date_start'][event]\n",
    "        end_date = dets[0]['date_end'][event]\n",
    "        cum_intense = dets[0]['intensity_cumulative'][event]\n",
    "\n",
    "        arrays['mhw'].loc[dict(time=slice(start_date, end_date))] = True\n",
    "        arrays['mhw_cum_intensity'].loc[dict(time=slice(start_date, end_date))] == cum_intense\n",
    "        \n",
    "    \n",
    "    return(xr.merge(arrays.values(), fill_value=False))"
   ]
  },
  {
   "cell_type": "code",
   "execution_count": null,
   "metadata": {},
   "outputs": [],
   "source": [
    "def det_block_avg(x):\n",
    "    times = np.array([Timestamp(t).toordinal() for t in x.time.values])\n",
    "    dets = mh.detect(times, x.values.copy())\n",
    "    blocks = mh.blockAverage(times, dets[0])\n",
    "    ds  = xr.merge([\n",
    "    xr.DataArray(\n",
    "        blocks[var],\n",
    "        name = var,\n",
    "        dims = 'block',\n",
    "        coords = {\"block\": np.arange(len(blocks['years_start']))}\n",
    "    )\n",
    "    for var in blocks.keys()\n",
    "])\n",
    "    \n",
    "    return(ds)"
   ]
  },
  {
   "cell_type": "code",
   "execution_count": null,
   "metadata": {},
   "outputs": [],
   "source": [
    "stack = oisst_pnw.sst.persist().stack(grid = ['lat', 'lon']).groupby('grid')"
   ]
  },
  {
   "cell_type": "code",
   "execution_count": null,
   "metadata": {},
   "outputs": [],
   "source": [
    "answer = stack.apply(det_xr)"
   ]
  },
  {
   "cell_type": "code",
   "execution_count": null,
   "metadata": {},
   "outputs": [],
   "source": [
    "stack.map()"
   ]
  },
  {
   "cell_type": "code",
   "execution_count": null,
   "metadata": {},
   "outputs": [],
   "source": [
    "blocks = stack.apply(det_block_avg)"
   ]
  },
  {
   "cell_type": "code",
   "execution_count": null,
   "metadata": {},
   "outputs": [],
   "source": [
    "minimal = stack.apply(det_minimal).unstack(fill_value=False)"
   ]
  },
  {
   "cell_type": "code",
   "execution_count": null,
   "metadata": {},
   "outputs": [],
   "source": [
    "minimal.mhw.sum('time').plot(vmin = 0, vmax = 2000)"
   ]
  },
  {
   "cell_type": "code",
   "execution_count": null,
   "metadata": {},
   "outputs": [],
   "source": [
    "minimal.mhw_cum_intensity.isel(lat=0, lon=0)"
   ]
  },
  {
   "cell_type": "code",
   "execution_count": null,
   "metadata": {},
   "outputs": [],
   "source": [
    "minimal.where(minimal.mhw ==True, drop=True).time.values"
   ]
  },
  {
   "cell_type": "code",
   "execution_count": null,
   "metadata": {},
   "outputs": [],
   "source": [
    "minimal"
   ]
  },
  {
   "cell_type": "code",
   "execution_count": null,
   "metadata": {},
   "outputs": [],
   "source": []
  },
  {
   "cell_type": "code",
   "execution_count": null,
   "metadata": {},
   "outputs": [],
   "source": [
    "plt.vlines(minimal.where(minimal.mhw, drop=True).isel(lat=0, lon=0).mhw.time.values, 0,1, color='red', \n",
    "           alpha=0.01)"
   ]
  },
  {
   "cell_type": "code",
   "execution_count": null,
   "metadata": {},
   "outputs": [],
   "source": [
    "plt.vlines(minimal.where(minimal.mhw, drop=True).isel(lat=1, lon=1).mhw.time.values, 0,1, color='red', \n",
    "           alpha=0.01)"
   ]
  },
  {
   "cell_type": "code",
   "execution_count": null,
   "metadata": {},
   "outputs": [],
   "source": [
    "(minimal.where(minimal.mhw, drop=True).isel(lat=0, lon=0)\n",
    " "
   ]
  },
  {
   "cell_type": "code",
   "execution_count": null,
   "metadata": {},
   "outputs": [],
   "source": []
  },
  {
   "cell_type": "code",
   "execution_count": null,
   "metadata": {},
   "outputs": [],
   "source": [
    "def np_det_minimal(x, times):\n",
    "    times = np.array([Timestamp(t).toordinal() for t in times])\n",
    "    dets = mh.detect(times, x)\n",
    "    \n",
    "    events = dets[0]['n_events']\n",
    "    del dets[0]['n_events']\n",
    "    \n",
    "    arrays = {\n",
    "        key: xr.DataArray(np.full_like(times, False),\n",
    "                          name = key, dims='time',\n",
    "                          coords={\n",
    "                              'time' : times,\n",
    "                          })\n",
    "        for key in ['mhw', 'mhw_cum_intensity']\n",
    "    }\n",
    "    for event in range(events):\n",
    "        start_date = dets[0]['date_start'][event]\n",
    "        end_date = dets[0]['date_end'][event]\n",
    "        cum_intense = dets[0]['intensity_cumulative'][event]\n",
    "\n",
    "        arrays['mhw'].loc[dict(time=slice(start_date, end_date))] = True\n",
    "        arrays['mhw_cum_intensity'].loc[dict(time=slice(start_date, end_date))] == cum_intense\n",
    "        \n",
    "    \n",
    "    return(xr.merge(arrays.values(), fill_value=False))"
   ]
  },
  {
   "cell_type": "code",
   "execution_count": null,
   "metadata": {},
   "outputs": [],
   "source": [
    "blocks.unstack().isel(lon=0, lat=0)['intensity_max'].plot()"
   ]
  },
  {
   "cell_type": "code",
   "execution_count": null,
   "metadata": {},
   "outputs": [],
   "source": [
    "blocks.unstack().isel(lon=0, lat=0)['duration'].plot()"
   ]
  },
  {
   "cell_type": "code",
   "execution_count": null,
   "metadata": {},
   "outputs": [],
   "source": [
    "np.zeros_like()"
   ]
  },
  {
   "cell_type": "code",
   "execution_count": null,
   "metadata": {},
   "outputs": [],
   "source": []
  },
  {
   "cell_type": "code",
   "execution_count": null,
   "metadata": {},
   "outputs": [],
   "source": [
    "oisst.sel(time=answer.unstack().isel(lat=0, lon=0).date_start.values[:37])"
   ]
  },
  {
   "cell_type": "code",
   "execution_count": null,
   "metadata": {},
   "outputs": [],
   "source": [
    "periods = xr.DataArray(False, name=\"mhw_periods\", coords=oisst_pnw.coords)"
   ]
  },
  {
   "cell_type": "code",
   "execution_count": null,
   "metadata": {},
   "outputs": [],
   "source": [
    "oisst_pnw_mhw = oisst_pnw.assign({\"periods\": xr.DataArray(False, name=\"mhw_periods\", coords=oisst_pnw.coords)})"
   ]
  },
  {
   "cell_type": "code",
   "execution_count": null,
   "metadata": {},
   "outputs": [],
   "source": [
    "oisst_pnw_mhw.periods.loc[xr.DataArray(answer.unstack().date_start, dims=['lat', 'lon', 'time'])]"
   ]
  },
  {
   "cell_type": "code",
   "execution_count": null,
   "metadata": {},
   "outputs": [],
   "source": [
    "oisst_pnw_mhw.periods.loc[]"
   ]
  },
  {
   "cell_type": "code",
   "execution_count": null,
   "metadata": {},
   "outputs": [],
   "source": [
    "xr.align(oisst_pnw_mhw, answer)"
   ]
  },
  {
   "cell_type": "code",
   "execution_count": null,
   "metadata": {},
   "outputs": [],
   "source": [
    "import sparse\n"
   ]
  },
  {
   "cell_type": "code",
   "execution_count": null,
   "metadata": {},
   "outputs": [],
   "source": [
    "ll = answer.unstack('grid')"
   ]
  },
  {
   "cell_type": "code",
   "execution_count": null,
   "metadata": {},
   "outputs": [],
   "source": [
    "datetime(year=1980, month=1, day=1)"
   ]
  },
  {
   "cell_type": "code",
   "execution_count": null,
   "metadata": {},
   "outputs": [],
   "source": [
    "plt.vlines(ll.isel(lat=0, lon=0).date_end.values, 0, 1)\n",
    "plt.xlim(datetime(year=1980, month=1, day=1), datetime(year=2015, month=1, day=1))"
   ]
  },
  {
   "cell_type": "code",
   "execution_count": null,
   "metadata": {},
   "outputs": [],
   "source": [
    "ll.to_array().isel(time=20)aa"
   ]
  },
  {
   "cell_type": "code",
   "execution_count": null,
   "metadata": {},
   "outputs": [],
   "source": [
    "ll.isel(time=42).duration.plot()"
   ]
  },
  {
   "cell_type": "code",
   "execution_count": null,
   "metadata": {},
   "outputs": [],
   "source": [
    "t = np.arange(date(1982,1,1).toordinal(),date(2014,12,31).toordinal()+1)\n",
    "Poo = [date.fromordinal(tt.astype(int)) for tt in t]\n",
    "# Generate synthetic temperature time series\n",
    "sst = np.zeros(len(t))\n",
    "sst[0] = 0 # Initial condition\n",
    "a = 0.85 # autoregressive parameter\n",
    "for i in range(1,len(t)):\n",
    "    sst[i] = a*sst[i-1] + 0.75*np.random.randn() + 0.5*np.cos(t[i]*2*np.pi/365.25)\n",
    "sst = sst - sst.min() + 5."
   ]
  },
  {
   "cell_type": "code",
   "execution_count": null,
   "metadata": {},
   "outputs": [],
   "source": [
    "dets = mh.detect(t, sst)"
   ]
  },
  {
   "cell_type": "code",
   "execution_count": null,
   "metadata": {},
   "outputs": [],
   "source": [
    "events = dets[0]['n_events']\n"
   ]
  },
  {
   "cell_type": "code",
   "execution_count": null,
   "metadata": {},
   "outputs": [],
   "source": [
    "del dets[0]['n_events']"
   ]
  },
  {
   "cell_type": "code",
   "execution_count": null,
   "metadata": {},
   "outputs": [],
   "source": [
    "ts = xr.DataArray(dets[0]['time_start'],\n",
    "             name='time_start',\n",
    "             dims='event_id', \n",
    "             coords = {\"event_id\": np.arange(events)})"
   ]
  },
  {
   "cell_type": "code",
   "execution_count": null,
   "metadata": {},
   "outputs": [],
   "source": [
    "te = xr.DataArray(dets[0]['time_end'],\n",
    "             name='time_end',\n",
    "             dims='event_id', \n",
    "             coords = {\"event_id\": np.arange(events)})"
   ]
  },
  {
   "cell_type": "code",
   "execution_count": null,
   "metadata": {},
   "outputs": [],
   "source": [
    "xr.merge([ts, te])"
   ]
  },
  {
   "cell_type": "code",
   "execution_count": null,
   "metadata": {},
   "outputs": [],
   "source": [
    "metrics = dets[0]\n",
    "ds  = xr.merge([\n",
    "    xr.DataArray(\n",
    "        metrics[var],\n",
    "        name = var,\n",
    "        dims = 'event_id',\n",
    "        coords = {\"event_id\": np.arange(events), \"lat\":10, \"lon\": 10}\n",
    "    )\n",
    "    for var in metrics.keys()\n",
    "])"
   ]
  },
  {
   "cell_type": "code",
   "execution_count": null,
   "metadata": {},
   "outputs": [],
   "source": [
    "oisst.isel(lat=0, lon=0)"
   ]
  },
  {
   "cell_type": "code",
   "execution_count": null,
   "metadata": {},
   "outputs": [],
   "source": [
    "events = dets[0]['n_events']\n",
    "del dets[0]['n_events']"
   ]
  },
  {
   "cell_type": "code",
   "execution_count": null,
   "metadata": {},
   "outputs": [],
   "source": [
    "arrays = {\n",
    "    key: xr.DataArray(np.full_like(s, False), name = key, dims='time', coords={'time' : \n",
    "                                                                              })\n",
    "    for key in ['mhw', 'mhw_cum_intensity']\n",
    "}\n",
    "for event in range(events):\n",
    "    start_date = dets[0]['date_start'][event]\n",
    "    end_date = dets[0]['date_end'][event]\n",
    "    cum_intense = dets[0]['intensity_cumulative'][event]\n",
    "    \n",
    "    arrays['mhw'].loc[dict(time=slice(start_date, end_date))] = True\n",
    "    arrays['mhw_cum_intensity'].loc[dict(time=slice(start_date, end_date))] == cum_intense\n"
   ]
  },
  {
   "cell_type": "code",
   "execution_count": null,
   "metadata": {},
   "outputs": [],
   "source": []
  },
  {
   "cell_type": "code",
   "execution_count": null,
   "metadata": {},
   "outputs": [],
   "source": []
  },
  {
   "cell_type": "code",
   "execution_count": null,
   "metadata": {},
   "outputs": [],
   "source": [
    "xr.merge(list(arrays.values()))"
   ]
  },
  {
   "cell_type": "markdown",
   "metadata": {},
   "source": [
    "## Try Multiprocessing"
   ]
  },
  {
   "cell_type": "code",
   "execution_count": null,
   "metadata": {},
   "outputs": [],
   "source": [
    "stack = oisst_pnw.sst.persist().stack(grid = ['lat', 'lon']).chunk({'time': -1})"
   ]
  },
  {
   "cell_type": "code",
   "execution_count": null,
   "metadata": {},
   "outputs": [],
   "source": [
    "stack.data.chunks"
   ]
  },
  {
   "cell_type": "code",
   "execution_count": null,
   "metadata": {},
   "outputs": [],
   "source": [
    "from dask import array as da"
   ]
  },
  {
   "cell_type": "code",
   "execution_count": null,
   "metadata": {},
   "outputs": [],
   "source": [
    "def test(ds, time):\n",
    "    print(time.shape)\n",
    "    return(ds)"
   ]
  },
  {
   "cell_type": "code",
   "execution_count": null,
   "metadata": {},
   "outputs": [],
   "source": [
    "def test2(ds, time):\n",
    "    print(ds.)\n",
    "    if ds.shape == (0,0): return 0.0\n",
    "    print(ds.shape\n",
    "         )\n",
    "    times = np.array([Timestamp(t).toordinal() for t in time])\n",
    "    dets = mh.detect(times, ds)\n",
    "    \n",
    "    events = dets[0]['n_events']\n",
    "    del dets[0]['n_events']\n",
    "    \n",
    "    arrays = {\n",
    "        key: xr.DataArray(np.full_like(times, False),\n",
    "                          name = key, dims='time',\n",
    "                          coords={\n",
    "                              'time' : time,\n",
    "                          })\n",
    "        for key in ['mhw', 'mhw_cum_intensity']\n",
    "    }\n",
    "    for event in range(events):\n",
    "        start_date = dets[0]['date_start'][event]\n",
    "        end_date = dets[0]['date_end'][event]\n",
    "        cum_intense = dets[0]['intensity_cumulative'][event]\n",
    "\n",
    "        arrays['mhw'].loc[dict(time=slice(start_date, end_date))] = True\n",
    "        arrays['mhw_cum_intensity'].loc[dict(time=slice(start_date, end_date))] == cum_intense\n",
    "        \n",
    "    return(xr.merge(arrays.values(), fill_value=False))"
   ]
  },
  {
   "cell_type": "code",
   "execution_count": null,
   "metadata": {},
   "outputs": [],
   "source": [
    "xr.apply_ufunc(test2, stack,\n",
    "               dask='parallelized',\n",
    "               input_core_dims=[['time']],\n",
    "               output_core_dims=[[]], \n",
    "               kwargs = {\"time\" : stack.time.values},\n",
    "               output_dtypes=[np.float]).compute().values"
   ]
  },
  {
   "cell_type": "code",
   "execution_count": null,
   "metadata": {},
   "outputs": [],
   "source": []
  },
  {
   "cell_type": "code",
   "execution_count": null,
   "metadata": {},
   "outputs": [],
   "source": [
    "from functools import partial"
   ]
  },
  {
   "cell_type": "code",
   "execution_count": null,
   "metadata": {},
   "outputs": [],
   "source": []
  },
  {
   "cell_type": "code",
   "execution_count": null,
   "metadata": {},
   "outputs": [],
   "source": [
    "procpool.map(det_minimal, zip(stack.values.T))"
   ]
  },
  {
   "cell_type": "code",
   "execution_count": null,
   "metadata": {},
   "outputs": [],
   "source": [
    "oissst_pnw"
   ]
  },
  {
   "cell_type": "code",
   "execution_count": null,
   "metadata": {},
   "outputs": [],
   "source": [
    "stack"
   ]
  },
  {
   "cell_type": "markdown",
   "metadata": {},
   "source": [
    "## Another Attempt"
   ]
  },
  {
   "cell_type": "code",
   "execution_count": null,
   "metadata": {},
   "outputs": [],
   "source": []
  },
  {
   "cell_type": "code",
   "execution_count": null,
   "metadata": {},
   "outputs": [],
   "source": [
    "# # s\n",
    "# PNW_LAT = slice(40.5, 61)\n",
    "# PNW_LON = slice(160.5, 192)\n",
    "oisst_pnw = oisst.sel(lat = PNW_LAT, lon = PNW_LON).persist()"
   ]
  },
  {
   "cell_type": "code",
   "execution_count": 13,
   "metadata": {},
   "outputs": [],
   "source": [
    "def mhw_1d(temps, time):\n",
    "    \n",
    "    if(np.isnan(temps).any()): return xr.DataArray(\n",
    "        np.full_like(temps, np.nan), \n",
    "        name = 'mhw', \n",
    "        dims = 'time', \n",
    "        coords ={\n",
    "            'time': time\n",
    "        }\n",
    "    )\n",
    "\n",
    "    ordinals =  np.array([Timestamp(t).toordinal() for t in time])\n",
    "    dets = mh.detect(ordinals, temps.copy())\n",
    "    events = dets[0]['n_events']\n",
    "    del dets[0]['n_events']\n",
    "    \n",
    "    arrays = {\n",
    "        key: xr.DataArray(np.full_like(time, 0., dtype='float64'),\n",
    "                          name = key, dims='time',\n",
    "                          coords={\n",
    "                              'time' : time,\n",
    "                          })\n",
    "        for key in ['mhw_cum_intensity']\n",
    "    }\n",
    "    for event in range(events):\n",
    "        start_date = dets[0]['date_start'][event]\n",
    "        end_date = dets[0]['date_end'][event]\n",
    "        cum_intense = dets[0]['intensity_cumulative'][event]\n",
    "\n",
    "#         arrays['mhw'].loc[dict(time=slice(start_date, end_date))] = True\n",
    "        arrays['mhw_cum_intensity'].loc[dict(time=slice(start_date, end_date))] = cum_intense\n",
    "        \n",
    "#     clim = xr.DataArray(dets[1]['thresh'], name='clim_thresh', dims='time', coords={'time': time})\n",
    "        \n",
    "    return (arrays['mhw_cum_intensity'])"
   ]
  },
  {
   "cell_type": "code",
   "execution_count": 14,
   "metadata": {},
   "outputs": [],
   "source": [
    "a = xr.apply_ufunc(\n",
    "    mhw_1d, \n",
    "    oisst_pnw.sst.chunk({'lat': 1, 'lon': 1, 'time': -1}), \n",
    "    oisst_pnw.time, \n",
    "    input_core_dims = [['time'], ['time']],\n",
    "    output_core_dims=[[\"time\"]], \n",
    "    vectorize=True, \n",
    "    dask='parallelized', \n",
    "    output_dtypes=['float64']\n",
    ")"
   ]
  },
  {
   "cell_type": "code",
   "execution_count": 15,
   "metadata": {},
   "outputs": [
    {
     "data": {
      "text/html": [
       "<table>\n",
       "<tr>\n",
       "<td>\n",
       "<table>\n",
       "  <thead>\n",
       "    <tr><td> </td><th> Array </th><th> Chunk </th></tr>\n",
       "  </thead>\n",
       "  <tbody>\n",
       "    <tr><th> Bytes </th><td> 767.98 MB </td> <td> 109.09 kB </td></tr>\n",
       "    <tr><th> Shape </th><td> (40, 176, 13636) </td> <td> (1, 1, 13636) </td></tr>\n",
       "    <tr><th> Count </th><td> 28545 Tasks </td><td> 7040 Chunks </td></tr>\n",
       "    <tr><th> Type </th><td> float64 </td><td> numpy.ndarray </td></tr>\n",
       "  </tbody>\n",
       "</table>\n",
       "</td>\n",
       "<td>\n",
       "<svg width=\"194\" height=\"91\" style=\"stroke:rgb(0,0,0);stroke-width:1\" >\n",
       "\n",
       "  <!-- Horizontal lines -->\n",
       "  <line x1=\"10\" y1=\"0\" x2=\"24\" y2=\"14\" style=\"stroke-width:2\" />\n",
       "  <line x1=\"10\" y1=\"0\" x2=\"24\" y2=\"15\" />\n",
       "  <line x1=\"10\" y1=\"0\" x2=\"24\" y2=\"15\" />\n",
       "  <line x1=\"10\" y1=\"0\" x2=\"24\" y2=\"15\" />\n",
       "  <line x1=\"10\" y1=\"0\" x2=\"24\" y2=\"15\" />\n",
       "  <line x1=\"10\" y1=\"0\" x2=\"24\" y2=\"15\" />\n",
       "  <line x1=\"10\" y1=\"0\" x2=\"24\" y2=\"15\" />\n",
       "  <line x1=\"10\" y1=\"1\" x2=\"24\" y2=\"16\" />\n",
       "  <line x1=\"10\" y1=\"1\" x2=\"24\" y2=\"16\" />\n",
       "  <line x1=\"10\" y1=\"1\" x2=\"24\" y2=\"16\" />\n",
       "  <line x1=\"10\" y1=\"1\" x2=\"24\" y2=\"16\" />\n",
       "  <line x1=\"10\" y1=\"1\" x2=\"24\" y2=\"16\" />\n",
       "  <line x1=\"10\" y1=\"1\" x2=\"24\" y2=\"16\" />\n",
       "  <line x1=\"10\" y1=\"1\" x2=\"24\" y2=\"16\" />\n",
       "  <line x1=\"10\" y1=\"2\" x2=\"24\" y2=\"17\" />\n",
       "  <line x1=\"10\" y1=\"2\" x2=\"24\" y2=\"17\" />\n",
       "  <line x1=\"10\" y1=\"2\" x2=\"24\" y2=\"17\" />\n",
       "  <line x1=\"10\" y1=\"2\" x2=\"24\" y2=\"17\" />\n",
       "  <line x1=\"10\" y1=\"2\" x2=\"24\" y2=\"17\" />\n",
       "  <line x1=\"10\" y1=\"2\" x2=\"24\" y2=\"17\" />\n",
       "  <line x1=\"10\" y1=\"3\" x2=\"24\" y2=\"17\" />\n",
       "  <line x1=\"10\" y1=\"3\" x2=\"24\" y2=\"18\" />\n",
       "  <line x1=\"10\" y1=\"3\" x2=\"24\" y2=\"18\" />\n",
       "  <line x1=\"10\" y1=\"3\" x2=\"24\" y2=\"18\" />\n",
       "  <line x1=\"10\" y1=\"3\" x2=\"24\" y2=\"18\" />\n",
       "  <line x1=\"10\" y1=\"3\" x2=\"24\" y2=\"18\" />\n",
       "  <line x1=\"10\" y1=\"3\" x2=\"24\" y2=\"18\" />\n",
       "  <line x1=\"10\" y1=\"4\" x2=\"24\" y2=\"19\" />\n",
       "  <line x1=\"10\" y1=\"4\" x2=\"24\" y2=\"19\" />\n",
       "  <line x1=\"10\" y1=\"4\" x2=\"24\" y2=\"19\" />\n",
       "  <line x1=\"10\" y1=\"4\" x2=\"24\" y2=\"19\" />\n",
       "  <line x1=\"10\" y1=\"4\" x2=\"24\" y2=\"19\" />\n",
       "  <line x1=\"10\" y1=\"4\" x2=\"24\" y2=\"19\" />\n",
       "  <line x1=\"10\" y1=\"5\" x2=\"24\" y2=\"19\" />\n",
       "  <line x1=\"10\" y1=\"5\" x2=\"24\" y2=\"20\" />\n",
       "  <line x1=\"10\" y1=\"5\" x2=\"24\" y2=\"20\" />\n",
       "  <line x1=\"10\" y1=\"5\" x2=\"24\" y2=\"20\" />\n",
       "  <line x1=\"10\" y1=\"5\" x2=\"24\" y2=\"20\" />\n",
       "  <line x1=\"10\" y1=\"5\" x2=\"24\" y2=\"20\" />\n",
       "  <line x1=\"10\" y1=\"5\" x2=\"24\" y2=\"20\" />\n",
       "  <line x1=\"10\" y1=\"6\" x2=\"24\" y2=\"21\" />\n",
       "  <line x1=\"10\" y1=\"6\" x2=\"24\" y2=\"21\" />\n",
       "  <line x1=\"10\" y1=\"6\" x2=\"24\" y2=\"21\" />\n",
       "  <line x1=\"10\" y1=\"6\" x2=\"24\" y2=\"21\" />\n",
       "  <line x1=\"10\" y1=\"6\" x2=\"24\" y2=\"21\" />\n",
       "  <line x1=\"10\" y1=\"6\" x2=\"24\" y2=\"21\" />\n",
       "  <line x1=\"10\" y1=\"6\" x2=\"24\" y2=\"21\" />\n",
       "  <line x1=\"10\" y1=\"7\" x2=\"24\" y2=\"22\" />\n",
       "  <line x1=\"10\" y1=\"7\" x2=\"24\" y2=\"22\" />\n",
       "  <line x1=\"10\" y1=\"7\" x2=\"24\" y2=\"22\" />\n",
       "  <line x1=\"10\" y1=\"7\" x2=\"24\" y2=\"22\" />\n",
       "  <line x1=\"10\" y1=\"7\" x2=\"24\" y2=\"22\" />\n",
       "  <line x1=\"10\" y1=\"7\" x2=\"24\" y2=\"22\" />\n",
       "  <line x1=\"10\" y1=\"8\" x2=\"24\" y2=\"22\" />\n",
       "  <line x1=\"10\" y1=\"8\" x2=\"24\" y2=\"23\" />\n",
       "  <line x1=\"10\" y1=\"8\" x2=\"24\" y2=\"23\" />\n",
       "  <line x1=\"10\" y1=\"8\" x2=\"24\" y2=\"23\" />\n",
       "  <line x1=\"10\" y1=\"8\" x2=\"24\" y2=\"23\" />\n",
       "  <line x1=\"10\" y1=\"8\" x2=\"24\" y2=\"23\" />\n",
       "  <line x1=\"10\" y1=\"8\" x2=\"24\" y2=\"23\" />\n",
       "  <line x1=\"10\" y1=\"9\" x2=\"24\" y2=\"24\" />\n",
       "  <line x1=\"10\" y1=\"9\" x2=\"24\" y2=\"24\" />\n",
       "  <line x1=\"10\" y1=\"9\" x2=\"24\" y2=\"24\" />\n",
       "  <line x1=\"10\" y1=\"9\" x2=\"24\" y2=\"24\" />\n",
       "  <line x1=\"10\" y1=\"9\" x2=\"24\" y2=\"24\" />\n",
       "  <line x1=\"10\" y1=\"9\" x2=\"24\" y2=\"24\" />\n",
       "  <line x1=\"10\" y1=\"10\" x2=\"24\" y2=\"24\" />\n",
       "  <line x1=\"10\" y1=\"10\" x2=\"24\" y2=\"25\" />\n",
       "  <line x1=\"10\" y1=\"10\" x2=\"24\" y2=\"25\" />\n",
       "  <line x1=\"10\" y1=\"10\" x2=\"24\" y2=\"25\" />\n",
       "  <line x1=\"10\" y1=\"10\" x2=\"24\" y2=\"25\" />\n",
       "  <line x1=\"10\" y1=\"10\" x2=\"24\" y2=\"25\" />\n",
       "  <line x1=\"10\" y1=\"10\" x2=\"24\" y2=\"25\" />\n",
       "  <line x1=\"10\" y1=\"11\" x2=\"24\" y2=\"26\" />\n",
       "  <line x1=\"10\" y1=\"11\" x2=\"24\" y2=\"26\" />\n",
       "  <line x1=\"10\" y1=\"11\" x2=\"24\" y2=\"26\" />\n",
       "  <line x1=\"10\" y1=\"11\" x2=\"24\" y2=\"26\" />\n",
       "  <line x1=\"10\" y1=\"11\" x2=\"24\" y2=\"26\" />\n",
       "  <line x1=\"10\" y1=\"11\" x2=\"24\" y2=\"26\" />\n",
       "  <line x1=\"10\" y1=\"11\" x2=\"24\" y2=\"26\" />\n",
       "  <line x1=\"10\" y1=\"12\" x2=\"24\" y2=\"27\" />\n",
       "  <line x1=\"10\" y1=\"12\" x2=\"24\" y2=\"27\" />\n",
       "  <line x1=\"10\" y1=\"12\" x2=\"24\" y2=\"27\" />\n",
       "  <line x1=\"10\" y1=\"12\" x2=\"24\" y2=\"27\" />\n",
       "  <line x1=\"10\" y1=\"12\" x2=\"24\" y2=\"27\" />\n",
       "  <line x1=\"10\" y1=\"12\" x2=\"24\" y2=\"27\" />\n",
       "  <line x1=\"10\" y1=\"13\" x2=\"24\" y2=\"27\" />\n",
       "  <line x1=\"10\" y1=\"13\" x2=\"24\" y2=\"28\" />\n",
       "  <line x1=\"10\" y1=\"13\" x2=\"24\" y2=\"28\" />\n",
       "  <line x1=\"10\" y1=\"13\" x2=\"24\" y2=\"28\" />\n",
       "  <line x1=\"10\" y1=\"13\" x2=\"24\" y2=\"28\" />\n",
       "  <line x1=\"10\" y1=\"13\" x2=\"24\" y2=\"28\" />\n",
       "  <line x1=\"10\" y1=\"13\" x2=\"24\" y2=\"28\" />\n",
       "  <line x1=\"10\" y1=\"14\" x2=\"24\" y2=\"29\" />\n",
       "  <line x1=\"10\" y1=\"14\" x2=\"24\" y2=\"29\" />\n",
       "  <line x1=\"10\" y1=\"14\" x2=\"24\" y2=\"29\" />\n",
       "  <line x1=\"10\" y1=\"14\" x2=\"24\" y2=\"29\" />\n",
       "  <line x1=\"10\" y1=\"14\" x2=\"24\" y2=\"29\" />\n",
       "  <line x1=\"10\" y1=\"14\" x2=\"24\" y2=\"29\" />\n",
       "  <line x1=\"10\" y1=\"15\" x2=\"24\" y2=\"29\" />\n",
       "  <line x1=\"10\" y1=\"15\" x2=\"24\" y2=\"30\" />\n",
       "  <line x1=\"10\" y1=\"15\" x2=\"24\" y2=\"30\" />\n",
       "  <line x1=\"10\" y1=\"15\" x2=\"24\" y2=\"30\" />\n",
       "  <line x1=\"10\" y1=\"15\" x2=\"24\" y2=\"30\" />\n",
       "  <line x1=\"10\" y1=\"15\" x2=\"24\" y2=\"30\" />\n",
       "  <line x1=\"10\" y1=\"15\" x2=\"24\" y2=\"30\" />\n",
       "  <line x1=\"10\" y1=\"16\" x2=\"24\" y2=\"31\" />\n",
       "  <line x1=\"10\" y1=\"16\" x2=\"24\" y2=\"31\" />\n",
       "  <line x1=\"10\" y1=\"16\" x2=\"24\" y2=\"31\" />\n",
       "  <line x1=\"10\" y1=\"16\" x2=\"24\" y2=\"31\" />\n",
       "  <line x1=\"10\" y1=\"16\" x2=\"24\" y2=\"31\" />\n",
       "  <line x1=\"10\" y1=\"16\" x2=\"24\" y2=\"31\" />\n",
       "  <line x1=\"10\" y1=\"16\" x2=\"24\" y2=\"31\" />\n",
       "  <line x1=\"10\" y1=\"17\" x2=\"24\" y2=\"32\" />\n",
       "  <line x1=\"10\" y1=\"17\" x2=\"24\" y2=\"32\" />\n",
       "  <line x1=\"10\" y1=\"17\" x2=\"24\" y2=\"32\" />\n",
       "  <line x1=\"10\" y1=\"17\" x2=\"24\" y2=\"32\" />\n",
       "  <line x1=\"10\" y1=\"17\" x2=\"24\" y2=\"32\" />\n",
       "  <line x1=\"10\" y1=\"17\" x2=\"24\" y2=\"32\" />\n",
       "  <line x1=\"10\" y1=\"18\" x2=\"24\" y2=\"32\" />\n",
       "  <line x1=\"10\" y1=\"18\" x2=\"24\" y2=\"33\" />\n",
       "  <line x1=\"10\" y1=\"18\" x2=\"24\" y2=\"33\" />\n",
       "  <line x1=\"10\" y1=\"18\" x2=\"24\" y2=\"33\" />\n",
       "  <line x1=\"10\" y1=\"18\" x2=\"24\" y2=\"33\" />\n",
       "  <line x1=\"10\" y1=\"18\" x2=\"24\" y2=\"33\" />\n",
       "  <line x1=\"10\" y1=\"18\" x2=\"24\" y2=\"33\" />\n",
       "  <line x1=\"10\" y1=\"19\" x2=\"24\" y2=\"34\" />\n",
       "  <line x1=\"10\" y1=\"19\" x2=\"24\" y2=\"34\" />\n",
       "  <line x1=\"10\" y1=\"19\" x2=\"24\" y2=\"34\" />\n",
       "  <line x1=\"10\" y1=\"19\" x2=\"24\" y2=\"34\" />\n",
       "  <line x1=\"10\" y1=\"19\" x2=\"24\" y2=\"34\" />\n",
       "  <line x1=\"10\" y1=\"19\" x2=\"24\" y2=\"34\" />\n",
       "  <line x1=\"10\" y1=\"20\" x2=\"24\" y2=\"34\" />\n",
       "  <line x1=\"10\" y1=\"20\" x2=\"24\" y2=\"35\" />\n",
       "  <line x1=\"10\" y1=\"20\" x2=\"24\" y2=\"35\" />\n",
       "  <line x1=\"10\" y1=\"20\" x2=\"24\" y2=\"35\" />\n",
       "  <line x1=\"10\" y1=\"20\" x2=\"24\" y2=\"35\" />\n",
       "  <line x1=\"10\" y1=\"20\" x2=\"24\" y2=\"35\" />\n",
       "  <line x1=\"10\" y1=\"20\" x2=\"24\" y2=\"35\" />\n",
       "  <line x1=\"10\" y1=\"21\" x2=\"24\" y2=\"36\" />\n",
       "  <line x1=\"10\" y1=\"21\" x2=\"24\" y2=\"36\" />\n",
       "  <line x1=\"10\" y1=\"21\" x2=\"24\" y2=\"36\" />\n",
       "  <line x1=\"10\" y1=\"21\" x2=\"24\" y2=\"36\" />\n",
       "  <line x1=\"10\" y1=\"21\" x2=\"24\" y2=\"36\" />\n",
       "  <line x1=\"10\" y1=\"21\" x2=\"24\" y2=\"36\" />\n",
       "  <line x1=\"10\" y1=\"21\" x2=\"24\" y2=\"36\" />\n",
       "  <line x1=\"10\" y1=\"22\" x2=\"24\" y2=\"37\" />\n",
       "  <line x1=\"10\" y1=\"22\" x2=\"24\" y2=\"37\" />\n",
       "  <line x1=\"10\" y1=\"22\" x2=\"24\" y2=\"37\" />\n",
       "  <line x1=\"10\" y1=\"22\" x2=\"24\" y2=\"37\" />\n",
       "  <line x1=\"10\" y1=\"22\" x2=\"24\" y2=\"37\" />\n",
       "  <line x1=\"10\" y1=\"22\" x2=\"24\" y2=\"37\" />\n",
       "  <line x1=\"10\" y1=\"23\" x2=\"24\" y2=\"37\" />\n",
       "  <line x1=\"10\" y1=\"23\" x2=\"24\" y2=\"38\" />\n",
       "  <line x1=\"10\" y1=\"23\" x2=\"24\" y2=\"38\" />\n",
       "  <line x1=\"10\" y1=\"23\" x2=\"24\" y2=\"38\" />\n",
       "  <line x1=\"10\" y1=\"23\" x2=\"24\" y2=\"38\" />\n",
       "  <line x1=\"10\" y1=\"23\" x2=\"24\" y2=\"38\" />\n",
       "  <line x1=\"10\" y1=\"23\" x2=\"24\" y2=\"38\" />\n",
       "  <line x1=\"10\" y1=\"24\" x2=\"24\" y2=\"39\" />\n",
       "  <line x1=\"10\" y1=\"24\" x2=\"24\" y2=\"39\" />\n",
       "  <line x1=\"10\" y1=\"24\" x2=\"24\" y2=\"39\" />\n",
       "  <line x1=\"10\" y1=\"24\" x2=\"24\" y2=\"39\" />\n",
       "  <line x1=\"10\" y1=\"24\" x2=\"24\" y2=\"39\" />\n",
       "  <line x1=\"10\" y1=\"24\" x2=\"24\" y2=\"39\" />\n",
       "  <line x1=\"10\" y1=\"25\" x2=\"24\" y2=\"39\" />\n",
       "  <line x1=\"10\" y1=\"25\" x2=\"24\" y2=\"40\" />\n",
       "  <line x1=\"10\" y1=\"25\" x2=\"24\" y2=\"40\" />\n",
       "  <line x1=\"10\" y1=\"25\" x2=\"24\" y2=\"40\" />\n",
       "  <line x1=\"10\" y1=\"25\" x2=\"24\" y2=\"40\" />\n",
       "  <line x1=\"10\" y1=\"25\" x2=\"24\" y2=\"40\" />\n",
       "  <line x1=\"10\" y1=\"25\" x2=\"24\" y2=\"40\" />\n",
       "  <line x1=\"10\" y1=\"26\" x2=\"24\" y2=\"41\" />\n",
       "  <line x1=\"10\" y1=\"26\" x2=\"24\" y2=\"41\" />\n",
       "  <line x1=\"10\" y1=\"26\" x2=\"24\" y2=\"41\" />\n",
       "  <line x1=\"10\" y1=\"26\" x2=\"24\" y2=\"41\" />\n",
       "  <line x1=\"10\" y1=\"26\" x2=\"24\" y2=\"41\" style=\"stroke-width:2\" />\n",
       "\n",
       "  <!-- Vertical lines -->\n",
       "  <line x1=\"10\" y1=\"0\" x2=\"10\" y2=\"26\" style=\"stroke-width:2\" />\n",
       "  <line x1=\"10\" y1=\"0\" x2=\"10\" y2=\"27\" />\n",
       "  <line x1=\"10\" y1=\"0\" x2=\"10\" y2=\"27\" />\n",
       "  <line x1=\"11\" y1=\"1\" x2=\"11\" y2=\"27\" />\n",
       "  <line x1=\"11\" y1=\"1\" x2=\"11\" y2=\"28\" />\n",
       "  <line x1=\"11\" y1=\"1\" x2=\"11\" y2=\"28\" />\n",
       "  <line x1=\"12\" y1=\"2\" x2=\"12\" y2=\"28\" />\n",
       "  <line x1=\"12\" y1=\"2\" x2=\"12\" y2=\"29\" />\n",
       "  <line x1=\"12\" y1=\"2\" x2=\"12\" y2=\"29\" />\n",
       "  <line x1=\"13\" y1=\"3\" x2=\"13\" y2=\"30\" />\n",
       "  <line x1=\"13\" y1=\"3\" x2=\"13\" y2=\"30\" />\n",
       "  <line x1=\"14\" y1=\"4\" x2=\"14\" y2=\"30\" />\n",
       "  <line x1=\"14\" y1=\"4\" x2=\"14\" y2=\"31\" />\n",
       "  <line x1=\"14\" y1=\"4\" x2=\"14\" y2=\"31\" />\n",
       "  <line x1=\"15\" y1=\"5\" x2=\"15\" y2=\"31\" />\n",
       "  <line x1=\"15\" y1=\"5\" x2=\"15\" y2=\"32\" />\n",
       "  <line x1=\"15\" y1=\"5\" x2=\"15\" y2=\"32\" />\n",
       "  <line x1=\"16\" y1=\"6\" x2=\"16\" y2=\"33\" />\n",
       "  <line x1=\"16\" y1=\"6\" x2=\"16\" y2=\"33\" />\n",
       "  <line x1=\"17\" y1=\"7\" x2=\"17\" y2=\"33\" />\n",
       "  <line x1=\"17\" y1=\"7\" x2=\"17\" y2=\"34\" />\n",
       "  <line x1=\"17\" y1=\"7\" x2=\"17\" y2=\"34\" />\n",
       "  <line x1=\"18\" y1=\"8\" x2=\"18\" y2=\"34\" />\n",
       "  <line x1=\"18\" y1=\"8\" x2=\"18\" y2=\"35\" />\n",
       "  <line x1=\"18\" y1=\"8\" x2=\"18\" y2=\"35\" />\n",
       "  <line x1=\"19\" y1=\"9\" x2=\"19\" y2=\"36\" />\n",
       "  <line x1=\"19\" y1=\"9\" x2=\"19\" y2=\"36\" />\n",
       "  <line x1=\"20\" y1=\"10\" x2=\"20\" y2=\"36\" />\n",
       "  <line x1=\"20\" y1=\"10\" x2=\"20\" y2=\"37\" />\n",
       "  <line x1=\"20\" y1=\"10\" x2=\"20\" y2=\"37\" />\n",
       "  <line x1=\"21\" y1=\"11\" x2=\"21\" y2=\"37\" />\n",
       "  <line x1=\"21\" y1=\"11\" x2=\"21\" y2=\"38\" />\n",
       "  <line x1=\"21\" y1=\"11\" x2=\"21\" y2=\"38\" />\n",
       "  <line x1=\"22\" y1=\"12\" x2=\"22\" y2=\"39\" />\n",
       "  <line x1=\"22\" y1=\"12\" x2=\"22\" y2=\"39\" />\n",
       "  <line x1=\"23\" y1=\"13\" x2=\"23\" y2=\"39\" />\n",
       "  <line x1=\"23\" y1=\"13\" x2=\"23\" y2=\"40\" />\n",
       "  <line x1=\"23\" y1=\"13\" x2=\"23\" y2=\"40\" />\n",
       "  <line x1=\"24\" y1=\"14\" x2=\"24\" y2=\"40\" />\n",
       "  <line x1=\"24\" y1=\"14\" x2=\"24\" y2=\"41\" />\n",
       "  <line x1=\"24\" y1=\"14\" x2=\"24\" y2=\"41\" style=\"stroke-width:2\" />\n",
       "\n",
       "  <!-- Colored Rectangle -->\n",
       "  <polygon points=\"10.000000,0.000000 24.948598,14.948598 24.948598,41.624482 10.000000,26.675884\" style=\"fill:#ECB172A0;stroke-width:0\"/>\n",
       "\n",
       "  <!-- Horizontal lines -->\n",
       "  <line x1=\"10\" y1=\"0\" x2=\"130\" y2=\"0\" style=\"stroke-width:2\" />\n",
       "  <line x1=\"10\" y1=\"0\" x2=\"130\" y2=\"0\" />\n",
       "  <line x1=\"10\" y1=\"0\" x2=\"130\" y2=\"0\" />\n",
       "  <line x1=\"11\" y1=\"1\" x2=\"131\" y2=\"1\" />\n",
       "  <line x1=\"11\" y1=\"1\" x2=\"131\" y2=\"1\" />\n",
       "  <line x1=\"11\" y1=\"1\" x2=\"131\" y2=\"1\" />\n",
       "  <line x1=\"12\" y1=\"2\" x2=\"132\" y2=\"2\" />\n",
       "  <line x1=\"12\" y1=\"2\" x2=\"132\" y2=\"2\" />\n",
       "  <line x1=\"12\" y1=\"2\" x2=\"132\" y2=\"2\" />\n",
       "  <line x1=\"13\" y1=\"3\" x2=\"133\" y2=\"3\" />\n",
       "  <line x1=\"13\" y1=\"3\" x2=\"133\" y2=\"3\" />\n",
       "  <line x1=\"14\" y1=\"4\" x2=\"134\" y2=\"4\" />\n",
       "  <line x1=\"14\" y1=\"4\" x2=\"134\" y2=\"4\" />\n",
       "  <line x1=\"14\" y1=\"4\" x2=\"134\" y2=\"4\" />\n",
       "  <line x1=\"15\" y1=\"5\" x2=\"135\" y2=\"5\" />\n",
       "  <line x1=\"15\" y1=\"5\" x2=\"135\" y2=\"5\" />\n",
       "  <line x1=\"15\" y1=\"5\" x2=\"135\" y2=\"5\" />\n",
       "  <line x1=\"16\" y1=\"6\" x2=\"136\" y2=\"6\" />\n",
       "  <line x1=\"16\" y1=\"6\" x2=\"136\" y2=\"6\" />\n",
       "  <line x1=\"17\" y1=\"7\" x2=\"137\" y2=\"7\" />\n",
       "  <line x1=\"17\" y1=\"7\" x2=\"137\" y2=\"7\" />\n",
       "  <line x1=\"17\" y1=\"7\" x2=\"137\" y2=\"7\" />\n",
       "  <line x1=\"18\" y1=\"8\" x2=\"138\" y2=\"8\" />\n",
       "  <line x1=\"18\" y1=\"8\" x2=\"138\" y2=\"8\" />\n",
       "  <line x1=\"18\" y1=\"8\" x2=\"138\" y2=\"8\" />\n",
       "  <line x1=\"19\" y1=\"9\" x2=\"139\" y2=\"9\" />\n",
       "  <line x1=\"19\" y1=\"9\" x2=\"139\" y2=\"9\" />\n",
       "  <line x1=\"20\" y1=\"10\" x2=\"140\" y2=\"10\" />\n",
       "  <line x1=\"20\" y1=\"10\" x2=\"140\" y2=\"10\" />\n",
       "  <line x1=\"20\" y1=\"10\" x2=\"140\" y2=\"10\" />\n",
       "  <line x1=\"21\" y1=\"11\" x2=\"141\" y2=\"11\" />\n",
       "  <line x1=\"21\" y1=\"11\" x2=\"141\" y2=\"11\" />\n",
       "  <line x1=\"21\" y1=\"11\" x2=\"141\" y2=\"11\" />\n",
       "  <line x1=\"22\" y1=\"12\" x2=\"142\" y2=\"12\" />\n",
       "  <line x1=\"22\" y1=\"12\" x2=\"142\" y2=\"12\" />\n",
       "  <line x1=\"23\" y1=\"13\" x2=\"143\" y2=\"13\" />\n",
       "  <line x1=\"23\" y1=\"13\" x2=\"143\" y2=\"13\" />\n",
       "  <line x1=\"23\" y1=\"13\" x2=\"143\" y2=\"13\" />\n",
       "  <line x1=\"24\" y1=\"14\" x2=\"144\" y2=\"14\" />\n",
       "  <line x1=\"24\" y1=\"14\" x2=\"144\" y2=\"14\" />\n",
       "  <line x1=\"24\" y1=\"14\" x2=\"144\" y2=\"14\" style=\"stroke-width:2\" />\n",
       "\n",
       "  <!-- Vertical lines -->\n",
       "  <line x1=\"10\" y1=\"0\" x2=\"24\" y2=\"14\" style=\"stroke-width:2\" />\n",
       "  <line x1=\"130\" y1=\"0\" x2=\"144\" y2=\"14\" style=\"stroke-width:2\" />\n",
       "\n",
       "  <!-- Colored Rectangle -->\n",
       "  <polygon points=\"10.000000,0.000000 130.000000,0.000000 144.948598,14.948598 24.948598,14.948598\" style=\"fill:#ECB172A0;stroke-width:0\"/>\n",
       "\n",
       "  <!-- Horizontal lines -->\n",
       "  <line x1=\"24\" y1=\"14\" x2=\"144\" y2=\"14\" style=\"stroke-width:2\" />\n",
       "  <line x1=\"24\" y1=\"15\" x2=\"144\" y2=\"15\" />\n",
       "  <line x1=\"24\" y1=\"15\" x2=\"144\" y2=\"15\" />\n",
       "  <line x1=\"24\" y1=\"15\" x2=\"144\" y2=\"15\" />\n",
       "  <line x1=\"24\" y1=\"15\" x2=\"144\" y2=\"15\" />\n",
       "  <line x1=\"24\" y1=\"15\" x2=\"144\" y2=\"15\" />\n",
       "  <line x1=\"24\" y1=\"15\" x2=\"144\" y2=\"15\" />\n",
       "  <line x1=\"24\" y1=\"16\" x2=\"144\" y2=\"16\" />\n",
       "  <line x1=\"24\" y1=\"16\" x2=\"144\" y2=\"16\" />\n",
       "  <line x1=\"24\" y1=\"16\" x2=\"144\" y2=\"16\" />\n",
       "  <line x1=\"24\" y1=\"16\" x2=\"144\" y2=\"16\" />\n",
       "  <line x1=\"24\" y1=\"16\" x2=\"144\" y2=\"16\" />\n",
       "  <line x1=\"24\" y1=\"16\" x2=\"144\" y2=\"16\" />\n",
       "  <line x1=\"24\" y1=\"16\" x2=\"144\" y2=\"16\" />\n",
       "  <line x1=\"24\" y1=\"17\" x2=\"144\" y2=\"17\" />\n",
       "  <line x1=\"24\" y1=\"17\" x2=\"144\" y2=\"17\" />\n",
       "  <line x1=\"24\" y1=\"17\" x2=\"144\" y2=\"17\" />\n",
       "  <line x1=\"24\" y1=\"17\" x2=\"144\" y2=\"17\" />\n",
       "  <line x1=\"24\" y1=\"17\" x2=\"144\" y2=\"17\" />\n",
       "  <line x1=\"24\" y1=\"17\" x2=\"144\" y2=\"17\" />\n",
       "  <line x1=\"24\" y1=\"17\" x2=\"144\" y2=\"17\" />\n",
       "  <line x1=\"24\" y1=\"18\" x2=\"144\" y2=\"18\" />\n",
       "  <line x1=\"24\" y1=\"18\" x2=\"144\" y2=\"18\" />\n",
       "  <line x1=\"24\" y1=\"18\" x2=\"144\" y2=\"18\" />\n",
       "  <line x1=\"24\" y1=\"18\" x2=\"144\" y2=\"18\" />\n",
       "  <line x1=\"24\" y1=\"18\" x2=\"144\" y2=\"18\" />\n",
       "  <line x1=\"24\" y1=\"18\" x2=\"144\" y2=\"18\" />\n",
       "  <line x1=\"24\" y1=\"19\" x2=\"144\" y2=\"19\" />\n",
       "  <line x1=\"24\" y1=\"19\" x2=\"144\" y2=\"19\" />\n",
       "  <line x1=\"24\" y1=\"19\" x2=\"144\" y2=\"19\" />\n",
       "  <line x1=\"24\" y1=\"19\" x2=\"144\" y2=\"19\" />\n",
       "  <line x1=\"24\" y1=\"19\" x2=\"144\" y2=\"19\" />\n",
       "  <line x1=\"24\" y1=\"19\" x2=\"144\" y2=\"19\" />\n",
       "  <line x1=\"24\" y1=\"19\" x2=\"144\" y2=\"19\" />\n",
       "  <line x1=\"24\" y1=\"20\" x2=\"144\" y2=\"20\" />\n",
       "  <line x1=\"24\" y1=\"20\" x2=\"144\" y2=\"20\" />\n",
       "  <line x1=\"24\" y1=\"20\" x2=\"144\" y2=\"20\" />\n",
       "  <line x1=\"24\" y1=\"20\" x2=\"144\" y2=\"20\" />\n",
       "  <line x1=\"24\" y1=\"20\" x2=\"144\" y2=\"20\" />\n",
       "  <line x1=\"24\" y1=\"20\" x2=\"144\" y2=\"20\" />\n",
       "  <line x1=\"24\" y1=\"21\" x2=\"144\" y2=\"21\" />\n",
       "  <line x1=\"24\" y1=\"21\" x2=\"144\" y2=\"21\" />\n",
       "  <line x1=\"24\" y1=\"21\" x2=\"144\" y2=\"21\" />\n",
       "  <line x1=\"24\" y1=\"21\" x2=\"144\" y2=\"21\" />\n",
       "  <line x1=\"24\" y1=\"21\" x2=\"144\" y2=\"21\" />\n",
       "  <line x1=\"24\" y1=\"21\" x2=\"144\" y2=\"21\" />\n",
       "  <line x1=\"24\" y1=\"21\" x2=\"144\" y2=\"21\" />\n",
       "  <line x1=\"24\" y1=\"22\" x2=\"144\" y2=\"22\" />\n",
       "  <line x1=\"24\" y1=\"22\" x2=\"144\" y2=\"22\" />\n",
       "  <line x1=\"24\" y1=\"22\" x2=\"144\" y2=\"22\" />\n",
       "  <line x1=\"24\" y1=\"22\" x2=\"144\" y2=\"22\" />\n",
       "  <line x1=\"24\" y1=\"22\" x2=\"144\" y2=\"22\" />\n",
       "  <line x1=\"24\" y1=\"22\" x2=\"144\" y2=\"22\" />\n",
       "  <line x1=\"24\" y1=\"22\" x2=\"144\" y2=\"22\" />\n",
       "  <line x1=\"24\" y1=\"23\" x2=\"144\" y2=\"23\" />\n",
       "  <line x1=\"24\" y1=\"23\" x2=\"144\" y2=\"23\" />\n",
       "  <line x1=\"24\" y1=\"23\" x2=\"144\" y2=\"23\" />\n",
       "  <line x1=\"24\" y1=\"23\" x2=\"144\" y2=\"23\" />\n",
       "  <line x1=\"24\" y1=\"23\" x2=\"144\" y2=\"23\" />\n",
       "  <line x1=\"24\" y1=\"23\" x2=\"144\" y2=\"23\" />\n",
       "  <line x1=\"24\" y1=\"24\" x2=\"144\" y2=\"24\" />\n",
       "  <line x1=\"24\" y1=\"24\" x2=\"144\" y2=\"24\" />\n",
       "  <line x1=\"24\" y1=\"24\" x2=\"144\" y2=\"24\" />\n",
       "  <line x1=\"24\" y1=\"24\" x2=\"144\" y2=\"24\" />\n",
       "  <line x1=\"24\" y1=\"24\" x2=\"144\" y2=\"24\" />\n",
       "  <line x1=\"24\" y1=\"24\" x2=\"144\" y2=\"24\" />\n",
       "  <line x1=\"24\" y1=\"24\" x2=\"144\" y2=\"24\" />\n",
       "  <line x1=\"24\" y1=\"25\" x2=\"144\" y2=\"25\" />\n",
       "  <line x1=\"24\" y1=\"25\" x2=\"144\" y2=\"25\" />\n",
       "  <line x1=\"24\" y1=\"25\" x2=\"144\" y2=\"25\" />\n",
       "  <line x1=\"24\" y1=\"25\" x2=\"144\" y2=\"25\" />\n",
       "  <line x1=\"24\" y1=\"25\" x2=\"144\" y2=\"25\" />\n",
       "  <line x1=\"24\" y1=\"25\" x2=\"144\" y2=\"25\" />\n",
       "  <line x1=\"24\" y1=\"26\" x2=\"144\" y2=\"26\" />\n",
       "  <line x1=\"24\" y1=\"26\" x2=\"144\" y2=\"26\" />\n",
       "  <line x1=\"24\" y1=\"26\" x2=\"144\" y2=\"26\" />\n",
       "  <line x1=\"24\" y1=\"26\" x2=\"144\" y2=\"26\" />\n",
       "  <line x1=\"24\" y1=\"26\" x2=\"144\" y2=\"26\" />\n",
       "  <line x1=\"24\" y1=\"26\" x2=\"144\" y2=\"26\" />\n",
       "  <line x1=\"24\" y1=\"26\" x2=\"144\" y2=\"26\" />\n",
       "  <line x1=\"24\" y1=\"27\" x2=\"144\" y2=\"27\" />\n",
       "  <line x1=\"24\" y1=\"27\" x2=\"144\" y2=\"27\" />\n",
       "  <line x1=\"24\" y1=\"27\" x2=\"144\" y2=\"27\" />\n",
       "  <line x1=\"24\" y1=\"27\" x2=\"144\" y2=\"27\" />\n",
       "  <line x1=\"24\" y1=\"27\" x2=\"144\" y2=\"27\" />\n",
       "  <line x1=\"24\" y1=\"27\" x2=\"144\" y2=\"27\" />\n",
       "  <line x1=\"24\" y1=\"27\" x2=\"144\" y2=\"27\" />\n",
       "  <line x1=\"24\" y1=\"28\" x2=\"144\" y2=\"28\" />\n",
       "  <line x1=\"24\" y1=\"28\" x2=\"144\" y2=\"28\" />\n",
       "  <line x1=\"24\" y1=\"28\" x2=\"144\" y2=\"28\" />\n",
       "  <line x1=\"24\" y1=\"28\" x2=\"144\" y2=\"28\" />\n",
       "  <line x1=\"24\" y1=\"28\" x2=\"144\" y2=\"28\" />\n",
       "  <line x1=\"24\" y1=\"28\" x2=\"144\" y2=\"28\" />\n",
       "  <line x1=\"24\" y1=\"29\" x2=\"144\" y2=\"29\" />\n",
       "  <line x1=\"24\" y1=\"29\" x2=\"144\" y2=\"29\" />\n",
       "  <line x1=\"24\" y1=\"29\" x2=\"144\" y2=\"29\" />\n",
       "  <line x1=\"24\" y1=\"29\" x2=\"144\" y2=\"29\" />\n",
       "  <line x1=\"24\" y1=\"29\" x2=\"144\" y2=\"29\" />\n",
       "  <line x1=\"24\" y1=\"29\" x2=\"144\" y2=\"29\" />\n",
       "  <line x1=\"24\" y1=\"29\" x2=\"144\" y2=\"29\" />\n",
       "  <line x1=\"24\" y1=\"30\" x2=\"144\" y2=\"30\" />\n",
       "  <line x1=\"24\" y1=\"30\" x2=\"144\" y2=\"30\" />\n",
       "  <line x1=\"24\" y1=\"30\" x2=\"144\" y2=\"30\" />\n",
       "  <line x1=\"24\" y1=\"30\" x2=\"144\" y2=\"30\" />\n",
       "  <line x1=\"24\" y1=\"30\" x2=\"144\" y2=\"30\" />\n",
       "  <line x1=\"24\" y1=\"30\" x2=\"144\" y2=\"30\" />\n",
       "  <line x1=\"24\" y1=\"31\" x2=\"144\" y2=\"31\" />\n",
       "  <line x1=\"24\" y1=\"31\" x2=\"144\" y2=\"31\" />\n",
       "  <line x1=\"24\" y1=\"31\" x2=\"144\" y2=\"31\" />\n",
       "  <line x1=\"24\" y1=\"31\" x2=\"144\" y2=\"31\" />\n",
       "  <line x1=\"24\" y1=\"31\" x2=\"144\" y2=\"31\" />\n",
       "  <line x1=\"24\" y1=\"31\" x2=\"144\" y2=\"31\" />\n",
       "  <line x1=\"24\" y1=\"31\" x2=\"144\" y2=\"31\" />\n",
       "  <line x1=\"24\" y1=\"32\" x2=\"144\" y2=\"32\" />\n",
       "  <line x1=\"24\" y1=\"32\" x2=\"144\" y2=\"32\" />\n",
       "  <line x1=\"24\" y1=\"32\" x2=\"144\" y2=\"32\" />\n",
       "  <line x1=\"24\" y1=\"32\" x2=\"144\" y2=\"32\" />\n",
       "  <line x1=\"24\" y1=\"32\" x2=\"144\" y2=\"32\" />\n",
       "  <line x1=\"24\" y1=\"32\" x2=\"144\" y2=\"32\" />\n",
       "  <line x1=\"24\" y1=\"32\" x2=\"144\" y2=\"32\" />\n",
       "  <line x1=\"24\" y1=\"33\" x2=\"144\" y2=\"33\" />\n",
       "  <line x1=\"24\" y1=\"33\" x2=\"144\" y2=\"33\" />\n",
       "  <line x1=\"24\" y1=\"33\" x2=\"144\" y2=\"33\" />\n",
       "  <line x1=\"24\" y1=\"33\" x2=\"144\" y2=\"33\" />\n",
       "  <line x1=\"24\" y1=\"33\" x2=\"144\" y2=\"33\" />\n",
       "  <line x1=\"24\" y1=\"33\" x2=\"144\" y2=\"33\" />\n",
       "  <line x1=\"24\" y1=\"34\" x2=\"144\" y2=\"34\" />\n",
       "  <line x1=\"24\" y1=\"34\" x2=\"144\" y2=\"34\" />\n",
       "  <line x1=\"24\" y1=\"34\" x2=\"144\" y2=\"34\" />\n",
       "  <line x1=\"24\" y1=\"34\" x2=\"144\" y2=\"34\" />\n",
       "  <line x1=\"24\" y1=\"34\" x2=\"144\" y2=\"34\" />\n",
       "  <line x1=\"24\" y1=\"34\" x2=\"144\" y2=\"34\" />\n",
       "  <line x1=\"24\" y1=\"34\" x2=\"144\" y2=\"34\" />\n",
       "  <line x1=\"24\" y1=\"35\" x2=\"144\" y2=\"35\" />\n",
       "  <line x1=\"24\" y1=\"35\" x2=\"144\" y2=\"35\" />\n",
       "  <line x1=\"24\" y1=\"35\" x2=\"144\" y2=\"35\" />\n",
       "  <line x1=\"24\" y1=\"35\" x2=\"144\" y2=\"35\" />\n",
       "  <line x1=\"24\" y1=\"35\" x2=\"144\" y2=\"35\" />\n",
       "  <line x1=\"24\" y1=\"35\" x2=\"144\" y2=\"35\" />\n",
       "  <line x1=\"24\" y1=\"36\" x2=\"144\" y2=\"36\" />\n",
       "  <line x1=\"24\" y1=\"36\" x2=\"144\" y2=\"36\" />\n",
       "  <line x1=\"24\" y1=\"36\" x2=\"144\" y2=\"36\" />\n",
       "  <line x1=\"24\" y1=\"36\" x2=\"144\" y2=\"36\" />\n",
       "  <line x1=\"24\" y1=\"36\" x2=\"144\" y2=\"36\" />\n",
       "  <line x1=\"24\" y1=\"36\" x2=\"144\" y2=\"36\" />\n",
       "  <line x1=\"24\" y1=\"36\" x2=\"144\" y2=\"36\" />\n",
       "  <line x1=\"24\" y1=\"37\" x2=\"144\" y2=\"37\" />\n",
       "  <line x1=\"24\" y1=\"37\" x2=\"144\" y2=\"37\" />\n",
       "  <line x1=\"24\" y1=\"37\" x2=\"144\" y2=\"37\" />\n",
       "  <line x1=\"24\" y1=\"37\" x2=\"144\" y2=\"37\" />\n",
       "  <line x1=\"24\" y1=\"37\" x2=\"144\" y2=\"37\" />\n",
       "  <line x1=\"24\" y1=\"37\" x2=\"144\" y2=\"37\" />\n",
       "  <line x1=\"24\" y1=\"37\" x2=\"144\" y2=\"37\" />\n",
       "  <line x1=\"24\" y1=\"38\" x2=\"144\" y2=\"38\" />\n",
       "  <line x1=\"24\" y1=\"38\" x2=\"144\" y2=\"38\" />\n",
       "  <line x1=\"24\" y1=\"38\" x2=\"144\" y2=\"38\" />\n",
       "  <line x1=\"24\" y1=\"38\" x2=\"144\" y2=\"38\" />\n",
       "  <line x1=\"24\" y1=\"38\" x2=\"144\" y2=\"38\" />\n",
       "  <line x1=\"24\" y1=\"38\" x2=\"144\" y2=\"38\" />\n",
       "  <line x1=\"24\" y1=\"39\" x2=\"144\" y2=\"39\" />\n",
       "  <line x1=\"24\" y1=\"39\" x2=\"144\" y2=\"39\" />\n",
       "  <line x1=\"24\" y1=\"39\" x2=\"144\" y2=\"39\" />\n",
       "  <line x1=\"24\" y1=\"39\" x2=\"144\" y2=\"39\" />\n",
       "  <line x1=\"24\" y1=\"39\" x2=\"144\" y2=\"39\" />\n",
       "  <line x1=\"24\" y1=\"39\" x2=\"144\" y2=\"39\" />\n",
       "  <line x1=\"24\" y1=\"39\" x2=\"144\" y2=\"39\" />\n",
       "  <line x1=\"24\" y1=\"40\" x2=\"144\" y2=\"40\" />\n",
       "  <line x1=\"24\" y1=\"40\" x2=\"144\" y2=\"40\" />\n",
       "  <line x1=\"24\" y1=\"40\" x2=\"144\" y2=\"40\" />\n",
       "  <line x1=\"24\" y1=\"40\" x2=\"144\" y2=\"40\" />\n",
       "  <line x1=\"24\" y1=\"40\" x2=\"144\" y2=\"40\" />\n",
       "  <line x1=\"24\" y1=\"40\" x2=\"144\" y2=\"40\" />\n",
       "  <line x1=\"24\" y1=\"41\" x2=\"144\" y2=\"41\" />\n",
       "  <line x1=\"24\" y1=\"41\" x2=\"144\" y2=\"41\" />\n",
       "  <line x1=\"24\" y1=\"41\" x2=\"144\" y2=\"41\" />\n",
       "  <line x1=\"24\" y1=\"41\" x2=\"144\" y2=\"41\" />\n",
       "  <line x1=\"24\" y1=\"41\" x2=\"144\" y2=\"41\" style=\"stroke-width:2\" />\n",
       "\n",
       "  <!-- Vertical lines -->\n",
       "  <line x1=\"24\" y1=\"14\" x2=\"24\" y2=\"41\" style=\"stroke-width:2\" />\n",
       "  <line x1=\"144\" y1=\"14\" x2=\"144\" y2=\"41\" style=\"stroke-width:2\" />\n",
       "\n",
       "  <!-- Colored Rectangle -->\n",
       "  <polygon points=\"24.948598,14.948598 144.948598,14.948598 144.948598,41.624482 24.948598,41.624482\" style=\"fill:#ECB172A0;stroke-width:0\"/>\n",
       "\n",
       "  <!-- Text -->\n",
       "  <text x=\"84.948598\" y=\"61.624482\" font-size=\"1.0rem\" font-weight=\"100\" text-anchor=\"middle\" >13636</text>\n",
       "  <text x=\"164.948598\" y=\"28.286540\" font-size=\"1.0rem\" font-weight=\"100\" text-anchor=\"middle\" transform=\"rotate(-90,164.948598,28.286540)\">176</text>\n",
       "  <text x=\"7.474299\" y=\"54.150183\" font-size=\"1.0rem\" font-weight=\"100\" text-anchor=\"middle\" transform=\"rotate(45,7.474299,54.150183)\">40</text>\n",
       "</svg>\n",
       "</td>\n",
       "</tr>\n",
       "</table>"
      ],
      "text/plain": [
       "dask.array<vectorize_mhw_1d, shape=(40, 176, 13636), dtype=float64, chunksize=(1, 1, 13636), chunktype=numpy.ndarray>"
      ]
     },
     "execution_count": 15,
     "metadata": {},
     "output_type": "execute_result"
    }
   ],
   "source": [
    "a.data"
   ]
  },
  {
   "cell_type": "code",
   "execution_count": 16,
   "metadata": {},
   "outputs": [
    {
     "name": "stderr",
     "output_type": "stream",
     "text": [
      "distributed.comm.tcp - WARNING - Closing dangling stream in <TCP  local=tcp://127.0.0.1:58202 remote=tcp://127.0.0.1:33593>\n",
      "distributed.comm.tcp - WARNING - Closing dangling stream in <TCP  local=tcp://127.0.0.1:58208 remote=tcp://127.0.0.1:33593>\n",
      "distributed.comm.tcp - WARNING - Closing dangling stream in <TCP  local=tcp://127.0.0.1:58212 remote=tcp://127.0.0.1:33593>\n",
      "distributed.comm.tcp - WARNING - Closing dangling stream in <TCP  local=tcp://127.0.0.1:58214 remote=tcp://127.0.0.1:33593>\n",
      "distributed.comm.tcp - WARNING - Closing dangling stream in <TCP  local=tcp://127.0.0.1:58216 remote=tcp://127.0.0.1:33593>\n",
      "distributed.comm.tcp - WARNING - Closing dangling stream in <TCP  local=tcp://127.0.0.1:58218 remote=tcp://127.0.0.1:33593>\n",
      "distributed.comm.tcp - WARNING - Closing dangling stream in <TCP  local=tcp://127.0.0.1:58220 remote=tcp://127.0.0.1:33593>\n",
      "distributed.comm.tcp - WARNING - Closing dangling stream in <TCP  local=tcp://127.0.0.1:58224 remote=tcp://127.0.0.1:33593>\n",
      "distributed.comm.tcp - WARNING - Closing dangling stream in <TCP  local=tcp://127.0.0.1:58226 remote=tcp://127.0.0.1:33593>\n",
      "distributed.comm.tcp - WARNING - Closing dangling stream in <TCP  local=tcp://127.0.0.1:58240 remote=tcp://127.0.0.1:33593>\n",
      "distributed.comm.tcp - WARNING - Closing dangling stream in <TCP  local=tcp://127.0.0.1:58256 remote=tcp://127.0.0.1:33593>\n",
      "distributed.comm.tcp - WARNING - Closing dangling stream in <TCP  local=tcp://127.0.0.1:58258 remote=tcp://127.0.0.1:33593>\n",
      "distributed.comm.tcp - WARNING - Closing dangling stream in <TCP  local=tcp://127.0.0.1:58260 remote=tcp://127.0.0.1:33593>\n"
     ]
    }
   ],
   "source": [
    "ans = a.compute()"
   ]
  },
  {
   "cell_type": "code",
   "execution_count": 17,
   "metadata": {},
   "outputs": [],
   "source": [
    "ans.to_netcdf(\"pnw_mhw_intensity.nc\")"
   ]
  },
  {
   "cell_type": "code",
   "execution_count": 18,
   "metadata": {},
   "outputs": [
    {
     "data": {
      "image/png": "[encoded data removed]",
      "text/plain": [
       "<Figure size 432x288 with 2 Axes>"
      ]
     },
     "metadata": {
      "needs_background": "light"
     },
     "output_type": "display_data"
    }
   ],
   "source": [
    "import matplotlib.animation as animation\n",
    "\n",
    "os.makedirs('plot', exist_ok=True)\n",
    "for i, time in enumerate(ans.time):\n",
    "    plt.clf()\n",
    "    ans.isel(time=i).plot()\n",
    "    plt.savefig(os.path.join('plot', f'{i}.png'))\n"
   ]
  },
  {
   "cell_type": "code",
   "execution_count": null,
   "metadata": {},
   "outputs": [],
   "source": []
  },
  {
   "cell_type": "code",
   "execution_count": null,
   "metadata": {},
   "outputs": [],
   "source": [
    "sels = ans.isel(lat=25, lon=20)\n",
    "fig = plt.figure(figsize=(15, 5))\n",
    "\n",
    "plt.vlines(sels.time[sels].values, 0, 10, color='red', )\n",
    "plt.plot()"
   ]
  },
  {
   "cell_type": "code",
   "execution_count": null,
   "metadata": {},
   "outputs": [],
   "source": [
    "sels = ans.isel(lat=5, lon=20)\n",
    "\n",
    "import matplotlib.transforms as mt\n",
    "\n",
    "fig, ax = plt.subplots(figsize=(15, 5))\n",
    "sst = oisst_pnw.sel(lat=sels.lat.values, lon=sels.lon.values).persist().sst \n",
    "ax.vlines(sels.time[sels].values, 0, 10, color='red', alpha=0.2,  transform = trans)\n",
    "\n",
    "ax.plot(sst.time, sst)\n",
    "trans = mt.blended_transform_factory(ax.transData, ax.transAxes)\n",
    "\n",
    "\n",
    "\n",
    "\n"
   ]
  },
  {
   "cell_type": "code",
   "execution_count": null,
   "metadata": {},
   "outputs": [],
   "source": [
    "sst = oisst_pnw.sel(lat=sels.lat.values, lon=sels.lon.values).sst \n",
    "plt.plot(sst.time, sst)"
   ]
  },
  {
   "cell_type": "code",
   "execution_count": null,
   "metadata": {},
   "outputs": [],
   "source": [
    "se"
   ]
  },
  {
   "cell_type": "code",
   "execution_count": null,
   "metadata": {},
   "outputs": [],
   "source": [
    "sels"
   ]
  },
  {
   "cell_type": "code",
   "execution_count": null,
   "metadata": {},
   "outputs": [],
   "source": [
    "sel"
   ]
  },
  {
   "cell_type": "code",
   "execution_count": null,
   "metadata": {},
   "outputs": [],
   "source": [
    "# s\n",
    "PNW_LAT = slice(44.5, 46.5)\n",
    "PNW_LON = slice(165.5, 166)\n",
    "oisst_pnw = oisst.sel(lat = PNW_LAT, lon = PNW_LON).load()"
   ]
  },
  {
   "cell_type": "code",
   "execution_count": null,
   "metadata": {},
   "outputs": [],
   "source": [
    "oisst_pnw"
   ]
  },
  {
   "cell_type": "code",
   "execution_count": null,
   "metadata": {},
   "outputs": [],
   "source": [
    "a = xr.apply_ufunc(\n",
    "    mhw_1d, \n",
    "    oisst_pnw.sst.chunk({'lat': 5, 'lon': 5, 'time': -1}).load(), \n",
    "    oisst_pnw.time.load(), \n",
    "    input_core_dims = [['time'], ['time']],\n",
    "    output_core_dims=[[\"time\"], [\"time\"]], \n",
    "    vectorize=True, \n",
    "    output_dtypes=['bool']\n",
    ")"
   ]
  },
  {
   "cell_type": "code",
   "execution_count": null,
   "metadata": {},
   "outputs": [],
   "source": [
    "ans = a.compute()"
   ]
  },
  {
   "cell_type": "code",
   "execution_count": null,
   "metadata": {},
   "outputs": [],
   "source": []
  }
 ],
 "metadata": {
  "kernelspec": {
   "display_name": "Python 3",
   "language": "python",
   "name": "python3"
  },
  "language_info": {
   "codemirror_mode": {
    "name": "ipython",
    "version": 3
   },
   "file_extension": ".py",
   "mimetype": "text/x-python",
   "name": "python",
   "nbconvert_exporter": "python",
   "pygments_lexer": "ipython3",
   "version": "3.7.6"
  }
 },
 "nbformat": 4,
 "nbformat_minor": 4
}
