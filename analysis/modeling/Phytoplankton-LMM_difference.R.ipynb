{
 "cells": [
  {
   "cell_type": "code",
   "execution_count": 408,
   "metadata": {},
   "outputs": [],
   "source": [
    "suppressWarnings({\n",
    "    library(lmerTest)\n",
    "    library(lme4)\n",
    "    library(ggplot2)\n",
    "    library(dplyr)\n",
    "    library(tidyr)\n",
    "    library(sjPlot)\n",
    "    library(IRdisplay)\n",
    "    library(car)\n",
    "    library(ggeffects)\n",
    "    library(gridExtra)\n",
    "    library(repr)\n",
    "    \n",
    "})\n",
    "options(repr.plot.width=4, repr.plot.height=3)"
   ]
  },
  {
   "cell_type": "markdown",
   "metadata": {},
   "source": [
    "# Investigating MHWs + Phytoplankton Performance Response via LMMs\n",
    "\n",
    "Tony Cannistra, May 2020\n",
    "\n",
    "**Purpose**: To experiment with linear mixed effects models to examine whether a significant relationship exists between latitude, yearly mean sea surface temperature, and performance ratio during marine heatwave events. \n",
    "\n",
    "**Method**: Build a linear mixed model of performance ratio with the following effects: \n",
    "\n",
    "*Fixed*: \n",
    "* Second-degree polynomial of Latitude *(perhaps also abs(lat))*\n",
    "* mean_sst_event_year_local\n",
    "* season\n",
    "* *interaction terms*\n",
    "\n",
    "\n",
    "*Random*:\n",
    "* phytoplankton isolate\n",
    "\n",
    "\n",
    "Perhaps season should be a fixed effect, especially since it likely does have control over the direction + shape of the curve. \n",
    "\n",
    "## Data\n",
    "\n",
    "We compute individual isolate performance for all local heatwaves in [this notebook](../Individual_Isolate_performance.ipynb), and use these data below. "
   ]
  },
  {
   "cell_type": "code",
   "execution_count": 409,
   "metadata": {},
   "outputs": [
    {
     "data": {
      "text/html": [
       "<table>\n",
       "<thead><tr><th scope=col>X</th><th scope=col>lat</th><th scope=col>lon</th><th scope=col>isolate</th><th scope=col>mhw</th><th scope=col>detriment_sum</th><th scope=col>relative_detriment_mean</th><th scope=col>detriment_mean</th><th scope=col>performance_diff_mean</th><th scope=col>performance_diff_unscaled_mean</th><th scope=col>...</th><th scope=col>intensity_mean</th><th scope=col>duration</th><th scope=col>start_doy</th><th scope=col>peak_doy</th><th scope=col>current_year_sst_mean</th><th scope=col>start_date</th><th scope=col>peak_date</th><th scope=col>perf_det_ratio</th><th scope=col>latbin</th><th scope=col>doy_bins</th></tr></thead>\n",
       "<tbody>\n",
       "\t<tr><td>0                </td><td>-74.875          </td><td>164.625          </td><td>1                </td><td> 4               </td><td> 3.433027        </td><td>1.303966         </td><td>0.4291283        </td><td>0.23719293       </td><td>0.078058928      </td><td>...              </td><td>1.2978105        </td><td> 9               </td><td>  1              </td><td>  1              </td><td>-1.202301        </td><td>1986-12-31       </td><td>5.364576e+17     </td><td>0.8461350        </td><td>(-75.026, -59.75]</td><td>(0.639, 91.25]   </td></tr>\n",
       "\t<tr><td>1                </td><td>-74.875          </td><td>164.625          </td><td>1                </td><td> 5               </td><td> 6.265167        </td><td>1.269172         </td><td>0.4176778        </td><td>0.28725032       </td><td>0.094532547      </td><td>...              </td><td>1.5283193        </td><td>16               </td><td> 21              </td><td> 32              </td><td>-1.103370        </td><td>1987-01-21       </td><td>5.391360e+17     </td><td>0.8156109        </td><td>(-75.026, -59.75]</td><td>(0.639, 91.25]   </td></tr>\n",
       "\t<tr><td>2                </td><td>-74.875          </td><td>164.625          </td><td>1                </td><td>11               </td><td> 9.585366        </td><td>1.713322         </td><td>0.5638451        </td><td>0.03568606       </td><td>0.011744091      </td><td>...              </td><td>0.1877301        </td><td>18               </td><td>232              </td><td>244              </td><td>-1.168743        </td><td>1988-08-19       </td><td>5.889888e+17     </td><td>0.9795979        </td><td>(-75.026, -59.75]</td><td>(181.5, 271.75]  </td></tr>\n",
       "\t<tr><td>3                </td><td>-74.875          </td><td>164.625          </td><td>1                </td><td>14               </td><td>10.139295        </td><td>1.711648         </td><td>0.5632942        </td><td>0.03325621       </td><td>0.010944441      </td><td>...              </td><td>0.1741022        </td><td>19               </td><td>196              </td><td>201              </td><td>-1.181397        </td><td>1989-07-15       </td><td>6.168960e+17     </td><td>0.9809409        </td><td>(-75.026, -59.75]</td><td>(181.5, 271.75]  </td></tr>\n",
       "\t<tr><td>4                </td><td>-74.875          </td><td>164.625          </td><td>1                </td><td>37               </td><td> 6.210158        </td><td>1.715494         </td><td>0.5645598        </td><td>0.02973751       </td><td>0.009786456      </td><td>...              </td><td>0.1560303        </td><td>12               </td><td>215              </td><td>220              </td><td>-1.219370        </td><td>1995-08-03       </td><td>8.078400e+17     </td><td>0.9829606        </td><td>(-75.026, -59.75]</td><td>(181.5, 271.75]  </td></tr>\n",
       "\t<tr><td>5                </td><td>-74.875          </td><td>164.625          </td><td>1                </td><td>69               </td><td> 5.665564        </td><td>1.721560         </td><td>0.5665564        </td><td>0.02600654       </td><td>0.008558612      </td><td>...              </td><td>0.1353238        </td><td>11               </td><td>133              </td><td>138              </td><td>-1.088333        </td><td>2004-05-12       </td><td>1.084752e+18     </td><td>0.9851187        </td><td>(-75.026, -59.75]</td><td>(91.25, 181.5]   </td></tr>\n",
       "</tbody>\n",
       "</table>\n"
      ],
      "text/latex": [
       "\\begin{tabular}{r|llllllllllllllllllllll}\n",
       " X & lat & lon & isolate & mhw & detriment\\_sum & relative\\_detriment\\_mean & detriment\\_mean & performance\\_diff\\_mean & performance\\_diff\\_unscaled\\_mean & ... & intensity\\_mean & duration & start\\_doy & peak\\_doy & current\\_year\\_sst\\_mean & start\\_date & peak\\_date & perf\\_det\\_ratio & latbin & doy\\_bins\\\\\n",
       "\\hline\n",
       "\t 0                   & -74.875             & 164.625             & 1                   &  4                  &  3.433027           & 1.303966            & 0.4291283           & 0.23719293          & 0.078058928         & ...                 & 1.2978105           &  9                  &   1                 &   1                 & -1.202301           & 1986-12-31          & 5.364576e+17        & 0.8461350           & (-75.026, -59.75{]} & (0.639, 91.25{]}   \\\\\n",
       "\t 1                   & -74.875             & 164.625             & 1                   &  5                  &  6.265167           & 1.269172            & 0.4176778           & 0.28725032          & 0.094532547         & ...                 & 1.5283193           & 16                  &  21                 &  32                 & -1.103370           & 1987-01-21          & 5.391360e+17        & 0.8156109           & (-75.026, -59.75{]} & (0.639, 91.25{]}   \\\\\n",
       "\t 2                   & -74.875             & 164.625             & 1                   & 11                  &  9.585366           & 1.713322            & 0.5638451           & 0.03568606          & 0.011744091         & ...                 & 0.1877301           & 18                  & 232                 & 244                 & -1.168743           & 1988-08-19          & 5.889888e+17        & 0.9795979           & (-75.026, -59.75{]} & (181.5, 271.75{]}  \\\\\n",
       "\t 3                   & -74.875             & 164.625             & 1                   & 14                  & 10.139295           & 1.711648            & 0.5632942           & 0.03325621          & 0.010944441         & ...                 & 0.1741022           & 19                  & 196                 & 201                 & -1.181397           & 1989-07-15          & 6.168960e+17        & 0.9809409           & (-75.026, -59.75{]} & (181.5, 271.75{]}  \\\\\n",
       "\t 4                   & -74.875             & 164.625             & 1                   & 37                  &  6.210158           & 1.715494            & 0.5645598           & 0.02973751          & 0.009786456         & ...                 & 0.1560303           & 12                  & 215                 & 220                 & -1.219370           & 1995-08-03          & 8.078400e+17        & 0.9829606           & (-75.026, -59.75{]} & (181.5, 271.75{]}  \\\\\n",
       "\t 5                   & -74.875             & 164.625             & 1                   & 69                  &  5.665564           & 1.721560            & 0.5665564           & 0.02600654          & 0.008558612         & ...                 & 0.1353238           & 11                  & 133                 & 138                 & -1.088333           & 2004-05-12          & 1.084752e+18        & 0.9851187           & (-75.026, -59.75{]} & (91.25, 181.5{]}   \\\\\n",
       "\\end{tabular}\n"
      ],
      "text/markdown": [
       "\n",
       "| X | lat | lon | isolate | mhw | detriment_sum | relative_detriment_mean | detriment_mean | performance_diff_mean | performance_diff_unscaled_mean | ... | intensity_mean | duration | start_doy | peak_doy | current_year_sst_mean | start_date | peak_date | perf_det_ratio | latbin | doy_bins |\n",
       "|---|---|---|---|---|---|---|---|---|---|---|---|---|---|---|---|---|---|---|---|---|\n",
       "| 0                 | -74.875           | 164.625           | 1                 |  4                |  3.433027         | 1.303966          | 0.4291283         | 0.23719293        | 0.078058928       | ...               | 1.2978105         |  9                |   1               |   1               | -1.202301         | 1986-12-31        | 5.364576e+17      | 0.8461350         | (-75.026, -59.75] | (0.639, 91.25]    |\n",
       "| 1                 | -74.875           | 164.625           | 1                 |  5                |  6.265167         | 1.269172          | 0.4176778         | 0.28725032        | 0.094532547       | ...               | 1.5283193         | 16                |  21               |  32               | -1.103370         | 1987-01-21        | 5.391360e+17      | 0.8156109         | (-75.026, -59.75] | (0.639, 91.25]    |\n",
       "| 2                 | -74.875           | 164.625           | 1                 | 11                |  9.585366         | 1.713322          | 0.5638451         | 0.03568606        | 0.011744091       | ...               | 0.1877301         | 18                | 232               | 244               | -1.168743         | 1988-08-19        | 5.889888e+17      | 0.9795979         | (-75.026, -59.75] | (181.5, 271.75]   |\n",
       "| 3                 | -74.875           | 164.625           | 1                 | 14                | 10.139295         | 1.711648          | 0.5632942         | 0.03325621        | 0.010944441       | ...               | 0.1741022         | 19                | 196               | 201               | -1.181397         | 1989-07-15        | 6.168960e+17      | 0.9809409         | (-75.026, -59.75] | (181.5, 271.75]   |\n",
       "| 4                 | -74.875           | 164.625           | 1                 | 37                |  6.210158         | 1.715494          | 0.5645598         | 0.02973751        | 0.009786456       | ...               | 0.1560303         | 12                | 215               | 220               | -1.219370         | 1995-08-03        | 8.078400e+17      | 0.9829606         | (-75.026, -59.75] | (181.5, 271.75]   |\n",
       "| 5                 | -74.875           | 164.625           | 1                 | 69                |  5.665564         | 1.721560          | 0.5665564         | 0.02600654        | 0.008558612       | ...               | 0.1353238         | 11                | 133               | 138               | -1.088333         | 2004-05-12        | 1.084752e+18      | 0.9851187         | (-75.026, -59.75] | (91.25, 181.5]    |\n",
       "\n"
      ],
      "text/plain": [
       "  X lat     lon     isolate mhw detriment_sum relative_detriment_mean\n",
       "1 0 -74.875 164.625 1        4   3.433027     1.303966               \n",
       "2 1 -74.875 164.625 1        5   6.265167     1.269172               \n",
       "3 2 -74.875 164.625 1       11   9.585366     1.713322               \n",
       "4 3 -74.875 164.625 1       14  10.139295     1.711648               \n",
       "5 4 -74.875 164.625 1       37   6.210158     1.715494               \n",
       "6 5 -74.875 164.625 1       69   5.665564     1.721560               \n",
       "  detriment_mean performance_diff_mean performance_diff_unscaled_mean ...\n",
       "1 0.4291283      0.23719293            0.078058928                    ...\n",
       "2 0.4176778      0.28725032            0.094532547                    ...\n",
       "3 0.5638451      0.03568606            0.011744091                    ...\n",
       "4 0.5632942      0.03325621            0.010944441                    ...\n",
       "5 0.5645598      0.02973751            0.009786456                    ...\n",
       "6 0.5665564      0.02600654            0.008558612                    ...\n",
       "  intensity_mean duration start_doy peak_doy current_year_sst_mean start_date\n",
       "1 1.2978105       9         1         1      -1.202301             1986-12-31\n",
       "2 1.5283193      16        21        32      -1.103370             1987-01-21\n",
       "3 0.1877301      18       232       244      -1.168743             1988-08-19\n",
       "4 0.1741022      19       196       201      -1.181397             1989-07-15\n",
       "5 0.1560303      12       215       220      -1.219370             1995-08-03\n",
       "6 0.1353238      11       133       138      -1.088333             2004-05-12\n",
       "  peak_date    perf_det_ratio latbin            doy_bins       \n",
       "1 5.364576e+17 0.8461350      (-75.026, -59.75] (0.639, 91.25] \n",
       "2 5.391360e+17 0.8156109      (-75.026, -59.75] (0.639, 91.25] \n",
       "3 5.889888e+17 0.9795979      (-75.026, -59.75] (181.5, 271.75]\n",
       "4 6.168960e+17 0.9809409      (-75.026, -59.75] (181.5, 271.75]\n",
       "5 8.078400e+17 0.9829606      (-75.026, -59.75] (181.5, 271.75]\n",
       "6 1.084752e+18 0.9851187      (-75.026, -59.75] (91.25, 181.5] "
      ]
     },
     "metadata": {},
     "output_type": "display_data"
    }
   ],
   "source": [
    "mhwPerformance <- read.csv(\"../isolate_performance_withnegative.csv\")\n",
    "mhwPerformance = mhwPerformance %>% mutate(isolate = factor(isolate))\n",
    "head(mhwPerformance)"
   ]
  },
  {
   "cell_type": "markdown",
   "metadata": {},
   "source": [
    "We need to adjust for the effect of hemisphere to \"align\" seasons and convert to \"season\" factor variables from \"peak_doy\" column:"
   ]
  },
  {
   "cell_type": "code",
   "execution_count": 410,
   "metadata": {},
   "outputs": [],
   "source": [
    "mhwPerformance[between(mhwPerformance$lat, -90, 0), 'peak_doy'] = (mhwPerformance[between(mhwPerformance$lat, -90, 0), 'peak_doy'] - 180) %% 365"
   ]
  },
  {
   "cell_type": "code",
   "execution_count": 411,
   "metadata": {},
   "outputs": [],
   "source": [
    "mhwPerformance = mhwPerformance %>%  \n",
    "                    mutate(season = \n",
    "                           case_when(\n",
    "                                (between(peak_doy, 0, 77) | between(peak_doy, 355, 366)) ~ \"winter\", # January 1 - March XX or December XX - December 31\n",
    "                                between(peak_doy, 78, 170) ~ \"spring\", # March XX - June XX\n",
    "                                between(peak_doy, 171, 295) ~ \"summer\", # June XX - September XX\n",
    "                                between(peak_doy, 296, 354) ~ \"fall\" # September XX - December XX\n",
    "                        )\n",
    "                    )"
   ]
  },
  {
   "cell_type": "code",
   "execution_count": 412,
   "metadata": {},
   "outputs": [
    {
     "data": {
      "text/html": [
       "<table>\n",
       "<thead><tr><th scope=col>peak_doy</th><th scope=col>season</th></tr></thead>\n",
       "<tbody>\n",
       "\t<tr><td>186   </td><td>summer</td></tr>\n",
       "\t<tr><td>217   </td><td>summer</td></tr>\n",
       "\t<tr><td> 64   </td><td>winter</td></tr>\n",
       "\t<tr><td> 21   </td><td>winter</td></tr>\n",
       "\t<tr><td> 40   </td><td>winter</td></tr>\n",
       "\t<tr><td>323   </td><td>fall  </td></tr>\n",
       "</tbody>\n",
       "</table>\n"
      ],
      "text/latex": [
       "\\begin{tabular}{r|ll}\n",
       " peak\\_doy & season\\\\\n",
       "\\hline\n",
       "\t 186    & summer\\\\\n",
       "\t 217    & summer\\\\\n",
       "\t  64    & winter\\\\\n",
       "\t  21    & winter\\\\\n",
       "\t  40    & winter\\\\\n",
       "\t 323    & fall  \\\\\n",
       "\\end{tabular}\n"
      ],
      "text/markdown": [
       "\n",
       "| peak_doy | season |\n",
       "|---|---|\n",
       "| 186    | summer |\n",
       "| 217    | summer |\n",
       "|  64    | winter |\n",
       "|  21    | winter |\n",
       "|  40    | winter |\n",
       "| 323    | fall   |\n",
       "\n"
      ],
      "text/plain": [
       "  peak_doy season\n",
       "1 186      summer\n",
       "2 217      summer\n",
       "3  64      winter\n",
       "4  21      winter\n",
       "5  40      winter\n",
       "6 323      fall  "
      ]
     },
     "metadata": {},
     "output_type": "display_data"
    }
   ],
   "source": [
    "head(mhwPerformance %>% select(peak_doy, season))"
   ]
  },
  {
   "cell_type": "markdown",
   "metadata": {},
   "source": [
    "We'll clean up by dropping NAs and `Inf`s "
   ]
  },
  {
   "cell_type": "markdown",
   "metadata": {},
   "source": [
    "We'll also **scale the input variables** for later, but the initial models will use the raw values: "
   ]
  },
  {
   "cell_type": "code",
   "execution_count": 413,
   "metadata": {},
   "outputs": [],
   "source": [
    "mhwPerformance = mhwPerformance %>%\n",
    "    mutate(\n",
    "        lat_scaled = scale(lat),\n",
    "        sst_scaled = scale(current_year_sst_mean), \n",
    "        abslat_scaled = scale(abs(lat)),\n",
    "        abslat = abs(lat)\n",
    "    )"
   ]
  },
  {
   "cell_type": "markdown",
   "metadata": {},
   "source": [
    "## Models\n",
    "\n",
    "Let's define the standard model formulations here:"
   ]
  },
  {
   "cell_type": "code",
   "execution_count": 414,
   "metadata": {},
   "outputs": [],
   "source": [
    "formula <- performance_diff_mean ~ (poly(lat_scaled, 2) + sst_scaled + season)^2\n",
    "formula_unscaled <- performance_diff_mean ~ (poly(lat, 2) + current_year_sst_mean + season)^2\n",
    "\n",
    "formula_abslat <- performance_diff_mean ~ (abslat_scaled + sst_scaled + season)^2\n",
    "formula_abslat_unscaled <- performance_diff_mean ~ (abslat + current_year_sst_mean + season)^2"
   ]
  },
  {
   "cell_type": "markdown",
   "metadata": {},
   "source": [
    "And the random effects formulations: "
   ]
  },
  {
   "cell_type": "code",
   "execution_count": 415,
   "metadata": {},
   "outputs": [],
   "source": [
    "formula_re <- performance_diff_mean ~ (poly(lat_scaled, 2) + sst_scaled + season)^2 + (1|isolate)\n",
    "formula_unscaled_re <- performance_diff_mean ~ (poly(lat, 2) + current_year_sst_mean + season)^2 + (1|isolate)\n",
    "\n",
    "formula_abslat_re <- performance_diff_mean ~ (abslat_scaled + sst_scaled + season)^2 + (1|isolate)\n",
    "formula_abslat_unscaled_re <- performance_diff_mean ~ (abslat + current_year_sst_mean + season)^2 + (1|isolate)"
   ]
  },
  {
   "cell_type": "markdown",
   "metadata": {},
   "source": [
    "We'll start with a simple linear model with all terms."
   ]
  },
  {
   "cell_type": "code",
   "execution_count": 416,
   "metadata": {},
   "outputs": [
    {
     "data": {
      "text/plain": [
       "\n",
       "Call:\n",
       "lm(formula = formula, data = mhwPerformance)\n",
       "\n",
       "Residuals:\n",
       "     Min       1Q   Median       3Q      Max \n",
       "-0.99050 -0.07070  0.00323  0.07108  1.06263 \n",
       "\n",
       "Coefficients:\n",
       "                                   Estimate Std. Error t value Pr(>|t|)    \n",
       "(Intercept)                        0.065888   0.006375  10.336  < 2e-16 ***\n",
       "poly(lat_scaled, 2)1               3.054584   0.551316   5.541 3.16e-08 ***\n",
       "poly(lat_scaled, 2)2              -2.225730   1.216945  -1.829  0.06746 .  \n",
       "sst_scaled                        -0.075876   0.016682  -4.549 5.52e-06 ***\n",
       "seasonspring                       0.024568   0.007316   3.358  0.00079 ***\n",
       "seasonsummer                      -0.111431   0.006883 -16.190  < 2e-16 ***\n",
       "seasonwinter                       0.067969   0.007575   8.973  < 2e-16 ***\n",
       "poly(lat_scaled, 2)1:sst_scaled    0.292762   0.161607   1.812  0.07011 .  \n",
       "poly(lat_scaled, 2)2:sst_scaled    0.450125   0.188086   2.393  0.01674 *  \n",
       "poly(lat_scaled, 2)1:seasonspring -0.075685   0.621921  -0.122  0.90314    \n",
       "poly(lat_scaled, 2)2:seasonspring -1.735467   1.413834  -1.227  0.21969    \n",
       "poly(lat_scaled, 2)1:seasonsummer -3.930694   0.575374  -6.832 9.35e-12 ***\n",
       "poly(lat_scaled, 2)2:seasonsummer -1.455165   1.321739  -1.101  0.27097    \n",
       "poly(lat_scaled, 2)1:seasonwinter  1.085883   0.628466   1.728  0.08408 .  \n",
       "poly(lat_scaled, 2)2:seasonwinter  1.092088   1.429663   0.764  0.44497    \n",
       "sst_scaled:seasonspring           -0.016811   0.020326  -0.827  0.40823    \n",
       "sst_scaled:seasonsummer           -0.049095   0.018937  -2.593  0.00955 ** \n",
       "sst_scaled:seasonwinter            0.034993   0.020779   1.684  0.09224 .  \n",
       "---\n",
       "Signif. codes:  0 ‘***’ 0.001 ‘**’ 0.01 ‘*’ 0.05 ‘.’ 0.1 ‘ ’ 1\n",
       "\n",
       "Residual standard error: 0.1629 on 5281 degrees of freedom\n",
       "Multiple R-squared:  0.2625,\tAdjusted R-squared:  0.2601 \n",
       "F-statistic: 110.6 on 17 and 5281 DF,  p-value: < 2.2e-16\n"
      ]
     },
     "metadata": {},
     "output_type": "display_data"
    }
   ],
   "source": [
    "simple_lm = lm(formula, data=mhwPerformance)\n",
    "summary(simple_lm)"
   ]
  },
  {
   "cell_type": "code",
   "execution_count": 417,
   "metadata": {},
   "outputs": [],
   "source": [
    "baseline_hline = geom_hline(yintercept=0, linetype='dashed', color='blue', size=0.6, alpha=0.6)"
   ]
  },
  {
   "cell_type": "markdown",
   "metadata": {},
   "source": [
    "## Simple Model with Random Effects\n",
    "\n",
    "Only `isolate` as random effect for now: "
   ]
  },
  {
   "cell_type": "code",
   "execution_count": 418,
   "metadata": {},
   "outputs": [
    {
     "name": "stderr",
     "output_type": "stream",
     "text": [
      "\n",
      "Correlation matrix not shown by default, as p = 18 > 12.\n",
      "Use print(obj, correlation=TRUE)  or\n",
      "    vcov(obj)        if you need it\n",
      "\n"
     ]
    },
    {
     "data": {
      "text/plain": [
       "Linear mixed model fit by REML. t-tests use Satterthwaite's method [\n",
       "lmerModLmerTest]\n",
       "Formula: formula_re\n",
       "   Data: mhwPerformance\n",
       "\n",
       "REML criterion at convergence: -8033.3\n",
       "\n",
       "Scaled residuals: \n",
       "    Min      1Q  Median      3Q     Max \n",
       "-7.3509 -0.4540 -0.0408  0.5075  5.6512 \n",
       "\n",
       "Random effects:\n",
       " Groups   Name        Variance Std.Dev.\n",
       " isolate  (Intercept) 0.02227  0.1492  \n",
       " Residual             0.01191  0.1091  \n",
       "Number of obs: 5299, groups:  isolate, 75\n",
       "\n",
       "Fixed effects:\n",
       "                                    Estimate Std. Error         df t value\n",
       "(Intercept)                        8.681e-02  2.464e-02  7.525e+01   3.524\n",
       "poly(lat_scaled, 2)1              -1.859e-01  2.240e+00  7.743e+01  -0.083\n",
       "poly(lat_scaled, 2)2               1.354e+01  3.060e+00  1.641e+02   4.426\n",
       "sst_scaled                         1.490e-01  2.666e-02  1.127e+03   5.588\n",
       "seasonspring                       1.901e-02  4.926e-03  5.204e+03   3.858\n",
       "seasonsummer                      -1.075e-01  4.643e-03  5.204e+03 -23.156\n",
       "seasonwinter                       6.306e-02  5.093e-03  5.203e+03  12.382\n",
       "poly(lat_scaled, 2)1:sst_scaled    1.458e+00  1.219e+00  8.086e+01   1.196\n",
       "poly(lat_scaled, 2)2:sst_scaled    1.963e+00  1.276e+00  8.956e+01   1.539\n",
       "poly(lat_scaled, 2)1:seasonspring -1.808e-02  4.190e-01  5.202e+03  -0.043\n",
       "poly(lat_scaled, 2)2:seasonspring -1.206e+00  9.515e-01  5.203e+03  -1.267\n",
       "poly(lat_scaled, 2)1:seasonsummer -3.311e+00  3.893e-01  5.206e+03  -8.504\n",
       "poly(lat_scaled, 2)2:seasonsummer -1.075e+00  8.924e-01  5.204e+03  -1.205\n",
       "poly(lat_scaled, 2)1:seasonwinter  1.107e+00  4.229e-01  5.202e+03   2.617\n",
       "poly(lat_scaled, 2)2:seasonwinter  1.044e+00  9.616e-01  5.202e+03   1.085\n",
       "sst_scaled:seasonspring           -1.302e-02  1.368e-02  5.203e+03  -0.952\n",
       "sst_scaled:seasonsummer           -4.836e-02  1.280e-02  5.205e+03  -3.778\n",
       "sst_scaled:seasonwinter            3.012e-02  1.399e-02  5.202e+03   2.153\n",
       "                                  Pr(>|t|)    \n",
       "(Intercept)                       0.000728 ***\n",
       "poly(lat_scaled, 2)1              0.934067    \n",
       "poly(lat_scaled, 2)2              1.74e-05 ***\n",
       "sst_scaled                        2.88e-08 ***\n",
       "seasonspring                      0.000116 ***\n",
       "seasonsummer                       < 2e-16 ***\n",
       "seasonwinter                       < 2e-16 ***\n",
       "poly(lat_scaled, 2)1:sst_scaled   0.235062    \n",
       "poly(lat_scaled, 2)2:sst_scaled   0.127413    \n",
       "poly(lat_scaled, 2)1:seasonspring 0.965588    \n",
       "poly(lat_scaled, 2)2:seasonspring 0.205047    \n",
       "poly(lat_scaled, 2)1:seasonsummer  < 2e-16 ***\n",
       "poly(lat_scaled, 2)2:seasonsummer 0.228383    \n",
       "poly(lat_scaled, 2)1:seasonwinter 0.008906 ** \n",
       "poly(lat_scaled, 2)2:seasonwinter 0.277783    \n",
       "sst_scaled:seasonspring           0.341364    \n",
       "sst_scaled:seasonsummer           0.000160 ***\n",
       "sst_scaled:seasonwinter           0.031394 *  \n",
       "---\n",
       "Signif. codes:  0 ‘***’ 0.001 ‘**’ 0.01 ‘*’ 0.05 ‘.’ 0.1 ‘ ’ 1"
      ]
     },
     "metadata": {},
     "output_type": "display_data"
    }
   ],
   "source": [
    "simple_re = lmer(\n",
    "    formula_re,\n",
    "    data=mhwPerformance\n",
    ")\n",
    "summary(simple_re)"
   ]
  },
  {
   "cell_type": "code",
   "execution_count": 419,
   "metadata": {},
   "outputs": [
    {
     "name": "stderr",
     "output_type": "stream",
     "text": [
      "Model contains splines or polynomial terms. Consider using `terms=\"lat_scaled [all]\"` to get smooth plots. See also package-vignette 'Marginal Effects at Specific Values'.\n"
     ]
    },
    {
     "name": "stdout",
     "output_type": "stream",
     "text": [
      "Error: Confidence intervals could not be computed.\n",
      "* Reason: \"`season` does not have enough factor levels. Try to remove `[]`.\"\n",
      "* Source: .safe_se_from_vcov(model, prediction_data, value_adjustment, terms, model_class, type, vcov.fun, vcov.type, vcov.args, condition, interval)\n"
     ]
    },
    {
     "name": "stderr",
     "output_type": "stream",
     "text": [
      "Model contains splines or polynomial terms. Consider using `terms=\"sst_scaled [all]\"` to get smooth plots. See also package-vignette 'Marginal Effects at Specific Values'.\n"
     ]
    },
    {
     "name": "stdout",
     "output_type": "stream",
     "text": [
      "Error: Confidence intervals could not be computed.\n",
      "* Reason: \"`season` does not have enough factor levels. Try to remove `[]`.\"\n",
      "* Source: .safe_se_from_vcov(model, prediction_data, value_adjustment, terms, model_class, type, vcov.fun, vcov.type, vcov.args, condition, interval)\n"
     ]
    },
    {
     "name": "stderr",
     "output_type": "stream",
     "text": [
      "Model contains splines or polynomial terms. Consider using `terms=\"season [all]\"` to get smooth plots. See also package-vignette 'Marginal Effects at Specific Values'.\n"
     ]
    },
    {
     "data": {
      "text/plain": [
       "NULL"
      ]
     },
     "metadata": {},
     "output_type": "display_data"
    },
    {
     "data": {
      "image/png": "[encoded data removed]",
      "text/plain": [
       "plot without title"
      ]
     },
     "metadata": {},
     "output_type": "display_data"
    },
    {
     "data": {
      "image/png": "[encoded data removed]",
      "text/plain": [
       "plot without title"
      ]
     },
     "metadata": {},
     "output_type": "display_data"
    }
   ],
   "source": [
    "simple_re_plots = plot_model(simple_re, type='pred')\n",
    "simple_re_plots$lat + baseline_hline\n",
    "simple_re_plots$current_year_sst_mean + baseline_hline\n",
    "simple_re_plots$season + baseline_hline"
   ]
  },
  {
   "cell_type": "code",
   "execution_count": 420,
   "metadata": {},
   "outputs": [
    {
     "name": "stderr",
     "output_type": "stream",
     "text": [
      "Scale for 'y' is already present. Adding another scale for 'y', which will\n",
      "replace the existing scale.\n",
      "Warning message:\n",
      "“Removed 9 rows containing missing values (geom_point).”"
     ]
    },
    {
     "data": {
      "image/png": "[encoded data removed]",
      "text/plain": [
       "plot without title"
      ]
     },
     "metadata": {},
     "output_type": "display_data"
    }
   ],
   "source": [
    "plot_model(simple_re, type='re') +\n",
    "    xlab(\"Isolate ID\") + \n",
    "    ylab('random effect')+\n",
    "    ylim(-0.2, 0.2)"
   ]
  },
  {
   "cell_type": "markdown",
   "metadata": {},
   "source": [
    "## More Intense Heatwaves =? Stronger Signal?\n",
    "\n",
    "There's probably a lot of noise from shorter events here. \n",
    "\n",
    "Lets take a look at the distribution of heatwaves by intensity: "
   ]
  },
  {
   "cell_type": "code",
   "execution_count": 421,
   "metadata": {},
   "outputs": [
    {
     "data": {
      "text/html": [
       "1.51960726091939"
      ],
      "text/latex": [
       "1.51960726091939"
      ],
      "text/markdown": [
       "1.51960726091939"
      ],
      "text/plain": [
       "[1] 1.519607"
      ]
     },
     "metadata": {},
     "output_type": "display_data"
    }
   ],
   "source": [
    "median(mhwPerformance$intensity_mean)"
   ]
  },
  {
   "cell_type": "code",
   "execution_count": 422,
   "metadata": {},
   "outputs": [
    {
     "name": "stderr",
     "output_type": "stream",
     "text": [
      "`stat_bin()` using `bins = 30`. Pick better value with `binwidth`.\n"
     ]
    },
    {
     "data": {
      "image/png": "[encoded data removed]",
      "text/plain": [
       "plot without title"
      ]
     },
     "metadata": {},
     "output_type": "display_data"
    }
   ],
   "source": [
    "ggplot(mhwPerformance, aes(x=intensity_mean)) +\n",
    "    geom_histogram() + \n",
    "    geom_vline(xintercept=median(mhwPerformance$intensity_mean)) "
   ]
  },
  {
   "cell_type": "markdown",
   "metadata": {},
   "source": [
    "We can use ~1.5 C as our threshold (median?)"
   ]
  },
  {
   "cell_type": "code",
   "execution_count": 423,
   "metadata": {},
   "outputs": [],
   "source": [
    "intensity_threshold = 1.5"
   ]
  },
  {
   "cell_type": "code",
   "execution_count": 424,
   "metadata": {},
   "outputs": [],
   "source": [
    "intenseMhwPerformance = mhwPerformance %>% filter(intensity_mean > intensity_threshold)"
   ]
  },
  {
   "cell_type": "code",
   "execution_count": 425,
   "metadata": {},
   "outputs": [
    {
     "data": {
      "text/html": [
       "<table>\n",
       "<thead><tr><th scope=col>X</th><th scope=col>lat</th><th scope=col>lon</th><th scope=col>isolate</th><th scope=col>mhw</th><th scope=col>detriment_sum</th><th scope=col>relative_detriment_mean</th><th scope=col>detriment_mean</th><th scope=col>performance_diff_mean</th><th scope=col>performance_diff_unscaled_mean</th><th scope=col>...</th><th scope=col>start_date</th><th scope=col>peak_date</th><th scope=col>perf_det_ratio</th><th scope=col>latbin</th><th scope=col>doy_bins</th><th scope=col>season</th><th scope=col>lat_scaled</th><th scope=col>sst_scaled</th><th scope=col>abslat_scaled</th><th scope=col>abslat</th></tr></thead>\n",
       "<tbody>\n",
       "\t<tr><td> 1               </td><td>-74.875          </td><td>164.625          </td><td>1                </td><td> 5               </td><td>6.2651666        </td><td>1.26917212       </td><td>0.41767777       </td><td> 0.28725032      </td><td> 0.09453255      </td><td>...              </td><td>1987-01-21       </td><td>5.391360e+17     </td><td>8.156109e-01     </td><td>(-75.026, -59.75]</td><td>(0.639, 91.25]   </td><td>summer           </td><td>-2.537581        </td><td>-2.432479754     </td><td>2.40863645       </td><td>74.875           </td></tr>\n",
       "\t<tr><td>19               </td><td>-57.875          </td><td>139.875          </td><td>558              </td><td> 6               </td><td>0.8048469        </td><td>0.14412670       </td><td>0.04734394       </td><td>-0.14278485      </td><td>-0.04690315      </td><td>...              </td><td>1985-01-03       </td><td>4.737312e+17     </td><td>3.234330e+04     </td><td>(-59.75, -44.625]</td><td>(0.639, 91.25]   </td><td>summer           </td><td>-2.047310        </td><td>-2.012213646     </td><td>1.43853309       </td><td>57.875           </td></tr>\n",
       "\t<tr><td>27               </td><td>-41.375          </td><td>174.875          </td><td>18               </td><td>30               </td><td>1.2221654        </td><td>0.09605062       </td><td>0.02909918       </td><td> 0.07816765      </td><td> 0.02368141      </td><td>...              </td><td>1999-02-08       </td><td>9.217152e+17     </td><td>5.517525e-01     </td><td>(-44.625, -29.5] </td><td>(0.639, 91.25]   </td><td>summer           </td><td>-1.571460        </td><td>-0.494669663     </td><td>0.49696219       </td><td>41.375           </td></tr>\n",
       "\t<tr><td>34               </td><td>-36.125          </td><td>174.875          </td><td>573              </td><td>53               </td><td>1.7526555        </td><td>0.07958929       </td><td>0.04736907       </td><td> 0.13657643      </td><td> 0.08128604      </td><td>...              </td><td>2017-11-28       </td><td>1.512950e+18     </td><td>3.521463e-01     </td><td>(-44.625, -29.5] </td><td>(0.639, 91.25]   </td><td>spring           </td><td>-1.420053        </td><td>-0.148946286     </td><td>0.19737144       </td><td>36.125           </td></tr>\n",
       "\t<tr><td>37               </td><td>-34.375          </td><td> 17.125          </td><td>26               </td><td>42               </td><td>0.2014159        </td><td>0.08242058       </td><td>0.03356932       </td><td>-0.07164985      </td><td>-0.02918248      </td><td>...              </td><td>2005-07-15       </td><td>1.121558e+18     </td><td>7.700049e+00     </td><td>(-44.625, -29.5] </td><td>(181.5, 271.75]  </td><td>winter           </td><td>-1.369584        </td><td>-0.077268109     </td><td>0.09750786       </td><td>34.375           </td></tr>\n",
       "\t<tr><td>38               </td><td>-34.375          </td><td> 17.125          </td><td>26               </td><td>45               </td><td>4.8919199        </td><td>0.48043255       </td><td>0.19567680       </td><td>-0.21742883      </td><td>-0.08855723      </td><td>...              </td><td>2007-03-01       </td><td>1.174262e+18     </td><td>1.827904e+00     </td><td>(-44.625, -29.5] </td><td>(0.639, 91.25]   </td><td>summer           </td><td>-1.369584        </td><td>-0.003833995     </td><td>0.09750786       </td><td>34.375           </td></tr>\n",
       "</tbody>\n",
       "</table>\n"
      ],
      "text/latex": [
       "\\begin{tabular}{r|lllllllllllllllllllllllllll}\n",
       " X & lat & lon & isolate & mhw & detriment\\_sum & relative\\_detriment\\_mean & detriment\\_mean & performance\\_diff\\_mean & performance\\_diff\\_unscaled\\_mean & ... & start\\_date & peak\\_date & perf\\_det\\_ratio & latbin & doy\\_bins & season & lat\\_scaled & sst\\_scaled & abslat\\_scaled & abslat\\\\\n",
       "\\hline\n",
       "\t  1                  & -74.875             & 164.625             & 1                   &  5                  & 6.2651666           & 1.26917212          & 0.41767777          &  0.28725032         &  0.09453255         & ...                 & 1987-01-21          & 5.391360e+17        & 8.156109e-01        & (-75.026, -59.75{]} & (0.639, 91.25{]}    & summer              & -2.537581           & -2.432479754        & 2.40863645          & 74.875             \\\\\n",
       "\t 19                  & -57.875             & 139.875             & 558                 &  6                  & 0.8048469           & 0.14412670          & 0.04734394          & -0.14278485         & -0.04690315         & ...                 & 1985-01-03          & 4.737312e+17        & 3.234330e+04        & (-59.75, -44.625{]} & (0.639, 91.25{]}    & summer              & -2.047310           & -2.012213646        & 1.43853309          & 57.875             \\\\\n",
       "\t 27                  & -41.375             & 174.875             & 18                  & 30                  & 1.2221654           & 0.09605062          & 0.02909918          &  0.07816765         &  0.02368141         & ...                 & 1999-02-08          & 9.217152e+17        & 5.517525e-01        & (-44.625, -29.5{]}  & (0.639, 91.25{]}    & summer              & -1.571460           & -0.494669663        & 0.49696219          & 41.375             \\\\\n",
       "\t 34                  & -36.125             & 174.875             & 573                 & 53                  & 1.7526555           & 0.07958929          & 0.04736907          &  0.13657643         &  0.08128604         & ...                 & 2017-11-28          & 1.512950e+18        & 3.521463e-01        & (-44.625, -29.5{]}  & (0.639, 91.25{]}    & spring              & -1.420053           & -0.148946286        & 0.19737144          & 36.125             \\\\\n",
       "\t 37                  & -34.375             &  17.125             & 26                  & 42                  & 0.2014159           & 0.08242058          & 0.03356932          & -0.07164985         & -0.02918248         & ...                 & 2005-07-15          & 1.121558e+18        & 7.700049e+00        & (-44.625, -29.5{]}  & (181.5, 271.75{]}   & winter              & -1.369584           & -0.077268109        & 0.09750786          & 34.375             \\\\\n",
       "\t 38                  & -34.375             &  17.125             & 26                  & 45                  & 4.8919199           & 0.48043255          & 0.19567680          & -0.21742883         & -0.08855723         & ...                 & 2007-03-01          & 1.174262e+18        & 1.827904e+00        & (-44.625, -29.5{]}  & (0.639, 91.25{]}    & summer              & -1.369584           & -0.003833995        & 0.09750786          & 34.375             \\\\\n",
       "\\end{tabular}\n"
      ],
      "text/markdown": [
       "\n",
       "| X | lat | lon | isolate | mhw | detriment_sum | relative_detriment_mean | detriment_mean | performance_diff_mean | performance_diff_unscaled_mean | ... | start_date | peak_date | perf_det_ratio | latbin | doy_bins | season | lat_scaled | sst_scaled | abslat_scaled | abslat |\n",
       "|---|---|---|---|---|---|---|---|---|---|---|---|---|---|---|---|---|---|---|---|---|\n",
       "|  1                | -74.875           | 164.625           | 1                 |  5                | 6.2651666         | 1.26917212        | 0.41767777        |  0.28725032       |  0.09453255       | ...               | 1987-01-21        | 5.391360e+17      | 8.156109e-01      | (-75.026, -59.75] | (0.639, 91.25]    | summer            | -2.537581         | -2.432479754      | 2.40863645        | 74.875            |\n",
       "| 19                | -57.875           | 139.875           | 558               |  6                | 0.8048469         | 0.14412670        | 0.04734394        | -0.14278485       | -0.04690315       | ...               | 1985-01-03        | 4.737312e+17      | 3.234330e+04      | (-59.75, -44.625] | (0.639, 91.25]    | summer            | -2.047310         | -2.012213646      | 1.43853309        | 57.875            |\n",
       "| 27                | -41.375           | 174.875           | 18                | 30                | 1.2221654         | 0.09605062        | 0.02909918        |  0.07816765       |  0.02368141       | ...               | 1999-02-08        | 9.217152e+17      | 5.517525e-01      | (-44.625, -29.5]  | (0.639, 91.25]    | summer            | -1.571460         | -0.494669663      | 0.49696219        | 41.375            |\n",
       "| 34                | -36.125           | 174.875           | 573               | 53                | 1.7526555         | 0.07958929        | 0.04736907        |  0.13657643       |  0.08128604       | ...               | 2017-11-28        | 1.512950e+18      | 3.521463e-01      | (-44.625, -29.5]  | (0.639, 91.25]    | spring            | -1.420053         | -0.148946286      | 0.19737144        | 36.125            |\n",
       "| 37                | -34.375           |  17.125           | 26                | 42                | 0.2014159         | 0.08242058        | 0.03356932        | -0.07164985       | -0.02918248       | ...               | 2005-07-15        | 1.121558e+18      | 7.700049e+00      | (-44.625, -29.5]  | (181.5, 271.75]   | winter            | -1.369584         | -0.077268109      | 0.09750786        | 34.375            |\n",
       "| 38                | -34.375           |  17.125           | 26                | 45                | 4.8919199         | 0.48043255        | 0.19567680        | -0.21742883       | -0.08855723       | ...               | 2007-03-01        | 1.174262e+18      | 1.827904e+00      | (-44.625, -29.5]  | (0.639, 91.25]    | summer            | -1.369584         | -0.003833995      | 0.09750786        | 34.375            |\n",
       "\n"
      ],
      "text/plain": [
       "  X  lat     lon     isolate mhw detriment_sum relative_detriment_mean\n",
       "1  1 -74.875 164.625 1        5  6.2651666     1.26917212             \n",
       "2 19 -57.875 139.875 558      6  0.8048469     0.14412670             \n",
       "3 27 -41.375 174.875 18      30  1.2221654     0.09605062             \n",
       "4 34 -36.125 174.875 573     53  1.7526555     0.07958929             \n",
       "5 37 -34.375  17.125 26      42  0.2014159     0.08242058             \n",
       "6 38 -34.375  17.125 26      45  4.8919199     0.48043255             \n",
       "  detriment_mean performance_diff_mean performance_diff_unscaled_mean ...\n",
       "1 0.41767777      0.28725032            0.09453255                    ...\n",
       "2 0.04734394     -0.14278485           -0.04690315                    ...\n",
       "3 0.02909918      0.07816765            0.02368141                    ...\n",
       "4 0.04736907      0.13657643            0.08128604                    ...\n",
       "5 0.03356932     -0.07164985           -0.02918248                    ...\n",
       "6 0.19567680     -0.21742883           -0.08855723                    ...\n",
       "  start_date peak_date    perf_det_ratio latbin            doy_bins       \n",
       "1 1987-01-21 5.391360e+17 8.156109e-01   (-75.026, -59.75] (0.639, 91.25] \n",
       "2 1985-01-03 4.737312e+17 3.234330e+04   (-59.75, -44.625] (0.639, 91.25] \n",
       "3 1999-02-08 9.217152e+17 5.517525e-01   (-44.625, -29.5]  (0.639, 91.25] \n",
       "4 2017-11-28 1.512950e+18 3.521463e-01   (-44.625, -29.5]  (0.639, 91.25] \n",
       "5 2005-07-15 1.121558e+18 7.700049e+00   (-44.625, -29.5]  (181.5, 271.75]\n",
       "6 2007-03-01 1.174262e+18 1.827904e+00   (-44.625, -29.5]  (0.639, 91.25] \n",
       "  season lat_scaled sst_scaled   abslat_scaled abslat\n",
       "1 summer -2.537581  -2.432479754 2.40863645    74.875\n",
       "2 summer -2.047310  -2.012213646 1.43853309    57.875\n",
       "3 summer -1.571460  -0.494669663 0.49696219    41.375\n",
       "4 spring -1.420053  -0.148946286 0.19737144    36.125\n",
       "5 winter -1.369584  -0.077268109 0.09750786    34.375\n",
       "6 summer -1.369584  -0.003833995 0.09750786    34.375"
      ]
     },
     "metadata": {},
     "output_type": "display_data"
    }
   ],
   "source": [
    "head(intenseMhwPerformance)"
   ]
  },
  {
   "cell_type": "code",
   "execution_count": 426,
   "metadata": {},
   "outputs": [
    {
     "data": {
      "text/html": [
       "2721"
      ],
      "text/latex": [
       "2721"
      ],
      "text/markdown": [
       "2721"
      ],
      "text/plain": [
       "[1] 2721"
      ]
     },
     "metadata": {},
     "output_type": "display_data"
    }
   ],
   "source": [
    "nrow(intenseMhwPerformance)"
   ]
  },
  {
   "cell_type": "markdown",
   "metadata": {},
   "source": [
    "**Simple Model**"
   ]
  },
  {
   "cell_type": "code",
   "execution_count": 427,
   "metadata": {},
   "outputs": [
    {
     "data": {
      "text/plain": [
       "\n",
       "Call:\n",
       "lm(formula = formula, data = intenseMhwPerformance)\n",
       "\n",
       "Residuals:\n",
       "     Min       1Q   Median       3Q      Max \n",
       "-0.90588 -0.07210  0.00696  0.08259  0.97942 \n",
       "\n",
       "Coefficients:\n",
       "                                   Estimate Std. Error t value Pr(>|t|)    \n",
       "(Intercept)                        0.102665   0.009973  10.295  < 2e-16 ***\n",
       "poly(lat_scaled, 2)1               1.800950   0.574036   3.137  0.00172 ** \n",
       "poly(lat_scaled, 2)2              -0.271012   0.963271  -0.281  0.77847    \n",
       "sst_scaled                        -0.031023   0.025489  -1.217  0.22366    \n",
       "seasonspring                       0.003394   0.011878   0.286  0.77512    \n",
       "seasonsummer                      -0.176645   0.011126 -15.877  < 2e-16 ***\n",
       "seasonwinter                       0.093073   0.012956   7.184 8.71e-13 ***\n",
       "poly(lat_scaled, 2)1:sst_scaled    1.127001   0.230970   4.879 1.13e-06 ***\n",
       "poly(lat_scaled, 2)2:sst_scaled    0.757743   0.196717   3.852  0.00012 ***\n",
       "poly(lat_scaled, 2)1:seasonspring -0.882607   0.708212  -1.246  0.21278    \n",
       "poly(lat_scaled, 2)2:seasonspring -1.881572   1.143790  -1.645  0.10008    \n",
       "poly(lat_scaled, 2)1:seasonsummer -2.985730   0.632223  -4.723 2.45e-06 ***\n",
       "poly(lat_scaled, 2)2:seasonsummer -0.003576   1.028487  -0.003  0.99723    \n",
       "poly(lat_scaled, 2)1:seasonwinter  3.345842   0.810703   4.127 3.78e-05 ***\n",
       "poly(lat_scaled, 2)2:seasonwinter  1.890507   1.269461   1.489  0.13655    \n",
       "sst_scaled:seasonspring           -0.047212   0.030613  -1.542  0.12314    \n",
       "sst_scaled:seasonsummer           -0.143905   0.028419  -5.064 4.39e-07 ***\n",
       "sst_scaled:seasonwinter            0.080834   0.033470   2.415  0.01580 *  \n",
       "---\n",
       "Signif. codes:  0 ‘***’ 0.001 ‘**’ 0.01 ‘*’ 0.05 ‘.’ 0.1 ‘ ’ 1\n",
       "\n",
       "Residual standard error: 0.1815 on 2703 degrees of freedom\n",
       "Multiple R-squared:  0.336,\tAdjusted R-squared:  0.3318 \n",
       "F-statistic: 80.45 on 17 and 2703 DF,  p-value: < 2.2e-16\n"
      ]
     },
     "metadata": {},
     "output_type": "display_data"
    }
   ],
   "source": [
    "simple_intense_lm = lm(\n",
    "    formula,\n",
    "    data=intenseMhwPerformance)\n",
    "summary(simple_intense_lm)"
   ]
  },
  {
   "cell_type": "markdown",
   "metadata": {},
   "source": [
    "**Simple Random Effects**"
   ]
  },
  {
   "cell_type": "code",
   "execution_count": 428,
   "metadata": {},
   "outputs": [
    {
     "name": "stderr",
     "output_type": "stream",
     "text": [
      "\n",
      "Correlation matrix not shown by default, as p = 18 > 12.\n",
      "Use print(obj, correlation=TRUE)  or\n",
      "    vcov(obj)        if you need it\n",
      "\n"
     ]
    },
    {
     "data": {
      "text/plain": [
       "Linear mixed model fit by REML. t-tests use Satterthwaite's method [\n",
       "lmerModLmerTest]\n",
       "Formula: formula_re\n",
       "   Data: intenseMhwPerformance\n",
       "\n",
       "REML criterion at convergence: -3413.9\n",
       "\n",
       "Scaled residuals: \n",
       "    Min      1Q  Median      3Q     Max \n",
       "-5.7477 -0.4897 -0.0002  0.4773  4.3940 \n",
       "\n",
       "Random effects:\n",
       " Groups   Name        Variance Std.Dev.\n",
       " isolate  (Intercept) 0.02358  0.1535  \n",
       " Residual             0.01503  0.1226  \n",
       "Number of obs: 2721, groups:  isolate, 69\n",
       "\n",
       "Fixed effects:\n",
       "                                    Estimate Std. Error         df t value\n",
       "(Intercept)                        1.112e-01  2.471e-02  6.138e+01   4.500\n",
       "poly(lat_scaled, 2)1               3.609e+00  1.088e+00  8.309e+01   3.319\n",
       "poly(lat_scaled, 2)2               5.799e+00  1.617e+00  1.515e+02   3.586\n",
       "sst_scaled                         1.566e-01  3.391e-02  9.335e+02   4.619\n",
       "seasonspring                       3.606e-03  8.269e-03  2.649e+03   0.436\n",
       "seasonsummer                      -1.795e-01  7.718e-03  2.645e+03 -23.263\n",
       "seasonwinter                       9.857e-02  8.910e-03  2.642e+03  11.062\n",
       "poly(lat_scaled, 2)1:sst_scaled    8.191e-01  7.320e-01  6.943e+01   1.119\n",
       "poly(lat_scaled, 2)2:sst_scaled    8.862e-01  6.375e-01  6.891e+01   1.390\n",
       "poly(lat_scaled, 2)1:seasonspring -6.325e-01  4.971e-01  2.643e+03  -1.272\n",
       "poly(lat_scaled, 2)2:seasonspring -1.568e+00  7.889e-01  2.637e+03  -1.987\n",
       "poly(lat_scaled, 2)1:seasonsummer -2.921e+00  4.450e-01  2.643e+03  -6.563\n",
       "poly(lat_scaled, 2)2:seasonsummer -1.673e+00  7.128e-01  2.638e+03  -2.347\n",
       "poly(lat_scaled, 2)1:seasonwinter  2.498e+00  5.575e-01  2.635e+03   4.481\n",
       "poly(lat_scaled, 2)2:seasonwinter  2.341e+00  8.641e-01  2.631e+03   2.709\n",
       "sst_scaled:seasonspring           -4.213e-02  2.097e-02  2.637e+03  -2.009\n",
       "sst_scaled:seasonsummer           -1.694e-01  1.958e-02  2.637e+03  -8.656\n",
       "sst_scaled:seasonwinter            8.371e-02  2.284e-02  2.633e+03   3.666\n",
       "                                  Pr(>|t|)    \n",
       "(Intercept)                       3.09e-05 ***\n",
       "poly(lat_scaled, 2)1              0.001344 ** \n",
       "poly(lat_scaled, 2)2              0.000452 ***\n",
       "sst_scaled                        4.40e-06 ***\n",
       "seasonspring                      0.662786    \n",
       "seasonsummer                       < 2e-16 ***\n",
       "seasonwinter                       < 2e-16 ***\n",
       "poly(lat_scaled, 2)1:sst_scaled   0.266984    \n",
       "poly(lat_scaled, 2)2:sst_scaled   0.168927    \n",
       "poly(lat_scaled, 2)1:seasonspring 0.203387    \n",
       "poly(lat_scaled, 2)2:seasonspring 0.046981 *  \n",
       "poly(lat_scaled, 2)1:seasonsummer 6.33e-11 ***\n",
       "poly(lat_scaled, 2)2:seasonsummer 0.019017 *  \n",
       "poly(lat_scaled, 2)1:seasonwinter 7.74e-06 ***\n",
       "poly(lat_scaled, 2)2:seasonwinter 0.006787 ** \n",
       "sst_scaled:seasonspring           0.044616 *  \n",
       "sst_scaled:seasonsummer            < 2e-16 ***\n",
       "sst_scaled:seasonwinter           0.000251 ***\n",
       "---\n",
       "Signif. codes:  0 ‘***’ 0.001 ‘**’ 0.01 ‘*’ 0.05 ‘.’ 0.1 ‘ ’ 1"
      ]
     },
     "metadata": {},
     "output_type": "display_data"
    }
   ],
   "source": [
    "simple_intense_re = lmer(\n",
    "    formula_re, \n",
    "    data=intenseMhwPerformance\n",
    ")\n",
    "summary(simple_intense_re)"
   ]
  },
  {
   "cell_type": "markdown",
   "metadata": {},
   "source": [
    "## Absolute Latitude instead of Poly(2)"
   ]
  },
  {
   "cell_type": "code",
   "execution_count": 429,
   "metadata": {},
   "outputs": [
    {
     "name": "stderr",
     "output_type": "stream",
     "text": [
      "\n",
      "Correlation matrix not shown by default, as p = 13 > 12.\n",
      "Use print(obj, correlation=TRUE)  or\n",
      "    vcov(obj)        if you need it\n",
      "\n"
     ]
    },
    {
     "data": {
      "text/plain": [
       "Linear mixed model fit by REML. t-tests use Satterthwaite's method [\n",
       "lmerModLmerTest]\n",
       "Formula: formula_abslat_re\n",
       "   Data: mhwPerformance\n",
       "\n",
       "REML criterion at convergence: -8263.5\n",
       "\n",
       "Scaled residuals: \n",
       "    Min      1Q  Median      3Q     Max \n",
       "-7.1260 -0.4422 -0.0368  0.4987  5.5567 \n",
       "\n",
       "Random effects:\n",
       " Groups   Name        Variance Std.Dev.\n",
       " isolate  (Intercept) 0.02216  0.1489  \n",
       " Residual             0.01129  0.1062  \n",
       "Number of obs: 5299, groups:  isolate, 75\n",
       "\n",
       "Fixed effects:\n",
       "                             Estimate Std. Error         df t value Pr(>|t|)\n",
       "(Intercept)                 5.681e-02  2.149e-02  7.546e+01   2.644  0.00996\n",
       "abslat_scaled               2.170e-01  2.764e-02  2.063e+02   7.850 2.23e-13\n",
       "sst_scaled                  2.075e-01  2.418e-02  1.520e+03   8.582  < 2e-16\n",
       "seasonspring                2.012e-02  4.778e-03  5.207e+03   4.211 2.58e-05\n",
       "seasonsummer               -1.069e-01  4.501e-03  5.207e+03 -23.751  < 2e-16\n",
       "seasonwinter                6.339e-02  4.931e-03  5.205e+03  12.855  < 2e-16\n",
       "abslat_scaled:sst_scaled   -1.108e-02  1.376e-02  9.807e+01  -0.805  0.42249\n",
       "abslat_scaled:seasonspring -1.288e-02  1.173e-02  5.205e+03  -1.098  0.27225\n",
       "abslat_scaled:seasonsummer -1.655e-01  1.116e-02  5.205e+03 -14.837  < 2e-16\n",
       "abslat_scaled:seasonwinter  5.523e-02  1.211e-02  5.206e+03   4.562 5.19e-06\n",
       "sst_scaled:seasonspring    -1.145e-02  1.187e-02  5.205e+03  -0.965  0.33483\n",
       "sst_scaled:seasonsummer    -1.952e-01  1.118e-02  5.205e+03 -17.463  < 2e-16\n",
       "sst_scaled:seasonwinter     6.999e-02  1.215e-02  5.206e+03   5.762 8.80e-09\n",
       "                              \n",
       "(Intercept)                ** \n",
       "abslat_scaled              ***\n",
       "sst_scaled                 ***\n",
       "seasonspring               ***\n",
       "seasonsummer               ***\n",
       "seasonwinter               ***\n",
       "abslat_scaled:sst_scaled      \n",
       "abslat_scaled:seasonspring    \n",
       "abslat_scaled:seasonsummer ***\n",
       "abslat_scaled:seasonwinter ***\n",
       "sst_scaled:seasonspring       \n",
       "sst_scaled:seasonsummer    ***\n",
       "sst_scaled:seasonwinter    ***\n",
       "---\n",
       "Signif. codes:  0 ‘***’ 0.001 ‘**’ 0.01 ‘*’ 0.05 ‘.’ 0.1 ‘ ’ 1"
      ]
     },
     "metadata": {},
     "output_type": "display_data"
    }
   ],
   "source": [
    "abslat_re = lmer(\n",
    "    formula_abslat_re, \n",
    "    data=mhwPerformance\n",
    ")\n",
    "summary(abslat_re)"
   ]
  },
  {
   "cell_type": "code",
   "execution_count": 430,
   "metadata": {},
   "outputs": [
    {
     "name": "stderr",
     "output_type": "stream",
     "text": [
      "\n",
      "Correlation matrix not shown by default, as p = 13 > 12.\n",
      "Use print(obj, correlation=TRUE)  or\n",
      "    vcov(obj)        if you need it\n",
      "\n"
     ]
    },
    {
     "data": {
      "text/plain": [
       "Linear mixed model fit by REML. t-tests use Satterthwaite's method [\n",
       "lmerModLmerTest]\n",
       "Formula: formula_abslat_re\n",
       "   Data: intenseMhwPerformance\n",
       "\n",
       "REML criterion at convergence: -3447.5\n",
       "\n",
       "Scaled residuals: \n",
       "    Min      1Q  Median      3Q     Max \n",
       "-5.7183 -0.4896  0.0274  0.4982  4.3528 \n",
       "\n",
       "Random effects:\n",
       " Groups   Name        Variance Std.Dev.\n",
       " isolate  (Intercept) 0.02446  0.1564  \n",
       " Residual             0.01459  0.1208  \n",
       "Number of obs: 2721, groups:  isolate, 69\n",
       "\n",
       "Fixed effects:\n",
       "                             Estimate Std. Error         df t value Pr(>|t|)\n",
       "(Intercept)                 8.299e-02  2.415e-02  6.571e+01   3.437  0.00102\n",
       "abslat_scaled               2.063e-01  3.473e-02  1.992e+02   5.940 1.25e-08\n",
       "sst_scaled                  1.860e-01  3.265e-02  8.432e+02   5.697 1.68e-08\n",
       "seasonspring                7.445e-03  8.217e-03  2.661e+03   0.906  0.36499\n",
       "seasonsummer               -1.641e-01  7.716e-03  2.657e+03 -21.266  < 2e-16\n",
       "seasonwinter                9.249e-02  8.858e-03  2.652e+03  10.442  < 2e-16\n",
       "abslat_scaled:sst_scaled   -1.029e-02  1.726e-02  8.125e+01  -0.596  0.55259\n",
       "abslat_scaled:seasonspring -2.869e-02  1.944e-02  2.679e+03  -1.476  0.14013\n",
       "abslat_scaled:seasonsummer -1.585e-01  1.842e-02  2.672e+03  -8.606  < 2e-16\n",
       "abslat_scaled:seasonwinter  9.323e-02  2.123e-02  2.671e+03   4.391 1.17e-05\n",
       "sst_scaled:seasonspring    -3.173e-02  1.933e-02  2.641e+03  -1.641  0.10083\n",
       "sst_scaled:seasonsummer    -2.358e-01  1.821e-02  2.640e+03 -12.948  < 2e-16\n",
       "sst_scaled:seasonwinter     8.636e-02  2.094e-02  2.639e+03   4.124 3.84e-05\n",
       "                              \n",
       "(Intercept)                ** \n",
       "abslat_scaled              ***\n",
       "sst_scaled                 ***\n",
       "seasonspring                  \n",
       "seasonsummer               ***\n",
       "seasonwinter               ***\n",
       "abslat_scaled:sst_scaled      \n",
       "abslat_scaled:seasonspring    \n",
       "abslat_scaled:seasonsummer ***\n",
       "abslat_scaled:seasonwinter ***\n",
       "sst_scaled:seasonspring       \n",
       "sst_scaled:seasonsummer    ***\n",
       "sst_scaled:seasonwinter    ***\n",
       "---\n",
       "Signif. codes:  0 ‘***’ 0.001 ‘**’ 0.01 ‘*’ 0.05 ‘.’ 0.1 ‘ ’ 1"
      ]
     },
     "metadata": {},
     "output_type": "display_data"
    }
   ],
   "source": [
    "abslat_intense_re = lmer(\n",
    "   formula_abslat_re,\n",
    "    data=intenseMhwPerformance, \n",
    ")\n",
    "summary(abslat_intense_re)"
   ]
  },
  {
   "cell_type": "code",
   "execution_count": 431,
   "metadata": {},
   "outputs": [
    {
     "data": {
      "image/png": "[encoded data removed]",
      "text/plain": [
       "plot without title"
      ]
     },
     "metadata": {},
     "output_type": "display_data"
    },
    {
     "data": {
      "text/plain": [
       "$abslat_scaled\n",
       "\n",
       "$sst_scaled\n",
       "\n",
       "$season\n"
      ]
     },
     "metadata": {},
     "output_type": "display_data"
    },
    {
     "data": {
      "image/png": "[encoded data removed]",
      "text/plain": [
       "plot without title"
      ]
     },
     "metadata": {},
     "output_type": "display_data"
    },
    {
     "data": {
      "image/png": "[encoded data removed]",
      "text/plain": [
       "plot without title"
      ]
     },
     "metadata": {},
     "output_type": "display_data"
    }
   ],
   "source": [
    "plot_model(abslat_re, type='pred')"
   ]
  },
  {
   "cell_type": "code",
   "execution_count": 432,
   "metadata": {},
   "outputs": [
    {
     "data": {
      "image/png": "[encoded data removed]",
      "text/plain": [
       "plot without title"
      ]
     },
     "metadata": {},
     "output_type": "display_data"
    },
    {
     "data": {
      "text/plain": [
       "$abslat_scaled\n",
       "\n",
       "$sst_scaled\n",
       "\n",
       "$season\n"
      ]
     },
     "metadata": {},
     "output_type": "display_data"
    },
    {
     "data": {
      "image/png": "[encoded data removed]",
      "text/plain": [
       "plot without title"
      ]
     },
     "metadata": {},
     "output_type": "display_data"
    },
    {
     "data": {
      "image/png": "[encoded data removed]",
      "text/plain": [
       "plot without title"
      ]
     },
     "metadata": {},
     "output_type": "display_data"
    }
   ],
   "source": [
    "plot_model(abslat_intense_re, type='pred')"
   ]
  },
  {
   "cell_type": "markdown",
   "metadata": {},
   "source": [
    "## Produce Plots"
   ]
  },
  {
   "cell_type": "markdown",
   "metadata": {},
   "source": [
    "### Absolute Latitude\n",
    "\n",
    "**Coefficient Plots, Simple and Intense**"
   ]
  },
  {
   "cell_type": "code",
   "execution_count": 447,
   "metadata": {},
   "outputs": [
    {
     "name": "stderr",
     "output_type": "stream",
     "text": [
      "Scale for 'y' is already present. Adding another scale for 'y', which will\n",
      "replace the existing scale.\n",
      "Scale for 'y' is already present. Adding another scale for 'y', which will\n",
      "replace the existing scale.\n"
     ]
    },
    {
     "data": {
      "text/html": [
       "<strong>png:</strong> 2"
      ],
      "text/latex": [
       "\\textbf{png:} 2"
      ],
      "text/markdown": [
       "**png:** 2"
      ],
      "text/plain": [
       "png \n",
       "  2 "
      ]
     },
     "metadata": {},
     "output_type": "display_data"
    }
   ],
   "source": [
    "png(\"./abslat_compare_coefs_diff.png\", width=1440, height=950, res=180)\n",
    "y_limit = ylim(-1, 1)\n",
    "simple_coefs = plot_model(abslat_re, ci.lvl=NA,  show.values = TRUE, value.offset=.4) + y_limit + ggtitle(\"A) All MHWs\")\n",
    "intense_coefs = plot_model(abslat_intense_re,show.values = TRUE, value.offset=.4, ci.lvl=NA)+ y_limit + theme(axis.text.y = element_blank()) + ggtitle(\"B) Intense MHWs\")\n",
    "grid.arrange(simple_coefs, intense_coefs, nrow=1, widths=c(1.7, 1) )\n",
    "dev.off()"
   ]
  },
  {
   "cell_type": "markdown",
   "metadata": {},
   "source": [
    "**Coefficient Table**"
   ]
  },
  {
   "cell_type": "code",
   "execution_count": 448,
   "metadata": {},
   "outputs": [],
   "source": [
    "tab_model(\n",
    "    abslat_re, abslat_intense_re,\n",
    "    show.stat=TRUE, use.viewer=FALSE, \n",
    "    dv.labels=c(\"Performance Difference [all events]\", \"Performance Difference [intense events]\"), \n",
    "    file = \"abslat_coef_compare_table.html\"\n",
    ")"
   ]
  },
  {
   "cell_type": "markdown",
   "metadata": {},
   "source": [
    "**Predictions, All MHW**"
   ]
  },
  {
   "cell_type": "code",
   "execution_count": 449,
   "metadata": {},
   "outputs": [
    {
     "name": "stderr",
     "output_type": "stream",
     "text": [
      "Scale for 'y' is already present. Adding another scale for 'y', which will\n",
      "replace the existing scale.\n",
      "Scale for 'y' is already present. Adding another scale for 'y', which will\n",
      "replace the existing scale.\n"
     ]
    },
    {
     "data": {
      "text/html": [
       "<strong>png:</strong> 2"
      ],
      "text/latex": [
       "\\textbf{png:} 2"
      ],
      "text/markdown": [
       "**png:** 2"
      ],
      "text/plain": [
       "png \n",
       "  2 "
      ]
     },
     "metadata": {},
     "output_type": "display_data"
    }
   ],
   "source": [
    "png(\"./abslat_preds_preddiff.png\", width=1440, height=700, res=180)\n",
    "\n",
    "y_limit = ylim(-1, 1)\n",
    "\n",
    "seas = plot(ggeffect(abslat_re, terms='season')) + \n",
    "    baseline_hline + \n",
    "    xlab(\"Season\") +\n",
    "    ylab(\"Performance Difference\")  +\n",
    "    ggtitle(\"A) Season\") + \n",
    "    y_limit\n",
    "\n",
    "\n",
    "seaslat = plot(ggeffect(abslat_re, terms=c('abslat_scaled', 'season [summer, winter]'))) +\n",
    "    baseline_hline +\n",
    "    xlab(\"Absolute Latitude [scaled]\") +\n",
    "    ylab(\"Performance Difference\")  +\n",
    "    ggtitle(\"B) Latitude\") + \n",
    "    y_limit\n",
    "\n",
    "    \n",
    "\n",
    "grid.arrange(seas, seaslat, nrow=1, widths=c(1,1.3))\n",
    "dev.off()\n",
    "# seaslat"
   ]
  },
  {
   "cell_type": "markdown",
   "metadata": {},
   "source": [
    "**Predictions, Intense MHW**"
   ]
  },
  {
   "cell_type": "code",
   "execution_count": 450,
   "metadata": {},
   "outputs": [
    {
     "name": "stderr",
     "output_type": "stream",
     "text": [
      "Scale for 'y' is already present. Adding another scale for 'y', which will\n",
      "replace the existing scale.\n",
      "Scale for 'y' is already present. Adding another scale for 'y', which will\n",
      "replace the existing scale.\n"
     ]
    },
    {
     "data": {
      "text/html": [
       "<strong>png:</strong> 2"
      ],
      "text/latex": [
       "\\textbf{png:} 2"
      ],
      "text/markdown": [
       "**png:** 2"
      ],
      "text/plain": [
       "png \n",
       "  2 "
      ]
     },
     "metadata": {},
     "output_type": "display_data"
    }
   ],
   "source": [
    "png(\"./abslat_preds_intense_preddiff.png\", width=1440, height=700, res=180)\n",
    "\n",
    "y_limit = ylim(-1, 1)\n",
    "\n",
    "seas = plot(ggeffect(abslat_intense_re, terms='season')) + \n",
    "    baseline_hline + \n",
    "    xlab(\"Season\") +\n",
    "    ylab(\"Performance Difference\")  +\n",
    "    ggtitle(\"A) Season\") + \n",
    "    y_limit\n",
    "\n",
    "\n",
    "seaslat = plot(ggeffect(abslat_intense_re, terms=c('abslat_scaled', 'season [summer, winter]'))) +\n",
    "    baseline_hline +\n",
    "    xlab(\"Absolute Latitude [scaled]\") +\n",
    "    ylab(\"Performance Difference\")  +\n",
    "    ggtitle(\"B) Latitude\") + \n",
    "    y_limit\n",
    "\n",
    "    \n",
    "\n",
    "grid.arrange(seas, seaslat, nrow=1, widths=c(1,1.3))\n",
    "dev.off()\n",
    "# seaslat"
   ]
  },
  {
   "cell_type": "code",
   "execution_count": null,
   "metadata": {},
   "outputs": [],
   "source": []
  },
  {
   "cell_type": "markdown",
   "metadata": {},
   "source": [
    "### Regular Latitude"
   ]
  },
  {
   "cell_type": "markdown",
   "metadata": {},
   "source": [
    "**Coefficients**"
   ]
  },
  {
   "cell_type": "code",
   "execution_count": 437,
   "metadata": {},
   "outputs": [
    {
     "name": "stderr",
     "output_type": "stream",
     "text": [
      "Scale for 'y' is already present. Adding another scale for 'y', which will\n",
      "replace the existing scale.\n",
      "Scale for 'y' is already present. Adding another scale for 'y', which will\n",
      "replace the existing scale.\n",
      "Warning message:\n",
      "“Removed 1 rows containing missing values (geom_point).”Warning message:\n",
      "“Removed 1 rows containing missing values (geom_text).”Warning message:\n",
      "“Removed 1 rows containing missing values (geom_point).”Warning message:\n",
      "“Removed 1 rows containing missing values (geom_text).”"
     ]
    },
    {
     "data": {
      "text/html": [
       "<strong>png:</strong> 2"
      ],
      "text/latex": [
       "\\textbf{png:} 2"
      ],
      "text/markdown": [
       "**png:** 2"
      ],
      "text/plain": [
       "png \n",
       "  2 "
      ]
     },
     "metadata": {},
     "output_type": "display_data"
    }
   ],
   "source": [
    "png(\"./polylat_compare_coefs_diff.png\", width=1440, height=950, res=180)\n",
    "y_limit = ylim(-5.5,5.5)\n",
    "simple_coefs = plot_model(simple_re, ci.lvl=NA,  show.values = TRUE, value.offset=.4) + y_limit + ggtitle(\"A) All MHWs\")\n",
    "intense_coefs = plot_model(simple_intense_re,show.values = TRUE, value.offset=.4, ci.lvl=NA)+ y_limit + theme(axis.text.y = element_blank()) + ggtitle(\"B) Intense MHWs\")\n",
    "grid.arrange(simple_coefs, intense_coefs, nrow=1, widths=c(2, 1) )\n",
    "dev.off()"
   ]
  },
  {
   "cell_type": "markdown",
   "metadata": {},
   "source": [
    "**Coefficients Table**"
   ]
  },
  {
   "cell_type": "code",
   "execution_count": 438,
   "metadata": {},
   "outputs": [],
   "source": [
    "tab_model(\n",
    "    simple_re, simple_intense_re,\n",
    "    show.stat=TRUE, use.viewer=FALSE, \n",
    "    dv.labels=c(\"Performance Difference [all events]\", \"Performance Difference [intense events]\"), \n",
    "    file = \"polylat_coef_compare_table.html\"\n",
    ")"
   ]
  },
  {
   "cell_type": "markdown",
   "metadata": {},
   "source": [
    "**Predictions, all MHW**"
   ]
  },
  {
   "cell_type": "code",
   "execution_count": 446,
   "metadata": {},
   "outputs": [
    {
     "name": "stderr",
     "output_type": "stream",
     "text": [
      "Scale for 'y' is already present. Adding another scale for 'y', which will\n",
      "replace the existing scale.\n",
      "Scale for 'y' is already present. Adding another scale for 'y', which will\n",
      "replace the existing scale.\n",
      "Warning message:\n",
      "“Removed 2 row(s) containing missing values (geom_path).”"
     ]
    },
    {
     "data": {
      "text/html": [
       "<strong>png:</strong> 2"
      ],
      "text/latex": [
       "\\textbf{png:} 2"
      ],
      "text/markdown": [
       "**png:** 2"
      ],
      "text/plain": [
       "png \n",
       "  2 "
      ]
     },
     "metadata": {},
     "output_type": "display_data"
    }
   ],
   "source": [
    "png(\"./polylat_preds_preddiff.png\", width=1440, height=700, res=180)\n",
    "\n",
    " y_limit = ylim(-1, 1)\n",
    "\n",
    "seas = plot(ggeffect(simple_re, terms='season')) + \n",
    "    baseline_hline + \n",
    "    xlab(\"Season\") +\n",
    "    ylab(\"Performance Difference\")  +\n",
    "    ggtitle(\"A) Season\") + \n",
    "    y_limit\n",
    "\n",
    "\n",
    "seaslat = plot(ggeffect(simple_re, terms=c('lat_scaled', 'season [summer, winter]'))) +\n",
    "    baseline_hline +\n",
    "    xlab(\"Latitude [scaled]\") +\n",
    "    ylab(\"Performance Difference\")  +\n",
    "    ggtitle(\"B) Latitude\") + \n",
    "    y_limit\n",
    "    \n",
    "\n",
    "grid.arrange(seas, seaslat, nrow=1, widths=c(1,1.3))\n",
    "dev.off()\n",
    "# seaslat"
   ]
  },
  {
   "cell_type": "markdown",
   "metadata": {},
   "source": [
    "**Predictions, Intense MHW**"
   ]
  },
  {
   "cell_type": "code",
   "execution_count": 440,
   "metadata": {},
   "outputs": [
    {
     "name": "stderr",
     "output_type": "stream",
     "text": [
      "Scale for 'y' is already present. Adding another scale for 'y', which will\n",
      "replace the existing scale.\n",
      "Scale for 'y' is already present. Adding another scale for 'y', which will\n",
      "replace the existing scale.\n",
      "Warning message:\n",
      "“Removed 5 row(s) containing missing values (geom_path).”"
     ]
    },
    {
     "data": {
      "text/html": [
       "<strong>png:</strong> 2"
      ],
      "text/latex": [
       "\\textbf{png:} 2"
      ],
      "text/markdown": [
       "**png:** 2"
      ],
      "text/plain": [
       "png \n",
       "  2 "
      ]
     },
     "metadata": {},
     "output_type": "display_data"
    }
   ],
   "source": [
    "png(\"./polylat_preds_intense_preddiff.png\", width=1440, height=700, res=180)\n",
    "\n",
    "seas = plot(ggeffect(simple_intense_re, terms='season')) + \n",
    "    baseline_hline + \n",
    "    xlab(\"Season\") +\n",
    "    ylab(\"Performance Difference\")  +\n",
    "    ggtitle(\"A) Season\") + \n",
    "    ylim(-0.5, 0.5)\n",
    "\n",
    "\n",
    "\n",
    "seaslat = plot(ggeffect(simple_intense_re, terms=c('lat_scaled', 'season [summer, winter]'))) +\n",
    "    baseline_hline +\n",
    "    xlab(\"Latitude [scaled]\") +\n",
    "    ylab(\"Performance Difference\")  +\n",
    "    ggtitle(\"B) Latitude\") + \n",
    "    ylim(-0.5, 0.5)\n",
    "\n",
    "    \n",
    "\n",
    "grid.arrange(seas, seaslat, nrow=1, widths=c(1,1.3))\n",
    "dev.off()\n",
    "# seaslat"
   ]
  },
  {
   "cell_type": "markdown",
   "metadata": {},
   "source": [
    "## Individual Models per Season"
   ]
  },
  {
   "cell_type": "code",
   "execution_count": 453,
   "metadata": {},
   "outputs": [],
   "source": [
    "winter_only = mhwPerformance %>% filter(season == \"winter\")\n",
    "winter_re = lmer(performance_diff_mean ~ (abslat + sst_scaled)^2 + (1 | isolate), data=winter_only, )"
   ]
  },
  {
   "cell_type": "code",
   "execution_count": 454,
   "metadata": {},
   "outputs": [
    {
     "data": {
      "text/plain": [
       "Linear mixed model fit by REML. t-tests use Satterthwaite's method [\n",
       "lmerModLmerTest]\n",
       "Formula: performance_diff_mean ~ (abslat + sst_scaled)^2 + (1 | isolate)\n",
       "   Data: winter_only\n",
       "\n",
       "REML criterion at convergence: -3908.4\n",
       "\n",
       "Scaled residuals: \n",
       "    Min      1Q  Median      3Q     Max \n",
       "-5.8243 -0.3722  0.0080  0.3138  5.2430 \n",
       "\n",
       "Random effects:\n",
       " Groups   Name        Variance Std.Dev.\n",
       " isolate  (Intercept) 0.021913 0.14803 \n",
       " Residual             0.001287 0.03588 \n",
       "Number of obs: 1141, groups:  isolate, 75\n",
       "\n",
       "Fixed effects:\n",
       "                    Estimate Std. Error         df t value Pr(>|t|)    \n",
       "(Intercept)       -8.181e-04  4.816e-02  1.777e+02  -0.017 0.986466    \n",
       "abslat             5.187e-03  1.407e-03  1.697e+02   3.687 0.000306 ***\n",
       "sst_scaled        -4.865e-02  3.358e-02  3.815e+02  -1.449 0.148191    \n",
       "abslat:sst_scaled  2.736e-03  7.421e-04  1.272e+02   3.687 0.000335 ***\n",
       "---\n",
       "Signif. codes:  0 ‘***’ 0.001 ‘**’ 0.01 ‘*’ 0.05 ‘.’ 0.1 ‘ ’ 1\n",
       "\n",
       "Correlation of Fixed Effects:\n",
       "            (Intr) abslat sst_sc\n",
       "abslat      -0.904              \n",
       "sst_scaled  -0.481  0.303       \n",
       "abslt:sst_s  0.118  0.129 -0.814"
      ]
     },
     "metadata": {},
     "output_type": "display_data"
    }
   ],
   "source": [
    "summary(winter_re)"
   ]
  },
  {
   "cell_type": "code",
   "execution_count": 452,
   "metadata": {},
   "outputs": [
    {
     "data": {
      "text/plain": [
       "Linear mixed model fit by REML. t-tests use Satterthwaite's method [\n",
       "lmerModLmerTest]\n",
       "Formula: performance_diff_mean ~ (abslat + sst_scaled)^2 + (1 | isolate)\n",
       "   Data: summer_only\n",
       "\n",
       "REML criterion at convergence: -4375.4\n",
       "\n",
       "Scaled residuals: \n",
       "    Min      1Q  Median      3Q     Max \n",
       "-7.0612 -0.3711 -0.0288  0.3465  6.4595 \n",
       "\n",
       "Random effects:\n",
       " Groups   Name        Variance Std.Dev.\n",
       " isolate  (Intercept) 0.032416 0.18004 \n",
       " Residual             0.005367 0.07326 \n",
       "Number of obs: 2003, groups:  isolate, 75\n",
       "\n",
       "Fixed effects:\n",
       "                    Estimate Std. Error         df t value Pr(>|t|)   \n",
       "(Intercept)       -1.818e-01  5.825e-02  1.716e+02  -3.121  0.00212 **\n",
       "abslat             3.439e-03  1.692e-03  1.675e+02   2.033  0.04362 * \n",
       "sst_scaled         1.080e-01  4.239e-02  2.940e+02   2.548  0.01133 * \n",
       "abslat:sst_scaled -2.160e-03  9.399e-04  1.075e+02  -2.298  0.02349 * \n",
       "---\n",
       "Signif. codes:  0 ‘***’ 0.001 ‘**’ 0.01 ‘*’ 0.05 ‘.’ 0.1 ‘ ’ 1\n",
       "\n",
       "Correlation of Fixed Effects:\n",
       "            (Intr) abslat sst_sc\n",
       "abslat      -0.900              \n",
       "sst_scaled  -0.481  0.290       \n",
       "abslt:sst_s  0.150  0.108 -0.837"
      ]
     },
     "metadata": {},
     "output_type": "display_data"
    }
   ],
   "source": [
    "summer_only = mhwPerformance %>% filter(season == \"summer\")\n",
    "summer_re = lmer(performance_diff_mean ~ (abslat + sst_scaled)^2 + (1 | isolate), data=summer_only, )\n",
    "summary(summer_re)"
   ]
  },
  {
   "cell_type": "code",
   "execution_count": 451,
   "metadata": {},
   "outputs": [
    {
     "data": {
      "text/plain": [
       "Linear mixed model fit by REML. t-tests use Satterthwaite's method [\n",
       "lmerModLmerTest]\n",
       "Formula: performance_diff_mean ~ (abslat + sst_scaled)^2 + (1 | isolate)\n",
       "   Data: spring_only\n",
       "\n",
       "REML criterion at convergence: -2613.3\n",
       "\n",
       "Scaled residuals: \n",
       "    Min      1Q  Median      3Q     Max \n",
       "-7.3284 -0.2555  0.0049  0.2718  6.8615 \n",
       "\n",
       "Random effects:\n",
       " Groups   Name        Variance Std.Dev.\n",
       " isolate  (Intercept) 0.018823 0.1372  \n",
       " Residual             0.006773 0.0823  \n",
       "Number of obs: 1363, groups:  isolate, 75\n",
       "\n",
       "Fixed effects:\n",
       "                    Estimate Std. Error         df t value Pr(>|t|)  \n",
       "(Intercept)       -2.208e-02  6.034e-02  1.766e+02  -0.366   0.7149  \n",
       "abslat             3.918e-03  1.734e-03  1.652e+02   2.259   0.0252 *\n",
       "sst_scaled        -1.478e-02  4.590e-02  2.218e+02  -0.322   0.7478  \n",
       "abslat:sst_scaled  1.244e-03  7.886e-04  9.408e+01   1.577   0.1182  \n",
       "---\n",
       "Signif. codes:  0 ‘***’ 0.001 ‘**’ 0.01 ‘*’ 0.05 ‘.’ 0.1 ‘ ’ 1\n",
       "\n",
       "Correlation of Fixed Effects:\n",
       "            (Intr) abslat sst_sc\n",
       "abslat      -0.942              \n",
       "sst_scaled  -0.713  0.596       \n",
       "abslt:sst_s  0.284 -0.085 -0.778"
      ]
     },
     "metadata": {},
     "output_type": "display_data"
    }
   ],
   "source": [
    "spring_only = mhwPerformance %>% filter(season == \"spring\")\n",
    "spring_re = lmer(performance_diff_mean ~ (abslat + sst_scaled)^2 + (1 | isolate), data=spring_only, )\n",
    "summary(spring_re)"
   ]
  },
  {
   "cell_type": "code",
   "execution_count": 461,
   "metadata": {},
   "outputs": [
    {
     "data": {
      "text/plain": [
       "Linear mixed model fit by REML. t-tests use Satterthwaite's method [\n",
       "lmerModLmerTest]\n",
       "Formula: performance_diff_mean ~ (abslat + sst_scaled)^2 + (1 | isolate)\n",
       "   Data: fall_only\n",
       "\n",
       "REML criterion at convergence: -2220.3\n",
       "\n",
       "Scaled residuals: \n",
       "    Min      1Q  Median      3Q     Max \n",
       "-7.8919 -0.3296  0.0008  0.3554  5.4018 \n",
       "\n",
       "Random effects:\n",
       " Groups   Name        Variance Std.Dev.\n",
       " isolate  (Intercept) 0.016241 0.12744 \n",
       " Residual             0.002272 0.04767 \n",
       "Number of obs: 792, groups:  isolate, 75\n",
       "\n",
       "Fixed effects:\n",
       "                    Estimate Std. Error         df t value Pr(>|t|)  \n",
       "(Intercept)       -2.539e-02  5.468e-02  1.862e+02  -0.464   0.6430  \n",
       "abslat             3.258e-03  1.577e-03  1.740e+02   2.066   0.0403 *\n",
       "sst_scaled        -2.935e-02  4.141e-02  2.373e+02  -0.709   0.4792  \n",
       "abslat:sst_scaled  1.216e-03  7.236e-04  9.740e+01   1.680   0.0962 .\n",
       "---\n",
       "Signif. codes:  0 ‘***’ 0.001 ‘**’ 0.01 ‘*’ 0.05 ‘.’ 0.1 ‘ ’ 1\n",
       "\n",
       "Correlation of Fixed Effects:\n",
       "            (Intr) abslat sst_sc\n",
       "abslat      -0.940              \n",
       "sst_scaled  -0.701  0.580       \n",
       "abslt:sst_s  0.270 -0.068 -0.777"
      ]
     },
     "metadata": {},
     "output_type": "display_data"
    }
   ],
   "source": [
    "fall_only = mhwPerformance %>% filter(season == \"fall\")\n",
    "fall_re = lmer(performance_diff_mean ~ (abslat + sst_scaled)^2 + (1 | isolate), data=fall_only, )\n",
    "summary(fall_re)"
   ]
  },
  {
   "cell_type": "code",
   "execution_count": 463,
   "metadata": {},
   "outputs": [],
   "source": [
    "tab_model(\n",
    "    winter_re,\n",
    "    spring_re,\n",
    "    summer_re,\n",
    "    fall_re,  \n",
    "    show.stat=TRUE,\n",
    "    use.viewer=FALSE, \n",
    "    dv.labels=c(\"Winter Only\", \"Spring Only\", \"Summer Only\", \"Autumn Only\"), \n",
    "    file = \"compare_season_models.html\"\n",
    ")"
   ]
  },
  {
   "cell_type": "code",
   "execution_count": null,
   "metadata": {},
   "outputs": [],
   "source": []
  }
 ],
 "metadata": {
  "kernelspec": {
   "display_name": "R [conda env:R]",
   "language": "R",
   "name": "conda-env-R-r"
  },
  "language_info": {
   "codemirror_mode": "r",
   "file_extension": ".r",
   "mimetype": "text/x-r-source",
   "name": "R",
   "pygments_lexer": "r",
   "version": "3.6.1"
  }
 },
 "nbformat": 4,
 "nbformat_minor": 4
}
