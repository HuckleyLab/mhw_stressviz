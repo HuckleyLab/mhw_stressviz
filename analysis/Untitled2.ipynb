{
 "cells": [
  {
   "cell_type": "code",
   "execution_count": 1,
   "metadata": {},
   "outputs": [
    {
     "name": "stderr",
     "output_type": "stream",
     "text": [
      "Loading required package: Matrix\n",
      "\n",
      "Attaching package: ‘nlme’\n",
      "\n",
      "The following object is masked from ‘package:lme4’:\n",
      "\n",
      "    lmList\n",
      "\n",
      "Loading required package: MASS\n",
      "\n",
      "arm (Version 1.11-1, built: 2020-4-27)\n",
      "\n",
      "Working directory is /home/ec2-user/mhw_stressviz/analysis\n",
      "\n",
      "Warning message in checkConv(attr(opt, \"derivs\"), opt$par, ctrl = control$checkConv, :\n",
      "“Model failed to converge with max|grad| = 0.00267151 (tol = 0.002, component 1)”"
     ]
    }
   ],
   "source": [
    "\n",
    "#load the libraries\n",
    "library(lme4)\n",
    "library(nlme)\n",
    "library(arm)\n",
    "library(RCurl)#to directly download the rikz dataset\n",
    "\n",
    "########################\n",
    "# part 0 fitting GLMM #\n",
    " #  #  #  #  #  #  # \n",
    "\n",
    "#the example dataset we will use\n",
    "rikz_link<-getURL(\"https://raw.githubusercontent.com/ranalytics/r-tutorials/master/Edition_2015/Data/RIKZ.txt\")\n",
    "data<-read.table(textConnection(rikz_link),head=TRUE,sep=\"\\t\",stringsAsFactors = FALSE)\n",
    "#first a random intercept model\n",
    "mod_lme1<-lme(Richness~NAP,data=data,random=~1|Beach)\n",
    "mod_lmer1<-lmer(Richness~NAP+(1|Beach),data=data)\n",
    "#then a random slope plus intercept model\n",
    "# mod_lme2<-lme(Richness~NAP,data=data,random=NAP|Beach)\n",
    "mod_lmer2<-lmer(Richness~NAP+(NAP|Beach),data=data)\n",
    "# #Poisson model\n",
    "# mod_glmer1<-glmer(Richness~NAP+(1|Beach),data=data,family=\"poisson\")\n",
    "# #nested and crossed random effect??"
   ]
  },
  {
   "cell_type": "code",
   "execution_count": 24,
   "metadata": {},
   "outputs": [],
   "source": [
    "#factor variable with intercept only effect\n",
    "#simulate data in a fixed effect way\n",
    "x<-rnorm(120,0,1)\n",
    "f<-gl(n=6,k=20)\n",
    "modmat<-model.matrix(~x+f,data.frame(x=x,f=f))\n",
    "betas<-c(1,2,0.3,-3,0.5,1.2,0.8)\n",
    "y<-modmat%*%betas+rnorm(120,0,1)\n",
    "\n",
    "#the fixed effect model\n",
    "m_lm<-lm(y~x+f)\n",
    "#the mixed effect model\n",
    "m_lme<-lme(y~x,random=~1|f)"
   ]
  },
  {
   "cell_type": "code",
   "execution_count": 31,
   "metadata": {},
   "outputs": [
    {
     "data": {
      "text/plain": [
       "Linear mixed-effects model fit by REML\n",
       "  Data: data \n",
       "  Log-restricted-likelihood: -119.7401\n",
       "  Fixed: Richness ~ NAP \n",
       "(Intercept)         NAP \n",
       "   6.581893   -2.568400 \n",
       "\n",
       "Random effects:\n",
       " Formula: ~1 | Beach\n",
       "        (Intercept) Residual\n",
       "StdDev:    2.944065  3.05977\n",
       "\n",
       "Number of Observations: 45\n",
       "Number of Groups: 9 "
      ]
     },
     "metadata": {},
     "output_type": "display_data"
    }
   ],
   "source": [
    "mod_lme1"
   ]
  },
  {
   "cell_type": "code",
   "execution_count": 32,
   "metadata": {},
   "outputs": [
    {
     "data": {
      "text/html": [
       "<table>\n",
       "<thead><tr><th></th><th scope=col>call</th><th scope=col>Model</th><th scope=col>df</th><th scope=col>AIC</th><th scope=col>BIC</th><th scope=col>logLik</th><th scope=col>Test</th><th scope=col>L.Ratio</th><th scope=col>p-value</th></tr></thead>\n",
       "<tbody>\n",
       "\t<tr><th scope=row>mod1</th><td>lme.formula(fixed = Richness ~ NAP + Exposure, data = data, random = ~1 |     Beach, method = \"REML\")</td><td>1                                                                                                    </td><td>5                                                                                                    </td><td>235.5282                                                                                             </td><td>244.2166                                                                                             </td><td>-112.7641                                                                                            </td><td>                                                                                                     </td><td>        NA                                                                                           </td><td>       NA                                                                                            </td></tr>\n",
       "\t<tr><th scope=row>mod2</th><td>gls(model = Richness ~ NAP + Exposure, data = data, method = \"REML\")                                 </td><td>2                                                                                                    </td><td>4                                                                                                    </td><td>233.6073                                                                                             </td><td>240.5580                                                                                             </td><td>-112.8037                                                                                            </td><td>1 vs 2                                                                                               </td><td>0.07912225                                                                                           </td><td>0.7784904                                                                                            </td></tr>\n",
       "</tbody>\n",
       "</table>\n"
      ],
      "text/latex": [
       "\\begin{tabular}{r|lllllllll}\n",
       "  & call & Model & df & AIC & BIC & logLik & Test & L.Ratio & p-value\\\\\n",
       "\\hline\n",
       "\tmod1 & lme.formula(fixed = Richness \\textasciitilde{} NAP + Exposure, data = data, random = \\textasciitilde{}1 \\textbar{}     Beach, method = \"REML\") & 1                                                                                                                                                 & 5                                                                                                                                                 & 235.5282                                                                                                                                          & 244.2166                                                                                                                                          & -112.7641                                                                                                                                         &                                                                                                                                                   &         NA                                                                                                                                        &        NA                                                                                                                                        \\\\\n",
       "\tmod2 & gls(model = Richness \\textasciitilde{} NAP + Exposure, data = data, method = \"REML\")                                  & 2                                                                                                                      & 4                                                                                                                      & 233.6073                                                                                                               & 240.5580                                                                                                               & -112.8037                                                                                                              & 1 vs 2                                                                                                                 & 0.07912225                                                                                                             & 0.7784904                                                                                                             \\\\\n",
       "\\end{tabular}\n"
      ],
      "text/markdown": [
       "\n",
       "| <!--/--> | call | Model | df | AIC | BIC | logLik | Test | L.Ratio | p-value |\n",
       "|---|---|---|---|---|---|---|---|---|---|\n",
       "| mod1 | lme.formula(fixed = Richness ~ NAP + Exposure, data = data, random = ~1 |     Beach, method = \"REML\") | 1                                                                                                     | 5                                                                                                     | 235.5282                                                                                              | 244.2166                                                                                              | -112.7641                                                                                             |                                                                                                       |         NA                                                                                            |        NA                                                                                             |\n",
       "| mod2 | gls(model = Richness ~ NAP + Exposure, data = data, method = \"REML\")                                  | 2                                                                                                     | 4                                                                                                     | 233.6073                                                                                              | 240.5580                                                                                              | -112.8037                                                                                             | 1 vs 2                                                                                                | 0.07912225                                                                                            | 0.7784904                                                                                             |\n",
       "\n"
      ],
      "text/plain": [
       "     call                                                                                                 \n",
       "mod1 lme.formula(fixed = Richness ~ NAP + Exposure, data = data, random = ~1 |     Beach, method = \"REML\")\n",
       "mod2 gls(model = Richness ~ NAP + Exposure, data = data, method = \"REML\")                                 \n",
       "     Model df AIC      BIC      logLik    Test   L.Ratio    p-value  \n",
       "mod1 1     5  235.5282 244.2166 -112.7641                NA        NA\n",
       "mod2 2     4  233.6073 240.5580 -112.8037 1 vs 2 0.07912225 0.7784904"
      ]
     },
     "metadata": {},
     "output_type": "display_data"
    },
    {
     "data": {
      "text/html": [
       "0.342657342657343"
      ],
      "text/latex": [
       "0.342657342657343"
      ],
      "text/markdown": [
       "0.342657342657343"
      ],
      "text/plain": [
       "[1] 0.3426573"
      ]
     },
     "metadata": {},
     "output_type": "display_data"
    }
   ],
   "source": [
    "#testing the random effect\n",
    "#a first model\n",
    "mod1<-lme(Richness~NAP+Exposure,data=data,random=~1|Beach,method=\"REML\")\n",
    "#a second model without the random term, gls is used because it also fit the model through REML\n",
    "mod2<-gls(Richness~NAP+Exposure,data=data,method=\"REML\")\n",
    "#likelihood ratio test, not very precise for low sample size\n",
    "anova(mod1,mod2)\n",
    "\n",
    "# parameteric bootstrap\n",
    "lrt.obs <- anova(mod1, mod2)$L.Ratio[2] # save the observed likelihood ratio test statistic\n",
    "n.sim <- 1000  # use 1000 for a real data analysis\n",
    "lrt.sim <- numeric(n.sim)\n",
    "dattemp <- data\n",
    "for(i in 1:n.sim){\n",
    "  dattemp$ysim <- simulate(lm(Richness ~ NAP+Exposure, data=dattemp))$sim_1 # simulate new observations from the null-model\n",
    "  modnullsim <- gls(ysim ~ NAP+Exposure, data=dattemp)   # fit the null-model\n",
    "  modaltsim <-lme(ysim ~ NAP+Exposure, random=~1|Beach, data=dattemp)  # fit the alternative model\n",
    "  lrt.sim[i] <- anova(modnullsim, modaltsim)$L.Ratio[2] # save the likelihood ratio test statistic\n",
    "}\n",
    "\n",
    "(sum(lrt.sim>=lrt.obs)+1)/(n.sim+1)  # p-value\n"
   ]
  },
  {
   "cell_type": "code",
   "execution_count": 33,
   "metadata": {},
   "outputs": [
    {
     "data": {
      "text/html": [
       "<table>\n",
       "<thead><tr><th></th><th scope=col>call</th><th scope=col>Model</th><th scope=col>df</th><th scope=col>AIC</th><th scope=col>BIC</th><th scope=col>logLik</th><th scope=col>Test</th><th scope=col>L.Ratio</th><th scope=col>p-value</th></tr></thead>\n",
       "<tbody>\n",
       "\t<tr><th scope=row>mod1</th><td>lme.formula(fixed = Richness ~ NAP + Exposure, data = data, random = ~1 |     Beach, method = \"REML\")</td><td>1                                                                                                    </td><td>5                                                                                                    </td><td>235.5282                                                                                             </td><td>244.2166                                                                                             </td><td>-112.7641                                                                                            </td><td>                                                                                                     </td><td>        NA                                                                                           </td><td>       NA                                                                                            </td></tr>\n",
       "\t<tr><th scope=row>mod2</th><td>gls(model = Richness ~ NAP + Exposure, data = data, method = \"REML\")                                 </td><td>2                                                                                                    </td><td>4                                                                                                    </td><td>233.6073                                                                                             </td><td>240.5580                                                                                             </td><td>-112.8037                                                                                            </td><td>1 vs 2                                                                                               </td><td>0.07912225                                                                                           </td><td>0.7784904                                                                                            </td></tr>\n",
       "</tbody>\n",
       "</table>\n"
      ],
      "text/latex": [
       "\\begin{tabular}{r|lllllllll}\n",
       "  & call & Model & df & AIC & BIC & logLik & Test & L.Ratio & p-value\\\\\n",
       "\\hline\n",
       "\tmod1 & lme.formula(fixed = Richness \\textasciitilde{} NAP + Exposure, data = data, random = \\textasciitilde{}1 \\textbar{}     Beach, method = \"REML\") & 1                                                                                                                                                 & 5                                                                                                                                                 & 235.5282                                                                                                                                          & 244.2166                                                                                                                                          & -112.7641                                                                                                                                         &                                                                                                                                                   &         NA                                                                                                                                        &        NA                                                                                                                                        \\\\\n",
       "\tmod2 & gls(model = Richness \\textasciitilde{} NAP + Exposure, data = data, method = \"REML\")                                  & 2                                                                                                                      & 4                                                                                                                      & 233.6073                                                                                                               & 240.5580                                                                                                               & -112.8037                                                                                                              & 1 vs 2                                                                                                                 & 0.07912225                                                                                                             & 0.7784904                                                                                                             \\\\\n",
       "\\end{tabular}\n"
      ],
      "text/markdown": [
       "\n",
       "| <!--/--> | call | Model | df | AIC | BIC | logLik | Test | L.Ratio | p-value |\n",
       "|---|---|---|---|---|---|---|---|---|---|\n",
       "| mod1 | lme.formula(fixed = Richness ~ NAP + Exposure, data = data, random = ~1 |     Beach, method = \"REML\") | 1                                                                                                     | 5                                                                                                     | 235.5282                                                                                              | 244.2166                                                                                              | -112.7641                                                                                             |                                                                                                       |         NA                                                                                            |        NA                                                                                             |\n",
       "| mod2 | gls(model = Richness ~ NAP + Exposure, data = data, method = \"REML\")                                  | 2                                                                                                     | 4                                                                                                     | 233.6073                                                                                              | 240.5580                                                                                              | -112.8037                                                                                             | 1 vs 2                                                                                                | 0.07912225                                                                                            | 0.7784904                                                                                             |\n",
       "\n"
      ],
      "text/plain": [
       "     call                                                                                                 \n",
       "mod1 lme.formula(fixed = Richness ~ NAP + Exposure, data = data, random = ~1 |     Beach, method = \"REML\")\n",
       "mod2 gls(model = Richness ~ NAP + Exposure, data = data, method = \"REML\")                                 \n",
       "     Model df AIC      BIC      logLik    Test   L.Ratio    p-value  \n",
       "mod1 1     5  235.5282 244.2166 -112.7641                NA        NA\n",
       "mod2 2     4  233.6073 240.5580 -112.8037 1 vs 2 0.07912225 0.7784904"
      ]
     },
     "metadata": {},
     "output_type": "display_data"
    }
   ],
   "source": [
    "#testing the random effect\n",
    "#a first model\n",
    "mod1<-lme(Richness~NAP+Exposure,data=data,random=~1|Beach,method=\"REML\")\n",
    "#a second model without the random term, gls is used because it also fit the model through REML\n",
    "mod2<-gls(Richness~NAP+Exposure,data=data,method=\"REML\")\n",
    "#likelihood ratio test, not very precise for low sample size\n",
    "anova(mod1,mod2)"
   ]
  },
  {
   "cell_type": "code",
   "execution_count": 34,
   "metadata": {},
   "outputs": [
    {
     "data": {
      "image/png": "[encoded data removed]",
      "text/plain": [
       "Plot with title “Histogram of lrt.sim”"
      ]
     },
     "metadata": {},
     "output_type": "display_data"
    }
   ],
   "source": [
    "#plot\n",
    "par(mfrow=c(1,1))\n",
    "hist(lrt.sim, xlim=c(0, max(c(lrt.sim, lrt.obs))), col=\"blue\", xlab=\"likelihood ratio test statistic\", ylab=\"density\", cex.lab=1.5, cex.axis=1.2)\n",
    "abline(v=lrt.obs, col=\"orange\", lwd=3)"
   ]
  },
  {
   "cell_type": "code",
   "execution_count": null,
   "metadata": {},
   "outputs": [],
   "source": []
  }
 ],
 "metadata": {
  "kernelspec": {
   "display_name": "R [conda env:R]",
   "language": "R",
   "name": "conda-env-R-r"
  },
  "language_info": {
   "codemirror_mode": "r",
   "file_extension": ".r",
   "mimetype": "text/x-r-source",
   "name": "R",
   "pygments_lexer": "r",
   "version": "3.6.1"
  }
 },
 "nbformat": 4,
 "nbformat_minor": 4
}
