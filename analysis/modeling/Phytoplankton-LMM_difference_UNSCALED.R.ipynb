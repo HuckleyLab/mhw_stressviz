{
 "cells": [
  {
   "cell_type": "code",
   "execution_count": 1,
   "metadata": {},
   "outputs": [
    {
     "name": "stderr",
     "output_type": "stream",
     "text": [
      "Loading required package: lme4\n",
      "Loading required package: Matrix\n",
      "\n",
      "Attaching package: ‘lmerTest’\n",
      "\n",
      "The following object is masked from ‘package:lme4’:\n",
      "\n",
      "    lmer\n",
      "\n",
      "The following object is masked from ‘package:stats’:\n",
      "\n",
      "    step\n",
      "\n",
      "\n",
      "Attaching package: ‘dplyr’\n",
      "\n",
      "The following objects are masked from ‘package:stats’:\n",
      "\n",
      "    filter, lag\n",
      "\n",
      "The following objects are masked from ‘package:base’:\n",
      "\n",
      "    intersect, setdiff, setequal, union\n",
      "\n",
      "\n",
      "Attaching package: ‘tidyr’\n",
      "\n",
      "The following objects are masked from ‘package:Matrix’:\n",
      "\n",
      "    expand, pack, unpack\n",
      "\n",
      "Loading required package: carData\n",
      "Registered S3 methods overwritten by 'car':\n",
      "  method                          from\n",
      "  influence.merMod                lme4\n",
      "  cooks.distance.influence.merMod lme4\n",
      "  dfbeta.influence.merMod         lme4\n",
      "  dfbetas.influence.merMod        lme4\n",
      "\n",
      "Attaching package: ‘car’\n",
      "\n",
      "The following object is masked from ‘package:dplyr’:\n",
      "\n",
      "    recode\n",
      "\n",
      "\n",
      "Attaching package: ‘gridExtra’\n",
      "\n",
      "The following object is masked from ‘package:dplyr’:\n",
      "\n",
      "    combine\n",
      "\n"
     ]
    }
   ],
   "source": [
    "suppressWarnings({\n",
    "    library(lmerTest)\n",
    "    library(lme4)\n",
    "    library(ggplot2)\n",
    "    library(dplyr)\n",
    "    library(tidyr)\n",
    "    library(sjPlot)\n",
    "    library(IRdisplay)\n",
    "    library(car)\n",
    "    library(ggeffects)\n",
    "    library(gridExtra)\n",
    "    library(repr)\n",
    "    \n",
    "})\n",
    "options(repr.plot.width=4, repr.plot.height=3)"
   ]
  },
  {
   "cell_type": "markdown",
   "metadata": {},
   "source": [
    "# Investigating MHWs + Phytoplankton Performance Response via LMMs\n",
    "\n",
    "Tony Cannistra, May 2020\n",
    "\n",
    "**Purpose**: To experiment with linear mixed effects models to examine whether a significant relationship exists between latitude, yearly mean sea surface temperature, and performance ratio during marine heatwave events. \n",
    "\n",
    "**Method**: Build a linear mixed model of performance ratio with the following effects: \n",
    "\n",
    "*Fixed*: \n",
    "* Second-degree polynomial of Latitude *(perhaps also abs(lat))*\n",
    "* mean_sst_event_year_local\n",
    "* season\n",
    "* *interaction terms*\n",
    "\n",
    "\n",
    "*Random*:\n",
    "* phytoplankton isolate\n",
    "\n",
    "\n",
    "Perhaps season should be a fixed effect, especially since it likely does have control over the direction + shape of the curve. \n",
    "\n",
    "## Data\n",
    "\n",
    "We compute individual isolate performance for all local heatwaves in [this notebook](../Individual_Isolate_performance.ipynb), and use these data below. "
   ]
  },
  {
   "cell_type": "code",
   "execution_count": 2,
   "metadata": {},
   "outputs": [
    {
     "data": {
      "text/html": [
       "<table>\n",
       "<thead><tr><th scope=col>X</th><th scope=col>lat</th><th scope=col>lon</th><th scope=col>isolate</th><th scope=col>mhw</th><th scope=col>detriment_sum</th><th scope=col>relative_detriment_mean</th><th scope=col>detriment_mean</th><th scope=col>performance_diff_mean</th><th scope=col>performance_diff_unscaled_mean</th><th scope=col>...</th><th scope=col>intensity_mean</th><th scope=col>duration</th><th scope=col>start_doy</th><th scope=col>peak_doy</th><th scope=col>current_year_sst_mean</th><th scope=col>start_date</th><th scope=col>peak_date</th><th scope=col>perf_det_ratio</th><th scope=col>latbin</th><th scope=col>doy_bins</th></tr></thead>\n",
       "<tbody>\n",
       "\t<tr><td>0                </td><td>-74.875          </td><td>164.625          </td><td>1                </td><td> 4               </td><td> 3.433027        </td><td>1.303966         </td><td>0.4291283        </td><td>0.23719293       </td><td>0.078058928      </td><td>...              </td><td>1.2978105        </td><td> 9               </td><td>  1              </td><td>  1              </td><td>-1.202301        </td><td>1986-12-31       </td><td>5.364576e+17     </td><td>0.8461350        </td><td>(-75.026, -59.75]</td><td>(0.639, 91.25]   </td></tr>\n",
       "\t<tr><td>1                </td><td>-74.875          </td><td>164.625          </td><td>1                </td><td> 5               </td><td> 6.265167        </td><td>1.269172         </td><td>0.4176778        </td><td>0.28725032       </td><td>0.094532547      </td><td>...              </td><td>1.5283193        </td><td>16               </td><td> 21              </td><td> 32              </td><td>-1.103370        </td><td>1987-01-21       </td><td>5.391360e+17     </td><td>0.8156109        </td><td>(-75.026, -59.75]</td><td>(0.639, 91.25]   </td></tr>\n",
       "\t<tr><td>2                </td><td>-74.875          </td><td>164.625          </td><td>1                </td><td>11               </td><td> 9.585366        </td><td>1.713322         </td><td>0.5638451        </td><td>0.03568606       </td><td>0.011744091      </td><td>...              </td><td>0.1877301        </td><td>18               </td><td>232              </td><td>244              </td><td>-1.168743        </td><td>1988-08-19       </td><td>5.889888e+17     </td><td>0.9795979        </td><td>(-75.026, -59.75]</td><td>(181.5, 271.75]  </td></tr>\n",
       "\t<tr><td>3                </td><td>-74.875          </td><td>164.625          </td><td>1                </td><td>14               </td><td>10.139295        </td><td>1.711648         </td><td>0.5632942        </td><td>0.03325621       </td><td>0.010944441      </td><td>...              </td><td>0.1741022        </td><td>19               </td><td>196              </td><td>201              </td><td>-1.181397        </td><td>1989-07-15       </td><td>6.168960e+17     </td><td>0.9809409        </td><td>(-75.026, -59.75]</td><td>(181.5, 271.75]  </td></tr>\n",
       "\t<tr><td>4                </td><td>-74.875          </td><td>164.625          </td><td>1                </td><td>37               </td><td> 6.210158        </td><td>1.715494         </td><td>0.5645598        </td><td>0.02973751       </td><td>0.009786456      </td><td>...              </td><td>0.1560303        </td><td>12               </td><td>215              </td><td>220              </td><td>-1.219370        </td><td>1995-08-03       </td><td>8.078400e+17     </td><td>0.9829606        </td><td>(-75.026, -59.75]</td><td>(181.5, 271.75]  </td></tr>\n",
       "\t<tr><td>5                </td><td>-74.875          </td><td>164.625          </td><td>1                </td><td>69               </td><td> 5.665564        </td><td>1.721560         </td><td>0.5665564        </td><td>0.02600654       </td><td>0.008558612      </td><td>...              </td><td>0.1353238        </td><td>11               </td><td>133              </td><td>138              </td><td>-1.088333        </td><td>2004-05-12       </td><td>1.084752e+18     </td><td>0.9851187        </td><td>(-75.026, -59.75]</td><td>(91.25, 181.5]   </td></tr>\n",
       "</tbody>\n",
       "</table>\n"
      ],
      "text/latex": [
       "\\begin{tabular}{r|llllllllllllllllllllll}\n",
       " X & lat & lon & isolate & mhw & detriment\\_sum & relative\\_detriment\\_mean & detriment\\_mean & performance\\_diff\\_mean & performance\\_diff\\_unscaled\\_mean & ... & intensity\\_mean & duration & start\\_doy & peak\\_doy & current\\_year\\_sst\\_mean & start\\_date & peak\\_date & perf\\_det\\_ratio & latbin & doy\\_bins\\\\\n",
       "\\hline\n",
       "\t 0                   & -74.875             & 164.625             & 1                   &  4                  &  3.433027           & 1.303966            & 0.4291283           & 0.23719293          & 0.078058928         & ...                 & 1.2978105           &  9                  &   1                 &   1                 & -1.202301           & 1986-12-31          & 5.364576e+17        & 0.8461350           & (-75.026, -59.75{]} & (0.639, 91.25{]}   \\\\\n",
       "\t 1                   & -74.875             & 164.625             & 1                   &  5                  &  6.265167           & 1.269172            & 0.4176778           & 0.28725032          & 0.094532547         & ...                 & 1.5283193           & 16                  &  21                 &  32                 & -1.103370           & 1987-01-21          & 5.391360e+17        & 0.8156109           & (-75.026, -59.75{]} & (0.639, 91.25{]}   \\\\\n",
       "\t 2                   & -74.875             & 164.625             & 1                   & 11                  &  9.585366           & 1.713322            & 0.5638451           & 0.03568606          & 0.011744091         & ...                 & 0.1877301           & 18                  & 232                 & 244                 & -1.168743           & 1988-08-19          & 5.889888e+17        & 0.9795979           & (-75.026, -59.75{]} & (181.5, 271.75{]}  \\\\\n",
       "\t 3                   & -74.875             & 164.625             & 1                   & 14                  & 10.139295           & 1.711648            & 0.5632942           & 0.03325621          & 0.010944441         & ...                 & 0.1741022           & 19                  & 196                 & 201                 & -1.181397           & 1989-07-15          & 6.168960e+17        & 0.9809409           & (-75.026, -59.75{]} & (181.5, 271.75{]}  \\\\\n",
       "\t 4                   & -74.875             & 164.625             & 1                   & 37                  &  6.210158           & 1.715494            & 0.5645598           & 0.02973751          & 0.009786456         & ...                 & 0.1560303           & 12                  & 215                 & 220                 & -1.219370           & 1995-08-03          & 8.078400e+17        & 0.9829606           & (-75.026, -59.75{]} & (181.5, 271.75{]}  \\\\\n",
       "\t 5                   & -74.875             & 164.625             & 1                   & 69                  &  5.665564           & 1.721560            & 0.5665564           & 0.02600654          & 0.008558612         & ...                 & 0.1353238           & 11                  & 133                 & 138                 & -1.088333           & 2004-05-12          & 1.084752e+18        & 0.9851187           & (-75.026, -59.75{]} & (91.25, 181.5{]}   \\\\\n",
       "\\end{tabular}\n"
      ],
      "text/markdown": [
       "\n",
       "| X | lat | lon | isolate | mhw | detriment_sum | relative_detriment_mean | detriment_mean | performance_diff_mean | performance_diff_unscaled_mean | ... | intensity_mean | duration | start_doy | peak_doy | current_year_sst_mean | start_date | peak_date | perf_det_ratio | latbin | doy_bins |\n",
       "|---|---|---|---|---|---|---|---|---|---|---|---|---|---|---|---|---|---|---|---|---|\n",
       "| 0                 | -74.875           | 164.625           | 1                 |  4                |  3.433027         | 1.303966          | 0.4291283         | 0.23719293        | 0.078058928       | ...               | 1.2978105         |  9                |   1               |   1               | -1.202301         | 1986-12-31        | 5.364576e+17      | 0.8461350         | (-75.026, -59.75] | (0.639, 91.25]    |\n",
       "| 1                 | -74.875           | 164.625           | 1                 |  5                |  6.265167         | 1.269172          | 0.4176778         | 0.28725032        | 0.094532547       | ...               | 1.5283193         | 16                |  21               |  32               | -1.103370         | 1987-01-21        | 5.391360e+17      | 0.8156109         | (-75.026, -59.75] | (0.639, 91.25]    |\n",
       "| 2                 | -74.875           | 164.625           | 1                 | 11                |  9.585366         | 1.713322          | 0.5638451         | 0.03568606        | 0.011744091       | ...               | 0.1877301         | 18                | 232               | 244               | -1.168743         | 1988-08-19        | 5.889888e+17      | 0.9795979         | (-75.026, -59.75] | (181.5, 271.75]   |\n",
       "| 3                 | -74.875           | 164.625           | 1                 | 14                | 10.139295         | 1.711648          | 0.5632942         | 0.03325621        | 0.010944441       | ...               | 0.1741022         | 19                | 196               | 201               | -1.181397         | 1989-07-15        | 6.168960e+17      | 0.9809409         | (-75.026, -59.75] | (181.5, 271.75]   |\n",
       "| 4                 | -74.875           | 164.625           | 1                 | 37                |  6.210158         | 1.715494          | 0.5645598         | 0.02973751        | 0.009786456       | ...               | 0.1560303         | 12                | 215               | 220               | -1.219370         | 1995-08-03        | 8.078400e+17      | 0.9829606         | (-75.026, -59.75] | (181.5, 271.75]   |\n",
       "| 5                 | -74.875           | 164.625           | 1                 | 69                |  5.665564         | 1.721560          | 0.5665564         | 0.02600654        | 0.008558612       | ...               | 0.1353238         | 11                | 133               | 138               | -1.088333         | 2004-05-12        | 1.084752e+18      | 0.9851187         | (-75.026, -59.75] | (91.25, 181.5]    |\n",
       "\n"
      ],
      "text/plain": [
       "  X lat     lon     isolate mhw detriment_sum relative_detriment_mean\n",
       "1 0 -74.875 164.625 1        4   3.433027     1.303966               \n",
       "2 1 -74.875 164.625 1        5   6.265167     1.269172               \n",
       "3 2 -74.875 164.625 1       11   9.585366     1.713322               \n",
       "4 3 -74.875 164.625 1       14  10.139295     1.711648               \n",
       "5 4 -74.875 164.625 1       37   6.210158     1.715494               \n",
       "6 5 -74.875 164.625 1       69   5.665564     1.721560               \n",
       "  detriment_mean performance_diff_mean performance_diff_unscaled_mean ...\n",
       "1 0.4291283      0.23719293            0.078058928                    ...\n",
       "2 0.4176778      0.28725032            0.094532547                    ...\n",
       "3 0.5638451      0.03568606            0.011744091                    ...\n",
       "4 0.5632942      0.03325621            0.010944441                    ...\n",
       "5 0.5645598      0.02973751            0.009786456                    ...\n",
       "6 0.5665564      0.02600654            0.008558612                    ...\n",
       "  intensity_mean duration start_doy peak_doy current_year_sst_mean start_date\n",
       "1 1.2978105       9         1         1      -1.202301             1986-12-31\n",
       "2 1.5283193      16        21        32      -1.103370             1987-01-21\n",
       "3 0.1877301      18       232       244      -1.168743             1988-08-19\n",
       "4 0.1741022      19       196       201      -1.181397             1989-07-15\n",
       "5 0.1560303      12       215       220      -1.219370             1995-08-03\n",
       "6 0.1353238      11       133       138      -1.088333             2004-05-12\n",
       "  peak_date    perf_det_ratio latbin            doy_bins       \n",
       "1 5.364576e+17 0.8461350      (-75.026, -59.75] (0.639, 91.25] \n",
       "2 5.391360e+17 0.8156109      (-75.026, -59.75] (0.639, 91.25] \n",
       "3 5.889888e+17 0.9795979      (-75.026, -59.75] (181.5, 271.75]\n",
       "4 6.168960e+17 0.9809409      (-75.026, -59.75] (181.5, 271.75]\n",
       "5 8.078400e+17 0.9829606      (-75.026, -59.75] (181.5, 271.75]\n",
       "6 1.084752e+18 0.9851187      (-75.026, -59.75] (91.25, 181.5] "
      ]
     },
     "metadata": {},
     "output_type": "display_data"
    }
   ],
   "source": [
    "mhwPerformance <- read.csv(\"../tmax_only_isolate_performance_withnegative.csv\")\n",
    "mhwPerformance = mhwPerformance %>% mutate(isolate = factor(isolate))\n",
    "head(mhwPerformance)"
   ]
  },
  {
   "cell_type": "markdown",
   "metadata": {},
   "source": [
    "We need to adjust for the effect of hemisphere to \"align\" seasons and convert to \"season\" factor variables from \"peak_doy\" column:"
   ]
  },
  {
   "cell_type": "code",
   "execution_count": 3,
   "metadata": {},
   "outputs": [],
   "source": [
    "mhwPerformance[between(mhwPerformance$lat, -90, 0), 'peak_doy'] = (mhwPerformance[between(mhwPerformance$lat, -90, 0), 'peak_doy'] - 180) %% 365"
   ]
  },
  {
   "cell_type": "code",
   "execution_count": 4,
   "metadata": {},
   "outputs": [],
   "source": [
    "mhwPerformance = mhwPerformance %>%  \n",
    "                    mutate(season = \n",
    "                           case_when(\n",
    "                                (between(peak_doy, 0, 77) | between(peak_doy, 355, 366)) ~ \"winter\", # January 1 - March XX or December XX - December 31\n",
    "                                between(peak_doy, 78, 170) ~ \"spring\", # March XX - June XX\n",
    "                                between(peak_doy, 171, 295) ~ \"summer\", # June XX - September XX\n",
    "                                between(peak_doy, 296, 354) ~ \"fall\" # September XX - December XX\n",
    "                        )\n",
    "                    )"
   ]
  },
  {
   "cell_type": "code",
   "execution_count": 5,
   "metadata": {},
   "outputs": [
    {
     "data": {
      "text/html": [
       "<table>\n",
       "<thead><tr><th scope=col>peak_doy</th><th scope=col>season</th></tr></thead>\n",
       "<tbody>\n",
       "\t<tr><td>186   </td><td>summer</td></tr>\n",
       "\t<tr><td>217   </td><td>summer</td></tr>\n",
       "\t<tr><td> 64   </td><td>winter</td></tr>\n",
       "\t<tr><td> 21   </td><td>winter</td></tr>\n",
       "\t<tr><td> 40   </td><td>winter</td></tr>\n",
       "\t<tr><td>323   </td><td>fall  </td></tr>\n",
       "</tbody>\n",
       "</table>\n"
      ],
      "text/latex": [
       "\\begin{tabular}{r|ll}\n",
       " peak\\_doy & season\\\\\n",
       "\\hline\n",
       "\t 186    & summer\\\\\n",
       "\t 217    & summer\\\\\n",
       "\t  64    & winter\\\\\n",
       "\t  21    & winter\\\\\n",
       "\t  40    & winter\\\\\n",
       "\t 323    & fall  \\\\\n",
       "\\end{tabular}\n"
      ],
      "text/markdown": [
       "\n",
       "| peak_doy | season |\n",
       "|---|---|\n",
       "| 186    | summer |\n",
       "| 217    | summer |\n",
       "|  64    | winter |\n",
       "|  21    | winter |\n",
       "|  40    | winter |\n",
       "| 323    | fall   |\n",
       "\n"
      ],
      "text/plain": [
       "  peak_doy season\n",
       "1 186      summer\n",
       "2 217      summer\n",
       "3  64      winter\n",
       "4  21      winter\n",
       "5  40      winter\n",
       "6 323      fall  "
      ]
     },
     "metadata": {},
     "output_type": "display_data"
    }
   ],
   "source": [
    "head(mhwPerformance %>% select(peak_doy, season))"
   ]
  },
  {
   "cell_type": "markdown",
   "metadata": {},
   "source": [
    "We'll clean up by dropping NAs and `Inf`s "
   ]
  },
  {
   "cell_type": "markdown",
   "metadata": {},
   "source": [
    "We'll also **scale the input variables** for later, but the initial models will use the raw values: "
   ]
  },
  {
   "cell_type": "code",
   "execution_count": 6,
   "metadata": {},
   "outputs": [],
   "source": [
    "mhwPerformance = mhwPerformance %>%\n",
    "    mutate(\n",
    "        lat_scaled = scale(lat),\n",
    "        sst_scaled = scale(current_year_sst_mean), \n",
    "        abslat_scaled = scale(abs(lat)),\n",
    "        abslat = abs(lat)\n",
    "    )"
   ]
  },
  {
   "cell_type": "markdown",
   "metadata": {},
   "source": [
    "## Models\n",
    "\n",
    "Let's define the standard model formulations here:"
   ]
  },
  {
   "cell_type": "code",
   "execution_count": 11,
   "metadata": {},
   "outputs": [],
   "source": [
    "formula <- performance_diff_unscaled_mean ~ (poly(lat_scaled, 2) + sst_scaled + season)^2\n",
    "formula_unscaled <- performance_diff_unscaled_mean ~ (poly(lat, 2) + current_year_sst_mean + season)^2\n",
    "\n",
    "formula_abslat <- performance_diff_unscaled_mean ~ (abslat_scaled + sst_scaled + season)^2\n",
    "formula_abslat_unscaled <- performance_diff_unscaled_mean ~ (abslat + current_year_sst_mean + season)^2"
   ]
  },
  {
   "cell_type": "markdown",
   "metadata": {},
   "source": [
    "And the random effects formulations: "
   ]
  },
  {
   "cell_type": "code",
   "execution_count": 12,
   "metadata": {},
   "outputs": [],
   "source": [
    "formula_re <- performance_diff_unscaled_mean ~ (poly(lat_scaled, 2) + sst_scaled + season)^2 + (1|isolate)\n",
    "formula_unscaled_re <- performance_diff_unscaled_mean ~ (poly(lat, 2) + current_year_sst_mean + season)^2 + (1|isolate)\n",
    "\n",
    "formula_abslat_re <- performance_diff_unscaled_mean ~ (abslat_scaled + sst_scaled + season)^2 + (1|isolate)\n",
    "formula_abslat_unscaled_re <- performance_diff_unscaled_mean ~ (abslat + current_year_sst_mean + season)^2 + (1|isolate)"
   ]
  },
  {
   "cell_type": "markdown",
   "metadata": {},
   "source": [
    "We'll start with a simple linear model with all terms."
   ]
  },
  {
   "cell_type": "code",
   "execution_count": 13,
   "metadata": {},
   "outputs": [
    {
     "data": {
      "text/plain": [
       "\n",
       "Call:\n",
       "lm(formula = formula, data = mhwPerformance)\n",
       "\n",
       "Residuals:\n",
       "     Min       1Q   Median       3Q      Max \n",
       "-2.08601 -0.04872 -0.00066  0.05984  0.70427 \n",
       "\n",
       "Coefficients:\n",
       "                                   Estimate Std. Error t value Pr(>|t|)    \n",
       "(Intercept)                        0.052300   0.004436  11.790  < 2e-16 ***\n",
       "poly(lat_scaled, 2)1               0.883077   0.467841   1.888 0.059117 .  \n",
       "poly(lat_scaled, 2)2               0.570580   1.137297   0.502 0.615891    \n",
       "sst_scaled                        -0.030644   0.011933  -2.568 0.010245 *  \n",
       "seasonspring                       0.024287   0.005006   4.852 1.24e-06 ***\n",
       "seasonsummer                      -0.086133   0.004694 -18.350  < 2e-16 ***\n",
       "seasonwinter                       0.042107   0.005166   8.151 4.09e-16 ***\n",
       "poly(lat_scaled, 2)1:sst_scaled   -0.591827   0.162735  -3.637 0.000278 ***\n",
       "poly(lat_scaled, 2)2:sst_scaled    1.343114   0.179931   7.465 9.12e-14 ***\n",
       "poly(lat_scaled, 2)1:seasonspring  0.515710   0.523464   0.985 0.324558    \n",
       "poly(lat_scaled, 2)2:seasonspring -1.597140   1.356571  -1.177 0.239092    \n",
       "poly(lat_scaled, 2)1:seasonsummer -3.807510   0.485929  -7.836 5.19e-15 ***\n",
       "poly(lat_scaled, 2)2:seasonsummer -2.606171   1.258655  -2.071 0.038424 *  \n",
       "poly(lat_scaled, 2)1:seasonwinter  0.163098   0.529515   0.308 0.758079    \n",
       "poly(lat_scaled, 2)2:seasonwinter  0.745860   1.365360   0.546 0.584891    \n",
       "sst_scaled:seasonspring           -0.012355   0.014574  -0.848 0.396612    \n",
       "sst_scaled:seasonsummer           -0.043055   0.013510  -3.187 0.001444 ** \n",
       "sst_scaled:seasonwinter            0.031853   0.014826   2.148 0.031701 *  \n",
       "---\n",
       "Signif. codes:  0 ‘***’ 0.001 ‘**’ 0.01 ‘*’ 0.05 ‘.’ 0.1 ‘ ’ 1\n",
       "\n",
       "Residual standard error: 0.1441 on 9152 degrees of freedom\n",
       "Multiple R-squared:  0.185,\tAdjusted R-squared:  0.1835 \n",
       "F-statistic: 122.2 on 17 and 9152 DF,  p-value: < 2.2e-16\n"
      ]
     },
     "metadata": {},
     "output_type": "display_data"
    }
   ],
   "source": [
    "simple_lm = lm(formula, data=mhwPerformance)\n",
    "summary(simple_lm)"
   ]
  },
  {
   "cell_type": "code",
   "execution_count": 14,
   "metadata": {},
   "outputs": [],
   "source": [
    "baseline_hline = geom_hline(yintercept=0, linetype='dashed', color='blue', size=0.6, alpha=0.6)"
   ]
  },
  {
   "cell_type": "markdown",
   "metadata": {},
   "source": [
    "## Simple Model with Random Effects\n",
    "\n",
    "Only `isolate` as random effect for now: "
   ]
  },
  {
   "cell_type": "code",
   "execution_count": 15,
   "metadata": {},
   "outputs": [
    {
     "name": "stderr",
     "output_type": "stream",
     "text": [
      "\n",
      "Correlation matrix not shown by default, as p = 18 > 12.\n",
      "Use print(obj, correlation=TRUE)  or\n",
      "    vcov(obj)        if you need it\n",
      "\n"
     ]
    },
    {
     "data": {
      "text/plain": [
       "Linear mixed model fit by REML. t-tests use Satterthwaite's method [\n",
       "lmerModLmerTest]\n",
       "Formula: formula_re\n",
       "   Data: mhwPerformance\n",
       "\n",
       "REML criterion at convergence: -13262.2\n",
       "\n",
       "Scaled residuals: \n",
       "     Min       1Q   Median       3Q      Max \n",
       "-16.2182  -0.3373  -0.0221   0.3875   7.0353 \n",
       "\n",
       "Random effects:\n",
       " Groups   Name        Variance Std.Dev.\n",
       " isolate  (Intercept) 0.01048  0.1024  \n",
       " Residual             0.01295  0.1138  \n",
       "Number of obs: 9170, groups:  isolate, 130\n",
       "\n",
       "Fixed effects:\n",
       "                                    Estimate Std. Error         df t value\n",
       "(Intercept)                        6.515e-02  1.410e-02  1.305e+02   4.619\n",
       "poly(lat_scaled, 2)1              -1.137e-01  1.582e+00  1.267e+02  -0.072\n",
       "poly(lat_scaled, 2)2               1.411e+01  2.471e+00  3.412e+02   5.708\n",
       "sst_scaled                         1.183e-01  2.016e-02  1.071e+03   5.868\n",
       "seasonspring                       2.200e-02  3.971e-03  9.014e+03   5.540\n",
       "seasonsummer                      -8.458e-02  3.733e-03  9.015e+03 -22.657\n",
       "seasonwinter                       3.979e-02  4.094e-03  9.011e+03   9.720\n",
       "poly(lat_scaled, 2)1:sst_scaled    1.098e+00  9.718e-01  1.239e+02   1.129\n",
       "poly(lat_scaled, 2)2:sst_scaled    2.679e+00  1.022e+00  1.319e+02   2.623\n",
       "poly(lat_scaled, 2)1:seasonspring  5.904e-01  4.156e-01  9.009e+03   1.421\n",
       "poly(lat_scaled, 2)2:seasonspring -1.406e+00  1.076e+00  9.010e+03  -1.307\n",
       "poly(lat_scaled, 2)1:seasonsummer -3.430e+00  3.872e-01  9.015e+03  -8.858\n",
       "poly(lat_scaled, 2)2:seasonsummer -2.719e+00  1.003e+00  9.014e+03  -2.712\n",
       "poly(lat_scaled, 2)1:seasonwinter  4.325e-01  4.198e-01  9.011e+03   1.030\n",
       "poly(lat_scaled, 2)2:seasonwinter  5.746e-01  1.082e+00  9.009e+03   0.531\n",
       "sst_scaled:seasonspring           -1.396e-02  1.156e-02  9.010e+03  -1.208\n",
       "sst_scaled:seasonsummer           -4.763e-02  1.075e-02  9.013e+03  -4.429\n",
       "sst_scaled:seasonwinter            2.569e-02  1.175e-02  9.010e+03   2.186\n",
       "                                  Pr(>|t|)    \n",
       "(Intercept)                       9.12e-06 ***\n",
       "poly(lat_scaled, 2)1               0.94281    \n",
       "poly(lat_scaled, 2)2              2.49e-08 ***\n",
       "sst_scaled                        5.86e-09 ***\n",
       "seasonspring                      3.11e-08 ***\n",
       "seasonsummer                       < 2e-16 ***\n",
       "seasonwinter                       < 2e-16 ***\n",
       "poly(lat_scaled, 2)1:sst_scaled    0.26090    \n",
       "poly(lat_scaled, 2)2:sst_scaled    0.00975 ** \n",
       "poly(lat_scaled, 2)1:seasonspring  0.15549    \n",
       "poly(lat_scaled, 2)2:seasonspring  0.19133    \n",
       "poly(lat_scaled, 2)1:seasonsummer  < 2e-16 ***\n",
       "poly(lat_scaled, 2)2:seasonsummer  0.00670 ** \n",
       "poly(lat_scaled, 2)1:seasonwinter  0.30283    \n",
       "poly(lat_scaled, 2)2:seasonwinter  0.59545    \n",
       "sst_scaled:seasonspring            0.22715    \n",
       "sst_scaled:seasonsummer           9.56e-06 ***\n",
       "sst_scaled:seasonwinter            0.02883 *  \n",
       "---\n",
       "Signif. codes:  0 ‘***’ 0.001 ‘**’ 0.01 ‘*’ 0.05 ‘.’ 0.1 ‘ ’ 1"
      ]
     },
     "metadata": {},
     "output_type": "display_data"
    }
   ],
   "source": [
    "simple_re = lmer(\n",
    "    formula_re,\n",
    "    data=mhwPerformance\n",
    ")\n",
    "summary(simple_re)"
   ]
  },
  {
   "cell_type": "code",
   "execution_count": 16,
   "metadata": {},
   "outputs": [
    {
     "name": "stderr",
     "output_type": "stream",
     "text": [
      "Model contains splines or polynomial terms. Consider using `terms=\"lat_scaled [all]\"` to get smooth plots. See also package-vignette 'Marginal Effects at Specific Values'.\n"
     ]
    },
    {
     "name": "stdout",
     "output_type": "stream",
     "text": [
      "Error: Confidence intervals could not be computed.\n",
      "* Reason: \"`season` does not have enough factor levels. Try to remove `[]`.\"\n",
      "* Source: .safe_se_from_vcov(model, prediction_data, value_adjustment, terms, model_class, type, vcov.fun, vcov.type, vcov.args, condition, interval)\n"
     ]
    },
    {
     "name": "stderr",
     "output_type": "stream",
     "text": [
      "Model contains splines or polynomial terms. Consider using `terms=\"sst_scaled [all]\"` to get smooth plots. See also package-vignette 'Marginal Effects at Specific Values'.\n"
     ]
    },
    {
     "name": "stdout",
     "output_type": "stream",
     "text": [
      "Error: Confidence intervals could not be computed.\n",
      "* Reason: \"`season` does not have enough factor levels. Try to remove `[]`.\"\n",
      "* Source: .safe_se_from_vcov(model, prediction_data, value_adjustment, terms, model_class, type, vcov.fun, vcov.type, vcov.args, condition, interval)\n"
     ]
    },
    {
     "name": "stderr",
     "output_type": "stream",
     "text": [
      "Model contains splines or polynomial terms. Consider using `terms=\"season [all]\"` to get smooth plots. See also package-vignette 'Marginal Effects at Specific Values'.\n"
     ]
    },
    {
     "data": {
      "text/plain": [
       "NULL"
      ]
     },
     "metadata": {},
     "output_type": "display_data"
    },
    {
     "data": {
      "image/png": "[encoded data removed]",
      "text/plain": [
       "plot without title"
      ]
     },
     "metadata": {},
     "output_type": "display_data"
    },
    {
     "data": {
      "image/png": "[encoded data removed]",
      "text/plain": [
       "plot without title"
      ]
     },
     "metadata": {},
     "output_type": "display_data"
    }
   ],
   "source": [
    "simple_re_plots = plot_model(simple_re, type='pred')\n",
    "simple_re_plots$lat + baseline_hline\n",
    "simple_re_plots$current_year_sst_mean + baseline_hline\n",
    "simple_re_plots$season + baseline_hline"
   ]
  },
  {
   "cell_type": "code",
   "execution_count": 17,
   "metadata": {},
   "outputs": [
    {
     "name": "stderr",
     "output_type": "stream",
     "text": [
      "Scale for 'y' is already present. Adding another scale for 'y', which will\n",
      "replace the existing scale.\n",
      "Warning message:\n",
      "“Removed 9 rows containing missing values (geom_point).”"
     ]
    },
    {
     "data": {
      "image/png": "[encoded data removed]",
      "text/plain": [
       "plot without title"
      ]
     },
     "metadata": {},
     "output_type": "display_data"
    }
   ],
   "source": [
    "plot_model(simple_re, type='re') +\n",
    "    xlab(\"Isolate ID\") + \n",
    "    ylab('random effect')+\n",
    "    ylim(-0.2, 0.2)"
   ]
  },
  {
   "cell_type": "markdown",
   "metadata": {},
   "source": [
    "## More Intense Heatwaves =? Stronger Signal?\n",
    "\n",
    "There's probably a lot of noise from shorter events here. \n",
    "\n",
    "Lets take a look at the distribution of heatwaves by intensity: "
   ]
  },
  {
   "cell_type": "code",
   "execution_count": 18,
   "metadata": {},
   "outputs": [
    {
     "data": {
      "text/html": [
       "1.49603433663944"
      ],
      "text/latex": [
       "1.49603433663944"
      ],
      "text/markdown": [
       "1.49603433663944"
      ],
      "text/plain": [
       "[1] 1.496034"
      ]
     },
     "metadata": {},
     "output_type": "display_data"
    }
   ],
   "source": [
    "median(mhwPerformance$intensity_mean)"
   ]
  },
  {
   "cell_type": "code",
   "execution_count": 20,
   "metadata": {},
   "outputs": [
    {
     "name": "stderr",
     "output_type": "stream",
     "text": [
      "`stat_bin()` using `bins = 30`. Pick better value with `binwidth`.\n"
     ]
    },
    {
     "data": {
      "image/png": "[encoded data removed]",
      "text/plain": [
       "plot without title"
      ]
     },
     "metadata": {},
     "output_type": "display_data"
    }
   ],
   "source": [
    "ggplot(mhwPerformance, aes(x=intensity_mean)) +\n",
    "    geom_histogram() + \n",
    "    geom_vline(xintercept=median(mhwPerformance$intensity_mean)) "
   ]
  },
  {
   "cell_type": "markdown",
   "metadata": {},
   "source": [
    "We can use ~1.5 C as our threshold (median?)"
   ]
  },
  {
   "cell_type": "code",
   "execution_count": 21,
   "metadata": {},
   "outputs": [],
   "source": [
    "intensity_threshold = 1.5"
   ]
  },
  {
   "cell_type": "code",
   "execution_count": 22,
   "metadata": {},
   "outputs": [],
   "source": [
    "intenseMhwPerformance = mhwPerformance %>% filter(intensity_mean > intensity_threshold)"
   ]
  },
  {
   "cell_type": "code",
   "execution_count": 23,
   "metadata": {},
   "outputs": [
    {
     "data": {
      "text/html": [
       "<table>\n",
       "<thead><tr><th scope=col>X</th><th scope=col>lat</th><th scope=col>lon</th><th scope=col>isolate</th><th scope=col>mhw</th><th scope=col>detriment_sum</th><th scope=col>relative_detriment_mean</th><th scope=col>detriment_mean</th><th scope=col>performance_diff_mean</th><th scope=col>performance_diff_unscaled_mean</th><th scope=col>...</th><th scope=col>start_date</th><th scope=col>peak_date</th><th scope=col>perf_det_ratio</th><th scope=col>latbin</th><th scope=col>doy_bins</th><th scope=col>season</th><th scope=col>lat_scaled</th><th scope=col>sst_scaled</th><th scope=col>abslat_scaled</th><th scope=col>abslat</th></tr></thead>\n",
       "<tbody>\n",
       "\t<tr><td> 1               </td><td>-74.875          </td><td>164.625          </td><td>1                </td><td> 5               </td><td>6.265167e+00     </td><td>1.2691721152     </td><td>0.4176777708     </td><td> 0.28725032      </td><td> 0.09453255      </td><td>...              </td><td>1987-01-21       </td><td>5.391360e+17     </td><td>8.156109e-01     </td><td>(-75.026, -59.75]</td><td>(0.639, 91.25]   </td><td>summer           </td><td>-2.512773        </td><td>-2.1110269       </td><td>2.1837887        </td><td>74.875           </td></tr>\n",
       "\t<tr><td>16               </td><td>-57.875          </td><td> 62.125          </td><td>8                </td><td>37               </td><td>5.392747e-04     </td><td>0.0003390271     </td><td>0.0001078549     </td><td> 0.07245527      </td><td> 0.02305025      </td><td>...              </td><td>2000-01-10       </td><td>9.475488e+17     </td><td>4.609214e-03     </td><td>(-59.75, -44.625]</td><td>(0.639, 91.25]   </td><td>summer           </td><td>-2.045108        </td><td>-1.9549025       </td><td>1.2378394        </td><td>57.875           </td></tr>\n",
       "\t<tr><td>39               </td><td>-57.875          </td><td>139.875          </td><td>558              </td><td> 6               </td><td>8.048469e-01     </td><td>0.1441267048     </td><td>0.0473439352     </td><td>-0.14278485      </td><td>-0.04690315      </td><td>...              </td><td>1985-01-03       </td><td>4.737312e+17     </td><td>3.234330e+04     </td><td>(-59.75, -44.625]</td><td>(0.639, 91.25]   </td><td>summer           </td><td>-2.045108        </td><td>-1.7193377       </td><td>1.2378394        </td><td>57.875           </td></tr>\n",
       "\t<tr><td>48               </td><td>-46.625          </td><td>-75.875          </td><td>476              </td><td>23               </td><td>7.949109e-02     </td><td>0.0356370802     </td><td>0.0066242573     </td><td> 0.04883279      </td><td> 0.00907709      </td><td>...              </td><td>1992-01-26       </td><td>6.971616e+17     </td><td>4.533501e-01     </td><td>(-59.75, -44.625]</td><td>(0.639, 91.25]   </td><td>summer           </td><td>-1.735625        </td><td>-0.7799926       </td><td>0.6118436        </td><td>46.625           </td></tr>\n",
       "\t<tr><td>52               </td><td>-42.125          </td><td>169.625          </td><td>15               </td><td>58               </td><td>1.297108e+01     </td><td>0.1026763952     </td><td>0.1457425124     </td><td> 0.10700543      </td><td> 0.15188730      </td><td>...              </td><td>2016-02-24       </td><td>1.459382e+18     </td><td>4.387885e-01     </td><td>(-44.625, -29.5] </td><td>(0.639, 91.25]   </td><td>summer           </td><td>-1.611831        </td><td>-0.1946099       </td><td>0.3614453        </td><td>42.125           </td></tr>\n",
       "\t<tr><td>53               </td><td>-42.125          </td><td>169.625          </td><td>15               </td><td>67               </td><td>2.416684e+00     </td><td>0.3405134209     </td><td>0.4833368116     </td><td> 0.11409630      </td><td> 0.16195234      </td><td>...              </td><td>2018-10-19       </td><td>1.540253e+18     </td><td>7.483851e-01     </td><td>(-44.625, -29.5] </td><td>(271.75, 362.0]  </td><td>spring           </td><td>-1.611831        </td><td>-0.1955015       </td><td>0.3614453        </td><td>42.125           </td></tr>\n",
       "</tbody>\n",
       "</table>\n"
      ],
      "text/latex": [
       "\\begin{tabular}{r|lllllllllllllllllllllllllll}\n",
       " X & lat & lon & isolate & mhw & detriment\\_sum & relative\\_detriment\\_mean & detriment\\_mean & performance\\_diff\\_mean & performance\\_diff\\_unscaled\\_mean & ... & start\\_date & peak\\_date & perf\\_det\\_ratio & latbin & doy\\_bins & season & lat\\_scaled & sst\\_scaled & abslat\\_scaled & abslat\\\\\n",
       "\\hline\n",
       "\t  1                  & -74.875             & 164.625             & 1                   &  5                  & 6.265167e+00        & 1.2691721152        & 0.4176777708        &  0.28725032         &  0.09453255         & ...                 & 1987-01-21          & 5.391360e+17        & 8.156109e-01        & (-75.026, -59.75{]} & (0.639, 91.25{]}    & summer              & -2.512773           & -2.1110269          & 2.1837887           & 74.875             \\\\\n",
       "\t 16                  & -57.875             &  62.125             & 8                   & 37                  & 5.392747e-04        & 0.0003390271        & 0.0001078549        &  0.07245527         &  0.02305025         & ...                 & 2000-01-10          & 9.475488e+17        & 4.609214e-03        & (-59.75, -44.625{]} & (0.639, 91.25{]}    & summer              & -2.045108           & -1.9549025          & 1.2378394           & 57.875             \\\\\n",
       "\t 39                  & -57.875             & 139.875             & 558                 &  6                  & 8.048469e-01        & 0.1441267048        & 0.0473439352        & -0.14278485         & -0.04690315         & ...                 & 1985-01-03          & 4.737312e+17        & 3.234330e+04        & (-59.75, -44.625{]} & (0.639, 91.25{]}    & summer              & -2.045108           & -1.7193377          & 1.2378394           & 57.875             \\\\\n",
       "\t 48                  & -46.625             & -75.875             & 476                 & 23                  & 7.949109e-02        & 0.0356370802        & 0.0066242573        &  0.04883279         &  0.00907709         & ...                 & 1992-01-26          & 6.971616e+17        & 4.533501e-01        & (-59.75, -44.625{]} & (0.639, 91.25{]}    & summer              & -1.735625           & -0.7799926          & 0.6118436           & 46.625             \\\\\n",
       "\t 52                  & -42.125             & 169.625             & 15                  & 58                  & 1.297108e+01        & 0.1026763952        & 0.1457425124        &  0.10700543         &  0.15188730         & ...                 & 2016-02-24          & 1.459382e+18        & 4.387885e-01        & (-44.625, -29.5{]}  & (0.639, 91.25{]}    & summer              & -1.611831           & -0.1946099          & 0.3614453           & 42.125             \\\\\n",
       "\t 53                  & -42.125             & 169.625             & 15                  & 67                  & 2.416684e+00        & 0.3405134209        & 0.4833368116        &  0.11409630         &  0.16195234         & ...                 & 2018-10-19          & 1.540253e+18        & 7.483851e-01        & (-44.625, -29.5{]}  & (271.75, 362.0{]}   & spring              & -1.611831           & -0.1955015          & 0.3614453           & 42.125             \\\\\n",
       "\\end{tabular}\n"
      ],
      "text/markdown": [
       "\n",
       "| X | lat | lon | isolate | mhw | detriment_sum | relative_detriment_mean | detriment_mean | performance_diff_mean | performance_diff_unscaled_mean | ... | start_date | peak_date | perf_det_ratio | latbin | doy_bins | season | lat_scaled | sst_scaled | abslat_scaled | abslat |\n",
       "|---|---|---|---|---|---|---|---|---|---|---|---|---|---|---|---|---|---|---|---|---|\n",
       "|  1                | -74.875           | 164.625           | 1                 |  5                | 6.265167e+00      | 1.2691721152      | 0.4176777708      |  0.28725032       |  0.09453255       | ...               | 1987-01-21        | 5.391360e+17      | 8.156109e-01      | (-75.026, -59.75] | (0.639, 91.25]    | summer            | -2.512773         | -2.1110269        | 2.1837887         | 74.875            |\n",
       "| 16                | -57.875           |  62.125           | 8                 | 37                | 5.392747e-04      | 0.0003390271      | 0.0001078549      |  0.07245527       |  0.02305025       | ...               | 2000-01-10        | 9.475488e+17      | 4.609214e-03      | (-59.75, -44.625] | (0.639, 91.25]    | summer            | -2.045108         | -1.9549025        | 1.2378394         | 57.875            |\n",
       "| 39                | -57.875           | 139.875           | 558               |  6                | 8.048469e-01      | 0.1441267048      | 0.0473439352      | -0.14278485       | -0.04690315       | ...               | 1985-01-03        | 4.737312e+17      | 3.234330e+04      | (-59.75, -44.625] | (0.639, 91.25]    | summer            | -2.045108         | -1.7193377        | 1.2378394         | 57.875            |\n",
       "| 48                | -46.625           | -75.875           | 476               | 23                | 7.949109e-02      | 0.0356370802      | 0.0066242573      |  0.04883279       |  0.00907709       | ...               | 1992-01-26        | 6.971616e+17      | 4.533501e-01      | (-59.75, -44.625] | (0.639, 91.25]    | summer            | -1.735625         | -0.7799926        | 0.6118436         | 46.625            |\n",
       "| 52                | -42.125           | 169.625           | 15                | 58                | 1.297108e+01      | 0.1026763952      | 0.1457425124      |  0.10700543       |  0.15188730       | ...               | 2016-02-24        | 1.459382e+18      | 4.387885e-01      | (-44.625, -29.5]  | (0.639, 91.25]    | summer            | -1.611831         | -0.1946099        | 0.3614453         | 42.125            |\n",
       "| 53                | -42.125           | 169.625           | 15                | 67                | 2.416684e+00      | 0.3405134209      | 0.4833368116      |  0.11409630       |  0.16195234       | ...               | 2018-10-19        | 1.540253e+18      | 7.483851e-01      | (-44.625, -29.5]  | (271.75, 362.0]   | spring            | -1.611831         | -0.1955015        | 0.3614453         | 42.125            |\n",
       "\n"
      ],
      "text/plain": [
       "  X  lat     lon     isolate mhw detriment_sum relative_detriment_mean\n",
       "1  1 -74.875 164.625 1        5  6.265167e+00  1.2691721152           \n",
       "2 16 -57.875  62.125 8       37  5.392747e-04  0.0003390271           \n",
       "3 39 -57.875 139.875 558      6  8.048469e-01  0.1441267048           \n",
       "4 48 -46.625 -75.875 476     23  7.949109e-02  0.0356370802           \n",
       "5 52 -42.125 169.625 15      58  1.297108e+01  0.1026763952           \n",
       "6 53 -42.125 169.625 15      67  2.416684e+00  0.3405134209           \n",
       "  detriment_mean performance_diff_mean performance_diff_unscaled_mean ...\n",
       "1 0.4176777708    0.28725032            0.09453255                    ...\n",
       "2 0.0001078549    0.07245527            0.02305025                    ...\n",
       "3 0.0473439352   -0.14278485           -0.04690315                    ...\n",
       "4 0.0066242573    0.04883279            0.00907709                    ...\n",
       "5 0.1457425124    0.10700543            0.15188730                    ...\n",
       "6 0.4833368116    0.11409630            0.16195234                    ...\n",
       "  start_date peak_date    perf_det_ratio latbin            doy_bins       \n",
       "1 1987-01-21 5.391360e+17 8.156109e-01   (-75.026, -59.75] (0.639, 91.25] \n",
       "2 2000-01-10 9.475488e+17 4.609214e-03   (-59.75, -44.625] (0.639, 91.25] \n",
       "3 1985-01-03 4.737312e+17 3.234330e+04   (-59.75, -44.625] (0.639, 91.25] \n",
       "4 1992-01-26 6.971616e+17 4.533501e-01   (-59.75, -44.625] (0.639, 91.25] \n",
       "5 2016-02-24 1.459382e+18 4.387885e-01   (-44.625, -29.5]  (0.639, 91.25] \n",
       "6 2018-10-19 1.540253e+18 7.483851e-01   (-44.625, -29.5]  (271.75, 362.0]\n",
       "  season lat_scaled sst_scaled abslat_scaled abslat\n",
       "1 summer -2.512773  -2.1110269 2.1837887     74.875\n",
       "2 summer -2.045108  -1.9549025 1.2378394     57.875\n",
       "3 summer -2.045108  -1.7193377 1.2378394     57.875\n",
       "4 summer -1.735625  -0.7799926 0.6118436     46.625\n",
       "5 summer -1.611831  -0.1946099 0.3614453     42.125\n",
       "6 spring -1.611831  -0.1955015 0.3614453     42.125"
      ]
     },
     "metadata": {},
     "output_type": "display_data"
    }
   ],
   "source": [
    "head(intenseMhwPerformance)"
   ]
  },
  {
   "cell_type": "code",
   "execution_count": 24,
   "metadata": {},
   "outputs": [
    {
     "data": {
      "text/html": [
       "4570"
      ],
      "text/latex": [
       "4570"
      ],
      "text/markdown": [
       "4570"
      ],
      "text/plain": [
       "[1] 4570"
      ]
     },
     "metadata": {},
     "output_type": "display_data"
    }
   ],
   "source": [
    "nrow(intenseMhwPerformance)"
   ]
  },
  {
   "cell_type": "markdown",
   "metadata": {},
   "source": [
    "**Simple Model**"
   ]
  },
  {
   "cell_type": "code",
   "execution_count": 25,
   "metadata": {},
   "outputs": [
    {
     "data": {
      "text/plain": [
       "\n",
       "Call:\n",
       "lm(formula = formula, data = intenseMhwPerformance)\n",
       "\n",
       "Residuals:\n",
       "     Min       1Q   Median       3Q      Max \n",
       "-2.06061 -0.05356  0.00106  0.07612  0.65626 \n",
       "\n",
       "Coefficients:\n",
       "                                   Estimate Std. Error t value Pr(>|t|)    \n",
       "(Intercept)                        0.069298   0.007803   8.881  < 2e-16 ***\n",
       "poly(lat_scaled, 2)1               1.864682   0.633359   2.944  0.00326 ** \n",
       "poly(lat_scaled, 2)2               0.932998   0.921504   1.012  0.31137    \n",
       "sst_scaled                         0.001312   0.021006   0.062  0.95022    \n",
       "seasonspring                       0.024932   0.009054   2.754  0.00591 ** \n",
       "seasonsummer                      -0.137850   0.008503 -16.211  < 2e-16 ***\n",
       "seasonwinter                       0.053629   0.009757   5.497 4.08e-08 ***\n",
       "poly(lat_scaled, 2)1:sst_scaled   -0.205006   0.237628  -0.863  0.38834    \n",
       "poly(lat_scaled, 2)2:sst_scaled    0.681285   0.219880   3.098  0.00196 ** \n",
       "poly(lat_scaled, 2)1:seasonspring -0.929854   0.763359  -1.218  0.22325    \n",
       "poly(lat_scaled, 2)2:seasonspring -0.333276   1.090048  -0.306  0.75981    \n",
       "poly(lat_scaled, 2)1:seasonsummer -5.050759   0.698826  -7.227 5.74e-13 ***\n",
       "poly(lat_scaled, 2)2:seasonsummer -2.555368   1.002912  -2.548  0.01087 *  \n",
       "poly(lat_scaled, 2)1:seasonwinter  2.264005   0.884709   2.559  0.01053 *  \n",
       "poly(lat_scaled, 2)2:seasonwinter  0.146045   1.189569   0.123  0.90229    \n",
       "sst_scaled:seasonspring           -0.012425   0.025063  -0.496  0.62011    \n",
       "sst_scaled:seasonsummer           -0.147251   0.023291  -6.322 2.83e-10 ***\n",
       "sst_scaled:seasonwinter            0.069664   0.026854   2.594  0.00951 ** \n",
       "---\n",
       "Signif. codes:  0 ‘***’ 0.001 ‘**’ 0.01 ‘*’ 0.05 ‘.’ 0.1 ‘ ’ 1\n",
       "\n",
       "Residual standard error: 0.1713 on 4552 degrees of freedom\n",
       "Multiple R-squared:  0.2413,\tAdjusted R-squared:  0.2384 \n",
       "F-statistic: 85.14 on 17 and 4552 DF,  p-value: < 2.2e-16\n"
      ]
     },
     "metadata": {},
     "output_type": "display_data"
    }
   ],
   "source": [
    "simple_intense_lm = lm(\n",
    "    formula,\n",
    "    data=intenseMhwPerformance)\n",
    "summary(simple_intense_lm)"
   ]
  },
  {
   "cell_type": "markdown",
   "metadata": {},
   "source": [
    "**Simple Random Effects**"
   ]
  },
  {
   "cell_type": "code",
   "execution_count": 26,
   "metadata": {},
   "outputs": [
    {
     "name": "stderr",
     "output_type": "stream",
     "text": [
      "\n",
      "Correlation matrix not shown by default, as p = 18 > 12.\n",
      "Use print(obj, correlation=TRUE)  or\n",
      "    vcov(obj)        if you need it\n",
      "\n"
     ]
    },
    {
     "data": {
      "text/plain": [
       "Linear mixed model fit by REML. t-tests use Satterthwaite's method [\n",
       "lmerModLmerTest]\n",
       "Formula: formula_re\n",
       "   Data: intenseMhwPerformance\n",
       "\n",
       "REML criterion at convergence: -4373.6\n",
       "\n",
       "Scaled residuals: \n",
       "     Min       1Q   Median       3Q      Max \n",
       "-12.9991  -0.3305  -0.0045   0.3874   5.0584 \n",
       "\n",
       "Random effects:\n",
       " Groups   Name        Variance Std.Dev.\n",
       " isolate  (Intercept) 0.01007  0.1003  \n",
       " Residual             0.02085  0.1444  \n",
       "Number of obs: 4570, groups:  isolate, 122\n",
       "\n",
       "Fixed effects:\n",
       "                                    Estimate Std. Error         df t value\n",
       "(Intercept)                        8.128e-02  1.400e-02  1.499e+02   5.806\n",
       "poly(lat_scaled, 2)1               3.982e+00  9.103e-01  3.451e+02   4.374\n",
       "poly(lat_scaled, 2)2               6.391e+00  1.369e+00  3.994e+02   4.668\n",
       "sst_scaled                         1.165e-01  2.862e-02  8.457e+02   4.071\n",
       "seasonspring                       2.128e-02  7.836e-03  4.495e+03   2.716\n",
       "seasonsummer                      -1.427e-01  7.379e-03  4.495e+03 -19.344\n",
       "seasonwinter                       5.615e-02  8.386e-03  4.483e+03   6.696\n",
       "poly(lat_scaled, 2)1:sst_scaled    1.644e-01  5.319e-01  1.582e+02   0.309\n",
       "poly(lat_scaled, 2)2:sst_scaled    1.213e+00  4.973e-01  1.437e+02   2.438\n",
       "poly(lat_scaled, 2)1:seasonspring -2.693e-01  6.713e-01  4.493e+03  -0.401\n",
       "poly(lat_scaled, 2)2:seasonspring -8.388e-01  9.358e-01  4.461e+03  -0.896\n",
       "poly(lat_scaled, 2)1:seasonsummer -4.913e+00  6.178e-01  4.500e+03  -7.953\n",
       "poly(lat_scaled, 2)2:seasonsummer -3.927e+00  8.699e-01  4.475e+03  -4.514\n",
       "poly(lat_scaled, 2)1:seasonwinter  1.911e+00  7.586e-01  4.464e+03   2.519\n",
       "poly(lat_scaled, 2)2:seasonwinter  2.722e-01  1.010e+00  4.440e+03   0.270\n",
       "sst_scaled:seasonspring           -1.289e-02  2.142e-02  4.469e+03  -0.602\n",
       "sst_scaled:seasonsummer           -1.569e-01  2.004e-02  4.475e+03  -7.828\n",
       "sst_scaled:seasonwinter            5.915e-02  2.290e-02  4.460e+03   2.583\n",
       "                                  Pr(>|t|)    \n",
       "(Intercept)                       3.68e-08 ***\n",
       "poly(lat_scaled, 2)1              1.61e-05 ***\n",
       "poly(lat_scaled, 2)2              4.17e-06 ***\n",
       "sst_scaled                        5.12e-05 ***\n",
       "seasonspring                       0.00664 ** \n",
       "seasonsummer                       < 2e-16 ***\n",
       "seasonwinter                      2.40e-11 ***\n",
       "poly(lat_scaled, 2)1:sst_scaled    0.75772    \n",
       "poly(lat_scaled, 2)2:sst_scaled    0.01598 *  \n",
       "poly(lat_scaled, 2)1:seasonspring  0.68828    \n",
       "poly(lat_scaled, 2)2:seasonspring  0.37008    \n",
       "poly(lat_scaled, 2)1:seasonsummer 2.28e-15 ***\n",
       "poly(lat_scaled, 2)2:seasonsummer 6.52e-06 ***\n",
       "poly(lat_scaled, 2)1:seasonwinter  0.01179 *  \n",
       "poly(lat_scaled, 2)2:seasonwinter  0.78749    \n",
       "sst_scaled:seasonspring            0.54738    \n",
       "sst_scaled:seasonsummer           6.14e-15 ***\n",
       "sst_scaled:seasonwinter            0.00982 ** \n",
       "---\n",
       "Signif. codes:  0 ‘***’ 0.001 ‘**’ 0.01 ‘*’ 0.05 ‘.’ 0.1 ‘ ’ 1"
      ]
     },
     "metadata": {},
     "output_type": "display_data"
    }
   ],
   "source": [
    "simple_intense_re = lmer(\n",
    "    formula_re, \n",
    "    data=intenseMhwPerformance\n",
    ")\n",
    "summary(simple_intense_re)"
   ]
  },
  {
   "cell_type": "markdown",
   "metadata": {},
   "source": [
    "## Absolute Latitude instead of Poly(2)"
   ]
  },
  {
   "cell_type": "code",
   "execution_count": 27,
   "metadata": {},
   "outputs": [
    {
     "name": "stderr",
     "output_type": "stream",
     "text": [
      "\n",
      "Correlation matrix not shown by default, as p = 13 > 12.\n",
      "Use print(obj, correlation=TRUE)  or\n",
      "    vcov(obj)        if you need it\n",
      "\n"
     ]
    },
    {
     "data": {
      "text/plain": [
       "Linear mixed model fit by REML. t-tests use Satterthwaite's method [\n",
       "lmerModLmerTest]\n",
       "Formula: formula_abslat_re\n",
       "   Data: mhwPerformance\n",
       "\n",
       "REML criterion at convergence: -13464.8\n",
       "\n",
       "Scaled residuals: \n",
       "     Min       1Q   Median       3Q      Max \n",
       "-16.4984  -0.3166  -0.0139   0.3658   7.0813 \n",
       "\n",
       "Random effects:\n",
       " Groups   Name        Variance Std.Dev.\n",
       " isolate  (Intercept) 0.01052  0.1026  \n",
       " Residual             0.01259  0.1122  \n",
       "Number of obs: 9170, groups:  isolate, 130\n",
       "\n",
       "Fixed effects:\n",
       "                             Estimate Std. Error         df t value Pr(>|t|)\n",
       "(Intercept)                 3.370e-02  1.231e-02  1.319e+02   2.738  0.00704\n",
       "abslat_scaled               1.470e-01  1.848e-02  4.350e+02   7.955 1.56e-14\n",
       "sst_scaled                  1.377e-01  1.805e-02  9.610e+02   7.631 5.61e-14\n",
       "seasonspring                2.217e-02  3.899e-03  9.014e+03   5.688 1.33e-08\n",
       "seasonsummer               -8.449e-02  3.663e-03  9.014e+03 -23.063  < 2e-16\n",
       "seasonwinter                4.005e-02  4.014e-03  9.008e+03   9.979  < 2e-16\n",
       "abslat_scaled:sst_scaled   -8.069e-03  8.761e-03  1.422e+02  -0.921  0.35864\n",
       "abslat_scaled:seasonspring  4.336e-03  9.684e-03  9.008e+03   0.448  0.65430\n",
       "abslat_scaled:seasonsummer -1.390e-01  9.200e-03  9.008e+03 -15.106  < 2e-16\n",
       "abslat_scaled:seasonwinter  2.820e-02  9.968e-03  9.007e+03   2.829  0.00469\n",
       "sst_scaled:seasonspring     3.935e-03  9.868e-03  9.007e+03   0.399  0.69003\n",
       "sst_scaled:seasonsummer    -1.538e-01  9.295e-03  9.007e+03 -16.549  < 2e-16\n",
       "sst_scaled:seasonwinter     4.592e-02  1.012e-02  9.007e+03   4.539 5.71e-06\n",
       "                              \n",
       "(Intercept)                ** \n",
       "abslat_scaled              ***\n",
       "sst_scaled                 ***\n",
       "seasonspring               ***\n",
       "seasonsummer               ***\n",
       "seasonwinter               ***\n",
       "abslat_scaled:sst_scaled      \n",
       "abslat_scaled:seasonspring    \n",
       "abslat_scaled:seasonsummer ***\n",
       "abslat_scaled:seasonwinter ** \n",
       "sst_scaled:seasonspring       \n",
       "sst_scaled:seasonsummer    ***\n",
       "sst_scaled:seasonwinter    ***\n",
       "---\n",
       "Signif. codes:  0 ‘***’ 0.001 ‘**’ 0.01 ‘*’ 0.05 ‘.’ 0.1 ‘ ’ 1"
      ]
     },
     "metadata": {},
     "output_type": "display_data"
    }
   ],
   "source": [
    "abslat_re = lmer(\n",
    "    formula_abslat_re, \n",
    "    data=mhwPerformance\n",
    ")\n",
    "summary(abslat_re)"
   ]
  },
  {
   "cell_type": "code",
   "execution_count": 28,
   "metadata": {},
   "outputs": [
    {
     "name": "stderr",
     "output_type": "stream",
     "text": [
      "\n",
      "Correlation matrix not shown by default, as p = 13 > 12.\n",
      "Use print(obj, correlation=TRUE)  or\n",
      "    vcov(obj)        if you need it\n",
      "\n"
     ]
    },
    {
     "data": {
      "text/plain": [
       "Linear mixed model fit by REML. t-tests use Satterthwaite's method [\n",
       "lmerModLmerTest]\n",
       "Formula: formula_abslat_re\n",
       "   Data: intenseMhwPerformance\n",
       "\n",
       "REML criterion at convergence: -4348\n",
       "\n",
       "Scaled residuals: \n",
       "     Min       1Q   Median       3Q      Max \n",
       "-13.0480  -0.3323   0.0112   0.3795   5.0780 \n",
       "\n",
       "Random effects:\n",
       " Groups   Name        Variance Std.Dev.\n",
       " isolate  (Intercept) 0.01050  0.1025  \n",
       " Residual             0.02074  0.1440  \n",
       "Number of obs: 4570, groups:  isolate, 122\n",
       "\n",
       "Fixed effects:\n",
       "                             Estimate Std. Error         df t value Pr(>|t|)\n",
       "(Intercept)                 6.323e-02  1.428e-02  1.555e+02   4.429 1.78e-05\n",
       "abslat_scaled               1.386e-01  2.578e-02  4.848e+02   5.377 1.18e-07\n",
       "sst_scaled                  1.127e-01  2.754e-02  8.167e+02   4.094 4.65e-05\n",
       "seasonspring                2.015e-02  8.066e-03  4.520e+03   2.498 0.012515\n",
       "seasonsummer               -1.275e-01  7.579e-03  4.520e+03 -16.823  < 2e-16\n",
       "seasonwinter                5.601e-02  8.602e-03  4.515e+03   6.511 8.30e-11\n",
       "abslat_scaled:sst_scaled   -1.758e-03  1.095e-02  1.498e+02  -0.161 0.872668\n",
       "abslat_scaled:seasonspring -7.428e-03  1.951e-02  4.550e+03  -0.381 0.703424\n",
       "abslat_scaled:seasonsummer -1.629e-01  1.850e-02  4.544e+03  -8.805  < 2e-16\n",
       "abslat_scaled:seasonwinter  4.491e-02  2.099e-02  4.551e+03   2.140 0.032447\n",
       "sst_scaled:seasonspring    -5.389e-03  2.095e-02  4.474e+03  -0.257 0.796996\n",
       "sst_scaled:seasonsummer    -1.912e-01  1.971e-02  4.479e+03  -9.700  < 2e-16\n",
       "sst_scaled:seasonwinter     7.490e-02  2.248e-02  4.467e+03   3.332 0.000869\n",
       "                              \n",
       "(Intercept)                ***\n",
       "abslat_scaled              ***\n",
       "sst_scaled                 ***\n",
       "seasonspring               *  \n",
       "seasonsummer               ***\n",
       "seasonwinter               ***\n",
       "abslat_scaled:sst_scaled      \n",
       "abslat_scaled:seasonspring    \n",
       "abslat_scaled:seasonsummer ***\n",
       "abslat_scaled:seasonwinter *  \n",
       "sst_scaled:seasonspring       \n",
       "sst_scaled:seasonsummer    ***\n",
       "sst_scaled:seasonwinter    ***\n",
       "---\n",
       "Signif. codes:  0 ‘***’ 0.001 ‘**’ 0.01 ‘*’ 0.05 ‘.’ 0.1 ‘ ’ 1"
      ]
     },
     "metadata": {},
     "output_type": "display_data"
    }
   ],
   "source": [
    "abslat_intense_re = lmer(\n",
    "   formula_abslat_re,\n",
    "    data=intenseMhwPerformance, \n",
    ")\n",
    "summary(abslat_intense_re)"
   ]
  },
  {
   "cell_type": "code",
   "execution_count": 29,
   "metadata": {},
   "outputs": [
    {
     "data": {
      "image/png": "[encoded data removed]",
      "text/plain": [
       "plot without title"
      ]
     },
     "metadata": {},
     "output_type": "display_data"
    },
    {
     "data": {
      "text/plain": [
       "$abslat_scaled\n",
       "\n",
       "$sst_scaled\n",
       "\n",
       "$season\n"
      ]
     },
     "metadata": {},
     "output_type": "display_data"
    },
    {
     "data": {
      "image/png": "[encoded data removed]",
      "text/plain": [
       "plot without title"
      ]
     },
     "metadata": {},
     "output_type": "display_data"
    },
    {
     "data": {
      "image/png": "[encoded data removed]",
      "text/plain": [
       "plot without title"
      ]
     },
     "metadata": {},
     "output_type": "display_data"
    }
   ],
   "source": [
    "plot_model(abslat_re, type='pred')"
   ]
  },
  {
   "cell_type": "code",
   "execution_count": 30,
   "metadata": {},
   "outputs": [
    {
     "data": {
      "image/png": "[encoded data removed]",
      "text/plain": [
       "plot without title"
      ]
     },
     "metadata": {},
     "output_type": "display_data"
    },
    {
     "data": {
      "text/plain": [
       "$abslat_scaled\n",
       "\n",
       "$sst_scaled\n",
       "\n",
       "$season\n"
      ]
     },
     "metadata": {},
     "output_type": "display_data"
    },
    {
     "data": {
      "image/png": "[encoded data removed]",
      "text/plain": [
       "plot without title"
      ]
     },
     "metadata": {},
     "output_type": "display_data"
    },
    {
     "data": {
      "image/png": "[encoded data removed]",
      "text/plain": [
       "plot without title"
      ]
     },
     "metadata": {},
     "output_type": "display_data"
    }
   ],
   "source": [
    "plot_model(abslat_intense_re, type='pred')"
   ]
  },
  {
   "cell_type": "markdown",
   "metadata": {},
   "source": [
    "## Produce Plots"
   ]
  },
  {
   "cell_type": "markdown",
   "metadata": {},
   "source": [
    "### Absolute Latitude\n",
    "\n",
    "**Coefficient Plots, Simple and Intense**"
   ]
  },
  {
   "cell_type": "code",
   "execution_count": 31,
   "metadata": {},
   "outputs": [
    {
     "name": "stderr",
     "output_type": "stream",
     "text": [
      "Scale for 'y' is already present. Adding another scale for 'y', which will\n",
      "replace the existing scale.\n",
      "Scale for 'y' is already present. Adding another scale for 'y', which will\n",
      "replace the existing scale.\n"
     ]
    },
    {
     "data": {
      "text/html": [
       "<strong>png:</strong> 2"
      ],
      "text/latex": [
       "\\textbf{png:} 2"
      ],
      "text/markdown": [
       "**png:** 2"
      ],
      "text/plain": [
       "png \n",
       "  2 "
      ]
     },
     "metadata": {},
     "output_type": "display_data"
    }
   ],
   "source": [
    "png(\"./tmax_only_abslat_compare_coefs_UNSCALED_diff.png\", width=1440, height=950, res=180)\n",
    "y_limit = ylim(-1, 1)\n",
    "simple_coefs = plot_model(abslat_re, ci.lvl=NA,  show.values = TRUE, value.offset=.4) + y_limit + ggtitle(\"A) All MHWs\")\n",
    "intense_coefs = plot_model(abslat_intense_re,show.values = TRUE, value.offset=.4, ci.lvl=NA)+ y_limit + theme(axis.text.y = element_blank()) + ggtitle(\"B) Intense MHWs\")\n",
    "grid.arrange(simple_coefs, intense_coefs, nrow=1, widths=c(1.7, 1) )\n",
    "dev.off()"
   ]
  },
  {
   "cell_type": "markdown",
   "metadata": {},
   "source": [
    "**Coefficient Table**"
   ]
  },
  {
   "cell_type": "code",
   "execution_count": 32,
   "metadata": {},
   "outputs": [],
   "source": [
    "tab_model(\n",
    "    abslat_re, abslat_intense_re,\n",
    "    show.stat=TRUE, use.viewer=FALSE, \n",
    "    dv.labels=c(\"Performance Difference [all events]\", \"Performance Difference [intense events]\"), \n",
    "    file = \"tmax_only_abslat_coef_compare_table_UNSCALED.html\"\n",
    ")"
   ]
  },
  {
   "cell_type": "markdown",
   "metadata": {},
   "source": [
    "**Predictions, All MHW**"
   ]
  },
  {
   "cell_type": "code",
   "execution_count": 33,
   "metadata": {},
   "outputs": [
    {
     "name": "stderr",
     "output_type": "stream",
     "text": [
      "Scale for 'y' is already present. Adding another scale for 'y', which will\n",
      "replace the existing scale.\n",
      "Scale for 'y' is already present. Adding another scale for 'y', which will\n",
      "replace the existing scale.\n"
     ]
    },
    {
     "data": {
      "text/html": [
       "<strong>png:</strong> 2"
      ],
      "text/latex": [
       "\\textbf{png:} 2"
      ],
      "text/markdown": [
       "**png:** 2"
      ],
      "text/plain": [
       "png \n",
       "  2 "
      ]
     },
     "metadata": {},
     "output_type": "display_data"
    }
   ],
   "source": [
    "png(\"./tmax_only_abslat_preds_UNSCALED_preddiff.png\", width=1440, height=700, res=180)\n",
    "\n",
    "y_limit = ylim(-1, 1)\n",
    "\n",
    "seas = plot(ggeffect(abslat_re, terms='season')) +\n",
    "    baseline_hline + \n",
    "    xlab(\"Season\") +\n",
    "    ylab(\"Performance Difference\")  +\n",
    "    ggtitle(\"A) Season\") + \n",
    "    y_limit\n",
    "\n",
    "\n",
    "seaslat = plot(ggeffect(abslat_re, terms=c('abslat_scaled', 'season [summer, winter]'))) +\n",
    "    baseline_hline +\n",
    "    xlab(\"Absolute Latitude [scaled]\") +\n",
    "    ylab(\"Performance Difference\")  +\n",
    "    ggtitle(\"B) Latitude\") + \n",
    "    y_limit\n",
    "\n",
    "    \n",
    "\n",
    "grid.arrange(seas, seaslat, nrow=1, widths=c(1,1.3))\n",
    "dev.off()\n",
    "# seaslat"
   ]
  },
  {
   "cell_type": "markdown",
   "metadata": {},
   "source": [
    "**Predictions, Intense MHW**"
   ]
  },
  {
   "cell_type": "code",
   "execution_count": 34,
   "metadata": {},
   "outputs": [
    {
     "name": "stderr",
     "output_type": "stream",
     "text": [
      "Scale for 'y' is already present. Adding another scale for 'y', which will\n",
      "replace the existing scale.\n",
      "Scale for 'y' is already present. Adding another scale for 'y', which will\n",
      "replace the existing scale.\n"
     ]
    }
   ],
   "source": [
    "png(\"./tmax_only_abslat_preds_intense_preddiff_UNSCALED.png\", width=1440, height=700, res=180)\n",
    "\n",
    "y_limit = ylim(-1, 1)\n",
    "\n",
    "seas = plot(ggeffect(abslat_intense_re, terms='season')) + \n",
    "    baseline_hline + \n",
    "    xlab(\"Season\") +\n",
    "    ylab(\"Performance Difference\")  +\n",
    "    ggtitle(\"A) Season\") + \n",
    "    y_limit \n",
    "\n",
    "\n",
    "seaslat = plot(ggeffect(abslat_intense_re, terms=c('abslat_scaled', 'season [summer, winter]'))) +\n",
    "    baseline_hline +\n",
    "    xlab(\"Absolute Latitude [scaled]\") +\n",
    "    ylab(\"Performance Difference\")  +\n",
    "    ggtitle(\"B) Latitude\") + \n",
    "    y_limit \n",
    "\n",
    "    \n",
    "\n",
    "grid.arrange(seas, seaslat, nrow=1, widths=c(1,1.3))\n",
    "# dev.off()\n",
    "# seaslat"
   ]
  },
  {
   "cell_type": "code",
   "execution_count": null,
   "metadata": {},
   "outputs": [],
   "source": []
  },
  {
   "cell_type": "markdown",
   "metadata": {},
   "source": [
    "### Regular Latitude"
   ]
  },
  {
   "cell_type": "markdown",
   "metadata": {},
   "source": [
    "**Coefficients**"
   ]
  },
  {
   "cell_type": "code",
   "execution_count": 32,
   "metadata": {},
   "outputs": [
    {
     "name": "stderr",
     "output_type": "stream",
     "text": [
      "Scale for 'y' is already present. Adding another scale for 'y', which will\n",
      "replace the existing scale.\n",
      "Scale for 'y' is already present. Adding another scale for 'y', which will\n",
      "replace the existing scale.\n",
      "Warning message:\n",
      "“Removed 1 rows containing missing values (geom_point).”Warning message:\n",
      "“Removed 1 rows containing missing values (geom_text).”Warning message:\n",
      "“Removed 2 rows containing missing values (geom_point).”Warning message:\n",
      "“Removed 2 rows containing missing values (geom_text).”"
     ]
    },
    {
     "data": {
      "text/html": [
       "<strong>png:</strong> 2"
      ],
      "text/latex": [
       "\\textbf{png:} 2"
      ],
      "text/markdown": [
       "**png:** 2"
      ],
      "text/plain": [
       "png \n",
       "  2 "
      ]
     },
     "metadata": {},
     "output_type": "display_data"
    }
   ],
   "source": [
    "png(\"./tmax_only_polylat_compare_coefs_diff_UNSCALED.png\", width=1440, height=950, res=180)\n",
    "y_limit = ylim(-5.5,5.5)\n",
    "simple_coefs = plot_model(simple_re, ci.lvl=NA,  show.values = TRUE, value.offset=.4) + y_limit + ggtitle(\"A) All MHWs\")\n",
    "intense_coefs = plot_model(simple_intense_re,show.values = TRUE, value.offset=.4, ci.lvl=NA)+ y_limit + theme(axis.text.y = element_blank()) + ggtitle(\"B) Intense MHWs\")\n",
    "grid.arrange(simple_coefs, intense_coefs, nrow=1, widths=c(2, 1) )\n",
    "dev.off()"
   ]
  },
  {
   "cell_type": "markdown",
   "metadata": {},
   "source": [
    "**Coefficients Table**"
   ]
  },
  {
   "cell_type": "code",
   "execution_count": 33,
   "metadata": {},
   "outputs": [],
   "source": [
    "tab_model(\n",
    "    simple_re, simple_intense_re,\n",
    "    show.stat=TRUE, use.viewer=FALSE, \n",
    "    dv.labels=c(\"Performance Difference [all events]\", \"Performance Difference [intense events]\"), \n",
    "    file = \"tmax_only_polylat_coef_compare_table.html\"\n",
    ")"
   ]
  },
  {
   "cell_type": "markdown",
   "metadata": {},
   "source": [
    "**Predictions, all MHW**"
   ]
  },
  {
   "cell_type": "code",
   "execution_count": 34,
   "metadata": {},
   "outputs": [
    {
     "name": "stderr",
     "output_type": "stream",
     "text": [
      "Scale for 'y' is already present. Adding another scale for 'y', which will\n",
      "replace the existing scale.\n",
      "Scale for 'y' is already present. Adding another scale for 'y', which will\n",
      "replace the existing scale.\n",
      "Warning message:\n",
      "“Removed 2 row(s) containing missing values (geom_path).”"
     ]
    },
    {
     "data": {
      "text/html": [
       "<strong>png:</strong> 2"
      ],
      "text/latex": [
       "\\textbf{png:} 2"
      ],
      "text/markdown": [
       "**png:** 2"
      ],
      "text/plain": [
       "png \n",
       "  2 "
      ]
     },
     "metadata": {},
     "output_type": "display_data"
    }
   ],
   "source": [
    "png(\"./tmax_only_polylat_preds_preddiff.png\", width=1440, height=700, res=180)\n",
    "\n",
    " y_limit = ylim(-1, 1)\n",
    "\n",
    "seas = plot(ggeffect(simple_re, terms='season')) + \n",
    "    baseline_hline + \n",
    "    xlab(\"Season\") +\n",
    "    ylab(\"Performance Difference\")  +\n",
    "    ggtitle(\"A) Season\") + \n",
    "    y_limit\n",
    "\n",
    "\n",
    "seaslat = plot(ggeffect(simple_re, terms=c('lat_scaled', 'season [summer, winter]'))) +\n",
    "    baseline_hline +\n",
    "    xlab(\"Latitude [scaled]\") +\n",
    "    ylab(\"Performance Difference\")  +\n",
    "    ggtitle(\"B) Latitude\") + \n",
    "    y_limit\n",
    "    \n",
    "\n",
    "grid.arrange(seas, seaslat, nrow=1, widths=c(1,1.3))\n",
    "dev.off()\n",
    "# seaslat"
   ]
  },
  {
   "cell_type": "markdown",
   "metadata": {},
   "source": [
    "**Predictions, Intense MHW**"
   ]
  },
  {
   "cell_type": "code",
   "execution_count": 35,
   "metadata": {},
   "outputs": [
    {
     "name": "stderr",
     "output_type": "stream",
     "text": [
      "Scale for 'y' is already present. Adding another scale for 'y', which will\n",
      "replace the existing scale.\n",
      "Scale for 'y' is already present. Adding another scale for 'y', which will\n",
      "replace the existing scale.\n",
      "Warning message:\n",
      "“Removed 5 row(s) containing missing values (geom_path).”"
     ]
    },
    {
     "data": {
      "text/html": [
       "<strong>png:</strong> 2"
      ],
      "text/latex": [
       "\\textbf{png:} 2"
      ],
      "text/markdown": [
       "**png:** 2"
      ],
      "text/plain": [
       "png \n",
       "  2 "
      ]
     },
     "metadata": {},
     "output_type": "display_data"
    }
   ],
   "source": [
    "png(\"./tmax_only_polylat_preds_intense_preddiff.png\", width=1440, height=700, res=180)\n",
    "\n",
    "seas = plot(ggeffect(simple_intense_re, terms='season')) + \n",
    "    baseline_hline + \n",
    "    xlab(\"Season\") +\n",
    "    ylab(\"Performance Difference\")  +\n",
    "    ggtitle(\"A) Season\") + \n",
    "    ylim(-0.5, 0.5) \n",
    "\n",
    "\n",
    "\n",
    "seaslat = plot(ggeffect(simple_intense_re, terms=c('lat_scaled', 'season [summer, winter]'))) +\n",
    "    baseline_hline +\n",
    "    xlab(\"Latitude [scaled]\") +\n",
    "    ylab(\"Performance Difference\")  +\n",
    "    ggtitle(\"B) Latitude\") + \n",
    "    ylim(-0.5, 0.5) \n",
    "\n",
    "    \n",
    "\n",
    "grid.arrange(seas, seaslat, nrow=1, widths=c(1,1.3)) \n",
    "dev.off()\n",
    "# seaslat"
   ]
  },
  {
   "cell_type": "markdown",
   "metadata": {},
   "source": [
    "## Individual Models per Season"
   ]
  },
  {
   "cell_type": "code",
   "execution_count": 497,
   "metadata": {},
   "outputs": [],
   "source": [
    "winter_only = mhwPerformance %>% filter(season == \"winter\")\n",
    "winter_re = lmer(performance_diff_mean ~ (abslat + sst_scaled)^2 + (1 | isolate), data=winter_only, )"
   ]
  },
  {
   "cell_type": "code",
   "execution_count": 498,
   "metadata": {},
   "outputs": [
    {
     "data": {
      "text/plain": [
       "Linear mixed model fit by REML. t-tests use Satterthwaite's method [\n",
       "lmerModLmerTest]\n",
       "Formula: performance_diff_mean ~ (abslat + sst_scaled)^2 + (1 | isolate)\n",
       "   Data: winter_only\n",
       "\n",
       "REML criterion at convergence: -3908.4\n",
       "\n",
       "Scaled residuals: \n",
       "    Min      1Q  Median      3Q     Max \n",
       "-5.8243 -0.3722  0.0080  0.3138  5.2430 \n",
       "\n",
       "Random effects:\n",
       " Groups   Name        Variance Std.Dev.\n",
       " isolate  (Intercept) 0.021913 0.14803 \n",
       " Residual             0.001287 0.03588 \n",
       "Number of obs: 1141, groups:  isolate, 75\n",
       "\n",
       "Fixed effects:\n",
       "                    Estimate Std. Error         df t value Pr(>|t|)    \n",
       "(Intercept)       -8.181e-04  4.816e-02  1.777e+02  -0.017 0.986466    \n",
       "abslat             5.187e-03  1.407e-03  1.697e+02   3.687 0.000306 ***\n",
       "sst_scaled        -4.865e-02  3.358e-02  3.815e+02  -1.449 0.148191    \n",
       "abslat:sst_scaled  2.736e-03  7.421e-04  1.272e+02   3.687 0.000335 ***\n",
       "---\n",
       "Signif. codes:  0 ‘***’ 0.001 ‘**’ 0.01 ‘*’ 0.05 ‘.’ 0.1 ‘ ’ 1\n",
       "\n",
       "Correlation of Fixed Effects:\n",
       "            (Intr) abslat sst_sc\n",
       "abslat      -0.904              \n",
       "sst_scaled  -0.481  0.303       \n",
       "abslt:sst_s  0.118  0.129 -0.814"
      ]
     },
     "metadata": {},
     "output_type": "display_data"
    }
   ],
   "source": [
    "summary(winter_re)"
   ]
  },
  {
   "cell_type": "code",
   "execution_count": 499,
   "metadata": {},
   "outputs": [
    {
     "data": {
      "text/plain": [
       "Linear mixed model fit by REML. t-tests use Satterthwaite's method [\n",
       "lmerModLmerTest]\n",
       "Formula: performance_diff_mean ~ (abslat + sst_scaled)^2 + (1 | isolate)\n",
       "   Data: summer_only\n",
       "\n",
       "REML criterion at convergence: -4375.4\n",
       "\n",
       "Scaled residuals: \n",
       "    Min      1Q  Median      3Q     Max \n",
       "-7.0612 -0.3711 -0.0288  0.3465  6.4595 \n",
       "\n",
       "Random effects:\n",
       " Groups   Name        Variance Std.Dev.\n",
       " isolate  (Intercept) 0.032416 0.18004 \n",
       " Residual             0.005367 0.07326 \n",
       "Number of obs: 2003, groups:  isolate, 75\n",
       "\n",
       "Fixed effects:\n",
       "                    Estimate Std. Error         df t value Pr(>|t|)   \n",
       "(Intercept)       -1.818e-01  5.825e-02  1.716e+02  -3.121  0.00212 **\n",
       "abslat             3.439e-03  1.692e-03  1.675e+02   2.033  0.04362 * \n",
       "sst_scaled         1.080e-01  4.239e-02  2.940e+02   2.548  0.01133 * \n",
       "abslat:sst_scaled -2.160e-03  9.399e-04  1.075e+02  -2.298  0.02349 * \n",
       "---\n",
       "Signif. codes:  0 ‘***’ 0.001 ‘**’ 0.01 ‘*’ 0.05 ‘.’ 0.1 ‘ ’ 1\n",
       "\n",
       "Correlation of Fixed Effects:\n",
       "            (Intr) abslat sst_sc\n",
       "abslat      -0.900              \n",
       "sst_scaled  -0.481  0.290       \n",
       "abslt:sst_s  0.150  0.108 -0.837"
      ]
     },
     "metadata": {},
     "output_type": "display_data"
    }
   ],
   "source": [
    "summer_only = mhwPerformance %>% filter(season == \"summer\")\n",
    "summer_re = lmer(performance_diff_mean ~ (abslat + sst_scaled)^2 + (1 | isolate), data=summer_only, )\n",
    "summary(summer_re)"
   ]
  },
  {
   "cell_type": "code",
   "execution_count": 500,
   "metadata": {},
   "outputs": [
    {
     "data": {
      "text/plain": [
       "Linear mixed model fit by REML. t-tests use Satterthwaite's method [\n",
       "lmerModLmerTest]\n",
       "Formula: performance_diff_mean ~ (abslat + sst_scaled)^2 + (1 | isolate)\n",
       "   Data: spring_only\n",
       "\n",
       "REML criterion at convergence: -2613.3\n",
       "\n",
       "Scaled residuals: \n",
       "    Min      1Q  Median      3Q     Max \n",
       "-7.3284 -0.2555  0.0049  0.2718  6.8615 \n",
       "\n",
       "Random effects:\n",
       " Groups   Name        Variance Std.Dev.\n",
       " isolate  (Intercept) 0.018823 0.1372  \n",
       " Residual             0.006773 0.0823  \n",
       "Number of obs: 1363, groups:  isolate, 75\n",
       "\n",
       "Fixed effects:\n",
       "                    Estimate Std. Error         df t value Pr(>|t|)  \n",
       "(Intercept)       -2.208e-02  6.034e-02  1.766e+02  -0.366   0.7149  \n",
       "abslat             3.918e-03  1.734e-03  1.652e+02   2.259   0.0252 *\n",
       "sst_scaled        -1.478e-02  4.590e-02  2.218e+02  -0.322   0.7478  \n",
       "abslat:sst_scaled  1.244e-03  7.886e-04  9.408e+01   1.577   0.1182  \n",
       "---\n",
       "Signif. codes:  0 ‘***’ 0.001 ‘**’ 0.01 ‘*’ 0.05 ‘.’ 0.1 ‘ ’ 1\n",
       "\n",
       "Correlation of Fixed Effects:\n",
       "            (Intr) abslat sst_sc\n",
       "abslat      -0.942              \n",
       "sst_scaled  -0.713  0.596       \n",
       "abslt:sst_s  0.284 -0.085 -0.778"
      ]
     },
     "metadata": {},
     "output_type": "display_data"
    }
   ],
   "source": [
    "spring_only = mhwPerformance %>% filter(season == \"spring\")\n",
    "spring_re = lmer(performance_diff_mean ~ (abslat + sst_scaled)^2 + (1 | isolate), data=spring_only, )\n",
    "summary(spring_re)"
   ]
  },
  {
   "cell_type": "code",
   "execution_count": 501,
   "metadata": {},
   "outputs": [
    {
     "data": {
      "text/plain": [
       "Linear mixed model fit by REML. t-tests use Satterthwaite's method [\n",
       "lmerModLmerTest]\n",
       "Formula: performance_diff_mean ~ (abslat + sst_scaled)^2 + (1 | isolate)\n",
       "   Data: fall_only\n",
       "\n",
       "REML criterion at convergence: -2220.3\n",
       "\n",
       "Scaled residuals: \n",
       "    Min      1Q  Median      3Q     Max \n",
       "-7.8919 -0.3296  0.0008  0.3554  5.4018 \n",
       "\n",
       "Random effects:\n",
       " Groups   Name        Variance Std.Dev.\n",
       " isolate  (Intercept) 0.016241 0.12744 \n",
       " Residual             0.002272 0.04767 \n",
       "Number of obs: 792, groups:  isolate, 75\n",
       "\n",
       "Fixed effects:\n",
       "                    Estimate Std. Error         df t value Pr(>|t|)  \n",
       "(Intercept)       -2.539e-02  5.468e-02  1.862e+02  -0.464   0.6430  \n",
       "abslat             3.258e-03  1.577e-03  1.740e+02   2.066   0.0403 *\n",
       "sst_scaled        -2.935e-02  4.141e-02  2.373e+02  -0.709   0.4792  \n",
       "abslat:sst_scaled  1.216e-03  7.236e-04  9.740e+01   1.680   0.0962 .\n",
       "---\n",
       "Signif. codes:  0 ‘***’ 0.001 ‘**’ 0.01 ‘*’ 0.05 ‘.’ 0.1 ‘ ’ 1\n",
       "\n",
       "Correlation of Fixed Effects:\n",
       "            (Intr) abslat sst_sc\n",
       "abslat      -0.940              \n",
       "sst_scaled  -0.701  0.580       \n",
       "abslt:sst_s  0.270 -0.068 -0.777"
      ]
     },
     "metadata": {},
     "output_type": "display_data"
    }
   ],
   "source": [
    "fall_only = mhwPerformance %>% filter(season == \"fall\")\n",
    "fall_re = lmer(performance_diff_mean ~ (abslat + sst_scaled)^2 + (1 | isolate), data=fall_only, )\n",
    "summary(fall_re)"
   ]
  },
  {
   "cell_type": "code",
   "execution_count": 502,
   "metadata": {},
   "outputs": [],
   "source": [
    "tab_model(\n",
    "    winter_re,\n",
    "    spring_re,\n",
    "    summer_re,\n",
    "    fall_re,  \n",
    "    show.stat=TRUE,\n",
    "    use.viewer=FALSE, \n",
    "    dv.labels=c(\"Winter Only\", \"Spring Only\", \"Summer Only\", \"Autumn Only\"), \n",
    "    file = \"compare_season_models.html\"\n",
    ")"
   ]
  },
  {
   "cell_type": "code",
   "execution_count": 2,
   "metadata": {},
   "outputs": [],
   "source": [
    "theme_black = function(base_size = 12, base_family = \"\") {\n",
    " \n",
    "  theme_grey(base_size = base_size, base_family = base_family) %+replace%\n",
    " \n",
    "    theme(\n",
    "      # Specify axis options\n",
    "      axis.line = element_blank(),  \n",
    "      axis.text.x = element_text(size = base_size*0.8, color = \"white\", lineheight = 0.9),  \n",
    "      axis.text.y = element_text(size = base_size*0.8, color = \"white\", lineheight = 0.9),  \n",
    "      axis.ticks = element_line(color = \"white\", size  =  0.2),  \n",
    "      axis.title.x = element_text(size = base_size, color = \"white\", margin = margin(0, 10, 0, 0)),  \n",
    "      axis.title.y = element_text(size = base_size, color = \"white\", angle = 90, margin = margin(0, 10, 0, 0)),  \n",
    "      axis.ticks.length = unit(0.3, \"lines\"),   \n",
    "      # Specify legend options\n",
    "      legend.background = element_rect(color = NA, fill = \"black\"),  \n",
    "      legend.key = element_rect(color = \"white\",  fill = \"black\"),  \n",
    "      legend.key.size = unit(1.2, \"lines\"),  \n",
    "      legend.key.height = NULL,  \n",
    "      legend.key.width = NULL,      \n",
    "      legend.text = element_text(size = base_size*0.8, color = \"white\"),  \n",
    "      legend.title = element_text(size = base_size*0.8, face = \"bold\", hjust = 0, color = \"white\"),  \n",
    "      legend.position = \"right\",  \n",
    "      legend.text.align = NULL,  \n",
    "      legend.title.align = NULL,  \n",
    "      legend.direction = \"vertical\",  \n",
    "      legend.box = NULL, \n",
    "      # Specify panel options\n",
    "      panel.background = element_rect(fill = \"black\", color  =  NA),  \n",
    "      panel.border = element_rect(fill = NA, color = \"white\"),  \n",
    "      panel.grid.major = element_line(color = \"grey35\"),  \n",
    "      panel.grid.minor = element_line(color = \"grey20\"),  \n",
    "      panel.margin = unit(0.5, \"lines\"),   \n",
    "      # Specify facetting options\n",
    "      strip.background = element_rect(fill = \"grey30\", color = \"grey10\"),  \n",
    "      strip.text.x = element_text(size = base_size*0.8, color = \"white\"),  \n",
    "      strip.text.y = element_text(size = base_size*0.8, color = \"white\",angle = -90),  \n",
    "      # Specify plot options\n",
    "      plot.background = element_rect(color = \"black\", fill = \"black\"),  \n",
    "      plot.title = element_text(size = base_size*1.2, color = \"white\"),  \n",
    "      plot.margin = unit(rep(1, 4), \"lines\")\n",
    " \n",
    "    )\n",
    " \n",
    "}\n",
    " "
   ]
  },
  {
   "cell_type": "code",
   "execution_count": null,
   "metadata": {},
   "outputs": [],
   "source": []
  }
 ],
 "metadata": {
  "kernelspec": {
   "display_name": "R [conda env:R]",
   "language": "R",
   "name": "conda-env-R-r"
  },
  "language_info": {
   "codemirror_mode": "r",
   "file_extension": ".r",
   "mimetype": "text/x-r-source",
   "name": "R",
   "pygments_lexer": "r",
   "version": "3.6.1"
  }
 },
 "nbformat": 4,
 "nbformat_minor": 4
}
